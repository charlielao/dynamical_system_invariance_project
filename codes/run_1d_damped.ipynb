{
 "cells": [
  {
   "cell_type": "code",
   "execution_count": 1,
   "metadata": {},
   "outputs": [],
   "source": [
    "import gpflow\n",
    "import numpy as np\n",
    "import tensorflow as tf\n",
    "import tensorflow_probability as tfp\n",
    "from scipy.integrate import solve_ivp, odeint\n",
    "from gpflow.utilities import print_summary, positive, to_default_float, set_trainable\n",
    "from invariance_kernels import ZeroMean, get_MOI, get_pendulum_invariance, get_SHM_invariance, get_damped_pendulum_invariance, get_damped_SHM_invariance\n",
    "from invariance_functions import degree_of_freedom, get_GPR_model, get_SHM_data, get_pendulum_data, get_damped_pendulum_data, get_damped_SHM_data, get_grid_of_points_1D, evaluate_model_future, evaluate_model_grid, SHM_dynamics, pendulum_dynamics, damped_SHM_dynamics, damped_pendulum_dynamics\n",
    "from parameterised_invariance_kernels import get_polynomial_invariance, get_damped_polynomial_invariance\n",
    "from damped_invariance_kernel import SHMEpsilonMean, PendulumEpsilonMean, PolynomialEpsilonMean\n",
    "import os\n",
    "os.environ[\"CUDA_VISIBLE_DEVICES\"] = '5'"
   ]
  },
  {
   "cell_type": "code",
   "execution_count": 37,
   "metadata": {},
   "outputs": [
    {
     "name": "stdout",
     "output_type": "stream",
     "text": [
      "[ 2.71196497 -2.87824017]\n",
      "[-0.25907146 -0.20776886]\n"
     ]
    }
   ],
   "source": [
    "mean = ZeroMean(2)\n",
    "time_step = 0.01\n",
    "training_time = 0.3\n",
    "testing_time = 3\n",
    "\n",
    "max_x = 3\n",
    "max_v = 0.3\n",
    "n_train = 2\n",
    "train_starting_position = np.random.uniform(-max_x, max_x, (n_train))\n",
    "train_starting_velocity = np.random.uniform(-max_v, max_v, (n_train))\n",
    "\n",
    "print(train_starting_position)\n",
    "print(train_starting_velocity)\n",
    "data = get_damped_SHM_data(0.1, time_step, training_time, 1e-8, train_starting_position, train_starting_velocity) #switch"
   ]
  },
  {
   "cell_type": "code",
   "execution_count": 38,
   "metadata": {},
   "outputs": [
    {
     "name": "stdout",
     "output_type": "stream",
     "text": [
      "moi:593.33\n",
      "known: 599.93\n"
     ]
    }
   ],
   "source": [
    "moi = get_GPR_model(get_MOI(), mean, data, 500)\n",
    "print(\"moi:\"+format(moi.log_marginal_likelihood().numpy(),\".2f\"))\n",
    "jitter = 1e-5\n",
    "invar_density = 30\n",
    "latex=\"\"\n",
    "try:\n",
    "    kernel = get_damped_SHM_invariance(3, invar_density, jitter) #switch\n",
    "    known = get_GPR_model(kernel, SHMEpsilonMean(kernel), data, 500)\n",
    "    print(\"known: \"+format(known.log_marginal_likelihood().numpy(),\".2f\"))\n",
    "    i = 0\n",
    "    '''\n",
    "    for poly_f_d in [2]:\n",
    "        for poly_g_d in [2]:\n",
    "            kernel = get_damped_polynomial_invariance(3, invar_density, jitter, poly_f_d, poly_g_d) #switch\n",
    "            m = get_GPR_model(kernel, mean, data, 3000)\n",
    "            print(\"(%s, %s)----------------------\"%(poly_f_d-1, poly_g_d-1))\n",
    "            np.set_printoptions(precision=4)\n",
    "#            print(kernel.f_poly.numpy())\n",
    "#            print(kernel.g_poly.numpy())\n",
    "            print(format(m.log_marginal_likelihood().numpy(),\".2f\"))\n",
    "            latex+=format(m.log_marginal_likelihood().numpy(),\".2f\")\n",
    "            i+=1\n",
    "            if i%9==0:\n",
    "                latex+='\\\\'\n",
    "            else:\n",
    "                latex+=\"&\"\n",
    "    '''\n",
    "except tf.errors.InvalidArgumentError:\n",
    "    print(\"jitter too small\")"
   ]
  },
  {
   "cell_type": "code",
   "execution_count": 39,
   "metadata": {},
   "outputs": [
    {
     "name": "stdout",
     "output_type": "stream",
     "text": [
      "╒═══════════════════════════════════╤═══════════╤══════════════════╤═════════╤═════════════╤═════════╤═════════╤═════════════════════════╕\n",
      "│ name                              │ class     │ transform        │ prior   │ trainable   │ shape   │ dtype   │ value                   │\n",
      "╞═══════════════════════════════════╪═══════════╪══════════════════╪═════════╪═════════════╪═════════╪═════════╪═════════════════════════╡\n",
      "│ GPR.mean_function.Ka.variance     │ Parameter │ Sigmoid          │         │ True        │ ()      │ float64 │ 9.999961225405954       │\n",
      "│ GPR.kernel.Ka.variance            │           │                  │         │             │         │         │                         │\n",
      "├───────────────────────────────────┼───────────┼──────────────────┼─────────┼─────────────┼─────────┼─────────┼─────────────────────────┤\n",
      "│ GPR.mean_function.Ka.lengthscales │ Parameter │ Sigmoid          │         │ True        │ (2,)    │ float64 │ [5.31307501 4.75541002] │\n",
      "│ GPR.kernel.Ka.lengthscales        │           │                  │         │             │         │         │                         │\n",
      "├───────────────────────────────────┼───────────┼──────────────────┼─────────┼─────────────┼─────────┼─────────┼─────────────────────────┤\n",
      "│ GPR.mean_function.Kv.variance     │ Parameter │ Sigmoid          │         │ True        │ ()      │ float64 │ 10.0                    │\n",
      "│ GPR.kernel.Kv.variance            │           │                  │         │             │         │         │                         │\n",
      "├───────────────────────────────────┼───────────┼──────────────────┼─────────┼─────────────┼─────────┼─────────┼─────────────────────────┤\n",
      "│ GPR.mean_function.Kv.lengthscales │ Parameter │ Sigmoid          │         │ True        │ (2,)    │ float64 │ [1.86271004 4.31797497] │\n",
      "│ GPR.kernel.Kv.lengthscales        │           │                  │         │             │         │         │                         │\n",
      "├───────────────────────────────────┼───────────┼──────────────────┼─────────┼─────────────┼─────────┼─────────┼─────────────────────────┤\n",
      "│ GPR.mean_function.gamma           │ Parameter │ Softplus         │         │ True        │ ()      │ float64 │ 2.180604743095015e-06   │\n",
      "├───────────────────────────────────┼───────────┼──────────────────┼─────────┼─────────────┼─────────┼─────────┼─────────────────────────┤\n",
      "│ GPR.mean_function.epsilon         │ Parameter │ Softplus         │         │ True        │ ()      │ float64 │ 2.6480443275765033      │\n",
      "│ GPR.kernel.epsilon                │           │                  │         │             │         │         │                         │\n",
      "├───────────────────────────────────┼───────────┼──────────────────┼─────────┼─────────────┼─────────┼─────────┼─────────────────────────┤\n",
      "│ GPR.likelihood.variance           │ Parameter │ Softplus + Shift │         │ True        │ ()      │ float64 │ 1e-06                   │\n",
      "╘═══════════════════════════════════╧═══════════╧══════════════════╧═════════╧═════════════╧═════════╧═════════╧═════════════════════════╛\n"
     ]
    }
   ],
   "source": [
    "print_summary(known)"
   ]
  },
  {
   "cell_type": "code",
   "execution_count": 40,
   "metadata": {},
   "outputs": [
    {
     "name": "stdout",
     "output_type": "stream",
     "text": [
      "593.327816619814\n",
      "599.9340831791225\n",
      "0\n",
      "0.0101863556822263g\n",
      "0.06415879110154993g\n",
      "1\n",
      "0.007527488195283351\n",
      "0.0849551082146041gg\n",
      "2\n",
      "0.0052412120365156216\n",
      "76 seconds remaining\r"
     ]
    },
    {
     "ename": "KeyboardInterrupt",
     "evalue": "",
     "output_type": "error",
     "traceback": [
      "\u001b[0;31m---------------------------------------------------------------------------\u001b[0m",
      "\u001b[0;31mKeyboardInterrupt\u001b[0m                         Traceback (most recent call last)",
      "\u001b[0;32m<ipython-input-40-0a8126cb5fe6>\u001b[0m in \u001b[0;36m<module>\u001b[0;34m\u001b[0m\n\u001b[1;32m     35\u001b[0m     \u001b[0mprint\u001b[0m\u001b[0;34m(\u001b[0m\u001b[0mevaluate_moi\u001b[0m\u001b[0;34m[\u001b[0m\u001b[0;36m0\u001b[0m\u001b[0;34m]\u001b[0m\u001b[0;34m)\u001b[0m\u001b[0;34m\u001b[0m\u001b[0;34m\u001b[0m\u001b[0m\n\u001b[1;32m     36\u001b[0m \u001b[0;34m\u001b[0m\u001b[0m\n\u001b[0;32m---> 37\u001b[0;31m     \u001b[0mevaluate_invariance\u001b[0m \u001b[0;34m=\u001b[0m\u001b[0mevaluate_model_future\u001b[0m\u001b[0;34m(\u001b[0m\u001b[0mknown\u001b[0m\u001b[0;34m,\u001b[0m \u001b[0mtest_starting\u001b[0m\u001b[0;34m,\u001b[0m \u001b[0mdynamics\u001b[0m\u001b[0;34m,\u001b[0m\u001b[0mtime_setting\u001b[0m\u001b[0;34m,\u001b[0m \u001b[0menergy\u001b[0m\u001b[0;34m)\u001b[0m\u001b[0;34m\u001b[0m\u001b[0;34m\u001b[0m\u001b[0m\n\u001b[0m\u001b[1;32m     38\u001b[0m     \u001b[0meva_future_inv\u001b[0m\u001b[0;34m.\u001b[0m\u001b[0mappend\u001b[0m\u001b[0;34m(\u001b[0m\u001b[0mevaluate_invariance\u001b[0m\u001b[0;34m[\u001b[0m\u001b[0;36m0\u001b[0m\u001b[0;34m]\u001b[0m\u001b[0;34m)\u001b[0m\u001b[0;34m\u001b[0m\u001b[0;34m\u001b[0m\u001b[0m\n\u001b[1;32m     39\u001b[0m \u001b[0;34m\u001b[0m\u001b[0m\n",
      "\u001b[0;32m/data/cl2217/dynamical_system_invariance_project/codes/invariance_functions.py\u001b[0m in \u001b[0;36mevaluate_model_future\u001b[0;34m(m, test_starting, dynamics, time_setting, energy)\u001b[0m\n\u001b[1;32m    236\u001b[0m         \u001b[0;32mif\u001b[0m \u001b[0mi\u001b[0m\u001b[0;34m>\u001b[0m\u001b[0;36m8\u001b[0m\u001b[0;34m:\u001b[0m\u001b[0;34m\u001b[0m\u001b[0;34m\u001b[0m\u001b[0m\n\u001b[1;32m    237\u001b[0m             \u001b[0mprint\u001b[0m\u001b[0;34m(\u001b[0m\u001b[0;34m\"%s seconds remaining\"\u001b[0m\u001b[0;34m%\u001b[0m\u001b[0mround\u001b[0m\u001b[0;34m(\u001b[0m\u001b[0maverage_time_per_step\u001b[0m\u001b[0;34m*\u001b[0m\u001b[0;34m(\u001b[0m\u001b[0mX\u001b[0m\u001b[0;34m.\u001b[0m\u001b[0mshape\u001b[0m\u001b[0;34m[\u001b[0m\u001b[0;36m0\u001b[0m\u001b[0;34m]\u001b[0m\u001b[0;34m-\u001b[0m\u001b[0mi\u001b[0m\u001b[0;34m)\u001b[0m\u001b[0;34m)\u001b[0m\u001b[0;34m,\u001b[0m \u001b[0mend\u001b[0m\u001b[0;34m=\u001b[0m\u001b[0;34m\"\\r\"\u001b[0m\u001b[0;34m)\u001b[0m\u001b[0;34m\u001b[0m\u001b[0;34m\u001b[0m\u001b[0m\n\u001b[0;32m--> 238\u001b[0;31m         \u001b[0mpred\u001b[0m\u001b[0;34m,\u001b[0m \u001b[0mvar\u001b[0m \u001b[0;34m=\u001b[0m \u001b[0mm\u001b[0m\u001b[0;34m.\u001b[0m\u001b[0mpredict_f\u001b[0m\u001b[0;34m(\u001b[0m\u001b[0mto_default_float\u001b[0m\u001b[0;34m(\u001b[0m\u001b[0mpredicted_future\u001b[0m\u001b[0;34m[\u001b[0m\u001b[0mi\u001b[0m\u001b[0;34m-\u001b[0m\u001b[0;36m1\u001b[0m\u001b[0;34m,\u001b[0m\u001b[0;34m:\u001b[0m\u001b[0;34m]\u001b[0m\u001b[0;34m.\u001b[0m\u001b[0mreshape\u001b[0m\u001b[0;34m(\u001b[0m\u001b[0;36m1\u001b[0m\u001b[0;34m,\u001b[0m\u001b[0;36m2\u001b[0m\u001b[0;34m)\u001b[0m\u001b[0;34m)\u001b[0m\u001b[0;34m)\u001b[0m\u001b[0;34m\u001b[0m\u001b[0;34m\u001b[0m\u001b[0m\n\u001b[0m\u001b[1;32m    239\u001b[0m \u001b[0;34m\u001b[0m\u001b[0m\n\u001b[1;32m    240\u001b[0m         \u001b[0mpredicted_future\u001b[0m\u001b[0;34m[\u001b[0m\u001b[0mi\u001b[0m\u001b[0;34m,\u001b[0m \u001b[0;36m0\u001b[0m\u001b[0;34m]\u001b[0m \u001b[0;34m=\u001b[0m \u001b[0mpredicted_future\u001b[0m\u001b[0;34m[\u001b[0m\u001b[0mi\u001b[0m\u001b[0;34m-\u001b[0m\u001b[0;36m2\u001b[0m\u001b[0;34m,\u001b[0m \u001b[0;36m0\u001b[0m\u001b[0;34m]\u001b[0m \u001b[0;34m+\u001b[0m \u001b[0mpred\u001b[0m\u001b[0;34m[\u001b[0m\u001b[0;36m1\u001b[0m\u001b[0;34m]\u001b[0m\u001b[0;34m*\u001b[0m\u001b[0;36m2\u001b[0m\u001b[0;34m*\u001b[0m\u001b[0mtime_step\u001b[0m\u001b[0;34m\u001b[0m\u001b[0;34m\u001b[0m\u001b[0m\n",
      "\u001b[0;32m/usr/local/lib/python3.8/dist-packages/gpflow/models/gpr.py\u001b[0m in \u001b[0;36mpredict_f\u001b[0;34m(self, Xnew, full_cov, full_output_cov)\u001b[0m\n\u001b[1;32m    169\u001b[0m             \u001b[0mmodel\u001b[0m\u001b[0;34m.\u001b[0m\u001b[0mposterior\u001b[0m\u001b[0;34m(\u001b[0m\u001b[0;34m)\u001b[0m\u001b[0;34m.\u001b[0m\u001b[0mpredict_f\u001b[0m\u001b[0;34m(\u001b[0m\u001b[0mXnew\u001b[0m\u001b[0;34m,\u001b[0m \u001b[0;34m...\u001b[0m\u001b[0;34m)\u001b[0m\u001b[0;34m\u001b[0m\u001b[0;34m\u001b[0m\u001b[0m\n\u001b[1;32m    170\u001b[0m         \"\"\"\n\u001b[0;32m--> 171\u001b[0;31m         return self.posterior(posteriors.PrecomputeCacheType.NOCACHE).fused_predict_f(\n\u001b[0m\u001b[1;32m    172\u001b[0m             \u001b[0mXnew\u001b[0m\u001b[0;34m,\u001b[0m \u001b[0mfull_cov\u001b[0m\u001b[0;34m=\u001b[0m\u001b[0mfull_cov\u001b[0m\u001b[0;34m,\u001b[0m \u001b[0mfull_output_cov\u001b[0m\u001b[0;34m=\u001b[0m\u001b[0mfull_output_cov\u001b[0m\u001b[0;34m\u001b[0m\u001b[0;34m\u001b[0m\u001b[0m\n\u001b[1;32m    173\u001b[0m         )\n",
      "\u001b[0;32m/usr/local/lib/python3.8/dist-packages/gpflow/posteriors.py\u001b[0m in \u001b[0;36mfused_predict_f\u001b[0;34m(self, Xnew, full_cov, full_output_cov)\u001b[0m\n\u001b[1;32m    211\u001b[0m             \u001b[0mXnew\u001b[0m\u001b[0;34m,\u001b[0m \u001b[0mfull_cov\u001b[0m\u001b[0;34m=\u001b[0m\u001b[0mfull_cov\u001b[0m\u001b[0;34m,\u001b[0m \u001b[0mfull_output_cov\u001b[0m\u001b[0;34m=\u001b[0m\u001b[0mfull_output_cov\u001b[0m\u001b[0;34m\u001b[0m\u001b[0;34m\u001b[0m\u001b[0m\n\u001b[1;32m    212\u001b[0m         )\n\u001b[0;32m--> 213\u001b[0;31m         \u001b[0;32mreturn\u001b[0m \u001b[0mself\u001b[0m\u001b[0;34m.\u001b[0m\u001b[0m_add_mean_function\u001b[0m\u001b[0;34m(\u001b[0m\u001b[0mXnew\u001b[0m\u001b[0;34m,\u001b[0m \u001b[0mmean\u001b[0m\u001b[0;34m)\u001b[0m\u001b[0;34m,\u001b[0m \u001b[0mcov\u001b[0m\u001b[0;34m\u001b[0m\u001b[0;34m\u001b[0m\u001b[0m\n\u001b[0m\u001b[1;32m    214\u001b[0m \u001b[0;34m\u001b[0m\u001b[0m\n\u001b[1;32m    215\u001b[0m     \u001b[0;34m@\u001b[0m\u001b[0mabstractmethod\u001b[0m\u001b[0;34m\u001b[0m\u001b[0;34m\u001b[0m\u001b[0m\n",
      "\u001b[0;32m/usr/local/lib/python3.8/dist-packages/gpflow/posteriors.py\u001b[0m in \u001b[0;36m_add_mean_function\u001b[0;34m(self, Xnew, mean)\u001b[0m\n\u001b[1;32m    190\u001b[0m             \u001b[0;32mreturn\u001b[0m \u001b[0mmean\u001b[0m\u001b[0;34m\u001b[0m\u001b[0;34m\u001b[0m\u001b[0m\n\u001b[1;32m    191\u001b[0m         \u001b[0;32melse\u001b[0m\u001b[0;34m:\u001b[0m\u001b[0;34m\u001b[0m\u001b[0;34m\u001b[0m\u001b[0m\n\u001b[0;32m--> 192\u001b[0;31m             \u001b[0;32mreturn\u001b[0m \u001b[0mmean\u001b[0m \u001b[0;34m+\u001b[0m \u001b[0mself\u001b[0m\u001b[0;34m.\u001b[0m\u001b[0mmean_function\u001b[0m\u001b[0;34m(\u001b[0m\u001b[0mXnew\u001b[0m\u001b[0;34m)\u001b[0m\u001b[0;34m\u001b[0m\u001b[0;34m\u001b[0m\u001b[0m\n\u001b[0m\u001b[1;32m    193\u001b[0m \u001b[0;34m\u001b[0m\u001b[0m\n\u001b[1;32m    194\u001b[0m     \u001b[0;34m@\u001b[0m\u001b[0mabstractmethod\u001b[0m\u001b[0;34m\u001b[0m\u001b[0;34m\u001b[0m\u001b[0m\n",
      "\u001b[0;32m/data/cl2217/dynamical_system_invariance_project/codes/damped_invariance_kernel.py\u001b[0m in \u001b[0;36m__call__\u001b[0;34m(self, X)\u001b[0m\n\u001b[1;32m     25\u001b[0m \u001b[0;34m\u001b[0m\u001b[0m\n\u001b[1;32m     26\u001b[0m         \u001b[0mKa_XgXg\u001b[0m \u001b[0;34m=\u001b[0m \u001b[0mself\u001b[0m\u001b[0;34m.\u001b[0m\u001b[0mKa\u001b[0m\u001b[0;34m(\u001b[0m\u001b[0mself\u001b[0m\u001b[0;34m.\u001b[0m\u001b[0minvar_grids\u001b[0m\u001b[0;34m)\u001b[0m\u001b[0;34m\u001b[0m\u001b[0;34m\u001b[0m\u001b[0m\n\u001b[0;32m---> 27\u001b[0;31m         \u001b[0mKv_XgXg\u001b[0m \u001b[0;34m=\u001b[0m \u001b[0mself\u001b[0m\u001b[0;34m.\u001b[0m\u001b[0mKv\u001b[0m\u001b[0;34m(\u001b[0m\u001b[0mself\u001b[0m\u001b[0;34m.\u001b[0m\u001b[0minvar_grids\u001b[0m\u001b[0;34m)\u001b[0m\u001b[0;34m\u001b[0m\u001b[0;34m\u001b[0m\u001b[0m\n\u001b[0m\u001b[1;32m     28\u001b[0m \u001b[0;34m\u001b[0m\u001b[0m\n\u001b[1;32m     29\u001b[0m         \u001b[0mx_g\u001b[0m \u001b[0;34m=\u001b[0m \u001b[0mtf\u001b[0m\u001b[0;34m.\u001b[0m\u001b[0mones\u001b[0m\u001b[0;34m(\u001b[0m\u001b[0;34m[\u001b[0m\u001b[0mn\u001b[0m\u001b[0;34m,\u001b[0m \u001b[0;36m1\u001b[0m\u001b[0;34m]\u001b[0m\u001b[0;34m,\u001b[0m \u001b[0mdtype\u001b[0m\u001b[0;34m=\u001b[0m\u001b[0mtf\u001b[0m\u001b[0;34m.\u001b[0m\u001b[0mfloat64\u001b[0m\u001b[0;34m)\u001b[0m \u001b[0;34m*\u001b[0m \u001b[0mself\u001b[0m\u001b[0;34m.\u001b[0m\u001b[0minvar_grids\u001b[0m\u001b[0;34m[\u001b[0m\u001b[0;34m:\u001b[0m\u001b[0;34m,\u001b[0m\u001b[0;36m0\u001b[0m\u001b[0;34m]\u001b[0m\u001b[0;34m\u001b[0m\u001b[0;34m\u001b[0m\u001b[0m\n",
      "\u001b[0;32m/usr/local/lib/python3.8/dist-packages/gpflow/kernels/base.py\u001b[0m in \u001b[0;36m__call__\u001b[0;34m(self, X, X2, full_cov, presliced)\u001b[0m\n\u001b[1;32m    187\u001b[0m \u001b[0;34m\u001b[0m\u001b[0m\n\u001b[1;32m    188\u001b[0m         \u001b[0;32melse\u001b[0m\u001b[0;34m:\u001b[0m\u001b[0;34m\u001b[0m\u001b[0;34m\u001b[0m\u001b[0m\n\u001b[0;32m--> 189\u001b[0;31m             \u001b[0;32mreturn\u001b[0m \u001b[0mself\u001b[0m\u001b[0;34m.\u001b[0m\u001b[0mK\u001b[0m\u001b[0;34m(\u001b[0m\u001b[0mX\u001b[0m\u001b[0;34m,\u001b[0m \u001b[0mX2\u001b[0m\u001b[0;34m)\u001b[0m\u001b[0;34m\u001b[0m\u001b[0;34m\u001b[0m\u001b[0m\n\u001b[0m\u001b[1;32m    190\u001b[0m \u001b[0;34m\u001b[0m\u001b[0m\n\u001b[1;32m    191\u001b[0m     \u001b[0;32mdef\u001b[0m \u001b[0m__add__\u001b[0m\u001b[0;34m(\u001b[0m\u001b[0mself\u001b[0m\u001b[0;34m,\u001b[0m \u001b[0mother\u001b[0m\u001b[0;34m:\u001b[0m \u001b[0;34m\"Kernel\"\u001b[0m\u001b[0;34m)\u001b[0m \u001b[0;34m->\u001b[0m \u001b[0;34m\"Kernel\"\u001b[0m\u001b[0;34m:\u001b[0m\u001b[0;34m\u001b[0m\u001b[0;34m\u001b[0m\u001b[0m\n",
      "\u001b[0;32m/usr/local/lib/python3.8/dist-packages/gpflow/kernels/stationaries.py\u001b[0m in \u001b[0;36mK\u001b[0;34m(self, X, X2)\u001b[0m\n\u001b[1;32m     92\u001b[0m     \u001b[0;32mdef\u001b[0m \u001b[0mK\u001b[0m\u001b[0;34m(\u001b[0m\u001b[0mself\u001b[0m\u001b[0;34m,\u001b[0m \u001b[0mX\u001b[0m\u001b[0;34m:\u001b[0m \u001b[0mTensorType\u001b[0m\u001b[0;34m,\u001b[0m \u001b[0mX2\u001b[0m\u001b[0;34m:\u001b[0m \u001b[0mOptional\u001b[0m\u001b[0;34m[\u001b[0m\u001b[0mTensorType\u001b[0m\u001b[0;34m]\u001b[0m \u001b[0;34m=\u001b[0m \u001b[0;32mNone\u001b[0m\u001b[0;34m)\u001b[0m \u001b[0;34m->\u001b[0m \u001b[0mtf\u001b[0m\u001b[0;34m.\u001b[0m\u001b[0mTensor\u001b[0m\u001b[0;34m:\u001b[0m\u001b[0;34m\u001b[0m\u001b[0;34m\u001b[0m\u001b[0m\n\u001b[1;32m     93\u001b[0m         \u001b[0mr2\u001b[0m \u001b[0;34m=\u001b[0m \u001b[0mself\u001b[0m\u001b[0;34m.\u001b[0m\u001b[0mscaled_squared_euclid_dist\u001b[0m\u001b[0;34m(\u001b[0m\u001b[0mX\u001b[0m\u001b[0;34m,\u001b[0m \u001b[0mX2\u001b[0m\u001b[0;34m)\u001b[0m\u001b[0;34m\u001b[0m\u001b[0;34m\u001b[0m\u001b[0m\n\u001b[0;32m---> 94\u001b[0;31m         \u001b[0;32mreturn\u001b[0m \u001b[0mself\u001b[0m\u001b[0;34m.\u001b[0m\u001b[0mK_r2\u001b[0m\u001b[0;34m(\u001b[0m\u001b[0mr2\u001b[0m\u001b[0;34m)\u001b[0m\u001b[0;34m\u001b[0m\u001b[0;34m\u001b[0m\u001b[0m\n\u001b[0m\u001b[1;32m     95\u001b[0m \u001b[0;34m\u001b[0m\u001b[0m\n\u001b[1;32m     96\u001b[0m     \u001b[0;32mdef\u001b[0m \u001b[0mK_r2\u001b[0m\u001b[0;34m(\u001b[0m\u001b[0mself\u001b[0m\u001b[0;34m,\u001b[0m \u001b[0mr2\u001b[0m\u001b[0;34m:\u001b[0m \u001b[0mTensorType\u001b[0m\u001b[0;34m)\u001b[0m \u001b[0;34m->\u001b[0m \u001b[0mtf\u001b[0m\u001b[0;34m.\u001b[0m\u001b[0mTensor\u001b[0m\u001b[0;34m:\u001b[0m\u001b[0;34m\u001b[0m\u001b[0;34m\u001b[0m\u001b[0m\n",
      "\u001b[0;32m/usr/local/lib/python3.8/dist-packages/gpflow/kernels/stationaries.py\u001b[0m in \u001b[0;36mK_r2\u001b[0;34m(self, r2)\u001b[0m\n\u001b[1;32m    171\u001b[0m \u001b[0;34m\u001b[0m\u001b[0m\n\u001b[1;32m    172\u001b[0m     \u001b[0;32mdef\u001b[0m \u001b[0mK_r2\u001b[0m\u001b[0;34m(\u001b[0m\u001b[0mself\u001b[0m\u001b[0;34m,\u001b[0m \u001b[0mr2\u001b[0m\u001b[0;34m:\u001b[0m \u001b[0mTensorType\u001b[0m\u001b[0;34m)\u001b[0m \u001b[0;34m->\u001b[0m \u001b[0mtf\u001b[0m\u001b[0;34m.\u001b[0m\u001b[0mTensor\u001b[0m\u001b[0;34m:\u001b[0m\u001b[0;34m\u001b[0m\u001b[0;34m\u001b[0m\u001b[0m\n\u001b[0;32m--> 173\u001b[0;31m         \u001b[0;32mreturn\u001b[0m \u001b[0mself\u001b[0m\u001b[0;34m.\u001b[0m\u001b[0mvariance\u001b[0m \u001b[0;34m*\u001b[0m \u001b[0mtf\u001b[0m\u001b[0;34m.\u001b[0m\u001b[0mexp\u001b[0m\u001b[0;34m(\u001b[0m\u001b[0;34m-\u001b[0m\u001b[0;36m0.5\u001b[0m \u001b[0;34m*\u001b[0m \u001b[0mr2\u001b[0m\u001b[0;34m)\u001b[0m\u001b[0;34m\u001b[0m\u001b[0;34m\u001b[0m\u001b[0m\n\u001b[0m\u001b[1;32m    174\u001b[0m \u001b[0;34m\u001b[0m\u001b[0m\n\u001b[1;32m    175\u001b[0m \u001b[0;34m\u001b[0m\u001b[0m\n",
      "\u001b[0;32m/usr/local/lib/python3.8/dist-packages/tensorflow/python/util/traceback_utils.py\u001b[0m in \u001b[0;36merror_handler\u001b[0;34m(*args, **kwargs)\u001b[0m\n\u001b[1;32m    148\u001b[0m     \u001b[0mfiltered_tb\u001b[0m \u001b[0;34m=\u001b[0m \u001b[0;32mNone\u001b[0m\u001b[0;34m\u001b[0m\u001b[0;34m\u001b[0m\u001b[0m\n\u001b[1;32m    149\u001b[0m     \u001b[0;32mtry\u001b[0m\u001b[0;34m:\u001b[0m\u001b[0;34m\u001b[0m\u001b[0;34m\u001b[0m\u001b[0m\n\u001b[0;32m--> 150\u001b[0;31m       \u001b[0;32mreturn\u001b[0m \u001b[0mfn\u001b[0m\u001b[0;34m(\u001b[0m\u001b[0;34m*\u001b[0m\u001b[0margs\u001b[0m\u001b[0;34m,\u001b[0m \u001b[0;34m**\u001b[0m\u001b[0mkwargs\u001b[0m\u001b[0;34m)\u001b[0m\u001b[0;34m\u001b[0m\u001b[0;34m\u001b[0m\u001b[0m\n\u001b[0m\u001b[1;32m    151\u001b[0m     \u001b[0;32mexcept\u001b[0m \u001b[0mException\u001b[0m \u001b[0;32mas\u001b[0m \u001b[0me\u001b[0m\u001b[0;34m:\u001b[0m\u001b[0;34m\u001b[0m\u001b[0;34m\u001b[0m\u001b[0m\n\u001b[1;32m    152\u001b[0m       \u001b[0mfiltered_tb\u001b[0m \u001b[0;34m=\u001b[0m \u001b[0m_process_traceback_frames\u001b[0m\u001b[0;34m(\u001b[0m\u001b[0me\u001b[0m\u001b[0;34m.\u001b[0m\u001b[0m__traceback__\u001b[0m\u001b[0;34m)\u001b[0m\u001b[0;34m\u001b[0m\u001b[0;34m\u001b[0m\u001b[0m\n",
      "\u001b[0;32m/usr/local/lib/python3.8/dist-packages/tensorflow/python/util/dispatch.py\u001b[0m in \u001b[0;36mop_dispatch_handler\u001b[0;34m(*args, **kwargs)\u001b[0m\n\u001b[1;32m   1080\u001b[0m       \u001b[0;31m# Fallback dispatch system (dispatch v1):\u001b[0m\u001b[0;34m\u001b[0m\u001b[0;34m\u001b[0m\u001b[0;34m\u001b[0m\u001b[0m\n\u001b[1;32m   1081\u001b[0m       \u001b[0;32mtry\u001b[0m\u001b[0;34m:\u001b[0m\u001b[0;34m\u001b[0m\u001b[0;34m\u001b[0m\u001b[0m\n\u001b[0;32m-> 1082\u001b[0;31m         \u001b[0;32mreturn\u001b[0m \u001b[0mdispatch_target\u001b[0m\u001b[0;34m(\u001b[0m\u001b[0;34m*\u001b[0m\u001b[0margs\u001b[0m\u001b[0;34m,\u001b[0m \u001b[0;34m**\u001b[0m\u001b[0mkwargs\u001b[0m\u001b[0;34m)\u001b[0m\u001b[0;34m\u001b[0m\u001b[0;34m\u001b[0m\u001b[0m\n\u001b[0m\u001b[1;32m   1083\u001b[0m       \u001b[0;32mexcept\u001b[0m \u001b[0;34m(\u001b[0m\u001b[0mTypeError\u001b[0m\u001b[0;34m,\u001b[0m \u001b[0mValueError\u001b[0m\u001b[0;34m)\u001b[0m\u001b[0;34m:\u001b[0m\u001b[0;34m\u001b[0m\u001b[0;34m\u001b[0m\u001b[0m\n\u001b[1;32m   1084\u001b[0m         \u001b[0;31m# Note: convert_to_eager_tensor currently raises a ValueError, not a\u001b[0m\u001b[0;34m\u001b[0m\u001b[0;34m\u001b[0m\u001b[0;34m\u001b[0m\u001b[0m\n",
      "\u001b[0;32m/usr/local/lib/python3.8/dist-packages/tensorflow/python/ops/math_ops.py\u001b[0m in \u001b[0;36mexp\u001b[0;34m(x, name)\u001b[0m\n\u001b[1;32m   5463\u001b[0m   \u001b[0;34m@\u001b[0m\u001b[0mend_compatibility\u001b[0m\u001b[0;34m\u001b[0m\u001b[0;34m\u001b[0m\u001b[0m\n\u001b[1;32m   5464\u001b[0m   \"\"\"\n\u001b[0;32m-> 5465\u001b[0;31m   \u001b[0;32mreturn\u001b[0m \u001b[0mgen_math_ops\u001b[0m\u001b[0;34m.\u001b[0m\u001b[0mexp\u001b[0m\u001b[0;34m(\u001b[0m\u001b[0mx\u001b[0m\u001b[0;34m,\u001b[0m \u001b[0mname\u001b[0m\u001b[0;34m)\u001b[0m\u001b[0;34m\u001b[0m\u001b[0;34m\u001b[0m\u001b[0m\n\u001b[0m\u001b[1;32m   5466\u001b[0m \u001b[0;34m\u001b[0m\u001b[0m\n\u001b[1;32m   5467\u001b[0m \u001b[0;34m\u001b[0m\u001b[0m\n",
      "\u001b[0;32m/usr/local/lib/python3.8/dist-packages/tensorflow/python/ops/gen_math_ops.py\u001b[0m in \u001b[0;36mexp\u001b[0;34m(x, name)\u001b[0m\n\u001b[1;32m   3693\u001b[0m   \u001b[0;32mif\u001b[0m \u001b[0mtld\u001b[0m\u001b[0;34m.\u001b[0m\u001b[0mis_eager\u001b[0m\u001b[0;34m:\u001b[0m\u001b[0;34m\u001b[0m\u001b[0;34m\u001b[0m\u001b[0m\n\u001b[1;32m   3694\u001b[0m     \u001b[0;32mtry\u001b[0m\u001b[0;34m:\u001b[0m\u001b[0;34m\u001b[0m\u001b[0;34m\u001b[0m\u001b[0m\n\u001b[0;32m-> 3695\u001b[0;31m       _result = pywrap_tfe.TFE_Py_FastPathExecute(\n\u001b[0m\u001b[1;32m   3696\u001b[0m         _ctx, \"Exp\", name, x)\n\u001b[1;32m   3697\u001b[0m       \u001b[0;32mreturn\u001b[0m \u001b[0m_result\u001b[0m\u001b[0;34m\u001b[0m\u001b[0;34m\u001b[0m\u001b[0m\n",
      "\u001b[0;31mKeyboardInterrupt\u001b[0m: "
     ]
    }
   ],
   "source": [
    "\n",
    "\n",
    "eva_future_moi = []\n",
    "eva_future_inv = []\n",
    "eva_future_inv_p = []\n",
    "\n",
    "grids = (3, 40)\n",
    "dynamics = damped_SHM_dynamics\n",
    "\n",
    "lml_moi = moi.log_marginal_likelihood().numpy()\n",
    "lml_inv = known.log_marginal_likelihood().numpy()\n",
    "#lml_inv_p = m.log_marginal_likelihood().numpy()\n",
    "\n",
    "#grid_moi = (evaluate_model_grid(moi, grids, dynamics))\n",
    "#grid_inv = (evaluate_model_grid(known, grids, dynamics))\n",
    "#grid_inv_p = (evaluate_model_grid(m, grids, dynamics))\n",
    "print(lml_moi)\n",
    "print(lml_inv)\n",
    "#print(lml_inv_p)\n",
    "#def energy(X):\n",
    "#    return 0.5*tf.square(X[:,1])-np.cos(X[:,0])\n",
    "def energy(X):\n",
    "    return 0.5*tf.square(X[:,1])+0.5*tf.square(X[:,0])\n",
    "\n",
    "for i in range(3):\n",
    "    print(i)\n",
    "    test_starting_position = (np.random.uniform(-max_x, max_x))\n",
    "    test_starting_velocity = (np.random.uniform(-max_v, max_v))\n",
    "\n",
    "#    print(test_starting_position)\n",
    "#    print(test_starting_velocity)\n",
    "    test_starting = (test_starting_position, test_starting_velocity)\n",
    "    time_setting = (testing_time, time_step)\n",
    "\n",
    "    evaluate_moi = evaluate_model_future(moi, test_starting, dynamics,time_setting, energy)\n",
    "    eva_future_moi.append(evaluate_moi[0])\n",
    "    print(evaluate_moi[0])\n",
    "\n",
    "    evaluate_invariance =evaluate_model_future(known, test_starting, dynamics,time_setting, energy)\n",
    "    eva_future_inv.append(evaluate_invariance[0])\n",
    "\n",
    "#    evaluate_invariance_p =evaluate_model_future(m, test_starting, dynamics, time_setting, energy)#, (m.kernel.inv_f, m.kernel.inv_g), (lambda x: x, lambda x:np.sin(x)))\n",
    "#    eva_future_inv_p.append(evaluate_invariance_p[0])\n",
    "    print(evaluate_invariance[0])\n"
   ]
  },
  {
   "cell_type": "code",
   "execution_count": 6,
   "metadata": {},
   "outputs": [
    {
     "name": "stdout",
     "output_type": "stream",
     "text": [
      "MSE & 0.1020 & 0.0357 & nan \\\\\n"
     ]
    },
    {
     "name": "stderr",
     "output_type": "stream",
     "text": [
      "/usr/local/lib/python3.8/dist-packages/numpy/core/fromnumeric.py:3474: RuntimeWarning: Mean of empty slice.\n",
      "  return _methods._mean(a, axis=axis, dtype=dtype,\n",
      "/usr/local/lib/python3.8/dist-packages/numpy/core/_methods.py:189: RuntimeWarning: invalid value encountered in double_scalars\n",
      "  ret = ret.dtype.type(ret / rcount)\n"
     ]
    }
   ],
   "source": [
    "#print(\"Log Marginal Likelihood & \" + format((lml_moi),\".2f\")+\" & \"+ format((lml_inv),\".2f\") + \" & \"+ format((lml_inv_p),\".2f\") + \" & \"+' \\\\\\\\')\n",
    "print(\"MSE & \"+ format((np.mean(eva_future_moi)),\".4f\")+\" & \"+format(np.mean(eva_future_inv),\".4f\")+\" & \"+format((np.mean(eva_future_inv_p)),\".4f\")+ ' \\\\\\\\')"
   ]
  },
  {
   "cell_type": "code",
   "execution_count": 30,
   "metadata": {},
   "outputs": [
    {
     "data": {
      "text/plain": [
       "<matplotlib.legend.Legend at 0x7f133c241a00>"
      ]
     },
     "execution_count": 30,
     "metadata": {},
     "output_type": "execute_result"
    },
    {
     "data": {
      "image/png": "[encoded data removed]",
      "text/plain": [
       "<Figure size 432x288 with 1 Axes>"
      ]
     },
     "metadata": {
      "needs_background": "light"
     },
     "output_type": "display_data"
    }
   ],
   "source": [
    "\n",
    "import matplotlib.pyplot as plt\n",
    "fig, ax = plt.subplots()\n",
    "plt.plot(evaluate_moi[4][:,0],evaluate_moi[4][:,1], label=\"ground truth\", color=\"black\", linewidth=2)\n",
    "plt.plot(evaluate_moi[1][:,0],evaluate_moi[1][:,1], \"--\", label='RBF', color=\"red\")\n",
    "plt.plot(evaluate_invariance[1][:,0],evaluate_invariance[1][:,1], \"--\", label=\"known invariance\", color=\"blue\")\n",
    "#plt.plot(evaluate_invariance_p[1][:,0],evaluate_invariance_p[1][:,1], \"--\", label=\"learnt invariance\", color=\"green\")\n",
    "plt.scatter(evaluate_moi[4][0,0],evaluate_moi[4][0,1],color=\"red\")\n",
    "plt.xlabel(\"q\")\n",
    "plt.ylabel(\"p\")\n",
    "plt.legend()\n",
    "#plt.savefig(\"figures/shm_predicted.pdf\")"
   ]
  },
  {
   "cell_type": "code",
   "execution_count": 125,
   "metadata": {},
   "outputs": [
    {
     "ename": "NameError",
     "evalue": "name 'm' is not defined",
     "output_type": "error",
     "traceback": [
      "\u001b[0;31m---------------------------------------------------------------------------\u001b[0m",
      "\u001b[0;31mNameError\u001b[0m                                 Traceback (most recent call last)",
      "\u001b[0;32m<ipython-input-125-fac97be49456>\u001b[0m in \u001b[0;36m<module>\u001b[0;34m\u001b[0m\n\u001b[1;32m      1\u001b[0m \u001b[0;32mfrom\u001b[0m \u001b[0mnumpy\u001b[0m\u001b[0;34m.\u001b[0m\u001b[0mpolynomial\u001b[0m \u001b[0;32mimport\u001b[0m \u001b[0mpolynomial\u001b[0m\u001b[0;34m\u001b[0m\u001b[0;34m\u001b[0m\u001b[0m\n\u001b[1;32m      2\u001b[0m \u001b[0mx\u001b[0m \u001b[0;34m=\u001b[0m \u001b[0mnp\u001b[0m\u001b[0;34m.\u001b[0m\u001b[0mlinspace\u001b[0m\u001b[0;34m(\u001b[0m\u001b[0;34m-\u001b[0m\u001b[0;36m3\u001b[0m\u001b[0;34m,\u001b[0m\u001b[0;36m3\u001b[0m\u001b[0;34m,\u001b[0m\u001b[0;36m100\u001b[0m\u001b[0;34m)\u001b[0m\u001b[0;34m\u001b[0m\u001b[0;34m\u001b[0m\u001b[0m\n\u001b[0;32m----> 3\u001b[0;31m \u001b[0mmultiplier\u001b[0m \u001b[0;34m=\u001b[0m \u001b[0;34m-\u001b[0m\u001b[0mm\u001b[0m\u001b[0;34m.\u001b[0m\u001b[0mkernel\u001b[0m\u001b[0;34m.\u001b[0m\u001b[0mf_poly\u001b[0m\u001b[0;34m.\u001b[0m\u001b[0mnumpy\u001b[0m\u001b[0;34m(\u001b[0m\u001b[0;34m)\u001b[0m\u001b[0;34m[\u001b[0m\u001b[0;36m1\u001b[0m\u001b[0;34m]\u001b[0m\u001b[0;34m\u001b[0m\u001b[0;34m\u001b[0m\u001b[0m\n\u001b[0m\u001b[1;32m      4\u001b[0m \u001b[0mf\u001b[0m \u001b[0;34m=\u001b[0m \u001b[0mpolynomial\u001b[0m\u001b[0;34m.\u001b[0m\u001b[0mPolynomial\u001b[0m\u001b[0;34m(\u001b[0m\u001b[0mnp\u001b[0m\u001b[0;34m.\u001b[0m\u001b[0msqueeze\u001b[0m\u001b[0;34m(\u001b[0m\u001b[0mkernel\u001b[0m\u001b[0;34m.\u001b[0m\u001b[0mf_poly\u001b[0m\u001b[0;34m.\u001b[0m\u001b[0mnumpy\u001b[0m\u001b[0;34m(\u001b[0m\u001b[0;34m)\u001b[0m\u001b[0;34m)\u001b[0m\u001b[0;34m)\u001b[0m\u001b[0;34m\u001b[0m\u001b[0;34m\u001b[0m\u001b[0m\n\u001b[1;32m      5\u001b[0m \u001b[0mg\u001b[0m \u001b[0;34m=\u001b[0m \u001b[0mpolynomial\u001b[0m\u001b[0;34m.\u001b[0m\u001b[0mPolynomial\u001b[0m\u001b[0;34m(\u001b[0m\u001b[0mnp\u001b[0m\u001b[0;34m.\u001b[0m\u001b[0msqueeze\u001b[0m\u001b[0;34m(\u001b[0m\u001b[0mkernel\u001b[0m\u001b[0;34m.\u001b[0m\u001b[0mg_poly\u001b[0m\u001b[0;34m.\u001b[0m\u001b[0mnumpy\u001b[0m\u001b[0;34m(\u001b[0m\u001b[0;34m)\u001b[0m\u001b[0;34m)\u001b[0m\u001b[0;34m)\u001b[0m\u001b[0;34m\u001b[0m\u001b[0;34m\u001b[0m\u001b[0m\n",
      "\u001b[0;31mNameError\u001b[0m: name 'm' is not defined"
     ]
    }
   ],
   "source": [
    "\n",
    "from numpy.polynomial import polynomial\n",
    "x = np.linspace(-3,3,100)\n",
    "multiplier = -m.kernel.f_poly.numpy()[1]\n",
    "f = polynomial.Polynomial(np.squeeze(kernel.f_poly.numpy()))\n",
    "g = polynomial.Polynomial(np.squeeze(kernel.g_poly.numpy()))\n",
    "\n",
    "fig, (ax1, ax2) = plt.subplots(1, 2)\n",
    "ax1.plot(x, f(x)/multiplier, \"--\", color=\"blue\", label='learnt invariance')\n",
    "ax1.plot(x, -x, label='ground truth', color=\"black\")\n",
    "ax1.set_title(\"f(p)\")\n",
    "ax1.set_xlabel(\"p\")\n",
    "ax1.set_ylabel(\"f\")\n",
    "ax1.legend()\n",
    "ax2.set_title(\"g(q)\")\n",
    "ax2.plot(x, g(x)/multiplier, \"--\", color=\"blue\",label='learnt invariance')\n",
    "ax2.plot(x, -(x), color=\"black\", label='ground truth')\n",
    "ax2.legend()\n",
    "ax2.set_xlabel(\"q\")\n",
    "ax2.set_ylabel(\"g\")\n",
    "plt.subplots_adjust(left=0.1,\n",
    "                    bottom=0.1, \n",
    "                    right=0.9, \n",
    "                    top=0.9, \n",
    "                    wspace=0.4, \n",
    "                    hspace=0.4)\n",
    "#plt.savefig(\"figures/shm_learnt.pdf\")\n",
    "\n"
   ]
  },
  {
   "cell_type": "code",
   "execution_count": 31,
   "metadata": {},
   "outputs": [
    {
     "data": {
      "text/plain": [
       "Text(0, 0.5, 'E')"
      ]
     },
     "execution_count": 31,
     "metadata": {},
     "output_type": "execute_result"
    },
    {
     "data": {
      "image/png": "[encoded data removed]",
      "text/plain": [
       "<Figure size 432x288 with 1 Axes>"
      ]
     },
     "metadata": {
      "needs_background": "light"
     },
     "output_type": "display_data"
    }
   ],
   "source": [
    "t = np.linspace(0, testing_time, int(testing_time/time_step))\n",
    "plt.plot(t, tf.squeeze(evaluate_invariance[5])+1, label=\"ground truth\", color=\"black\")\n",
    "plt.plot(t, tf.squeeze(evaluate_moi[6])+1, \"--\", label=\"RBF\", color=\"red\")\n",
    "plt.plot(t, tf.squeeze(evaluate_invariance[6])+1,\"--\" ,  label=\"known invariance\", color=\"blue\")\n",
    "#plt.plot(t, tf.squeeze(evaluate_invariance_p[6])+1, \"--\",label=\"learnt invariance\", color=\"green\")\n",
    "plt.legend()\n",
    "plt.xlabel(\"t\")\n",
    "plt.ylabel(\"E\")\n",
    "#plt.savefig(\"figures/shm_energy.pdf\")"
   ]
  },
  {
   "cell_type": "code",
   "execution_count": null,
   "metadata": {},
   "outputs": [],
   "source": [
    "\n",
    "lmls = np.zeros(5)\n",
    "future = np.zeros((3,5))\n",
    "dofs = np.zeros(5)\n",
    "energies = np.zeros((3,5))\n",
    "moi = get_GPR_model(get_MOI(), mean, data, 500)\n",
    "lmls[0]=(moi.log_marginal_likelihood().numpy())\n",
    "dofs[0] = degree_of_freedom(moi.kernel, np.radians(150),40,moi.likelihood.variance.numpy())\n",
    "invar_density=20\n",
    "for i in range(3):\n",
    "    test_starting_position = np.radians(np.random.uniform(-max_x, max_x))\n",
    "    test_starting_velocity = np.radians(np.random.uniform(-max_v, max_v))\n",
    "    test_starting = (test_starting_position, test_starting_velocity)\n",
    "    for j, jitter in enumerate([7e-6, 1e-5, 5e-5, 9e-5]):\n",
    "        print(invar_density)\n",
    "        try:\n",
    "            kernel = get_pendulum_invariance(np.radians(150), invar_density, jitter) #switch\n",
    "            m = get_GPR_model(kernel, mean, data, 500)\n",
    "        except tf.errors.InvalidArgumentError:\n",
    "            print(\"jitter too small\")\n",
    "            break \n",
    "        lmls[j+1]=(m.log_marginal_likelihood().numpy())\n",
    "        dofs[j+1] = degree_of_freedom(m.kernel, np.radians(150),40,m.likelihood.variance.numpy())\n",
    "        print(m.log_marginal_likelihood().numpy())\n",
    "\n",
    "    #        print(test_starting_position)\n",
    "    #        print(test_starting_velocity)\n",
    "\n",
    "        evaluate_moi = evaluate_model_future(moi, test_starting, dynamics, time_setting, energy)\n",
    "\n",
    "        future[i,0]=(evaluate_moi[0])\n",
    "        energies[i,0]=abs((evaluate_moi[6][-1]-evaluate_moi[6][0])/evaluate_moi[6][0])\n",
    "\n",
    "        evaluate_invariance = evaluate_model_future(m, test_starting, dynamics, time_setting, energy)\n",
    "        print(format(evaluate_invariance[0],\".4f\"))\n",
    "        future[i,j+1] = (evaluate_invariance[0])\n",
    "        energies[i,j+1]=abs((evaluate_invariance[6][-1]-evaluate_invariance[6][0])/evaluate_invariance[6][0])\n",
    "\n"
   ]
  },
  {
   "cell_type": "code",
   "execution_count": null,
   "metadata": {},
   "outputs": [],
   "source": [
    "\n",
    "test_range = 5\n",
    "test_density = 40\n",
    "test_xs = tf.linspace(-test_range,test_range,test_density)\n",
    "test_vs = tf.linspace(-test_range,test_range,test_density)\n",
    "test_xx, test_vv = tf.meshgrid(test_xs, test_vs)\n",
    "test_points = tf.stack([tf.reshape(test_xx,[-1]), tf.reshape(test_vv,[-1])], axis=1)\n",
    "pred = tf.zeros((test_points.shape[0], 1), dtype=tf.float64)\n",
    "#var = tf.linalg.diag_part(get_pendulum_invariance(np.radians(150), invar_density, jitter)(test_points))\n",
    "#var = tf.linalg.diag_part(get_SHM_invariance(5, invar_density, jitter)(test_points))\n",
    "var = tf.linalg.diag_part(get_MOI()(test_points))\n",
    "X, Y = data\n",
    "pred_a = pred\n",
    "var_a = var[:int(var.shape[0]/2)]\n",
    "pred_v = pred\n",
    "var_v = var[int(var.shape[0]/2):]\n",
    "fig, (ax1, ax2) = plt.subplots(1, 2, subplot_kw={\"projection\": \"3d\"})\n",
    "ax1.plot_surface(test_xx, test_vv, tf.reshape(pred_a, test_xx.shape), cmap=\"viridis\",linewidth=0, antialiased=False, alpha=0.8)\n",
    "ax1.plot_surface(test_xx, test_vv, tf.reshape(pred_a, test_xx.shape)+1.96*tf.math.sqrt(tf.reshape(var_a, test_xx.shape)), color=\"grey\",linewidth=0, antialiased=False, alpha=0.4)\n",
    "ax1.plot_surface(test_xx, test_vv, tf.reshape(pred_a, test_xx.shape)-1.96*tf.math.sqrt(tf.reshape(var_a, test_xx.shape)), color=\"grey\",linewidth=0, antialiased=False, alpha=0.4)\n",
    "#ax1.scatter(X[:,0], X[:,1],Y[:,1,None], color=\"black\", marker=\"o\", s=3) #switch for velocity acceleration\n",
    "ax1.view_init(10,-65)\n",
    "ax1.set_xlabel(\"q\")\n",
    "ax1.set_ylabel(\"p\")\n",
    "ax1.set_zlabel(\"a\") \n",
    "ax1.set_title(\"RBF GP Prior of a\")\n",
    "\n",
    "ax2.plot_surface(test_xx, test_vv, tf.reshape(pred_v, test_xx.shape), cmap=\"viridis\",linewidth=0, antialiased=False, alpha=0.8)\n",
    "ax2.plot_surface(test_xx, test_vv, tf.reshape(pred_v, test_xx.shape)+1.96*tf.math.sqrt(tf.reshape(var_v, test_xx.shape)), color=\"grey\",linewidth=0, antialiased=False, alpha=0.4)\n",
    "ax2.plot_surface(test_xx, test_vv, tf.reshape(pred_v, test_xx.shape)-1.96*tf.math.sqrt(tf.reshape(var_v, test_xx.shape)), color=\"grey\",linewidth=0, antialiased=False, alpha=0.4)\n",
    "#ax2.scatter(X[:,0], X[:,1],Y[:,1,None], color=\"black\", marker=\"o\", s=3) #switch for velocity acceleration\n",
    "ax2.view_init(10,-25)\n",
    "ax2.set_xlabel(\"q\")\n",
    "ax2.set_ylabel(\"p\")\n",
    "ax2.set_zlabel(\"v\") \n",
    "ax2.set_title(\"RBF GP Prior of v\")\n",
    "plt.savefig(\"figures/prior_shm_rbf.pdf\")"
   ]
  }
 ],
 "metadata": {
  "kernelspec": {
   "display_name": "Python 3",
   "language": "python",
   "name": "python3"
  },
  "orig_nbformat": 4
 },
 "nbformat": 4,
 "nbformat_minor": 2
}
