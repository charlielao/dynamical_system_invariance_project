{
 "cells": [
  {
   "cell_type": "code",
   "execution_count": 1,
   "metadata": {},
   "outputs": [],
   "source": [
    "\n",
    "import gpflow\n",
    "import numpy as np\n",
    "import tensorflow as tf\n",
    "import tensorflow_probability as tfp\n",
    "from scipy.integrate import solve_ivp, odeint\n",
    "from gpflow.utilities import print_summary, positive, to_default_float, set_trainable\n",
    "from invariance_kernels import *\n",
    "from invariance_functions import * \n",
    "from invariance_kernels_2d import *\n",
    "from sklearn.preprocessing import StandardScaler, MinMaxScaler\n",
    "import joblib\n",
    "import os\n",
    "import matplotlib.pyplot as plt\n",
    "os.environ[\"CUDA_VISIBLE_DEVICES\"] = '3'"
   ]
  },
  {
   "cell_type": "code",
   "execution_count": 2,
   "metadata": {},
   "outputs": [
    {
     "name": "stdout",
     "output_type": "stream",
     "text": [
      "[1.7864198, 1.03954649, 0.81111603]\n",
      "[-0.40124928, 0.86759647, 0.25922844]\n",
      "[-0.69573343, 1.57913459, 0.63245328]\n",
      "[0.39774547, -0.70667786, 1.7852516]\n"
     ]
    }
   ],
   "source": [
    "\n",
    "mean = ZeroMean(4) \n",
    "\n",
    "time_step = 0.01\n",
    "training_time = 0.1\n",
    "testing_time = 1\n",
    "\n",
    "max_x = 2\n",
    "max_v = 2\n",
    "n_train = 3\n",
    "train_starting_position1 = np.random.uniform(-max_x, max_x, (n_train))\n",
    "train_starting_position2 = np.random.uniform(-max_x, max_x, (n_train))\n",
    "train_starting_velocity1 = np.random.uniform(-max_v, max_v, (n_train))\n",
    "train_starting_velocity2 = np.random.uniform(-max_v, max_v, (n_train))\n",
    "\n",
    "train_starting_position1 = [1.7864198,  1.03954649, 0.81111603]\n",
    "train_starting_position2 = [-0.40124928,  0.86759647,  0.25922844]\n",
    "train_starting_velocity1 = [-0.69573343,  1.57913459,  0.63245328]\n",
    "train_starting_velocity2 = [ 0.39774547, -0.70667786,  1.7852516 ]\n",
    "\n",
    "print(train_starting_position1)\n",
    "print(train_starting_position2)\n",
    "print(train_starting_velocity1)\n",
    "print(train_starting_velocity2)\n",
    "\n",
    "data2 = get_SHM_data_2D(time_step, training_time, 1e-8, train_starting_position1, train_starting_position2, train_starting_velocity1, train_starting_velocity2) #switch\n"
   ]
  },
  {
   "cell_type": "code",
   "execution_count": 3,
   "metadata": {},
   "outputs": [],
   "source": [
    "\n",
    "scalerX = StandardScaler(with_mean=False, with_std=False).fit(data2[0])\n",
    "scalerY = StandardScaler(with_mean=False, with_std=False).fit(data2[1])\n",
    "#scalerX = MinMaxScaler((-1,1)).fit(data2[0])\n",
    "#scalerY = MinMaxScaler((-1,1)).fit(data2[1])\n",
    "X = scalerX.transform(data2[0])\n",
    "Y = scalerY.transform(data2[1])\n",
    "data = (X, Y)\n",
    "scalers = (scalerX, scalerY)\n",
    "time_setting = (testing_time, time_step)\n",
    "dynamics = (SHM_dynamics1_2D, SHM_dynamics2_2D)\n",
    "jitter = 5e-4\n",
    "\n",
    "#joblib.dump(scalerX, 'shm_2d/scalerX.gz')\n",
    "#joblib.dump(scalerY, 'shm_2d/scalerY.gz')"
   ]
  },
  {
   "cell_type": "code",
   "execution_count": 4,
   "metadata": {},
   "outputs": [
    {
     "name": "stdout",
     "output_type": "stream",
     "text": [
      "moi\n",
      "434.1364290853046\n",
      "known\n",
      "483.3342723092136\n",
      "learnt\n",
      "480.04324193204525\n"
     ]
    }
   ],
   "source": [
    "\n",
    "print(\"moi\")\n",
    "moi = get_GPR_model_2D(get_MOI_2D(), mean, data, 100)\n",
    "print(moi.log_marginal_likelihood().numpy())\n",
    "#try:\n",
    "n_neighbours =  20\n",
    "print(\"known\")\n",
    "kernel_known = get_invariance_kernel_2D(SHMLocalInvariance2D, 3, 6, 0, 1, n_neighbours, jitter) #switch\n",
    "#kernel_known = get_SHM_invariance_2D(1, n_neighbours, jitter) #switch\n",
    "known = get_GPR_model_2D(kernel_known, mean, data, iterations=1000)\n",
    "print(known.log_marginal_likelihood().numpy())\n",
    "\n",
    "polynomial_degree = 1\n",
    "print(\"learnt\")\n",
    "#    X, Y = data\n",
    "kernel = get_paramertised_invariance_kernel_2D(PolynomialLocalInvariance2D, 3, 6, 0, 1, n_neighbours, jitter, polynomial_degree) \n",
    "#kernel = get_polynomial_invariance_2D(1, n_neighbours, jitter, polynomial_degree) \n",
    "model = get_GPR_model_2D(kernel, mean, data, iterations=1000, old_model=known)\n",
    "print(model.log_marginal_likelihood().numpy())\n",
    "#    model = get_GPR_model_2D(kernel, mean, data, iterations=10000, old_kernel=kernel_known)\n",
    "#    ckpt = tf.train.Checkpoint(model=model)\n",
    "#    manager = tf.train.CheckpointManager(ckpt, \"shm_2d\", max_to_keep=3)\n",
    "#    model = get_GPR_model_GD_2D(model=model, iterations=10000, lr=0.001, manager=manager)\n",
    "#    print(model.log_marginal_likelihood().numpy())\n",
    "#except tf.errors.InvalidArgumentError:\n",
    "#    print(\"jitter too small\")"
   ]
  },
  {
   "cell_type": "code",
   "execution_count": 5,
   "metadata": {},
   "outputs": [
    {
     "name": "stdout",
     "output_type": "stream",
     "text": [
      "0\n",
      "(0.5777656652212153, 1.1619728968424936, 1.0859763363861195, -1.4025365999024713)\n",
      "0.04588385631659517\n",
      "0.006215343826146946\n",
      "0.006253336028585821\n",
      "1\n",
      "(-0.8093774821962563, 1.4895003182541333, 1.3813572464138542, -0.45301867298032983)\n",
      "0.030225713462434096\n",
      "0.0010836732077024313\n",
      "0.0010890588940778779\n",
      "2\n",
      "(0.7678892593711133, -1.9543233418160284, 0.7404589113007813, -1.704483220353187)\n",
      "0.009633705101126428\n",
      "0.005077912612992518\n",
      "0.004892617288197817\n",
      "3\n",
      "(1.4845416971967138, 0.7895414558871763, 0.48298261895098227, -1.029119050632711)\n",
      "0.014643708895334341\n",
      "0.0021302512211915595\n",
      "0.002126033019621654\n",
      "4\n",
      "(0.20735845345546133, -1.0418497107784463, 1.4670483665801672, -0.34968326170669517)\n",
      "0.0043127131171276445\n",
      "0.004594008704047479\n",
      "0.004554383983392707\n",
      "5\n",
      "(-1.8485946869018335, 0.7599108080808485, -1.981633577949495, -0.14849736113686518)\n",
      "0.009677793354177395\n",
      "0.0019950283827501643\n",
      "0.0019640178707412887\n",
      "6\n",
      "(1.5220826135365662, 1.142734961025198, -0.9403651057368019, -0.9927136219724422)\n",
      "0.022592933505421273\n",
      "0.00217213058278479g\n",
      "0.002142178625547786\n",
      "7\n",
      "(-0.2894970423343022, 0.7245235424050094, -0.632245841436919, 0.9258326369576433)\n",
      "0.01562305254658866\n",
      "0.0038274752371227207\n",
      "0.0037444595979624733\n",
      "8\n",
      "(0.6189362016492872, -1.30141201971486, 1.6260422421040364, 0.45842431810888185)\n",
      "0.0053179281864848315\n",
      "0.006300081010692054\n",
      "0.0062810550180197435\n",
      "9\n",
      "(1.8648370199480344, 1.7867926855507208, -0.19162277764775393, 1.0194533203674014)\n",
      "0.11358206609341043\n",
      "0.0020277935261841474\n",
      "0.001983736402548515\n"
     ]
    }
   ],
   "source": [
    "\n",
    "eva_future_moi = []\n",
    "eva_future_known = []\n",
    "eva_future_learnt = []\n",
    "\n",
    "def energy(X):\n",
    "    return 0.5*(tf.square(X[:,0])+tf.square(X[:,1])+tf.square(X[:,2])+tf.square(X[:,3]))\n",
    "for i in range(10):\n",
    "    print(i)\n",
    "    test_starting_position1 = np.random.uniform(-max_x, max_x)\n",
    "    test_starting_position2 = np.random.uniform(-max_x, max_x)\n",
    "    test_starting_velocity1 = np.random.uniform(-max_v, max_v)\n",
    "    test_starting_velocity2 = np.random.uniform(-max_v, max_v)\n",
    "    test_starting = (test_starting_position1, test_starting_position2, test_starting_velocity1, test_starting_velocity2)\n",
    "    print(test_starting)\n",
    "    evaluate_moi = evaluate_model_future_2D(moi, test_starting, dynamics, time_setting, scalers, energy)\n",
    "    eva_future_moi.append(evaluate_moi[0])\n",
    "    print(evaluate_moi[0])\n",
    "    evaluate_known = evaluate_model_future_2D(known, test_starting, dynamics, time_setting, scalers, energy)\n",
    "    eva_future_known.append(evaluate_known[0])\n",
    "    print(evaluate_known[0])\n",
    "    evaluate_learnt = evaluate_model_future_2D(model, test_starting, dynamics, time_setting, scalers, energy)\n",
    "    eva_future_learnt.append(evaluate_learnt[0])\n",
    "    print(evaluate_learnt[0])"
   ]
  },
  {
   "cell_type": "code",
   "execution_count": 6,
   "metadata": {},
   "outputs": [
    {
     "name": "stdout",
     "output_type": "stream",
     "text": [
      "Log Marginal Likelihood & 430.62 & 478.70 & 475.42 &  \\\\\n",
      "MSE & 0.0271 & 0.0035 & 0.0035 \\\\\n"
     ]
    }
   ],
   "source": [
    "\n",
    "lml_moi = moi.log_marginal_likelihood().numpy()\n",
    "lml_inv = known.log_marginal_likelihood().numpy()\n",
    "lml_inv_p = model.log_marginal_likelihood().numpy()\n",
    "print(\"Log Marginal Likelihood & \" + format((lml_moi),\".2f\")+\" & \"+ format((lml_inv),\".2f\") + \" & \"+ format((lml_inv_p),\".2f\") + \" & \"+' \\\\\\\\')\n",
    "print(\"MSE & \"+ format((np.mean(eva_future_moi)),\".4f\")+\" & \"+format(np.mean(eva_future_known),\".4f\")+\" & \"+format((np.mean(eva_future_learnt)),\".4f\")+ ' \\\\\\\\')"
   ]
  },
  {
   "cell_type": "code",
   "execution_count": 8,
   "metadata": {},
   "outputs": [
    {
     "data": {
      "image/png": "[encoded data removed]",
      "text/plain": [
       "<Figure size 432x288 with 4 Axes>"
      ]
     },
     "metadata": {
      "needs_background": "light"
     },
     "output_type": "display_data"
    }
   ],
   "source": [
    "\n",
    "import matplotlib.pyplot as plt\n",
    "t = np.linspace(0, testing_time, int(testing_time/time_step))\n",
    "fig, axs = plt.subplots(2,2)\n",
    "axs[0][0].plot(t,evaluate_known[4][:,0],label=\"truth\", color=\"black\")\n",
    "axs[0][0].plot(t,evaluate_moi[1][:,0], \"--\", label=\"RBF\", color=\"red\")\n",
    "axs[0][0].plot(t,evaluate_known[1][:,0], \"--\", label=\"known\", color=\"blue\")\n",
    "axs[0][0].plot(t,evaluate_learnt[1][:,0], \"--\", label=\"learnt\", color=\"green\")\n",
    "axs[0][0].set_title(\"q_1\")\n",
    "axs[0][0].set_xlabel(\"t\")\n",
    "axs[0][0].legend()\n",
    "\n",
    "axs[0][1].plot(t,evaluate_known[4][:,1],label=\"truth\", color=\"black\")\n",
    "axs[0][1].plot(t,evaluate_moi[1][:,1], \"--\", label=\"RBF\", color=\"red\")\n",
    "axs[0][1].plot(t,evaluate_known[1][:,1], \"--\", label=\"known\", color=\"blue\")\n",
    "axs[0][1].plot(t,evaluate_learnt[1][:,1], \"--\", label=\"learnt\", color=\"green\")\n",
    "axs[0][1].set_title(\"q_2\")\n",
    "axs[1][1].set_xlabel(\"t\")\n",
    "axs[0][1].legend()\n",
    "\n",
    "axs[1][0].plot(t,evaluate_known[4][:,2],label=\"truth\", color=\"black\")\n",
    "axs[1][0].plot(t,evaluate_moi[1][:,2], \"--\", label=\"RBF\", color=\"red\")\n",
    "axs[1][0].plot(t,evaluate_known[1][:,2], \"--\", label=\"known\", color=\"blue\")\n",
    "axs[1][0].plot(t,evaluate_learnt[1][:,2], \"--\", label=\"learnt\", color=\"green\")\n",
    "axs[1][0].set_title(\"p_1\")\n",
    "axs[1][0].set_xlabel(\"t\")\n",
    "axs[1][0].legend()\n",
    "\n",
    "axs[1][1].plot(t,evaluate_known[4][:,3],label=\"truth\", color=\"black\")\n",
    "axs[1][1].plot(t,evaluate_moi[1][:,3], \"--\", label=\"RBF\", color=\"red\")\n",
    "axs[1][1].plot(t,evaluate_known[1][:,3], \"--\", label=\"known\", color=\"blue\")\n",
    "axs[1][1].plot(t,evaluate_learnt[1][:,3], \"--\", label=\"learnt\", color=\"green\")\n",
    "axs[1][1].set_title(\"p_2\")\n",
    "axs[0][1].set_xlabel(\"t\")\n",
    "axs[1][1].legend()\n",
    "\n",
    "plt.subplots_adjust(left=0.2,\n",
    "                    bottom=0.2, \n",
    "                    right=0.9, \n",
    "                    top=0.9, \n",
    "                    wspace=0.4, \n",
    "                    hspace=0.4)\n",
    "fig.tight_layout()\n",
    "plt.savefig(\"figures/shm_2d_predicted.pdf\")\n"
   ]
  },
  {
   "cell_type": "code",
   "execution_count": 9,
   "metadata": {},
   "outputs": [
    {
     "data": {
      "image/png": "[encoded data removed]",
      "text/plain": [
       "<Figure size 432x288 with 1 Axes>"
      ]
     },
     "metadata": {
      "needs_background": "light"
     },
     "output_type": "display_data"
    }
   ],
   "source": [
    "\n",
    "plt.plot(t, evaluate_learnt[5], \"--\",label=\"true\", color=\"black\")\n",
    "plt.plot(t, evaluate_moi[6], \"--\",label=\"RBF\", color=\"red\")\n",
    "plt.plot(t, evaluate_known[6], \"--\",label=\"known\", color=\"blue\")\n",
    "plt.plot(t, evaluate_learnt[6], \"--\",label=\"learnt\", color=\"green\")\n",
    "plt.legend()\n",
    "plt.xlabel(\"t\")\n",
    "plt.ylabel(\"E\")\n",
    "plt.savefig(\"figures/shm_2d_energy.pdf\")"
   ]
  },
  {
   "cell_type": "code",
   "execution_count": 5,
   "metadata": {},
   "outputs": [
    {
     "name": "stdout",
     "output_type": "stream",
     "text": [
      "moi\n",
      "434.1364290853046\n",
      "known\n",
      "483.22990079286694\n",
      "fixed\n",
      "479.98819550012604\n",
      "free\n",
      "480.09103272801394\n",
      "learnt\n",
      "0.3236889887292687g\n",
      "0.000559828339581246\n",
      "0.0005527014385021484\n",
      "0.0006208192982901202\n",
      "0\n",
      "-96500.5222086575\n",
      "2.7276155353165006gg\n",
      "1\n",
      "-69035.56550899705\n",
      "4.866184466099279ngg\n",
      "2\n",
      "-219226.83644518795\n",
      "0.8972395399060411gg\n",
      "(0.9226768061223221, 0.25199328631564155)\n",
      "SpearmanrResult(correlation=1.0, pvalue=0.0)\n",
      "3\n",
      "-175360.32019250767\n",
      "0.38455707699632946g\n",
      "(0.8973006721279747, 0.10269932787202529)\n",
      "SpearmanrResult(correlation=0.7999999999999999, pvalue=0.20000000000000007)\n",
      "4\n",
      "-325599.73614183994\n",
      "1.4269975791179634gg\n",
      "(0.6758668575698443, 0.21041950167540402)\n",
      "SpearmanrResult(correlation=0.6, pvalue=0.28475697986529375)\n",
      "5\n",
      "-146343.00386016173\n",
      "0.7278477626711499gg\n",
      "(0.5905157119634614, 0.2171854464986722)\n",
      "SpearmanrResult(correlation=0.48571428571428577, pvalue=0.3287230320699709)\n",
      "6\n",
      "-40070.85575323198\n",
      "1.8667116428594666gg\n",
      "(0.5119889597483626, 0.24010960192262715)\n",
      "SpearmanrResult(correlation=0.5714285714285715, pvalue=0.1802019889115274)\n",
      "7\n",
      "-75781.51583192301\n",
      "0.4334409046037853gg\n",
      "(0.36825064107325495, 0.3694129567054735)\n",
      "SpearmanrResult(correlation=0.4047619047619048, pvalue=0.3198886412288162)\n",
      "8\n",
      "-54178.90729275811\n",
      "0.16140766645646296g\n",
      "(0.22306959533238302, 0.5639907769943848)\n",
      "SpearmanrResult(correlation=0.08333333333333334, pvalue=0.831214097710308)\n",
      "9\n",
      "-46135.182570247416\n",
      "0.729623000357259ngg\n",
      "(0.15923688921729753, 0.6603681491899217)\n",
      "SpearmanrResult(correlation=0.05454545454545454, pvalue=0.8810361811618526)\n",
      "10\n",
      "-117882.18324977766\n",
      "1.9438521675622036gg\n",
      "(0.16087563696952867, 0.6365397243588437)\n",
      "SpearmanrResult(correlation=0.05454545454545456, pvalue=0.8734465775233149)\n",
      "11\n",
      "-35161.90555187078\n",
      "0.5548065537676605gg\n",
      "(0.0927350523506429, 0.7743814646835099)\n",
      "SpearmanrResult(correlation=-0.06993006993006995, pvalue=0.8290236405313092)\n",
      "12\n",
      "-91311.65787225578\n",
      "0.8706117918152906gg\n",
      "(0.0823669235309154, 0.7890780212596911)\n",
      "SpearmanrResult(correlation=-0.11538461538461539, pvalue=0.7073898735142602)\n",
      "13\n",
      "-294728.5848118483\n",
      "1.3195531605622346gg\n",
      "(0.07448595252106514, 0.8002163462463255)\n",
      "SpearmanrResult(correlation=-0.15164835164835166, pvalue=0.6047905984521367)\n",
      "14\n",
      "-17269.19357231996\n",
      "0.5546753083742427gg\n",
      "(0.01904061580099823, 0.946301707733864)\n",
      "SpearmanrResult(correlation=-0.23571428571428568, pvalue=0.3977029459032728)\n",
      "15\n",
      "-58334.2318346562\n",
      "0.8048507001358893gg\n",
      "(0.0012213389938705715, 0.9964182909602672)\n",
      "SpearmanrResult(correlation=-0.2764705882352941, pvalue=0.2999421284923735)\n",
      "16\n",
      "-150518.52415759882\n",
      "1.2751543318464318gg\n",
      "(0.0010549973443035633, 0.9967937077729548)\n",
      "SpearmanrResult(correlation=-0.28186274509803927, pvalue=0.27305989737995473)\n",
      "17\n",
      "-142143.40510837547\n",
      "1.842057236590856ngg\n",
      "(-0.0066901377787467195, 0.9789811811890851)\n",
      "SpearmanrResult(correlation=-0.24871001031991744, pvalue=0.31964521777772886)\n",
      "18\n",
      "-136609.27814466922\n",
      "0.3119656048490527gg\n",
      "(0.002725463689018688, 0.9911648517318097)\n",
      "SpearmanrResult(correlation=-0.19298245614035087, pvalue=0.42861312244412497)\n",
      "19\n",
      "-41890.35533608652\n",
      "3.073605663154904ngg\n",
      "(0.0759475034840065, 0.7503045806940704)\n",
      "SpearmanrResult(correlation=-0.0781954887218045, pvalue=0.7431490742332265)\n",
      "20\n",
      "-28211.75987841616\n",
      "13.188408840984163gg\n",
      "(0.23742320521959426, 0.30006209673021156)\n",
      "SpearmanrResult(correlation=0.04805194805194805, pvalue=0.8361372099212369)\n",
      "21\n",
      "-242346.67927936077\n",
      "0.682700283586735ngg\n",
      "(0.2540122180873328, 0.2539904017910442)\n",
      "SpearmanrResult(correlation=0.06606437041219651, pvalue=0.7702096134744482)\n",
      "22\n",
      "-151787.58892772486\n",
      "2.35911921504481ingg\n",
      "(0.2497761426443603, 0.2503842620403453)\n",
      "SpearmanrResult(correlation=0.03952569169960475, pvalue=0.8578929386002241)\n",
      "23\n",
      "-114501.55711919666\n",
      "0.41898046368739417g\n",
      "(0.24675461145786465, 0.24507424707382552)\n",
      "SpearmanrResult(correlation=0.046956521739130425, pvalue=0.8275237958648594)\n",
      "24\n",
      "-149844.85901555297\n",
      "0.3874263314764336gg\n",
      "(0.2525971651813734, 0.22314766794983565)\n",
      "SpearmanrResult(correlation=0.07999999999999999, pvalue=0.7038476432462639)\n",
      "25\n",
      "-257090.32391175456\n",
      "16.217372155781863gg\n",
      "(-0.072085267850143, 0.7263816926547201)\n",
      "SpearmanrResult(correlation=-0.027008547008547008, pvalue=0.8958009659317578)\n",
      "26\n",
      "-232427.18586478915\n",
      "2.13598633640036ingg\n",
      "(-0.06789538619454252, 0.7365016916164481)\n",
      "SpearmanrResult(correlation=-0.06715506715506715, pvalue=0.7392760478618904)\n",
      "27\n",
      "-46539.045772349455\n",
      "0.9056841099930311gg\n",
      "(-0.07972198952090612, 0.6867577019270447)\n",
      "SpearmanrResult(correlation=-0.0629447181171319, pvalue=0.7503314527898621)\n",
      "28\n",
      "-114790.3734794374\n",
      "0.4730048558220004gg\n",
      "(-0.08181341338738603, 0.6730926219239021)\n",
      "SpearmanrResult(correlation=-0.0566502463054187, pvalue=0.7703737389194727)\n",
      "29\n",
      "-29459.413538456836\n",
      "0.15418600612123243g\n",
      "(-0.10124229452759126, 0.5944938111623892)\n",
      "SpearmanrResult(correlation=-0.13192436040044492, pvalue=0.48710379873943643)\n",
      "30\n",
      "-166385.58845331348\n",
      "3.280308717392968ngg\n",
      "(-0.10606028156181403, 0.5701318169909303)\n",
      "SpearmanrResult(correlation=-0.16370967741935485, pvalue=0.37886039231167457)\n",
      "31\n",
      "-101473.09810809266\n",
      "13.073440387283183gg\n",
      "(-0.06843973377447307, 0.709753445398028)\n",
      "SpearmanrResult(correlation=-0.1414956011730205, pvalue=0.43983421424455516)\n",
      "32\n",
      "-34547.13119922285\n",
      "0.30645524969520205g\n",
      "(-0.08521007897793004, 0.6372982666638818)\n",
      "SpearmanrResult(correlation=-0.20187165775401072, pvalue=0.2599131249148234)\n",
      "33\n",
      "-224757.07905353198\n",
      "16 seconds remaining\r"
     ]
    },
    {
     "name": "stderr",
     "output_type": "stream",
     "text": [
      "/data/cl2217/dynamical_system_invariance_project/codes/invariance_functions.py:273: RuntimeWarning: invalid value encountered in sqrt\n",
      "  var = scalerY.inverse_transform(pred + 1.96*np.sqrt(var+likelihood*np.ones(var.shape)))\n"
     ]
    },
    {
     "name": "stdout",
     "output_type": "stream",
     "text": [
      "15 seconds remaining\r"
     ]
    },
    {
     "name": "stderr",
     "output_type": "stream",
     "text": [
      "/data/cl2217/dynamical_system_invariance_project/codes/invariance_functions.py:273: RuntimeWarning: invalid value encountered in sqrt\n",
      "  var = scalerY.inverse_transform(pred + 1.96*np.sqrt(var+likelihood*np.ones(var.shape)))\n"
     ]
    },
    {
     "name": "stdout",
     "output_type": "stream",
     "text": [
      "15 seconds remaining\r"
     ]
    },
    {
     "name": "stderr",
     "output_type": "stream",
     "text": [
      "/data/cl2217/dynamical_system_invariance_project/codes/invariance_functions.py:273: RuntimeWarning: invalid value encountered in sqrt\n",
      "  var = scalerY.inverse_transform(pred + 1.96*np.sqrt(var+likelihood*np.ones(var.shape)))\n"
     ]
    },
    {
     "name": "stdout",
     "output_type": "stream",
     "text": [
      "14 seconds remaining\r"
     ]
    },
    {
     "name": "stderr",
     "output_type": "stream",
     "text": [
      "/data/cl2217/dynamical_system_invariance_project/codes/invariance_functions.py:273: RuntimeWarning: invalid value encountered in sqrt\n",
      "  var = scalerY.inverse_transform(pred + 1.96*np.sqrt(var+likelihood*np.ones(var.shape)))\n"
     ]
    },
    {
     "name": "stdout",
     "output_type": "stream",
     "text": [
      "13 seconds remaining\r"
     ]
    },
    {
     "name": "stderr",
     "output_type": "stream",
     "text": [
      "/data/cl2217/dynamical_system_invariance_project/codes/invariance_functions.py:273: RuntimeWarning: invalid value encountered in sqrt\n",
      "  var = scalerY.inverse_transform(pred + 1.96*np.sqrt(var+likelihood*np.ones(var.shape)))\n"
     ]
    },
    {
     "name": "stdout",
     "output_type": "stream",
     "text": [
      "13 seconds remaining\r"
     ]
    },
    {
     "name": "stderr",
     "output_type": "stream",
     "text": [
      "/data/cl2217/dynamical_system_invariance_project/codes/invariance_functions.py:273: RuntimeWarning: invalid value encountered in sqrt\n",
      "  var = scalerY.inverse_transform(pred + 1.96*np.sqrt(var+likelihood*np.ones(var.shape)))\n"
     ]
    },
    {
     "name": "stdout",
     "output_type": "stream",
     "text": [
      "12 seconds remaining\r"
     ]
    },
    {
     "name": "stderr",
     "output_type": "stream",
     "text": [
      "/data/cl2217/dynamical_system_invariance_project/codes/invariance_functions.py:273: RuntimeWarning: invalid value encountered in sqrt\n",
      "  var = scalerY.inverse_transform(pred + 1.96*np.sqrt(var+likelihood*np.ones(var.shape)))\n"
     ]
    },
    {
     "name": "stdout",
     "output_type": "stream",
     "text": [
      "12 seconds remaining\r"
     ]
    },
    {
     "name": "stderr",
     "output_type": "stream",
     "text": [
      "/data/cl2217/dynamical_system_invariance_project/codes/invariance_functions.py:273: RuntimeWarning: invalid value encountered in sqrt\n",
      "  var = scalerY.inverse_transform(pred + 1.96*np.sqrt(var+likelihood*np.ones(var.shape)))\n"
     ]
    },
    {
     "name": "stdout",
     "output_type": "stream",
     "text": [
      "11 seconds remaining\r"
     ]
    },
    {
     "name": "stderr",
     "output_type": "stream",
     "text": [
      "/data/cl2217/dynamical_system_invariance_project/codes/invariance_functions.py:273: RuntimeWarning: invalid value encountered in sqrt\n",
      "  var = scalerY.inverse_transform(pred + 1.96*np.sqrt(var+likelihood*np.ones(var.shape)))\n"
     ]
    },
    {
     "name": "stdout",
     "output_type": "stream",
     "text": [
      "10 seconds remaining\r"
     ]
    },
    {
     "name": "stderr",
     "output_type": "stream",
     "text": [
      "/data/cl2217/dynamical_system_invariance_project/codes/invariance_functions.py:273: RuntimeWarning: invalid value encountered in sqrt\n",
      "  var = scalerY.inverse_transform(pred + 1.96*np.sqrt(var+likelihood*np.ones(var.shape)))\n"
     ]
    },
    {
     "name": "stdout",
     "output_type": "stream",
     "text": [
      "10 seconds remaining\r"
     ]
    },
    {
     "name": "stderr",
     "output_type": "stream",
     "text": [
      "/data/cl2217/dynamical_system_invariance_project/codes/invariance_functions.py:273: RuntimeWarning: invalid value encountered in sqrt\n",
      "  var = scalerY.inverse_transform(pred + 1.96*np.sqrt(var+likelihood*np.ones(var.shape)))\n"
     ]
    },
    {
     "name": "stdout",
     "output_type": "stream",
     "text": [
      "9 seconds remaining\r"
     ]
    },
    {
     "name": "stderr",
     "output_type": "stream",
     "text": [
      "/data/cl2217/dynamical_system_invariance_project/codes/invariance_functions.py:273: RuntimeWarning: invalid value encountered in sqrt\n",
      "  var = scalerY.inverse_transform(pred + 1.96*np.sqrt(var+likelihood*np.ones(var.shape)))\n"
     ]
    },
    {
     "name": "stdout",
     "output_type": "stream",
     "text": [
      "9 seconds remaining\r"
     ]
    },
    {
     "name": "stderr",
     "output_type": "stream",
     "text": [
      "/data/cl2217/dynamical_system_invariance_project/codes/invariance_functions.py:273: RuntimeWarning: invalid value encountered in sqrt\n",
      "  var = scalerY.inverse_transform(pred + 1.96*np.sqrt(var+likelihood*np.ones(var.shape)))\n"
     ]
    },
    {
     "name": "stdout",
     "output_type": "stream",
     "text": [
      "8 seconds remaining\r"
     ]
    },
    {
     "name": "stderr",
     "output_type": "stream",
     "text": [
      "/data/cl2217/dynamical_system_invariance_project/codes/invariance_functions.py:273: RuntimeWarning: invalid value encountered in sqrt\n",
      "  var = scalerY.inverse_transform(pred + 1.96*np.sqrt(var+likelihood*np.ones(var.shape)))\n"
     ]
    },
    {
     "name": "stdout",
     "output_type": "stream",
     "text": [
      "8 seconds remaining\r"
     ]
    },
    {
     "name": "stderr",
     "output_type": "stream",
     "text": [
      "/data/cl2217/dynamical_system_invariance_project/codes/invariance_functions.py:273: RuntimeWarning: invalid value encountered in sqrt\n",
      "  var = scalerY.inverse_transform(pred + 1.96*np.sqrt(var+likelihood*np.ones(var.shape)))\n"
     ]
    },
    {
     "name": "stdout",
     "output_type": "stream",
     "text": [
      "7 seconds remaining\r"
     ]
    },
    {
     "name": "stderr",
     "output_type": "stream",
     "text": [
      "/data/cl2217/dynamical_system_invariance_project/codes/invariance_functions.py:273: RuntimeWarning: invalid value encountered in sqrt\n",
      "  var = scalerY.inverse_transform(pred + 1.96*np.sqrt(var+likelihood*np.ones(var.shape)))\n"
     ]
    },
    {
     "name": "stdout",
     "output_type": "stream",
     "text": [
      "2.8256972570537084g\n",
      "(-0.08692242068782967, 0.6249766593982379)\n",
      "SpearmanrResult(correlation=-0.22811306340718102, pvalue=0.19444184794045505)\n",
      "34\n",
      "-94474.98890183496\n",
      "0.8920927918274547gg\n",
      "(-0.09077470893543609, 0.6040399116537596)\n",
      "SpearmanrResult(correlation=-0.23417366946778712, pvalue=0.17573933247594842)\n",
      "35\n",
      "-37739.77072951382\n",
      "0.307947246006216ngg\n",
      "(-0.10502876243235261, 0.542111854021588)\n",
      "SpearmanrResult(correlation=-0.2810810810810811, pvalue=0.09678615985752596)\n",
      "36\n",
      "-80789.29235000623\n",
      "3.478518038556832ngg\n",
      "(-0.10048308236348685, 0.554026610760611)\n",
      "SpearmanrResult(correlation=-0.25343764817449027, pvalue=0.1301470709878202)\n",
      "37\n",
      "-73597.25660859745\n",
      "0.22940539969950124g\n",
      "(-0.10837963195812882, 0.5171847000410423)\n",
      "SpearmanrResult(correlation=-0.2679724258671627, pvalue=0.10381852002149553)\n",
      "38\n",
      "-483035.0185082513\n",
      "0.3186965229873416gg\n",
      "(-0.03546632514808139, 0.8302754942873714)\n",
      "SpearmanrResult(correlation=-0.2076923076923077, pvalue=0.20453864048362508)\n",
      "39\n",
      "-29010.46315460059\n",
      "0.8733760769835294gg\n",
      "(-0.044599654363473316, 0.7846499838407467)\n",
      "SpearmanrResult(correlation=-0.20300187617260793, pvalue=0.2090021439359947)\n",
      "40\n",
      "-46948.23094983881\n",
      "1.0715679609156283gg\n",
      "(-0.05051798975137146, 0.7537718371249964)\n",
      "SpearmanrResult(correlation=-0.2001742160278746, pvalue=0.2095336978497522)\n",
      "41\n",
      "-147219.51880844487\n",
      "3.752341394332165ngg\n",
      "(-0.0528792076456899, 0.739445943800333)\n",
      "SpearmanrResult(correlation=-0.21205736974313263, pvalue=0.1775921460878987)\n",
      "42\n",
      "-110391.76637968468\n",
      "5.486850785456215ngg\n",
      "(-0.049256581645021634, 0.7537719238568208)\n",
      "SpearmanrResult(correlation=-0.20371488976140142, pvalue=0.19010330555725993)\n",
      "43\n",
      "-13178.835064522911\n",
      "0.4177636892668537gg\n",
      "(-0.062483220223007674, 0.6870003797316131)\n",
      "SpearmanrResult(correlation=-0.23128964059196616, pvalue=0.13089004177174055)\n",
      "44\n",
      "-52087.07644255883\n",
      "1.0025716537589295gg\n",
      "(-0.06790772962165566, 0.657597771424003)\n",
      "SpearmanrResult(correlation=-0.2308300395256917, pvalue=0.12711777657445164)\n",
      "45\n",
      "-212110.36274609677\n",
      "0.3549584445738747gg\n",
      "(-0.05552072754048353, 0.7140071892291169)\n",
      "SpearmanrResult(correlation=-0.19617637989515882, pvalue=0.1913299309845883)\n",
      "46\n",
      "-88924.04902643054\n",
      "1.3440418486123764gg\n",
      "(-0.057277976848008665, 0.7021510717193566)\n",
      "SpearmanrResult(correlation=-0.19657724329324702, pvalue=0.18538995609089165)\n",
      "47\n",
      "-350213.05850622\n",
      "23.231003077806648gg\n",
      "(-0.26267442336549807, 0.07127666683354827)\n",
      "SpearmanrResult(correlation=-0.2413156752062527, pvalue=0.09846646702394585)\n",
      "48\n",
      "-73340.52954608893\n",
      "1.5785670855135365gg\n",
      "(-0.2642967340311629, 0.06649099565279808)\n",
      "SpearmanrResult(correlation=-0.23418367346938773, pvalue=0.10532307531385549)\n",
      "49\n",
      "-57391.560572271854\n",
      "9.990695006023781ngg\n",
      "(-0.233825590547706, 0.10219126113389132)\n",
      "SpearmanrResult(correlation=-0.21123649459783914, pvalue=0.14086909042266213)\n"
     ]
    }
   ],
   "source": [
    "\n",
    "from scipy.stats import pearsonr, spearmanr\n",
    "n_neighbours = 20\n",
    "def energy(X):\n",
    "    return 0.5*(tf.square(X[:,0])+tf.square(X[:,1])+tf.square(X[:,2])+tf.square(X[:,3]))\n",
    "print(\"moi\")\n",
    "moi = get_GPR_model_2D(get_MOI_2D(), mean, data, 100)\n",
    "print(moi.log_marginal_likelihood().numpy())\n",
    "\n",
    "print(\"known\")\n",
    "kernel_known = get_invariance_kernel_2D(SHMLocalInvariance2D, 3, 6, 0, 1, n_neighbours, jitter)\n",
    "known = get_GPR_model_2D(kernel_known, mean, data, iterations=1000)\n",
    "print(known.log_marginal_likelihood().numpy())\n",
    "\n",
    "\n",
    "print(\"fixed\")\n",
    "kernel = get_paramertised_invariance_kernel_2D(PolynomialLocalInvariance2D, 3, 6, 0, 1, n_neighbours, jitter, polynomial_degree)\n",
    "model = get_GPR_model_2D(kernel, mean, data, iterations=1000, old_model=known, fixed=True)\n",
    "\n",
    "print(model.log_marginal_likelihood().numpy())\n",
    "\n",
    "print(\"free\")\n",
    "kernel_free = get_paramertised_invariance_kernel_2D(PolynomialLocalInvariance2D, 3, 6, 0, 1, n_neighbours, jitter, polynomial_degree)\n",
    "model_free = get_GPR_model_2D(kernel_free, mean, data, iterations=1000, old_model=known)\n",
    "print(model_free.log_marginal_likelihood().numpy())\n",
    "\n",
    "\n",
    "polynomial_degree = 1\n",
    "print(\"learnt\")\n",
    "test_starting_position1 = np.random.uniform(-max_x, max_x)\n",
    "test_starting_position2 = np.random.uniform(-max_x, max_x)\n",
    "test_starting_velocity1 = np.random.uniform(-max_v, max_v)\n",
    "test_starting_velocity2 = np.random.uniform(-max_v, max_v)\n",
    "test_starting = (test_starting_position1, test_starting_position2, test_starting_velocity1, test_starting_velocity2)\n",
    " \n",
    "\n",
    "evaluate_moi = evaluate_model_future_2D(moi, test_starting, dynamics, time_setting, scalers, energy)\n",
    "print(evaluate_moi[0])\n",
    "evaluate_known = evaluate_model_future_2D(known, test_starting, dynamics, time_setting, scalers, energy)\n",
    "print(evaluate_known[0])\n",
    "evaluate_learnt = evaluate_model_future_2D(model, test_starting, dynamics, time_setting, scalers, energy)\n",
    "print(evaluate_learnt[0])\n",
    "evaluate_learnt_free = evaluate_model_future_2D(model_free, test_starting, dynamics, time_setting, scalers, energy)\n",
    "print(evaluate_learnt_free[0])\n",
    "\n",
    "\n",
    "grids_lml = []\n",
    "grids_eva = []\n",
    "for i in range(50):\n",
    "    print(i)\n",
    "    kernel_grid = get_paramertised_invariance_kernel_2D(PolynomialLocalInvariance2D, 3, 6, 0, 1, n_neighbours, jitter, polynomial_degree)\n",
    "    kernel_grid.poly = gpflow.Parameter(0.1*np.random.normal(size=kernel_grid.poly.shape), transform =tfp.bijectors.Sigmoid(to_default_float(-1.), to_default_float(1.)), trainable=False, prior=tfp.distributions.Laplace(to_default_float(0),(0.1)), name=\"poly\")\n",
    "    model_grid = get_GPR_model_2D(kernel_grid, mean, data, iterations=1000, old_model=known, fixed=True)\n",
    "    print(model_grid.log_marginal_likelihood().numpy())\n",
    "\n",
    "    evaluate_learnt_grid = evaluate_model_future_2D(model_grid, test_starting, dynamics, time_setting, scalers, energy)\n",
    "    print(evaluate_learnt_grid[0])\n",
    "    grids_eva.append(evaluate_learnt_grid[0])\n",
    "    grids_lml.append(model_grid.log_marginal_likelihood().numpy())\n",
    "    if i>=2:\n",
    "        print(pearsonr(grids_lml, grids_eva))\n",
    "        print(spearmanr(grids_lml, grids_eva))\n"
   ]
  },
  {
   "cell_type": "code",
   "execution_count": 6,
   "metadata": {},
   "outputs": [
    {
     "data": {
      "image/png": "[encoded data removed]",
      "text/plain": [
       "<Figure size 432x288 with 1 Axes>"
      ]
     },
     "metadata": {
      "needs_background": "light"
     },
     "output_type": "display_data"
    }
   ],
   "source": [
    "plt.scatter(grids_lml, grids_eva, s=10, label=\"randomly initialised polynomial\")\n",
    "plt.scatter(model.log_marginal_likelihood().numpy(), evaluate_learnt[0],marker=\"X\",s=10, color=\"red\", label=\"theoretically initialised polynomial\", alpha=0.5)\n",
    "plt.scatter(model_free.log_marginal_likelihood().numpy(), evaluate_learnt_free[0], s=10, color=\"green\", label=\"optimised\", alpha=0.5)\n",
    "#plt.scatter(known.log_marginal_likelihood().numpy(), evaluate_learnt_free[0], s=10, color=\"orange\", label=\"known\", alpha=0.5)\n",
    "#plt.scatter(moi.log_marginal_likelihood().numpy(),evaluate_moi[0], s=10, color=\"purple\", label=\"RBF\")\n",
    "plt.yscale(\"log\")\n",
    "plt.xlabel(\"log marginal likelihood\")\n",
    "plt.ylabel(\"MSE\")\n",
    "plt.plot()\n",
    "plt.legend()\n",
    "plt.savefig(\"figures/shm_2d_polynomial.pdf\")\n",
    "\n"
   ]
  },
  {
   "cell_type": "code",
   "execution_count": 34,
   "metadata": {},
   "outputs": [
    {
     "name": "stdout",
     "output_type": "stream",
     "text": [
      "(-0.4274269959284613, 0.001961790846245755)\n",
      "SpearmanrResult(correlation=-0.3210084033613445, pvalue=0.02302712281614547)\n"
     ]
    }
   ],
   "source": [
    "from scipy.stats import pearsonr, spearmanr\n",
    "print(pearsonr(grids_lml, grids_eva))\n",
    "print(spearmanr(grids_lml, grids_eva))"
   ]
  }
 ],
 "metadata": {
  "kernelspec": {
   "display_name": "Python 3",
   "language": "python",
   "name": "python3"
  },
  "language_info": {
   "codemirror_mode": {
    "name": "ipython",
    "version": 3
   },
   "file_extension": ".py",
   "mimetype": "text/x-python",
   "name": "python",
   "nbconvert_exporter": "python",
   "pygments_lexer": "ipython3",
   "version": "3.8.10"
  },
  "orig_nbformat": 4
 },
 "nbformat": 4,
 "nbformat_minor": 2
}
