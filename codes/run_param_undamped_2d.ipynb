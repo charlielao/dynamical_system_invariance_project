{
 "cells": [
  {
   "cell_type": "code",
   "execution_count": 32,
   "metadata": {},
   "outputs": [
    {
     "name": "stdout",
     "output_type": "stream",
     "text": [
      "[-4.57998217]\n",
      "[-0.18842785]\n",
      "[-0.05486477]\n",
      "[0.30485521]\n"
     ]
    }
   ],
   "source": [
    "import gpflow\n",
    "import numpy as np\n",
    "import tensorflow as tf\n",
    "import tensorflow_probability as tfp\n",
    "from scipy.integrate import solve_ivp, odeint\n",
    "from gpflow.utilities import print_summary, positive, to_default_float, set_trainable\n",
    "from invariance_kernels import ZeroMean , get_MOI, get_MOI_2D, get_SHM_invariance_2D \n",
    "from invariance_functions import degree_of_freedom, get_GPR_model_2D, get_SHM_data_2D, get_double_pendulum_data, evaluate_model_future_2D, get_GPR_model_sparse_2D, evaluate_model_grid_2D, SHM_dynamics1_2D, SHM_dynamics2_2D\n",
    "from local_invariance_kernels import  get_polynomial_local_invariance_2D, get_SHM_local_invariance_2D, get_double_pendulum_local_invariance\n",
    "import os\n",
    "os.environ[\"CUDA_VISIBLE_DEVICES\"] = '2'\n",
    "mean = ZeroMean(4) \n",
    "\n",
    "time_step = 0.01\n",
    "training_time = 0.1\n",
    "testing_time = 1\n",
    "\n",
    "max_x = 5\n",
    "n_train = 1\n",
    "train_starting_position1 = np.random.uniform(-max_x, max_x, (n_train))\n",
    "train_starting_position2 = np.random.uniform(-max_x, max_x, (n_train))\n",
    "train_starting_velocity1 = np.random.uniform(-max_x/5, max_x/5, (n_train))\n",
    "train_starting_velocity2 = np.random.uniform(-max_x/5, max_x/5, (n_train))\n",
    "\n",
    "print(train_starting_position1)\n",
    "print(train_starting_position2)\n",
    "print(train_starting_velocity1)\n",
    "print(train_starting_velocity2)\n",
    "\n",
    "data = get_SHM_data_2D(time_step, training_time, 1e-8, train_starting_position1, train_starting_position2, train_starting_velocity1, train_starting_velocity2) #switch"
   ]
  },
  {
   "cell_type": "code",
   "execution_count": 35,
   "metadata": {},
   "outputs": [
    {
     "name": "stdout",
     "output_type": "stream",
     "text": [
      "-4.886983075642336\n",
      "4.189748472710891\n",
      "-0.38289226037594837\n",
      "-0.49454829196511874\n",
      "moi\n",
      "MOI: 136\n",
      "4.499520575600972\n",
      "known\n",
      "Known: 146\n",
      "4.462849386458847\n",
      "known local\n",
      "known_local: 142\n",
      "4.366053917940565\n"
     ]
    }
   ],
   "source": [
    "test_starting_position1 = np.random.uniform(-max_x, max_x)\n",
    "test_starting_position2 = np.random.uniform(-max_x, max_x)\n",
    "test_starting_velocity1 = np.random.uniform(-max_x/5, max_x/5)\n",
    "test_starting_velocity2 = np.random.uniform(-max_x/5, max_x/5)\n",
    "\n",
    "print(test_starting_position1)\n",
    "print(test_starting_position2)\n",
    "print(test_starting_velocity1)\n",
    "print(test_starting_velocity2)\n",
    "\n",
    "jitter = 1e-6\n",
    "n_neighbours = 20\n",
    "print(\"moi\")\n",
    "moi = get_GPR_model_2D(get_MOI_2D(), mean, data, \"scipy\", 1000, 0.1)\n",
    "evaluate_moi = evaluate_model_future_2D(moi, test_starting_position1, test_starting_position2, test_starting_velocity1, test_starting_velocity2, SHM_dynamics1_2D, SHM_dynamics2_2D, testing_time, time_step)\n",
    "print(\"MOI: %s\"%round(moi.log_marginal_likelihood().numpy()))\n",
    "print(evaluate_moi[0])\n",
    "try:\n",
    "    print(\"known\")\n",
    "    kernel = get_SHM_invariance_2D(5, 6, jitter) #switch\n",
    "    known = get_GPR_model_2D(kernel, mean, data, \"scipy\", iterations=1000, lr=0.1)\n",
    "    evaluate_known = evaluate_model_future_2D(known, test_starting_position1, test_starting_position2, test_starting_velocity1, test_starting_velocity2, SHM_dynamics1_2D, SHM_dynamics2_2D, testing_time, time_step)\n",
    "    print(\"Known: %s\"%round(known.log_marginal_likelihood().numpy()))\n",
    "    print(evaluate_known[0])\n",
    "    print(\"known local\")\n",
    "    kernel_local = get_SHM_local_invariance_2D(5, n_neighbours, jitter) #switch\n",
    "    known_local = get_GPR_model_2D(kernel_local, mean, data, \"scipy\", iterations=1000, lr=0.1)\n",
    "    evaluate_known_local = evaluate_model_future_2D(known_local, test_starting_position1, test_starting_position2, test_starting_velocity1, test_starting_velocity2, SHM_dynamics1_2D, SHM_dynamics2_2D, testing_time, time_step)\n",
    "    print(\"known_local: %s\"%round(known_local.log_marginal_likelihood().numpy()))\n",
    "    print(evaluate_known_local[0])\n",
    "    '''\n",
    "    polynomial_degree = 5\n",
    "    print(\"polynomial local\")\n",
    "    kernel = get_polynomial_local_invariance_2D(3, n_neighbours, jitter, [polynomial_degree,polynomial_degree,polynomial_degree,polynomial_degree]) #switch\n",
    "#    kernel = get_polynomial_invariance_2D(3, 6, jitter, [polynomial_degree,polynomial_degree,polynomial_degree,polynomial_degree]) #switch\n",
    "    m, best = get_GPR_model_sparse_2D(kernel, mean, data, \"adam\", iterations=100000, lr=0.001, reg=1, drop_rate=0)\n",
    "    evaluate_invariance = evaluate_model_future_2D(m, test_data, time_step)\n",
    "    print(kernel.f1_poly)\n",
    "    print(kernel.f2_poly)\n",
    "    print(kernel.g1_poly)\n",
    "    print(kernel.g2_poly)\n",
    "    print(\"MOI: %s\"%round(moi.log_marginal_likelihood().numpy()))\n",
    "    print(evaluate_moi[0])\n",
    "    print(\"Known: %s\"%round(known.log_marginal_likelihood().numpy()))\n",
    "    print(evaluate_known[0])\n",
    "    print(\"Learnt: %s\"%round(m.log_marginal_likelihood().numpy()))\n",
    "    print(evaluate_invariance[0])\n",
    "    '''\n",
    "except tf.errors.InvalidArgumentError:\n",
    "    print(\"jitter too small\")"
   ]
  },
  {
   "cell_type": "code",
   "execution_count": 57,
   "metadata": {},
   "outputs": [
    {
     "data": {
      "text/plain": [
       "<tf.Tensor: shape=(2, 5), dtype=float64, numpy=\n",
       "array([[ 1.,  1., -1.,  1., -1.],\n",
       "       [-1.,  1., -1., -1., -1.]])>"
      ]
     },
     "execution_count": 57,
     "metadata": {},
     "output_type": "execute_result"
    }
   ],
   "source": [
    "2*tf.Variable(tf.cast(tf.reshape(tf.random.categorical(tf.math.log([[0.5, 0.5]]), 10), (2,5)),tf.float64))-1*tf.ones((2,5),dtype=tf.float64)\n"
   ]
  },
  {
   "cell_type": "code",
   "execution_count": null,
   "metadata": {},
   "outputs": [],
   "source": [
    "\n",
    "(moi.likelihood.variance)"
   ]
  },
  {
   "cell_type": "code",
   "execution_count": null,
   "metadata": {},
   "outputs": [],
   "source": [
    "\n",
    "import matplotlib.pyplot as plt\n",
    "t = np.linspace(0, testing_time, int(testing_time/time_step))[1:-1]\n",
    "fig, axs = plt.subplots(4)\n",
    "axs[0].plot(t,evaluate_moi[2][:,0])\n",
    "axs[0].fill_between(t,evaluate_moi[2][:,0]+1.96*np.sqrt(evaluate_moi[3][:,0]+moi.likelihood.variance.numpy()),evaluate_moi[2][:,0]-1.96*np.sqrt(evaluate_moi[3][:,0]+moi.likelihood.variance.numpy()), color=\"grey\")\n",
    "axs[0].plot(t, test_data[0][:,0],'--')\n",
    "axs[1].plot(t,evaluate_moi[2][:,1])\n",
    "axs[1].fill_between(t,evaluate_moi[2][:,1]+1.96*np.sqrt(evaluate_moi[3][:,1]+moi.likelihood.variance.numpy()),evaluate_moi[2][:,1]-1.96*np.sqrt(evaluate_moi[3][:,1]+moi.likelihood.variance.numpy()), color=\"grey\")\n",
    "axs[1].plot(t, test_data[0][:,1],'--')\n",
    "axs[2].plot(t,evaluate_moi[2][:,2])\n",
    "axs[2].fill_between(t,evaluate_moi[2][:,2]+1.96*np.sqrt(evaluate_moi[3][:,2]+moi.likelihood.variance.numpy()),evaluate_moi[2][:,2]-1.96*np.sqrt(evaluate_moi[3][:,2]+moi.likelihood.variance.numpy()), color=\"grey\")\n",
    "axs[2].plot(t, test_data[0][:,2],'--')\n",
    "axs[3].plot(t,evaluate_moi[2][:,3])\n",
    "axs[3].fill_between(t,evaluate_moi[2][:,3]+1.96*np.sqrt(evaluate_moi[3][:,3]+moi.likelihood.variance.numpy()),evaluate_moi[2][:,3]-1.96*np.sqrt(evaluate_moi[3][:,3]+moi.likelihood.variance.numpy()), color=\"grey\")\n",
    "axs[3].plot(t, test_data[0][:,3],'--')"
   ]
  },
  {
   "cell_type": "code",
   "execution_count": null,
   "metadata": {},
   "outputs": [],
   "source": [
    "\n",
    "fig, axs = plt.subplots(4)\n",
    "axs[0].plot(t,evaluate_invariance[2][:,0])\n",
    "axs[0].fill_between(t,evaluate_invariance[2][:,0]+1.96*np.sqrt(evaluate_invariance[3][:,0]+m.likelihood.variance.numpy()),evaluate_invariance[2][:,0]-1.96*np.sqrt(evaluate_invariance[3][:,0]+m.likelihood.variance.numpy()), color=\"grey\")\n",
    "axs[0].plot(t, test_data[0][:,0],'--')\n",
    "axs[1].plot(t,evaluate_invariance[2][:,1])\n",
    "axs[1].fill_between(t,evaluate_invariance[2][:,1]+1.96*np.sqrt(evaluate_invariance[3][:,1]+m.likelihood.variance.numpy()),evaluate_invariance[2][:,1]-1.96*np.sqrt(evaluate_invariance[3][:,1]+m.likelihood.variance.numpy()), color=\"grey\")\n",
    "axs[1].plot(t, test_data[0][:,1],'--')\n",
    "axs[2].plot(t,evaluate_invariance[2][:,2])\n",
    "axs[2].fill_between(t,evaluate_invariance[2][:,2]+1.96*np.sqrt(evaluate_invariance[3][:,2]+m.likelihood.variance.numpy()),evaluate_invariance[2][:,2]-1.96*np.sqrt(evaluate_invariance[3][:,2]+m.likelihood.variance.numpy()), color=\"grey\")\n",
    "axs[2].plot(t, test_data[0][:,2],'--')\n",
    "axs[3].plot(t,evaluate_invariance[2][:,3])\n",
    "axs[3].fill_between(t,evaluate_invariance[2][:,3]+1.96*np.sqrt(evaluate_invariance[3][:,3]+m.likelihood.variance.numpy()),evaluate_invariance[2][:,3]-1.96*np.sqrt(evaluate_invariance[3][:,3]+m.likelihood.variance.numpy()), color=\"grey\")\n",
    "axs[3].plot(t, test_data[0][:,3],'--')"
   ]
  },
  {
   "cell_type": "code",
   "execution_count": null,
   "metadata": {},
   "outputs": [],
   "source": []
  },
  {
   "cell_type": "code",
   "execution_count": null,
   "metadata": {},
   "outputs": [],
   "source": []
  }
 ],
 "metadata": {
  "kernelspec": {
   "display_name": "Python 3",
   "language": "python",
   "name": "python3"
  },
  "language_info": {
   "codemirror_mode": {
    "name": "ipython",
    "version": 3
   },
   "file_extension": ".py",
   "mimetype": "text/x-python",
   "name": "python",
   "nbconvert_exporter": "python",
   "pygments_lexer": "ipython3",
   "version": "3.8.10"
  },
  "orig_nbformat": 4
 },
 "nbformat": 4,
 "nbformat_minor": 2
}
