{
 "cells": [
  {
   "cell_type": "code",
   "execution_count": 1,
   "metadata": {},
   "outputs": [],
   "source": [
    "\n",
    "import gpflow\n",
    "import numpy as np\n",
    "import tensorflow as tf\n",
    "import tensorflow_probability as tfp\n",
    "from scipy.integrate import solve_ivp, odeint\n",
    "from gpflow.utilities import print_summary, positive, to_default_float, set_trainable\n",
    "from invariance_kernels import ZeroMean , get_MOI, get_MOI_2D, get_SHM_invariance_2D\n",
    "from invariance_functions import degree_of_freedom, get_GPR_model_2D, get_SHM_data_2D, get_double_pendulum_data, evaluate_model_future_2D, evaluate_model_grid_2D, SHM_dynamics1_2D, SHM_dynamics2_2D, get_GPR_model_GD_2D\n",
    "from local_invariance_kernels import  get_polynomial_local_invariance_2D, get_SHM_local_invariance_2D, get_double_pendulum_local_invariance\n",
    "from parameterised_invariance_kernels import get_polynomial_invariance_2D\n",
    "from sklearn.preprocessing import StandardScaler, MinMaxScaler\n",
    "import joblib\n",
    "import os\n",
    "import matplotlib.pyplot as plt\n",
    "os.environ[\"CUDA_VISIBLE_DEVICES\"] = '5'"
   ]
  },
  {
   "cell_type": "code",
   "execution_count": 2,
   "metadata": {},
   "outputs": [
    {
     "name": "stdout",
     "output_type": "stream",
     "text": [
      "[ 2.55461182 -2.56311835  1.60875393]\n",
      "[ 2.79587625  2.04478046 -0.44921754]\n",
      "[0.07009784 0.08202654 0.01648941]\n",
      "[-0.00070213 -0.29979248  0.23362056]\n"
     ]
    }
   ],
   "source": [
    "\n",
    "mean = ZeroMean(4) \n",
    "\n",
    "time_step = 0.01\n",
    "training_time = 0.1\n",
    "testing_time = 1\n",
    "\n",
    "max_x = 3\n",
    "max_v = 0.3\n",
    "n_train = 3\n",
    "train_starting_position1 = np.random.uniform(-max_x, max_x, (n_train))\n",
    "train_starting_position2 = np.random.uniform(-max_x, max_x, (n_train))\n",
    "train_starting_velocity1 = np.random.uniform(-max_v, max_v, (n_train))\n",
    "train_starting_velocity2 = np.random.uniform(-max_v, max_v, (n_train))\n",
    "\n",
    "print(train_starting_position1)\n",
    "print(train_starting_position2)\n",
    "print(train_starting_velocity1)\n",
    "print(train_starting_velocity2)\n",
    "\n",
    "data2 = get_SHM_data_2D(time_step, training_time, 1e-8, train_starting_position1, train_starting_position2, train_starting_velocity1, train_starting_velocity2) #switch\n"
   ]
  },
  {
   "cell_type": "code",
   "execution_count": 3,
   "metadata": {},
   "outputs": [],
   "source": [
    "\n",
    "scalerX = StandardScaler(with_mean=False, with_std=False).fit(data2[0])\n",
    "scalerY = StandardScaler(with_mean=False, with_std=False).fit(data2[1])\n",
    "#scalerX = MinMaxScaler((-1,1)).fit(data2[0])\n",
    "#scalerY = MinMaxScaler((-1,1)).fit(data2[1])\n",
    "X = scalerX.transform(data2[0])\n",
    "Y = scalerY.transform(data2[1])\n",
    "data = (X, Y)\n",
    "scalers = (scalerX, scalerY)\n",
    "time_setting = (testing_time, time_step)\n",
    "dynamics = (SHM_dynamics1_2D, SHM_dynamics2_2D)\n",
    "jitter = 5e-4\n",
    "\n",
    "#joblib.dump(scalerX, 'shm_2d/scalerX.gz')\n",
    "#joblib.dump(scalerY, 'shm_2d/scalerY.gz')"
   ]
  },
  {
   "cell_type": "code",
   "execution_count": 4,
   "metadata": {},
   "outputs": [
    {
     "name": "stdout",
     "output_type": "stream",
     "text": [
      "moi\n",
      "423.111770410926\n",
      "known\n",
      "471.8880187893922\n",
      "learnt\n",
      "468.7022635262546\n"
     ]
    }
   ],
   "source": [
    "\n",
    "print(\"moi\")\n",
    "moi = get_GPR_model_2D(get_MOI_2D(), mean, data, 100)\n",
    "print(moi.log_marginal_likelihood().numpy())\n",
    "#try:\n",
    "n_neighbours =  20\n",
    "print(\"known\")\n",
    "kernel_known = get_SHM_local_invariance_2D(3, 6, 0, 1, n_neighbours, jitter) #switch\n",
    "#kernel_known = get_SHM_invariance_2D(1, n_neighbours, jitter) #switch\n",
    "known = get_GPR_model_2D(kernel_known, mean, data, iterations=1000)\n",
    "print(known.log_marginal_likelihood().numpy())\n",
    "\n",
    "polynomial_degree = 1\n",
    "print(\"learnt\")\n",
    "#    X, Y = data\n",
    "kernel = get_polynomial_local_invariance_2D(3, 6, 0, 1, n_neighbours, jitter, polynomial_degree) \n",
    "#kernel = get_polynomial_invariance_2D(1, n_neighbours, jitter, polynomial_degree) \n",
    "model = get_GPR_model_2D(kernel, mean, data, iterations=1000, old_model=known)\n",
    "print(model.log_marginal_likelihood().numpy())\n",
    "#    model = get_GPR_model_2D(kernel, mean, data, iterations=10000, old_kernel=kernel_known)\n",
    "#    ckpt = tf.train.Checkpoint(model=model)\n",
    "#    manager = tf.train.CheckpointManager(ckpt, \"shm_2d\", max_to_keep=3)\n",
    "#    model = get_GPR_model_GD_2D(model=model, iterations=10000, lr=0.001, manager=manager)\n",
    "#    print(model.log_marginal_likelihood().numpy())\n",
    "#except tf.errors.InvalidArgumentError:\n",
    "#    print(\"jitter too small\")"
   ]
  },
  {
   "cell_type": "code",
   "execution_count": 19,
   "metadata": {},
   "outputs": [
    {
     "name": "stdout",
     "output_type": "stream",
     "text": [
      "0\n",
      "(-2.184724296901475, 2.5316648598891813, 0.29904069569908837, 0.008979917515401337)\n",
      "0.3119254911017164g\n",
      "0.0007313269060780727\n",
      "0.0005527952920246416\n"
     ]
    }
   ],
   "source": [
    "\n",
    "eva_future_moi = []\n",
    "eva_future_known = []\n",
    "eva_future_learnt = []\n",
    "\n",
    "def energy(X):\n",
    "    return 0.5*(tf.square(X[:,0])+tf.square(X[:,1])+tf.square(X[:,2])+tf.square(X[:,3]))\n",
    "for i in range(1):\n",
    "    print(i)\n",
    "    test_starting_position1 = np.random.uniform(-max_x, max_x)\n",
    "    test_starting_position2 = np.random.uniform(-max_x, max_x)\n",
    "    test_starting_velocity1 = np.random.uniform(-max_v, max_v)\n",
    "    test_starting_velocity2 = np.random.uniform(-max_v, max_v)\n",
    "    test_starting = (test_starting_position1, test_starting_position2, test_starting_velocity1, test_starting_velocity2)\n",
    "    print(test_starting)\n",
    "    evaluate_moi = evaluate_model_future_2D(moi, test_starting, dynamics, time_setting, scalers, energy)\n",
    "    eva_future_moi.append(evaluate_moi[0])\n",
    "    print(evaluate_moi[0])\n",
    "    evaluate_known = evaluate_model_future_2D(known, test_starting, dynamics, time_setting, scalers, energy)\n",
    "    eva_future_known.append(evaluate_known[0])\n",
    "    print(evaluate_known[0])\n",
    "    evaluate_learnt = evaluate_model_future_2D(model, test_starting, dynamics, time_setting, scalers, energy)\n",
    "    eva_future_learnt.append(evaluate_learnt[0])\n",
    "    print(evaluate_learnt[0])"
   ]
  },
  {
   "cell_type": "code",
   "execution_count": 5,
   "metadata": {},
   "outputs": [
    {
     "name": "stdout",
     "output_type": "stream",
     "text": [
      "Log Marginal Likelihood & 456.34 & 500.54 & 496.89 &  \\\\\n"
     ]
    },
    {
     "ename": "NameError",
     "evalue": "name 'eva_future_moi' is not defined",
     "output_type": "error",
     "traceback": [
      "\u001b[0;31m---------------------------------------------------------------------------\u001b[0m",
      "\u001b[0;31mNameError\u001b[0m                                 Traceback (most recent call last)",
      "\u001b[0;32m<ipython-input-5-2d74f6ec537b>\u001b[0m in \u001b[0;36m<module>\u001b[0;34m\u001b[0m\n\u001b[1;32m      3\u001b[0m \u001b[0mlml_inv_p\u001b[0m \u001b[0;34m=\u001b[0m \u001b[0mmodel\u001b[0m\u001b[0;34m.\u001b[0m\u001b[0mlog_marginal_likelihood\u001b[0m\u001b[0;34m(\u001b[0m\u001b[0;34m)\u001b[0m\u001b[0;34m.\u001b[0m\u001b[0mnumpy\u001b[0m\u001b[0;34m(\u001b[0m\u001b[0;34m)\u001b[0m\u001b[0;34m\u001b[0m\u001b[0;34m\u001b[0m\u001b[0m\n\u001b[1;32m      4\u001b[0m \u001b[0mprint\u001b[0m\u001b[0;34m(\u001b[0m\u001b[0;34m\"Log Marginal Likelihood & \"\u001b[0m \u001b[0;34m+\u001b[0m \u001b[0mformat\u001b[0m\u001b[0;34m(\u001b[0m\u001b[0;34m(\u001b[0m\u001b[0mlml_moi\u001b[0m\u001b[0;34m)\u001b[0m\u001b[0;34m,\u001b[0m\u001b[0;34m\".2f\"\u001b[0m\u001b[0;34m)\u001b[0m\u001b[0;34m+\u001b[0m\u001b[0;34m\" & \"\u001b[0m\u001b[0;34m+\u001b[0m \u001b[0mformat\u001b[0m\u001b[0;34m(\u001b[0m\u001b[0;34m(\u001b[0m\u001b[0mlml_inv\u001b[0m\u001b[0;34m)\u001b[0m\u001b[0;34m,\u001b[0m\u001b[0;34m\".2f\"\u001b[0m\u001b[0;34m)\u001b[0m \u001b[0;34m+\u001b[0m \u001b[0;34m\" & \"\u001b[0m\u001b[0;34m+\u001b[0m \u001b[0mformat\u001b[0m\u001b[0;34m(\u001b[0m\u001b[0;34m(\u001b[0m\u001b[0mlml_inv_p\u001b[0m\u001b[0;34m)\u001b[0m\u001b[0;34m,\u001b[0m\u001b[0;34m\".2f\"\u001b[0m\u001b[0;34m)\u001b[0m \u001b[0;34m+\u001b[0m \u001b[0;34m\" & \"\u001b[0m\u001b[0;34m+\u001b[0m\u001b[0;34m' \\\\\\\\'\u001b[0m\u001b[0;34m)\u001b[0m\u001b[0;34m\u001b[0m\u001b[0;34m\u001b[0m\u001b[0m\n\u001b[0;32m----> 5\u001b[0;31m \u001b[0mprint\u001b[0m\u001b[0;34m(\u001b[0m\u001b[0;34m\"MSE & \"\u001b[0m\u001b[0;34m+\u001b[0m \u001b[0mformat\u001b[0m\u001b[0;34m(\u001b[0m\u001b[0;34m(\u001b[0m\u001b[0mnp\u001b[0m\u001b[0;34m.\u001b[0m\u001b[0mmean\u001b[0m\u001b[0;34m(\u001b[0m\u001b[0meva_future_moi\u001b[0m\u001b[0;34m)\u001b[0m\u001b[0;34m)\u001b[0m\u001b[0;34m,\u001b[0m\u001b[0;34m\".4f\"\u001b[0m\u001b[0;34m)\u001b[0m\u001b[0;34m+\u001b[0m\u001b[0;34m\" & \"\u001b[0m\u001b[0;34m+\u001b[0m\u001b[0mformat\u001b[0m\u001b[0;34m(\u001b[0m\u001b[0mnp\u001b[0m\u001b[0;34m.\u001b[0m\u001b[0mmean\u001b[0m\u001b[0;34m(\u001b[0m\u001b[0meva_future_known\u001b[0m\u001b[0;34m)\u001b[0m\u001b[0;34m,\u001b[0m\u001b[0;34m\".4f\"\u001b[0m\u001b[0;34m)\u001b[0m\u001b[0;34m+\u001b[0m\u001b[0;34m\" & \"\u001b[0m\u001b[0;34m+\u001b[0m\u001b[0mformat\u001b[0m\u001b[0;34m(\u001b[0m\u001b[0;34m(\u001b[0m\u001b[0mnp\u001b[0m\u001b[0;34m.\u001b[0m\u001b[0mmean\u001b[0m\u001b[0;34m(\u001b[0m\u001b[0meva_future_learnt\u001b[0m\u001b[0;34m)\u001b[0m\u001b[0;34m)\u001b[0m\u001b[0;34m,\u001b[0m\u001b[0;34m\".4f\"\u001b[0m\u001b[0;34m)\u001b[0m\u001b[0;34m+\u001b[0m \u001b[0;34m' \\\\\\\\'\u001b[0m\u001b[0;34m)\u001b[0m\u001b[0;34m\u001b[0m\u001b[0;34m\u001b[0m\u001b[0m\n\u001b[0m",
      "\u001b[0;31mNameError\u001b[0m: name 'eva_future_moi' is not defined"
     ]
    }
   ],
   "source": [
    "\n",
    "lml_moi = moi.log_marginal_likelihood().numpy()\n",
    "lml_inv = known.log_marginal_likelihood().numpy()\n",
    "lml_inv_p = model.log_marginal_likelihood().numpy()\n",
    "print(\"Log Marginal Likelihood & \" + format((lml_moi),\".2f\")+\" & \"+ format((lml_inv),\".2f\") + \" & \"+ format((lml_inv_p),\".2f\") + \" & \"+' \\\\\\\\')\n",
    "print(\"MSE & \"+ format((np.mean(eva_future_moi)),\".4f\")+\" & \"+format(np.mean(eva_future_known),\".4f\")+\" & \"+format((np.mean(eva_future_learnt)),\".4f\")+ ' \\\\\\\\')"
   ]
  },
  {
   "cell_type": "code",
   "execution_count": 21,
   "metadata": {},
   "outputs": [
    {
     "data": {
      "image/png": "[encoded data removed]",
      "text/plain": [
       "<Figure size 432x288 with 4 Axes>"
      ]
     },
     "metadata": {
      "needs_background": "light"
     },
     "output_type": "display_data"
    }
   ],
   "source": [
    "\n",
    "import matplotlib.pyplot as plt\n",
    "t = np.linspace(0, testing_time, int(testing_time/time_step))\n",
    "fig, axs = plt.subplots(2,2)\n",
    "axs[0][0].plot(t,evaluate_known[4][:,0],label=\"truth\", color=\"black\")\n",
    "axs[0][0].plot(t,evaluate_moi[1][:,0], \"--\", label=\"RBF\", color=\"red\")\n",
    "axs[0][0].plot(t,evaluate_known[1][:,0], \"--\", label=\"known\", color=\"blue\")\n",
    "axs[0][0].plot(t,evaluate_learnt[1][:,0], \"--\", label=\"learnt\", color=\"green\")\n",
    "axs[0][0].set_title(\"q_1\")\n",
    "axs[0][0].set_xlabel(\"t\")\n",
    "axs[0][0].legend()\n",
    "\n",
    "axs[0][1].plot(t,evaluate_known[4][:,1],label=\"truth\", color=\"black\")\n",
    "axs[0][1].plot(t,evaluate_moi[1][:,1], \"--\", label=\"RBF\", color=\"red\")\n",
    "axs[0][1].plot(t,evaluate_known[1][:,1], \"--\", label=\"known\", color=\"blue\")\n",
    "axs[0][1].plot(t,evaluate_learnt[1][:,1], \"--\", label=\"learnt\", color=\"green\")\n",
    "axs[0][1].set_title(\"q_2\")\n",
    "axs[1][1].set_xlabel(\"t\")\n",
    "axs[0][1].legend()\n",
    "\n",
    "axs[1][0].plot(t,evaluate_known[4][:,2],label=\"truth\", color=\"black\")\n",
    "axs[1][0].plot(t,evaluate_moi[1][:,2], \"--\", label=\"RBF\", color=\"red\")\n",
    "axs[1][0].plot(t,evaluate_known[1][:,2], \"--\", label=\"known\", color=\"blue\")\n",
    "axs[1][0].plot(t,evaluate_learnt[1][:,2], \"--\", label=\"learnt\", color=\"green\")\n",
    "axs[1][0].set_title(\"p_1\")\n",
    "axs[1][0].set_xlabel(\"t\")\n",
    "axs[1][0].legend()\n",
    "\n",
    "axs[1][1].plot(t,evaluate_known[4][:,3],label=\"truth\", color=\"black\")\n",
    "axs[1][1].plot(t,evaluate_moi[1][:,3], \"--\", label=\"RBF\", color=\"red\")\n",
    "axs[1][1].plot(t,evaluate_known[1][:,3], \"--\", label=\"known\", color=\"blue\")\n",
    "axs[1][1].plot(t,evaluate_learnt[1][:,3], \"--\", label=\"learnt\", color=\"green\")\n",
    "axs[1][1].set_title(\"p_2\")\n",
    "axs[0][1].set_xlabel(\"t\")\n",
    "axs[1][1].legend()\n",
    "\n",
    "plt.subplots_adjust(left=0.2,\n",
    "                    bottom=0.2, \n",
    "                    right=0.9, \n",
    "                    top=0.9, \n",
    "                    wspace=0.4, \n",
    "                    hspace=0.4)\n",
    "fig.tight_layout()\n",
    "#plt.savefig(\"figures/shm_2d_predicted.pdf\")\n"
   ]
  },
  {
   "cell_type": "code",
   "execution_count": 23,
   "metadata": {},
   "outputs": [
    {
     "data": {
      "image/png": "[encoded data removed]",
      "text/plain": [
       "<Figure size 432x288 with 1 Axes>"
      ]
     },
     "metadata": {
      "needs_background": "light"
     },
     "output_type": "display_data"
    }
   ],
   "source": [
    "\n",
    "plt.plot(t, evaluate_learnt[5], \"--\",label=\"true\", color=\"black\")\n",
    "plt.plot(t, evaluate_moi[6], \"--\",label=\"RBF\", color=\"red\")\n",
    "plt.plot(t, evaluate_known[6], \"--\",label=\"known\", color=\"blue\")\n",
    "plt.plot(t, evaluate_learnt[6], \"--\",label=\"learnt\", color=\"green\")\n",
    "plt.legend()\n",
    "plt.xlabel(\"t\")\n",
    "plt.ylabel(\"E\")\n",
    "#plt.savefig(\"figures/shm_2d_energy.pdf\")"
   ]
  },
  {
   "cell_type": "code",
   "execution_count": 56,
   "metadata": {},
   "outputs": [
    {
     "name": "stdout",
     "output_type": "stream",
     "text": [
      "moi\n",
      "440.4733174454094\n",
      "known\n",
      "486.41445033212494\n",
      "483.02649140555155\n",
      "learnt\n",
      "0.06242364594672588\n",
      "0.008053833328959037\n",
      "0.008082859761887556\n",
      "0\n",
      "-28868.74190622845\n",
      "1.3814471650487585gg\n",
      "1\n",
      "-9750.851109682546\n",
      "0.09183764331021171g\n",
      "2\n",
      "-47196.15674606194\n",
      "1.7933616313450946gg\n",
      "3\n",
      "-91399.45340800754\n",
      "1.788050296432127ngg\n",
      "4\n",
      "-198993.48265605394\n",
      "2.621175912642848ngg\n",
      "5\n",
      "-48127.71449405209\n",
      "0.5491298930629844gg\n",
      "6\n",
      "-138220.8353643127\n",
      "0.6938305265939051gg\n",
      "7\n",
      "-33627.80696955161\n",
      "0.5246915472166522gg\n",
      "8\n",
      "-38337.92332352568\n",
      "7.02914179546443ingg\n",
      "9\n",
      "-30132.09717593261\n",
      "0.4982768605946296gg\n",
      "10\n",
      "-125245.96970498016\n",
      "1.028504633204831ngg\n",
      "11\n",
      "-12199.954911412808\n",
      "2.7843205881106816gg\n",
      "12\n",
      "-80987.09930746701\n",
      "0.5416248258799167gg\n",
      "13\n",
      "-92300.79187830628\n",
      "0.9680664821318044gg\n",
      "14\n",
      "-274864.9001020773\n",
      "50.589802513541024gg\n",
      "15\n",
      "-8947.056674329611\n",
      "0.14526531707399182g\n",
      "16\n",
      "-98609.61543630641\n",
      "1.15899928761703ingg\n",
      "17\n",
      "-16496.85932877864\n",
      "7.414581442707664ngg\n",
      "18\n",
      "-92807.9177979217\n",
      "21.79037204912761ngg\n",
      "19\n",
      "-66821.43096069133\n",
      "1.7436352584940773gg\n",
      "20\n",
      "-31300.671036345753\n",
      "2.3916858561183725gg\n",
      "21\n",
      "-84688.69476065547\n",
      "0.7421942243972071gg\n",
      "22\n",
      "-16338.4122321239\n",
      "1.7518556990860323gg\n",
      "23\n",
      "-233703.10369440416\n",
      "0.4673794462128752gg\n",
      "24\n",
      "-13139.689278755466\n",
      "4.354115485233038ngg\n",
      "25\n",
      "-34335.86441744581\n",
      "1 seconds remainingg\r"
     ]
    },
    {
     "name": "stderr",
     "output_type": "stream",
     "text": [
      "/data/cl2217/dynamical_system_invariance_project/codes/invariance_functions.py:300: RuntimeWarning: invalid value encountered in sqrt\n",
      "  var = scalerY.inverse_transform(pred + 1.96*np.sqrt(var+likelihood*np.ones(var.shape)))\n"
     ]
    },
    {
     "name": "stdout",
     "output_type": "stream",
     "text": [
      "1 seconds remaining\r"
     ]
    },
    {
     "name": "stderr",
     "output_type": "stream",
     "text": [
      "/data/cl2217/dynamical_system_invariance_project/codes/invariance_functions.py:300: RuntimeWarning: invalid value encountered in sqrt\n",
      "  var = scalerY.inverse_transform(pred + 1.96*np.sqrt(var+likelihood*np.ones(var.shape)))\n"
     ]
    },
    {
     "name": "stdout",
     "output_type": "stream",
     "text": [
      "0.604014057518469\n",
      "26\n",
      "-57754.29591070061\n",
      "1.539502352827422ngg\n",
      "27\n",
      "-172683.19777885874\n",
      "1.2715533822332383gg\n",
      "28\n",
      "-71098.66276613866\n",
      "7.429873006968645ngg\n",
      "29\n",
      "-78041.89641704877\n",
      "3.4225232454404515gg\n",
      "30\n",
      "-75717.32035318363\n",
      "5.135803395333362ngg\n",
      "31\n",
      "-470280.6562186917\n",
      "65.99169584349711ngg\n",
      "32\n",
      "-146424.21612484357\n",
      "2.075315937370712ngg\n",
      "33\n",
      "-18538.857396452164\n",
      "1.3459572498432653gg\n",
      "34\n",
      "-7390.955811199465\n",
      "0.2561491306142617gg\n",
      "35\n",
      "-421166.3529500504\n",
      "10.935846902112319gg\n",
      "36\n",
      "-82317.60436472336\n",
      "0.5913396925024739gg\n",
      "37\n",
      "-348846.8673493327\n",
      "28.846390014040917gg\n",
      "38\n",
      "-26155.261174702107\n",
      "2.2006766541029124gg\n",
      "39\n",
      "-88172.90049204239\n",
      "0.05859405213134181g\n",
      "40\n",
      "-61602.554242599464\n",
      "44 seconds remaining\r"
     ]
    },
    {
     "name": "stderr",
     "output_type": "stream",
     "text": [
      "/data/cl2217/dynamical_system_invariance_project/codes/invariance_functions.py:300: RuntimeWarning: invalid value encountered in sqrt\n",
      "  var = scalerY.inverse_transform(pred + 1.96*np.sqrt(var+likelihood*np.ones(var.shape)))\n"
     ]
    },
    {
     "name": "stdout",
     "output_type": "stream",
     "text": [
      "44 seconds remaining\r"
     ]
    },
    {
     "name": "stderr",
     "output_type": "stream",
     "text": [
      "/data/cl2217/dynamical_system_invariance_project/codes/invariance_functions.py:300: RuntimeWarning: invalid value encountered in sqrt\n",
      "  var = scalerY.inverse_transform(pred + 1.96*np.sqrt(var+likelihood*np.ones(var.shape)))\n"
     ]
    },
    {
     "name": "stdout",
     "output_type": "stream",
     "text": [
      "43 seconds remaining\r"
     ]
    },
    {
     "name": "stderr",
     "output_type": "stream",
     "text": [
      "/data/cl2217/dynamical_system_invariance_project/codes/invariance_functions.py:300: RuntimeWarning: invalid value encountered in sqrt\n",
      "  var = scalerY.inverse_transform(pred + 1.96*np.sqrt(var+likelihood*np.ones(var.shape)))\n"
     ]
    },
    {
     "name": "stdout",
     "output_type": "stream",
     "text": [
      "42 seconds remaining\r"
     ]
    },
    {
     "name": "stderr",
     "output_type": "stream",
     "text": [
      "/data/cl2217/dynamical_system_invariance_project/codes/invariance_functions.py:300: RuntimeWarning: invalid value encountered in sqrt\n",
      "  var = scalerY.inverse_transform(pred + 1.96*np.sqrt(var+likelihood*np.ones(var.shape)))\n"
     ]
    },
    {
     "name": "stdout",
     "output_type": "stream",
     "text": [
      "42 seconds remaining\r"
     ]
    },
    {
     "name": "stderr",
     "output_type": "stream",
     "text": [
      "/data/cl2217/dynamical_system_invariance_project/codes/invariance_functions.py:300: RuntimeWarning: invalid value encountered in sqrt\n",
      "  var = scalerY.inverse_transform(pred + 1.96*np.sqrt(var+likelihood*np.ones(var.shape)))\n"
     ]
    },
    {
     "name": "stdout",
     "output_type": "stream",
     "text": [
      "41 seconds remaining\r"
     ]
    },
    {
     "name": "stderr",
     "output_type": "stream",
     "text": [
      "/data/cl2217/dynamical_system_invariance_project/codes/invariance_functions.py:300: RuntimeWarning: invalid value encountered in sqrt\n",
      "  var = scalerY.inverse_transform(pred + 1.96*np.sqrt(var+likelihood*np.ones(var.shape)))\n"
     ]
    },
    {
     "name": "stdout",
     "output_type": "stream",
     "text": [
      "41 seconds remaining\r"
     ]
    },
    {
     "name": "stderr",
     "output_type": "stream",
     "text": [
      "/data/cl2217/dynamical_system_invariance_project/codes/invariance_functions.py:300: RuntimeWarning: invalid value encountered in sqrt\n",
      "  var = scalerY.inverse_transform(pred + 1.96*np.sqrt(var+likelihood*np.ones(var.shape)))\n"
     ]
    },
    {
     "name": "stdout",
     "output_type": "stream",
     "text": [
      "40 seconds remaining\r"
     ]
    },
    {
     "name": "stderr",
     "output_type": "stream",
     "text": [
      "/data/cl2217/dynamical_system_invariance_project/codes/invariance_functions.py:300: RuntimeWarning: invalid value encountered in sqrt\n",
      "  var = scalerY.inverse_transform(pred + 1.96*np.sqrt(var+likelihood*np.ones(var.shape)))\n"
     ]
    },
    {
     "name": "stdout",
     "output_type": "stream",
     "text": [
      "39 seconds remaining\r"
     ]
    },
    {
     "name": "stderr",
     "output_type": "stream",
     "text": [
      "/data/cl2217/dynamical_system_invariance_project/codes/invariance_functions.py:300: RuntimeWarning: invalid value encountered in sqrt\n",
      "  var = scalerY.inverse_transform(pred + 1.96*np.sqrt(var+likelihood*np.ones(var.shape)))\n"
     ]
    },
    {
     "name": "stdout",
     "output_type": "stream",
     "text": [
      "39 seconds remaining\r"
     ]
    },
    {
     "name": "stderr",
     "output_type": "stream",
     "text": [
      "/data/cl2217/dynamical_system_invariance_project/codes/invariance_functions.py:300: RuntimeWarning: invalid value encountered in sqrt\n",
      "  var = scalerY.inverse_transform(pred + 1.96*np.sqrt(var+likelihood*np.ones(var.shape)))\n"
     ]
    },
    {
     "name": "stdout",
     "output_type": "stream",
     "text": [
      "38 seconds remaining\r"
     ]
    },
    {
     "name": "stderr",
     "output_type": "stream",
     "text": [
      "/data/cl2217/dynamical_system_invariance_project/codes/invariance_functions.py:300: RuntimeWarning: invalid value encountered in sqrt\n",
      "  var = scalerY.inverse_transform(pred + 1.96*np.sqrt(var+likelihood*np.ones(var.shape)))\n"
     ]
    },
    {
     "name": "stdout",
     "output_type": "stream",
     "text": [
      "38 seconds remaining\r"
     ]
    },
    {
     "name": "stderr",
     "output_type": "stream",
     "text": [
      "/data/cl2217/dynamical_system_invariance_project/codes/invariance_functions.py:300: RuntimeWarning: invalid value encountered in sqrt\n",
      "  var = scalerY.inverse_transform(pred + 1.96*np.sqrt(var+likelihood*np.ones(var.shape)))\n"
     ]
    },
    {
     "name": "stdout",
     "output_type": "stream",
     "text": [
      "0.8285158620016682gg\n",
      "41\n",
      "-90749.22686459242\n",
      "1.1679829204707093gg\n",
      "42\n",
      "-34160.487911900396\n",
      "0.455376240701179ngg\n",
      "43\n",
      "-70589.67594298339\n",
      "2.88869535932605ingg\n",
      "44\n",
      "-42071.56743614047\n",
      "0.3577857116653086gg\n",
      "45\n",
      "-330902.22930134577\n",
      "0.21567345878061694g\n",
      "46\n",
      "-96141.8108338222\n",
      "0.9085296106947305gg\n",
      "47\n",
      "-25877.827319189542\n",
      "2.321195615672436ngg\n",
      "48\n",
      "-128460.79874560791\n",
      "1.2769676041526659gg\n",
      "49\n",
      "-138190.29128545328\n",
      "8.391161612323817ngg\n",
      "1 seconds remainingg\r"
     ]
    }
   ],
   "source": [
    "n_neighbours = 20\n",
    "def energy(X):\n",
    "    return 0.5*(tf.square(X[:,0])+tf.square(X[:,1])+tf.square(X[:,2])+tf.square(X[:,3]))\n",
    "print(\"moi\")\n",
    "moi = get_GPR_model_2D(get_MOI_2D(), mean, data, 100)\n",
    "print(moi.log_marginal_likelihood().numpy())\n",
    "\n",
    "print(\"known\")\n",
    "kernel_known = get_SHM_local_invariance_2D(3, 6, 0, 1, n_neighbours, jitter) #switch\n",
    "known = get_GPR_model_2D(kernel_known, mean, data, iterations=1000)\n",
    "print(known.log_marginal_likelihood().numpy())\n",
    "\n",
    "\n",
    "kernel = get_polynomial_local_invariance_2D(3, 6, 0, 1, n_neighbours, jitter, polynomial_degree) \n",
    "model = get_GPR_model_2D(kernel, mean, data, iterations=1000, old_model=known, fixed=True)\n",
    "\n",
    "print(model.log_marginal_likelihood().numpy())\n",
    "\n",
    "\n",
    "polynomial_degree = 1\n",
    "print(\"learnt\")\n",
    "test_starting_position1 = np.random.uniform(-max_x, max_x)\n",
    "test_starting_position2 = np.random.uniform(-max_x, max_x)\n",
    "test_starting_velocity1 = np.random.uniform(-max_v, max_v)\n",
    "test_starting_velocity2 = np.random.uniform(-max_v, max_v)\n",
    "test_starting = (test_starting_position1, test_starting_position2, test_starting_velocity1, test_starting_velocity2)\n",
    "\n",
    "evaluate_moi = evaluate_model_future_2D(moi, test_starting, dynamics, time_setting, scalers, energy)\n",
    "print(evaluate_moi[0])\n",
    "evaluate_known = evaluate_model_future_2D(known, test_starting, dynamics, time_setting, scalers, energy)\n",
    "print(evaluate_known[0])\n",
    "evaluate_learnt = evaluate_model_future_2D(model, test_starting, dynamics, time_setting, scalers, energy)\n",
    "print(evaluate_learnt[0])\n",
    "\n",
    "\n",
    "grids_lml = []\n",
    "grids_eva = []\n",
    "for i in range(50):\n",
    "    print(i)\n",
    "    kernel_grid = get_polynomial_local_invariance_2D(3, 6, 0, 1, n_neighbours, jitter, polynomial_degree) \n",
    "    kernel_grid.poly = gpflow.Parameter(0.1*np.random.normal(size=kernel_grid.poly.shape), transform =tfp.bijectors.Sigmoid(to_default_float(-1.), to_default_float(1.)), trainable=False, prior=tfp.distributions.Laplace(to_default_float(0),(0.1)), name=\"poly\")\n",
    "    model_grid = get_GPR_model_2D(kernel_grid, mean, data, iterations=1000, old_model=known, fixed=True)\n",
    "    print(model_grid.log_marginal_likelihood().numpy())\n",
    "\n",
    "    evaluate_learnt_grid = evaluate_model_future_2D(model_grid, test_starting, dynamics, time_setting, scalers, energy)\n",
    "    print(evaluate_learnt_grid[0])\n",
    "    grids_eva.append(evaluate_learnt_grid[0])\n",
    "    grids_lml.append(model_grid.log_marginal_likelihood().numpy())\n",
    "\n",
    "kernel_free = get_polynomial_local_invariance_2D(3, 6, 0, 1, n_neighbours, jitter, polynomial_degree) \n",
    "model_free = get_GPR_model_2D(kernel_free, mean, data, iterations=1000, old_model=known)\n",
    "evaluate_learnt_free = evaluate_model_future_2D(model_free, test_starting, dynamics, time_setting, scalers, energy)"
   ]
  },
  {
   "cell_type": "code",
   "execution_count": 72,
   "metadata": {},
   "outputs": [
    {
     "data": {
      "image/png": "[encoded data removed]",
      "text/plain": [
       "<Figure size 432x288 with 1 Axes>"
      ]
     },
     "metadata": {
      "needs_background": "light"
     },
     "output_type": "display_data"
    }
   ],
   "source": [
    "plt.scatter(grids_lml, grids_eva, s=10, label=\"randomly initialised polynomial\")\n",
    "plt.scatter(model.log_marginal_likelihood().numpy(), evaluate_learnt[0],marker=\"X\",s=10, color=\"red\", label=\"theoretically initialised polynomial\", alpha=0.5)\n",
    "plt.scatter(model_free.log_marginal_likelihood().numpy(), evaluate_learnt_free[0], s=10, color=\"green\", label=\"optimised\", alpha=0.5)\n",
    "plt.xlabel(\"marginal likelihood\")\n",
    "plt.ylabel(\"MSE\")\n",
    "plt.legend()\n",
    "plt.savefig(\"figures/shm_2d_polynomial.pdf\")\n",
    "\n"
   ]
  },
  {
   "cell_type": "code",
   "execution_count": 73,
   "metadata": {},
   "outputs": [
    {
     "data": {
      "text/plain": [
       "(-0.6501918072827626, 3.218044477454351e-07)"
      ]
     },
     "execution_count": 73,
     "metadata": {},
     "output_type": "execute_result"
    }
   ],
   "source": [
    "from scipy.stats import pearsonr\n",
    "pearsonr(grids_lml, grids_eva)"
   ]
  }
 ],
 "metadata": {
  "kernelspec": {
   "display_name": "Python 3",
   "language": "python",
   "name": "python3"
  },
  "orig_nbformat": 4
 },
 "nbformat": 4,
 "nbformat_minor": 2
}
