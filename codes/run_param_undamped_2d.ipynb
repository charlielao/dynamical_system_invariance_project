{
 "cells": [
  {
   "cell_type": "code",
   "execution_count": 1,
   "metadata": {},
   "outputs": [],
   "source": [
    "\n",
    "import gpflow\n",
    "import numpy as np\n",
    "import tensorflow as tf\n",
    "import tensorflow_probability as tfp\n",
    "from scipy.integrate import solve_ivp, odeint\n",
    "from gpflow.utilities import print_summary, positive, to_default_float, set_trainable\n",
    "from invariance_kernels import *\n",
    "from invariance_functions import * \n",
    "from invariance_kernels_2d import *\n",
    "from sklearn.preprocessing import StandardScaler, MinMaxScaler\n",
    "import joblib\n",
    "import os\n",
    "import matplotlib.pyplot as plt\n",
    "os.environ[\"CUDA_VISIBLE_DEVICES\"] = '3'"
   ]
  },
  {
   "cell_type": "code",
   "execution_count": 12,
   "metadata": {},
   "outputs": [
    {
     "name": "stdout",
     "output_type": "stream",
     "text": [
      "[1.7864198  1.03954649 0.81111603]\n",
      "[-0.40124928  0.86759647  0.25922844]\n",
      "[-0.69573343  1.57913459  0.63245328]\n",
      "[ 0.39774547 -0.70667786  1.7852516 ]\n"
     ]
    }
   ],
   "source": [
    "\n",
    "mean = ZeroMean(4) \n",
    "\n",
    "time_step = 0.01\n",
    "training_time = 0.1\n",
    "testing_time = 1\n",
    "\n",
    "max_x = 2\n",
    "max_v = 2\n",
    "n_train = 3\n",
    "train_starting_position1 = np.random.uniform(-max_x, max_x, (n_train))\n",
    "train_starting_position2 = np.random.uniform(-max_x, max_x, (n_train))\n",
    "train_starting_velocity1 = np.random.uniform(-max_v, max_v, (n_train))\n",
    "train_starting_velocity2 = np.random.uniform(-max_v, max_v, (n_train))\n",
    "\n",
    "print(train_starting_position1)\n",
    "print(train_starting_position2)\n",
    "print(train_starting_velocity1)\n",
    "print(train_starting_velocity2)\n",
    "\n",
    "data2 = get_SHM_data_2D(time_step, training_time, 1e-8, train_starting_position1, train_starting_position2, train_starting_velocity1, train_starting_velocity2) #switch\n"
   ]
  },
  {
   "cell_type": "code",
   "execution_count": 3,
   "metadata": {},
   "outputs": [],
   "source": [
    "\n",
    "scalerX = StandardScaler(with_mean=False, with_std=False).fit(data2[0])\n",
    "scalerY = StandardScaler(with_mean=False, with_std=False).fit(data2[1])\n",
    "#scalerX = MinMaxScaler((-1,1)).fit(data2[0])\n",
    "#scalerY = MinMaxScaler((-1,1)).fit(data2[1])\n",
    "X = scalerX.transform(data2[0])\n",
    "Y = scalerY.transform(data2[1])\n",
    "data = (X, Y)\n",
    "scalers = (scalerX, scalerY)\n",
    "time_setting = (testing_time, time_step)\n",
    "dynamics = (SHM_dynamics1_2D, SHM_dynamics2_2D)\n",
    "jitter = 5e-4\n",
    "\n",
    "#joblib.dump(scalerX, 'shm_2d/scalerX.gz')\n",
    "#joblib.dump(scalerY, 'shm_2d/scalerY.gz')"
   ]
  },
  {
   "cell_type": "code",
   "execution_count": 8,
   "metadata": {},
   "outputs": [
    {
     "name": "stdout",
     "output_type": "stream",
     "text": [
      "moi\n",
      "430.6233222115418\n",
      "known\n",
      "478.92219374989975\n",
      "learnt\n",
      "475.65355124638904\n"
     ]
    }
   ],
   "source": [
    "\n",
    "print(\"moi\")\n",
    "moi = get_GPR_model_2D(get_MOI_2D(), mean, data, 100)\n",
    "print(moi.log_marginal_likelihood().numpy())\n",
    "#try:\n",
    "n_neighbours =  20\n",
    "print(\"known\")\n",
    "kernel_known = get_invariance_kernel_2D(SHMLocalInvariance2D, 3, 6, 0, 1, n_neighbours, jitter) #switch\n",
    "#kernel_known = get_SHM_invariance_2D(1, n_neighbours, jitter) #switch\n",
    "known = get_GPR_model_2D(kernel_known, mean, data, iterations=1000)\n",
    "print(known.log_marginal_likelihood().numpy())\n",
    "\n",
    "polynomial_degree = 1\n",
    "print(\"learnt\")\n",
    "#    X, Y = data\n",
    "kernel = get_paramertised_invariance_kernel_2D(PolynomialLocalInvariance2D, 3, 6, 0, 1, n_neighbours, jitter, polynomial_degree) \n",
    "#kernel = get_polynomial_invariance_2D(1, n_neighbours, jitter, polynomial_degree) \n",
    "model = get_GPR_model_2D(kernel, mean, data, iterations=1000, old_model=known)\n",
    "print(model.log_marginal_likelihood().numpy())\n",
    "#    model = get_GPR_model_2D(kernel, mean, data, iterations=10000, old_kernel=kernel_known)\n",
    "#    ckpt = tf.train.Checkpoint(model=model)\n",
    "#    manager = tf.train.CheckpointManager(ckpt, \"shm_2d\", max_to_keep=3)\n",
    "#    model = get_GPR_model_GD_2D(model=model, iterations=10000, lr=0.001, manager=manager)\n",
    "#    print(model.log_marginal_likelihood().numpy())\n",
    "#except tf.errors.InvalidArgumentError:\n",
    "#    print(\"jitter too small\")"
   ]
  },
  {
   "cell_type": "code",
   "execution_count": 5,
   "metadata": {},
   "outputs": [
    {
     "name": "stdout",
     "output_type": "stream",
     "text": [
      "0\n",
      "(0.5777656652212153, 1.1619728968424936, 1.0859763363861195, -1.4025365999024713)\n",
      "0.04588385631659517\n",
      "0.006215343826146946\n",
      "0.006253336028585821\n",
      "1\n",
      "(-0.8093774821962563, 1.4895003182541333, 1.3813572464138542, -0.45301867298032983)\n",
      "0.030225713462434096\n",
      "0.0010836732077024313\n",
      "0.0010890588940778779\n",
      "2\n",
      "(0.7678892593711133, -1.9543233418160284, 0.7404589113007813, -1.704483220353187)\n",
      "0.009633705101126428\n",
      "0.005077912612992518\n",
      "0.004892617288197817\n",
      "3\n",
      "(1.4845416971967138, 0.7895414558871763, 0.48298261895098227, -1.029119050632711)\n",
      "0.014643708895334341\n",
      "0.0021302512211915595\n",
      "0.002126033019621654\n",
      "4\n",
      "(0.20735845345546133, -1.0418497107784463, 1.4670483665801672, -0.34968326170669517)\n",
      "0.0043127131171276445\n",
      "0.004594008704047479\n",
      "0.004554383983392707\n",
      "5\n",
      "(-1.8485946869018335, 0.7599108080808485, -1.981633577949495, -0.14849736113686518)\n",
      "0.009677793354177395\n",
      "0.0019950283827501643\n",
      "0.0019640178707412887\n",
      "6\n",
      "(1.5220826135365662, 1.142734961025198, -0.9403651057368019, -0.9927136219724422)\n",
      "0.022592933505421273\n",
      "0.00217213058278479g\n",
      "0.002142178625547786\n",
      "7\n",
      "(-0.2894970423343022, 0.7245235424050094, -0.632245841436919, 0.9258326369576433)\n",
      "0.01562305254658866\n",
      "0.0038274752371227207\n",
      "0.0037444595979624733\n",
      "8\n",
      "(0.6189362016492872, -1.30141201971486, 1.6260422421040364, 0.45842431810888185)\n",
      "0.0053179281864848315\n",
      "0.006300081010692054\n",
      "0.0062810550180197435\n",
      "9\n",
      "(1.8648370199480344, 1.7867926855507208, -0.19162277764775393, 1.0194533203674014)\n",
      "0.11358206609341043\n",
      "0.0020277935261841474\n",
      "0.001983736402548515\n"
     ]
    }
   ],
   "source": [
    "\n",
    "eva_future_moi = []\n",
    "eva_future_known = []\n",
    "eva_future_learnt = []\n",
    "\n",
    "def energy(X):\n",
    "    return 0.5*(tf.square(X[:,0])+tf.square(X[:,1])+tf.square(X[:,2])+tf.square(X[:,3]))\n",
    "for i in range(10):\n",
    "    print(i)\n",
    "    test_starting_position1 = np.random.uniform(-max_x, max_x)\n",
    "    test_starting_position2 = np.random.uniform(-max_x, max_x)\n",
    "    test_starting_velocity1 = np.random.uniform(-max_v, max_v)\n",
    "    test_starting_velocity2 = np.random.uniform(-max_v, max_v)\n",
    "    test_starting = (test_starting_position1, test_starting_position2, test_starting_velocity1, test_starting_velocity2)\n",
    "    print(test_starting)\n",
    "    evaluate_moi = evaluate_model_future_2D(moi, test_starting, dynamics, time_setting, scalers, energy)\n",
    "    eva_future_moi.append(evaluate_moi[0])\n",
    "    print(evaluate_moi[0])\n",
    "    evaluate_known = evaluate_model_future_2D(known, test_starting, dynamics, time_setting, scalers, energy)\n",
    "    eva_future_known.append(evaluate_known[0])\n",
    "    print(evaluate_known[0])\n",
    "    evaluate_learnt = evaluate_model_future_2D(model, test_starting, dynamics, time_setting, scalers, energy)\n",
    "    eva_future_learnt.append(evaluate_learnt[0])\n",
    "    print(evaluate_learnt[0])"
   ]
  },
  {
   "cell_type": "code",
   "execution_count": 6,
   "metadata": {},
   "outputs": [
    {
     "name": "stdout",
     "output_type": "stream",
     "text": [
      "Log Marginal Likelihood & 430.62 & 478.70 & 475.42 &  \\\\\n",
      "MSE & 0.0271 & 0.0035 & 0.0035 \\\\\n"
     ]
    }
   ],
   "source": [
    "\n",
    "lml_moi = moi.log_marginal_likelihood().numpy()\n",
    "lml_inv = known.log_marginal_likelihood().numpy()\n",
    "lml_inv_p = model.log_marginal_likelihood().numpy()\n",
    "print(\"Log Marginal Likelihood & \" + format((lml_moi),\".2f\")+\" & \"+ format((lml_inv),\".2f\") + \" & \"+ format((lml_inv_p),\".2f\") + \" & \"+' \\\\\\\\')\n",
    "print(\"MSE & \"+ format((np.mean(eva_future_moi)),\".4f\")+\" & \"+format(np.mean(eva_future_known),\".4f\")+\" & \"+format((np.mean(eva_future_learnt)),\".4f\")+ ' \\\\\\\\')"
   ]
  },
  {
   "cell_type": "code",
   "execution_count": 8,
   "metadata": {},
   "outputs": [
    {
     "data": {
      "image/png": "[encoded data removed]",
      "text/plain": [
       "<Figure size 432x288 with 4 Axes>"
      ]
     },
     "metadata": {
      "needs_background": "light"
     },
     "output_type": "display_data"
    }
   ],
   "source": [
    "\n",
    "import matplotlib.pyplot as plt\n",
    "t = np.linspace(0, testing_time, int(testing_time/time_step))\n",
    "fig, axs = plt.subplots(2,2)\n",
    "axs[0][0].plot(t,evaluate_known[4][:,0],label=\"truth\", color=\"black\")\n",
    "axs[0][0].plot(t,evaluate_moi[1][:,0], \"--\", label=\"RBF\", color=\"red\")\n",
    "axs[0][0].plot(t,evaluate_known[1][:,0], \"--\", label=\"known\", color=\"blue\")\n",
    "axs[0][0].plot(t,evaluate_learnt[1][:,0], \"--\", label=\"learnt\", color=\"green\")\n",
    "axs[0][0].set_title(\"q_1\")\n",
    "axs[0][0].set_xlabel(\"t\")\n",
    "axs[0][0].legend()\n",
    "\n",
    "axs[0][1].plot(t,evaluate_known[4][:,1],label=\"truth\", color=\"black\")\n",
    "axs[0][1].plot(t,evaluate_moi[1][:,1], \"--\", label=\"RBF\", color=\"red\")\n",
    "axs[0][1].plot(t,evaluate_known[1][:,1], \"--\", label=\"known\", color=\"blue\")\n",
    "axs[0][1].plot(t,evaluate_learnt[1][:,1], \"--\", label=\"learnt\", color=\"green\")\n",
    "axs[0][1].set_title(\"q_2\")\n",
    "axs[1][1].set_xlabel(\"t\")\n",
    "axs[0][1].legend()\n",
    "\n",
    "axs[1][0].plot(t,evaluate_known[4][:,2],label=\"truth\", color=\"black\")\n",
    "axs[1][0].plot(t,evaluate_moi[1][:,2], \"--\", label=\"RBF\", color=\"red\")\n",
    "axs[1][0].plot(t,evaluate_known[1][:,2], \"--\", label=\"known\", color=\"blue\")\n",
    "axs[1][0].plot(t,evaluate_learnt[1][:,2], \"--\", label=\"learnt\", color=\"green\")\n",
    "axs[1][0].set_title(\"p_1\")\n",
    "axs[1][0].set_xlabel(\"t\")\n",
    "axs[1][0].legend()\n",
    "\n",
    "axs[1][1].plot(t,evaluate_known[4][:,3],label=\"truth\", color=\"black\")\n",
    "axs[1][1].plot(t,evaluate_moi[1][:,3], \"--\", label=\"RBF\", color=\"red\")\n",
    "axs[1][1].plot(t,evaluate_known[1][:,3], \"--\", label=\"known\", color=\"blue\")\n",
    "axs[1][1].plot(t,evaluate_learnt[1][:,3], \"--\", label=\"learnt\", color=\"green\")\n",
    "axs[1][1].set_title(\"p_2\")\n",
    "axs[0][1].set_xlabel(\"t\")\n",
    "axs[1][1].legend()\n",
    "\n",
    "plt.subplots_adjust(left=0.2,\n",
    "                    bottom=0.2, \n",
    "                    right=0.9, \n",
    "                    top=0.9, \n",
    "                    wspace=0.4, \n",
    "                    hspace=0.4)\n",
    "fig.tight_layout()\n",
    "plt.savefig(\"figures/shm_2d_predicted.pdf\")\n"
   ]
  },
  {
   "cell_type": "code",
   "execution_count": 9,
   "metadata": {},
   "outputs": [
    {
     "data": {
      "image/png": "[encoded data removed]",
      "text/plain": [
       "<Figure size 432x288 with 1 Axes>"
      ]
     },
     "metadata": {
      "needs_background": "light"
     },
     "output_type": "display_data"
    }
   ],
   "source": [
    "\n",
    "plt.plot(t, evaluate_learnt[5], \"--\",label=\"true\", color=\"black\")\n",
    "plt.plot(t, evaluate_moi[6], \"--\",label=\"RBF\", color=\"red\")\n",
    "plt.plot(t, evaluate_known[6], \"--\",label=\"known\", color=\"blue\")\n",
    "plt.plot(t, evaluate_learnt[6], \"--\",label=\"learnt\", color=\"green\")\n",
    "plt.legend()\n",
    "plt.xlabel(\"t\")\n",
    "plt.ylabel(\"E\")\n",
    "plt.savefig(\"figures/shm_2d_energy.pdf\")"
   ]
  },
  {
   "cell_type": "code",
   "execution_count": null,
   "metadata": {},
   "outputs": [],
   "source": [
    "n_neighbours = 20\n",
    "def energy(X):\n",
    "    return 0.5*(tf.square(X[:,0])+tf.square(X[:,1])+tf.square(X[:,2])+tf.square(X[:,3]))\n",
    "print(\"moi\")\n",
    "moi = get_GPR_model_2D(get_MOI_2D(), mean, data, 100)\n",
    "print(moi.log_marginal_likelihood().numpy())\n",
    "\n",
    "print(\"known\")\n",
    "kernel_known = get_invariance_kernel_2D(SHMLocalInvariance2D, 3, 6, 0, 1, n_neighbours, jitter)\n",
    "known = get_GPR_model_2D(kernel_known, mean, data, iterations=1000)\n",
    "print(known.log_marginal_likelihood().numpy())\n",
    "\n",
    "\n",
    "print(\"fixed\")\n",
    "kernel = get_paramertised_invariance_kernel_2D(PolynomialLocalInvariance2D, 3, 6, 0, 1, n_neighbours, jitter, polynomial_degree)\n",
    "model = get_GPR_model_2D(kernel, mean, data, iterations=1000, old_model=known, fixed=True)\n",
    "\n",
    "print(model.log_marginal_likelihood().numpy())\n",
    "\n",
    "print(\"free\")\n",
    "kernel_free = get_paramertised_invariance_kernel_2D(PolynomialLocalInvariance2D, 3, 6, 0, 1, n_neighbours, jitter, polynomial_degree)\n",
    "model_free = get_GPR_model_2D(kernel_free, mean, data, iterations=1000, old_model=known)\n",
    "print(model_free.log_marginal_likelihood().numpy())\n",
    "\n",
    "\n",
    "polynomial_degree = 1\n",
    "print(\"learnt\")\n",
    "test_starting_position1 = np.random.uniform(-max_x, max_x)\n",
    "test_starting_position2 = np.random.uniform(-max_x, max_x)\n",
    "test_starting_velocity1 = np.random.uniform(-max_v, max_v)\n",
    "test_starting_velocity2 = np.random.uniform(-max_v, max_v)\n",
    "test_starting = (test_starting_position1, test_starting_position2, test_starting_velocity1, test_starting_velocity2)\n",
    " \n",
    "\n",
    "evaluate_moi = evaluate_model_future_2D(moi, test_starting, dynamics, time_setting, scalers, energy)\n",
    "print(evaluate_moi[0])\n",
    "evaluate_known = evaluate_model_future_2D(known, test_starting, dynamics, time_setting, scalers, energy)\n",
    "print(evaluate_known[0])\n",
    "evaluate_learnt = evaluate_model_future_2D(model, test_starting, dynamics, time_setting, scalers, energy)\n",
    "print(evaluate_learnt[0])\n",
    "evaluate_learnt_free = evaluate_model_future_2D(model_free, test_starting, dynamics, time_setting, scalers, energy)\n",
    "print(evaluate_learnt_free[0])\n",
    "\n",
    "\n",
    "grids_lml = []\n",
    "grids_eva = []\n",
    "for i in range(50):\n",
    "    print(i)\n",
    "    kernel_grid = get_paramertised_invariance_kernel_2D(PolynomialLocalInvariance2D, 3, 6, 0, 1, n_neighbours, jitter, polynomial_degree)\n",
    "    kernel_grid.poly = gpflow.Parameter(0.1*np.random.normal(size=kernel_grid.poly.shape), transform =tfp.bijectors.Sigmoid(to_default_float(-1.), to_default_float(1.)), trainable=False, prior=tfp.distributions.Laplace(to_default_float(0),(0.1)), name=\"poly\")\n",
    "    model_grid = get_GPR_model_2D(kernel_grid, mean, data, iterations=1000, old_model=known, fixed=True)\n",
    "    print(model_grid.log_marginal_likelihood().numpy())\n",
    "\n",
    "    evaluate_learnt_grid = evaluate_model_future_2D(model_grid, test_starting, dynamics, time_setting, scalers, energy)\n",
    "    print(evaluate_learnt_grid[0])\n",
    "    grids_eva.append(evaluate_learnt_grid[0])\n",
    "    grids_lml.append(model_grid.log_marginal_likelihood().numpy())\n",
    "    if i>=2:\n",
    "        print(pearsonr(grids_lml, grids_eva))\n",
    "        print(spearmanr(grids_lml, grids_eva))\n"
   ]
  },
  {
   "cell_type": "code",
   "execution_count": 33,
   "metadata": {},
   "outputs": [
    {
     "data": {
      "image/png": "[encoded data removed]",
      "text/plain": [
       "<Figure size 432x288 with 1 Axes>"
      ]
     },
     "metadata": {
      "needs_background": "light"
     },
     "output_type": "display_data"
    }
   ],
   "source": [
    "plt.scatter(grids_lml, grids_eva, s=10, label=\"randomly initialised polynomial\")\n",
    "plt.scatter(model.log_marginal_likelihood().numpy(), evaluate_learnt[0],marker=\"X\",s=10, color=\"red\", label=\"theoretically initialised polynomial\", alpha=0.5)\n",
    "plt.scatter(model_free.log_marginal_likelihood().numpy(), evaluate_learnt_free[0], s=10, color=\"green\", label=\"optimised\", alpha=0.5)\n",
    "#plt.scatter(known.log_marginal_likelihood().numpy(), evaluate_learnt_free[0], s=10, color=\"orange\", label=\"known\", alpha=0.5)\n",
    "#plt.scatter(moi.log_marginal_likelihood().numpy(),evaluate_moi[0], s=10, color=\"purple\", label=\"RBF\")\n",
    "plt.plot()\n",
    "plt.xlabel(\"marginal likelihood\")\n",
    "plt.ylabel(\"MSE\")\n",
    "plt.legend()\n",
    "plt.savefig(\"figures/shm_2d_polynomial.pdf\")\n",
    "\n"
   ]
  },
  {
   "cell_type": "code",
   "execution_count": 34,
   "metadata": {},
   "outputs": [
    {
     "name": "stdout",
     "output_type": "stream",
     "text": [
      "(-0.4274269959284613, 0.001961790846245755)\n",
      "SpearmanrResult(correlation=-0.3210084033613445, pvalue=0.02302712281614547)\n"
     ]
    }
   ],
   "source": [
    "from scipy.stats import pearsonr, spearmanr\n",
    "print(pearsonr(grids_lml, grids_eva))\n",
    "print(spearmanr(grids_lml, grids_eva))"
   ]
  }
 ],
 "metadata": {
  "kernelspec": {
   "display_name": "Python 3",
   "language": "python",
   "name": "python3"
  },
  "language_info": {
   "codemirror_mode": {
    "name": "ipython",
    "version": 3
   },
   "file_extension": ".py",
   "mimetype": "text/x-python",
   "name": "python",
   "nbconvert_exporter": "python",
   "pygments_lexer": "ipython3",
   "version": "3.8.10"
  },
  "orig_nbformat": 4
 },
 "nbformat": 4,
 "nbformat_minor": 2
}
