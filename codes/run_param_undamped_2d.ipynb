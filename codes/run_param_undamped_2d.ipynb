{
 "cells": [
  {
   "cell_type": "code",
   "execution_count": 1,
   "metadata": {},
   "outputs": [
    {
     "name": "stdout",
     "output_type": "stream",
     "text": [
      "[-0.28609509  0.80026525]\n",
      "[3.36808146 2.96985946]\n",
      "[-0.94313299  0.5561462 ]\n",
      "[ 0.45402811 -0.20331693]\n"
     ]
    }
   ],
   "source": [
    "import gpflow\n",
    "import numpy as np\n",
    "import tensorflow as tf\n",
    "import tensorflow_probability as tfp\n",
    "from scipy.integrate import solve_ivp, odeint\n",
    "from gpflow.utilities import print_summary, positive, to_default_float, set_trainable\n",
    "from invariance_kernels import ZeroMean , get_MOI, get_MOI_2D, get_SHM_invariance_2D \n",
    "from invariance_functions import degree_of_freedom, get_GPR_model_2D, get_SHM_data_2D, get_double_pendulum_data, evaluate_model_future_2D, get_GPR_model_sparse_2D, evaluate_model_grid_2D, SHM_dynamics1_2D, SHM_dynamics2_2D\n",
    "from local_invariance_kernels import  get_polynomial_local_invariance_2D, get_SHM_local_invariance_2D, get_double_pendulum_local_invariance\n",
    "import os\n",
    "os.environ[\"CUDA_VISIBLE_DEVICES\"] = '2'\n",
    "mean = ZeroMean(4) \n",
    "\n",
    "time_step = 0.01\n",
    "training_time = 0.1\n",
    "testing_time = 1\n",
    "\n",
    "max_x = 5\n",
    "n_train = 2\n",
    "train_starting_position1 = np.random.uniform(-max_x, max_x, (n_train))\n",
    "train_starting_position2 = np.random.uniform(-max_x, max_x, (n_train))\n",
    "train_starting_velocity1 = np.random.uniform(-max_x/5, max_x/5, (n_train))\n",
    "train_starting_velocity2 = np.random.uniform(-max_x/5, max_x/5, (n_train))\n",
    "\n",
    "print(train_starting_position1)\n",
    "print(train_starting_position2)\n",
    "print(train_starting_velocity1)\n",
    "print(train_starting_velocity2)\n",
    "\n",
    "data = get_SHM_data_2D(time_step, training_time, 1e-8, train_starting_position1, train_starting_position2, train_starting_velocity1, train_starting_velocity2) #switch"
   ]
  },
  {
   "cell_type": "code",
   "execution_count": 5,
   "metadata": {},
   "outputs": [
    {
     "name": "stdout",
     "output_type": "stream",
     "text": [
      "3.9607483074063836\n",
      "-2.13339425070614\n",
      "-0.016653093672912123\n",
      "0.5398957635542101\n",
      "moi\n",
      "MOI: 275\n",
      "2.0066722355882067\n",
      "known\n",
      "Known: 296\n",
      "0.9671546982266137\n",
      "known local\n",
      "known_local: 293\n",
      "1.0100620669484368\n",
      "polynomial local\n",
      "80   63758 895  3308  3807\r"
     ]
    },
    {
     "ename": "KeyboardInterrupt",
     "evalue": "",
     "output_type": "error",
     "traceback": [
      "\u001b[0;31m---------------------------------------------------------------------------\u001b[0m",
      "\u001b[0;31mKeyboardInterrupt\u001b[0m                         Traceback (most recent call last)",
      "\u001b[0;32m<ipython-input-5-6d595dfdd2bf>\u001b[0m in \u001b[0;36m<module>\u001b[0;34m\u001b[0m\n\u001b[1;32m     33\u001b[0m     \u001b[0mkernel\u001b[0m \u001b[0;34m=\u001b[0m \u001b[0mget_polynomial_local_invariance_2D\u001b[0m\u001b[0;34m(\u001b[0m\u001b[0;36m1\u001b[0m\u001b[0;34m,\u001b[0m \u001b[0;36m6\u001b[0m\u001b[0;34m,\u001b[0m \u001b[0mn_neighbours\u001b[0m\u001b[0;34m,\u001b[0m \u001b[0mjitter\u001b[0m\u001b[0;34m,\u001b[0m \u001b[0;34m[\u001b[0m\u001b[0mpolynomial_degree\u001b[0m\u001b[0;34m,\u001b[0m\u001b[0mpolynomial_degree\u001b[0m\u001b[0;34m,\u001b[0m\u001b[0mpolynomial_degree\u001b[0m\u001b[0;34m,\u001b[0m\u001b[0mpolynomial_degree\u001b[0m\u001b[0;34m]\u001b[0m\u001b[0;34m)\u001b[0m \u001b[0;31m#switch\u001b[0m\u001b[0;34m\u001b[0m\u001b[0;34m\u001b[0m\u001b[0m\n\u001b[1;32m     34\u001b[0m \u001b[0;31m#    kernel = get_polynomial_invariance_2D(3, 6, jitter, [polynomial_degree,polynomial_degree,polynomial_degree,polynomial_degree]) #switch\u001b[0m\u001b[0;34m\u001b[0m\u001b[0;34m\u001b[0m\u001b[0;34m\u001b[0m\u001b[0m\n\u001b[0;32m---> 35\u001b[0;31m     \u001b[0mm\u001b[0m\u001b[0;34m,\u001b[0m \u001b[0mbest\u001b[0m \u001b[0;34m=\u001b[0m \u001b[0mget_GPR_model_sparse_2D\u001b[0m\u001b[0;34m(\u001b[0m\u001b[0mkernel\u001b[0m\u001b[0;34m,\u001b[0m \u001b[0mmean\u001b[0m\u001b[0;34m,\u001b[0m \u001b[0mdata\u001b[0m\u001b[0;34m,\u001b[0m \u001b[0;34m\"adam\"\u001b[0m\u001b[0;34m,\u001b[0m \u001b[0miterations\u001b[0m\u001b[0;34m=\u001b[0m\u001b[0;36m20000\u001b[0m\u001b[0;34m,\u001b[0m \u001b[0mlr\u001b[0m\u001b[0;34m=\u001b[0m\u001b[0;36m0.001\u001b[0m\u001b[0;34m,\u001b[0m \u001b[0mreg\u001b[0m\u001b[0;34m=\u001b[0m\u001b[0;36m0\u001b[0m\u001b[0;34m,\u001b[0m \u001b[0mdrop_rate\u001b[0m\u001b[0;34m=\u001b[0m\u001b[0;36m0\u001b[0m\u001b[0;34m)\u001b[0m\u001b[0;34m\u001b[0m\u001b[0;34m\u001b[0m\u001b[0m\n\u001b[0m\u001b[1;32m     36\u001b[0m     \u001b[0mevaluate_invariance\u001b[0m \u001b[0;34m=\u001b[0m \u001b[0mevaluate_model_future_2D\u001b[0m\u001b[0;34m(\u001b[0m\u001b[0mm\u001b[0m\u001b[0;34m,\u001b[0m \u001b[0mtest_starting_position1\u001b[0m\u001b[0;34m,\u001b[0m\u001b[0mtest_starting_position2\u001b[0m\u001b[0;34m,\u001b[0m \u001b[0mtest_starting_velocity1\u001b[0m\u001b[0;34m,\u001b[0m \u001b[0mtest_starting_velocity2\u001b[0m\u001b[0;34m,\u001b[0m \u001b[0mSHM_dynamics1_2D\u001b[0m\u001b[0;34m,\u001b[0m \u001b[0mSHM_dynamics2_2D\u001b[0m\u001b[0;34m,\u001b[0m \u001b[0mtesting_time\u001b[0m \u001b[0;34m,\u001b[0m \u001b[0mtime_step\u001b[0m\u001b[0;34m)\u001b[0m\u001b[0;34m\u001b[0m\u001b[0;34m\u001b[0m\u001b[0m\n\u001b[1;32m     37\u001b[0m     \u001b[0mprint\u001b[0m\u001b[0;34m(\u001b[0m\u001b[0mkernel\u001b[0m\u001b[0;34m.\u001b[0m\u001b[0mf1_poly\u001b[0m\u001b[0;34m)\u001b[0m\u001b[0;34m\u001b[0m\u001b[0;34m\u001b[0m\u001b[0m\n",
      "\u001b[0;32m/data/cl2217/dynamical_system_invariance_project/codes/invariance_functions.py\u001b[0m in \u001b[0;36mget_GPR_model_sparse_2D\u001b[0;34m(kernel, mean_function, data, optimiser, iterations, lr, reg, drop_rate)\u001b[0m\n\u001b[1;32m    184\u001b[0m         \u001b[0;32mfor\u001b[0m \u001b[0mj\u001b[0m \u001b[0;32min\u001b[0m \u001b[0mrange\u001b[0m\u001b[0;34m(\u001b[0m\u001b[0miterations\u001b[0m\u001b[0;34m)\u001b[0m\u001b[0;34m:\u001b[0m\u001b[0;34m\u001b[0m\u001b[0;34m\u001b[0m\u001b[0m\n\u001b[1;32m    185\u001b[0m             \u001b[0moptimization_step\u001b[0m\u001b[0;34m(\u001b[0m\u001b[0;34m)\u001b[0m\u001b[0;34m\u001b[0m\u001b[0;34m\u001b[0m\u001b[0m\n\u001b[0;32m--> 186\u001b[0;31m             \u001b[0mlml\u001b[0m \u001b[0;34m=\u001b[0m \u001b[0mm\u001b[0m\u001b[0;34m.\u001b[0m\u001b[0mlog_marginal_likelihood\u001b[0m\u001b[0;34m(\u001b[0m\u001b[0;34m)\u001b[0m\u001b[0;34m.\u001b[0m\u001b[0mnumpy\u001b[0m\u001b[0;34m(\u001b[0m\u001b[0;34m)\u001b[0m\u001b[0;34m\u001b[0m\u001b[0;34m\u001b[0m\u001b[0m\n\u001b[0m\u001b[1;32m    187\u001b[0m             \u001b[0;32mif\u001b[0m \u001b[0mlml\u001b[0m \u001b[0;34m>\u001b[0m \u001b[0mbest\u001b[0m\u001b[0;34m:\u001b[0m\u001b[0;34m\u001b[0m\u001b[0;34m\u001b[0m\u001b[0m\n\u001b[1;32m    188\u001b[0m                 \u001b[0;32mif\u001b[0m \u001b[0mlml\u001b[0m\u001b[0;34m-\u001b[0m\u001b[0mbest\u001b[0m\u001b[0;34m<\u001b[0m\u001b[0;36m1e-8\u001b[0m\u001b[0;34m:\u001b[0m\u001b[0;34m\u001b[0m\u001b[0;34m\u001b[0m\u001b[0m\n",
      "\u001b[0;32m/usr/local/lib/python3.8/dist-packages/gpflow/models/gpr.py\u001b[0m in \u001b[0;36mlog_marginal_likelihood\u001b[0;34m(self)\u001b[0m\n\u001b[1;32m     85\u001b[0m         \"\"\"\n\u001b[1;32m     86\u001b[0m         \u001b[0mX\u001b[0m\u001b[0;34m,\u001b[0m \u001b[0mY\u001b[0m \u001b[0;34m=\u001b[0m \u001b[0mself\u001b[0m\u001b[0;34m.\u001b[0m\u001b[0mdata\u001b[0m\u001b[0;34m\u001b[0m\u001b[0;34m\u001b[0m\u001b[0m\n\u001b[0;32m---> 87\u001b[0;31m         \u001b[0mK\u001b[0m \u001b[0;34m=\u001b[0m \u001b[0mself\u001b[0m\u001b[0;34m.\u001b[0m\u001b[0mkernel\u001b[0m\u001b[0;34m(\u001b[0m\u001b[0mX\u001b[0m\u001b[0;34m)\u001b[0m\u001b[0;34m\u001b[0m\u001b[0;34m\u001b[0m\u001b[0m\n\u001b[0m\u001b[1;32m     88\u001b[0m         \u001b[0mks\u001b[0m \u001b[0;34m=\u001b[0m \u001b[0mself\u001b[0m\u001b[0;34m.\u001b[0m\u001b[0m_add_noise_cov\u001b[0m\u001b[0;34m(\u001b[0m\u001b[0mK\u001b[0m\u001b[0;34m)\u001b[0m\u001b[0;34m\u001b[0m\u001b[0;34m\u001b[0m\u001b[0m\n\u001b[1;32m     89\u001b[0m         \u001b[0mL\u001b[0m \u001b[0;34m=\u001b[0m \u001b[0mtf\u001b[0m\u001b[0;34m.\u001b[0m\u001b[0mlinalg\u001b[0m\u001b[0;34m.\u001b[0m\u001b[0mcholesky\u001b[0m\u001b[0;34m(\u001b[0m\u001b[0mks\u001b[0m\u001b[0;34m)\u001b[0m\u001b[0;34m\u001b[0m\u001b[0;34m\u001b[0m\u001b[0m\n",
      "\u001b[0;32m/usr/local/lib/python3.8/dist-packages/gpflow/kernels/base.py\u001b[0m in \u001b[0;36m__call__\u001b[0;34m(self, X, X2, full_cov, presliced)\u001b[0m\n\u001b[1;32m    187\u001b[0m \u001b[0;34m\u001b[0m\u001b[0m\n\u001b[1;32m    188\u001b[0m         \u001b[0;32melse\u001b[0m\u001b[0;34m:\u001b[0m\u001b[0;34m\u001b[0m\u001b[0;34m\u001b[0m\u001b[0m\n\u001b[0;32m--> 189\u001b[0;31m             \u001b[0;32mreturn\u001b[0m \u001b[0mself\u001b[0m\u001b[0;34m.\u001b[0m\u001b[0mK\u001b[0m\u001b[0;34m(\u001b[0m\u001b[0mX\u001b[0m\u001b[0;34m,\u001b[0m \u001b[0mX2\u001b[0m\u001b[0;34m)\u001b[0m\u001b[0;34m\u001b[0m\u001b[0;34m\u001b[0m\u001b[0m\n\u001b[0m\u001b[1;32m    190\u001b[0m \u001b[0;34m\u001b[0m\u001b[0m\n\u001b[1;32m    191\u001b[0m     \u001b[0;32mdef\u001b[0m \u001b[0m__add__\u001b[0m\u001b[0;34m(\u001b[0m\u001b[0mself\u001b[0m\u001b[0;34m,\u001b[0m \u001b[0mother\u001b[0m\u001b[0;34m:\u001b[0m \u001b[0;34m\"Kernel\"\u001b[0m\u001b[0;34m)\u001b[0m \u001b[0;34m->\u001b[0m \u001b[0;34m\"Kernel\"\u001b[0m\u001b[0;34m:\u001b[0m\u001b[0;34m\u001b[0m\u001b[0;34m\u001b[0m\u001b[0m\n",
      "\u001b[0;32m/data/cl2217/dynamical_system_invariance_project/codes/local_invariance_kernels.py\u001b[0m in \u001b[0;36mK\u001b[0;34m(self, X, X2)\u001b[0m\n\u001b[1;32m    458\u001b[0m         \u001b[0mD\u001b[0m \u001b[0;34m+=\u001b[0m \u001b[0mself\u001b[0m\u001b[0;34m.\u001b[0m\u001b[0mjitter\u001b[0m\u001b[0;34m*\u001b[0m\u001b[0mtf\u001b[0m\u001b[0;34m.\u001b[0m\u001b[0meye\u001b[0m\u001b[0;34m(\u001b[0m\u001b[0mD\u001b[0m\u001b[0;34m.\u001b[0m\u001b[0mshape\u001b[0m\u001b[0;34m[\u001b[0m\u001b[0;36m0\u001b[0m\u001b[0;34m]\u001b[0m\u001b[0;34m,\u001b[0m \u001b[0mdtype\u001b[0m\u001b[0;34m=\u001b[0m\u001b[0mtf\u001b[0m\u001b[0;34m.\u001b[0m\u001b[0mfloat64\u001b[0m\u001b[0;34m)\u001b[0m\u001b[0;34m\u001b[0m\u001b[0;34m\u001b[0m\u001b[0m\n\u001b[1;32m    459\u001b[0m \u001b[0;34m\u001b[0m\u001b[0m\n\u001b[0;32m--> 460\u001b[0;31m         \u001b[0;32mreturn\u001b[0m \u001b[0;34m(\u001b[0m\u001b[0mA\u001b[0m\u001b[0;34m-\u001b[0m\u001b[0mtf\u001b[0m\u001b[0;34m.\u001b[0m\u001b[0mtensordot\u001b[0m\u001b[0;34m(\u001b[0m\u001b[0mtf\u001b[0m\u001b[0;34m.\u001b[0m\u001b[0mtensordot\u001b[0m\u001b[0;34m(\u001b[0m\u001b[0mB\u001b[0m\u001b[0;34m,\u001b[0m \u001b[0mtf\u001b[0m\u001b[0;34m.\u001b[0m\u001b[0mlinalg\u001b[0m\u001b[0;34m.\u001b[0m\u001b[0minv\u001b[0m\u001b[0;34m(\u001b[0m\u001b[0mD\u001b[0m\u001b[0;34m)\u001b[0m\u001b[0;34m,\u001b[0m \u001b[0;36m1\u001b[0m\u001b[0;34m)\u001b[0m\u001b[0;34m,\u001b[0m \u001b[0mC\u001b[0m\u001b[0;34m,\u001b[0m \u001b[0;36m1\u001b[0m\u001b[0;34m)\u001b[0m\u001b[0;34m)\u001b[0m\u001b[0;34m[\u001b[0m\u001b[0;34m:\u001b[0m\u001b[0;36m4\u001b[0m\u001b[0;34m*\u001b[0m\u001b[0mn\u001b[0m\u001b[0;34m,\u001b[0m \u001b[0;36m4\u001b[0m\u001b[0;34m*\u001b[0m\u001b[0mn\u001b[0m\u001b[0;34m:\u001b[0m\u001b[0;34m]\u001b[0m\u001b[0;34m\u001b[0m\u001b[0;34m\u001b[0m\u001b[0m\n\u001b[0m\u001b[1;32m    461\u001b[0m \u001b[0;34m\u001b[0m\u001b[0m\n\u001b[1;32m    462\u001b[0m     \u001b[0;32mdef\u001b[0m \u001b[0mK_diag\u001b[0m\u001b[0;34m(\u001b[0m\u001b[0mself\u001b[0m\u001b[0;34m,\u001b[0m \u001b[0mX\u001b[0m\u001b[0;34m)\u001b[0m\u001b[0;34m:\u001b[0m\u001b[0;34m\u001b[0m\u001b[0;34m\u001b[0m\u001b[0m\n",
      "\u001b[0;32m/usr/local/lib/python3.8/dist-packages/tensorflow/python/ops/gen_linalg_ops.py\u001b[0m in \u001b[0;36mmatrix_inverse\u001b[0;34m(input, adjoint, name)\u001b[0m\n\u001b[1;32m   1500\u001b[0m   \u001b[0;32mif\u001b[0m \u001b[0mtld\u001b[0m\u001b[0;34m.\u001b[0m\u001b[0mis_eager\u001b[0m\u001b[0;34m:\u001b[0m\u001b[0;34m\u001b[0m\u001b[0;34m\u001b[0m\u001b[0m\n\u001b[1;32m   1501\u001b[0m     \u001b[0;32mtry\u001b[0m\u001b[0;34m:\u001b[0m\u001b[0;34m\u001b[0m\u001b[0;34m\u001b[0m\u001b[0m\n\u001b[0;32m-> 1502\u001b[0;31m       _result = pywrap_tfe.TFE_Py_FastPathExecute(\n\u001b[0m\u001b[1;32m   1503\u001b[0m         _ctx, \"MatrixInverse\", name, input, \"adjoint\", adjoint)\n\u001b[1;32m   1504\u001b[0m       \u001b[0;32mreturn\u001b[0m \u001b[0m_result\u001b[0m\u001b[0;34m\u001b[0m\u001b[0;34m\u001b[0m\u001b[0m\n",
      "\u001b[0;31mKeyboardInterrupt\u001b[0m: "
     ]
    }
   ],
   "source": [
    "test_starting_position1 = np.random.uniform(-max_x, max_x)\n",
    "test_starting_position2 = np.random.uniform(-max_x, max_x)\n",
    "test_starting_velocity1 = np.random.uniform(-max_x/5, max_x/5)\n",
    "test_starting_velocity2 = np.random.uniform(-max_x/5, max_x/5)\n",
    "\n",
    "print(test_starting_position1)\n",
    "print(test_starting_position2)\n",
    "print(test_starting_velocity1)\n",
    "print(test_starting_velocity2)\n",
    "\n",
    "jitter = 1e-5\n",
    "n_neighbours = 40\n",
    "print(\"moi\")\n",
    "moi = get_GPR_model_2D(get_MOI_2D(), mean, data, \"scipy\", 1000, 0.1)\n",
    "evaluate_moi = evaluate_model_future_2D(moi, test_starting_position1, test_starting_position2, test_starting_velocity1, test_starting_velocity2, SHM_dynamics1_2D, SHM_dynamics2_2D, testing_time, time_step)\n",
    "print(\"MOI: %s\"%round(moi.log_marginal_likelihood().numpy()))\n",
    "print(evaluate_moi[0])\n",
    "try:\n",
    "    print(\"known\")\n",
    "    kernel = get_SHM_invariance_2D(5, 6, jitter) #switch\n",
    "    known = get_GPR_model_2D(kernel, mean, data, \"scipy\", iterations=1000, lr=0.1)\n",
    "    evaluate_known = evaluate_model_future_2D(known, test_starting_position1, test_starting_position2, test_starting_velocity1, test_starting_velocity2, SHM_dynamics1_2D, SHM_dynamics2_2D, testing_time, time_step)\n",
    "    print(\"Known: %s\"%round(known.log_marginal_likelihood().numpy()))\n",
    "    print(evaluate_known[0])\n",
    "    print(\"known local\")\n",
    "    kernel_local = get_SHM_local_invariance_2D(1, 6, n_neighbours, jitter) #switch\n",
    "    known_local = get_GPR_model_2D(kernel_local, mean, data, \"scipy\", iterations=1000, lr=0.1)\n",
    "    evaluate_known_local = evaluate_model_future_2D(known_local, test_starting_position1, test_starting_position2, test_starting_velocity1, test_starting_velocity2, SHM_dynamics1_2D, SHM_dynamics2_2D, testing_time, time_step)\n",
    "    print(\"known_local: %s\"%round(known_local.log_marginal_likelihood().numpy()))\n",
    "    print(evaluate_known_local[0])\n",
    "    polynomial_degree = 1\n",
    "    print(\"polynomial local\")\n",
    "    kernel = get_polynomial_local_invariance_2D(1, 6, n_neighbours, jitter, [polynomial_degree,polynomial_degree,polynomial_degree,polynomial_degree]) #switch\n",
    "#    kernel = get_polynomial_invariance_2D(3, 6, jitter, [polynomial_degree,polynomial_degree,polynomial_degree,polynomial_degree]) #switch\n",
    "    m, best = get_GPR_model_sparse_2D(kernel, mean, data, \"adam\", iterations=20000, lr=0.001, reg=0, drop_rate=0)\n",
    "    evaluate_invariance = evaluate_model_future_2D(m, test_starting_position1,test_starting_position2, test_starting_velocity1, test_starting_velocity2, SHM_dynamics1_2D, SHM_dynamics2_2D, testing_time , time_step)\n",
    "    print(kernel.f1_poly)\n",
    "    print(kernel.f2_poly)\n",
    "    print(kernel.g1_poly)\n",
    "    print(kernel.g2_poly)\n",
    "    print(\"Learnt: %s\"%round(m.log_marginal_likelihood().numpy()))\n",
    "    print(evaluate_invariance[0])\n",
    "    '''\n",
    "    print(\"MOI: %s\"%round(moi.log_marginal_likelihood().numpy()))\n",
    "    print(evaluate_moi[0])\n",
    "    print(\"Known: %s\"%round(known.log_marginal_likelihood().numpy()))\n",
    "    print(evaluate_known[0])\n",
    "    '''\n",
    "except tf.errors.InvalidArgumentError:\n",
    "    print(\"jitter too small\")"
   ]
  },
  {
   "cell_type": "code",
   "execution_count": null,
   "metadata": {},
   "outputs": [],
   "source": [
    "\n",
    "import matplotlib.pyplot as plt\n",
    "t = np.linspace(0, testing_time, int(testing_time/time_step))[1:-1]\n",
    "fig, axs = plt.subplots(4)\n",
    "axs[0].plot(t,evaluate_moi[2][:,0])\n",
    "axs[0].fill_between(t,evaluate_moi[2][:,0]+1.96*np.sqrt(evaluate_moi[3][:,0]+moi.likelihood.variance.numpy()),evaluate_moi[2][:,0]-1.96*np.sqrt(evaluate_moi[3][:,0]+moi.likelihood.variance.numpy()), color=\"grey\")\n",
    "axs[0].plot(t, test_data[0][:,0],'--')\n",
    "axs[1].plot(t,evaluate_moi[2][:,1])\n",
    "axs[1].fill_between(t,evaluate_moi[2][:,1]+1.96*np.sqrt(evaluate_moi[3][:,1]+moi.likelihood.variance.numpy()),evaluate_moi[2][:,1]-1.96*np.sqrt(evaluate_moi[3][:,1]+moi.likelihood.variance.numpy()), color=\"grey\")\n",
    "axs[1].plot(t, test_data[0][:,1],'--')\n",
    "axs[2].plot(t,evaluate_moi[2][:,2])\n",
    "axs[2].fill_between(t,evaluate_moi[2][:,2]+1.96*np.sqrt(evaluate_moi[3][:,2]+moi.likelihood.variance.numpy()),evaluate_moi[2][:,2]-1.96*np.sqrt(evaluate_moi[3][:,2]+moi.likelihood.variance.numpy()), color=\"grey\")\n",
    "axs[2].plot(t, test_data[0][:,2],'--')\n",
    "axs[3].plot(t,evaluate_moi[2][:,3])\n",
    "axs[3].fill_between(t,evaluate_moi[2][:,3]+1.96*np.sqrt(evaluate_moi[3][:,3]+moi.likelihood.variance.numpy()),evaluate_moi[2][:,3]-1.96*np.sqrt(evaluate_moi[3][:,3]+moi.likelihood.variance.numpy()), color=\"grey\")\n",
    "axs[3].plot(t, test_data[0][:,3],'--')"
   ]
  },
  {
   "cell_type": "code",
   "execution_count": null,
   "metadata": {},
   "outputs": [],
   "source": [
    "\n",
    "fig, axs = plt.subplots(4)\n",
    "axs[0].plot(t,evaluate_invariance[2][:,0])\n",
    "axs[0].fill_between(t,evaluate_invariance[2][:,0]+1.96*np.sqrt(evaluate_invariance[3][:,0]+m.likelihood.variance.numpy()),evaluate_invariance[2][:,0]-1.96*np.sqrt(evaluate_invariance[3][:,0]+m.likelihood.variance.numpy()), color=\"grey\")\n",
    "axs[0].plot(t, test_data[0][:,0],'--')\n",
    "axs[1].plot(t,evaluate_invariance[2][:,1])\n",
    "axs[1].fill_between(t,evaluate_invariance[2][:,1]+1.96*np.sqrt(evaluate_invariance[3][:,1]+m.likelihood.variance.numpy()),evaluate_invariance[2][:,1]-1.96*np.sqrt(evaluate_invariance[3][:,1]+m.likelihood.variance.numpy()), color=\"grey\")\n",
    "axs[1].plot(t, test_data[0][:,1],'--')\n",
    "axs[2].plot(t,evaluate_invariance[2][:,2])\n",
    "axs[2].fill_between(t,evaluate_invariance[2][:,2]+1.96*np.sqrt(evaluate_invariance[3][:,2]+m.likelihood.variance.numpy()),evaluate_invariance[2][:,2]-1.96*np.sqrt(evaluate_invariance[3][:,2]+m.likelihood.variance.numpy()), color=\"grey\")\n",
    "axs[2].plot(t, test_data[0][:,2],'--')\n",
    "axs[3].plot(t,evaluate_invariance[2][:,3])\n",
    "axs[3].fill_between(t,evaluate_invariance[2][:,3]+1.96*np.sqrt(evaluate_invariance[3][:,3]+m.likelihood.variance.numpy()),evaluate_invariance[2][:,3]-1.96*np.sqrt(evaluate_invariance[3][:,3]+m.likelihood.variance.numpy()), color=\"grey\")\n",
    "axs[3].plot(t, test_data[0][:,3],'--')"
   ]
  },
  {
   "cell_type": "code",
   "execution_count": null,
   "metadata": {},
   "outputs": [],
   "source": []
  },
  {
   "cell_type": "code",
   "execution_count": null,
   "metadata": {},
   "outputs": [],
   "source": []
  }
 ],
 "metadata": {
  "kernelspec": {
   "display_name": "Python 3",
   "language": "python",
   "name": "python3"
  },
  "language_info": {
   "codemirror_mode": {
    "name": "ipython",
    "version": 3
   },
   "file_extension": ".py",
   "mimetype": "text/x-python",
   "name": "python",
   "nbconvert_exporter": "python",
   "pygments_lexer": "ipython3",
   "version": "3.8.10"
  },
  "orig_nbformat": 4
 },
 "nbformat": 4,
 "nbformat_minor": 2
}
