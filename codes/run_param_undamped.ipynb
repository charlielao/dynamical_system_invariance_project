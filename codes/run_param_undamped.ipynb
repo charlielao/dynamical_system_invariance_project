{
 "cells": [
  {
   "cell_type": "code",
   "execution_count": 32,
   "metadata": {},
   "outputs": [],
   "source": [
    "import gpflow\n",
    "import numpy as np\n",
    "import tensorflow as tf\n",
    "import tensorflow_probability as tfp\n",
    "from scipy.integrate import solve_ivp, odeint\n",
    "from gpflow.utilities import print_summary, positive, to_default_float, set_trainable\n",
    "from invariance_kernels import ZeroMean, get_MOI, get_SHM_invariance, get_pendulum_invariance\n",
    "from invariance_functions import degree_of_freedom, get_GPR_model, get_SHM_data, get_pendulum_data, get_grid_of_points_1D, evaluate_model_future, evaluate_model_grid, SHM_dynamics, pendulum_dynamics\n",
    "from parameterised_invariance_kernels import get_polynomial_invariance\n",
    "import os\n",
    "os.environ[\"CUDA_VISIBLE_DEVICES\"] = '3'"
   ]
  },
  {
   "cell_type": "code",
   "execution_count": 33,
   "metadata": {},
   "outputs": [
    {
     "name": "stdout",
     "output_type": "stream",
     "text": [
      "[ 55.20189407  -6.33850643 -91.1270633 ]\n",
      "[-21.86125985  -2.61757021 -22.38320763]\n"
     ]
    }
   ],
   "source": [
    "mean = ZeroMean(2)\n",
    "time_step = 0.01\n",
    "training_time = 0.1\n",
    "testing_time =  1\n",
    "\n",
    "max_x = 150  \n",
    "n_train = 3 \n",
    "train_starting_position = np.random.uniform(-max_x, max_x, (n_train))\n",
    "train_starting_velocity = np.random.uniform(-max_x/5, max_x/5, (n_train))\n",
    "\n",
    "print(train_starting_position)\n",
    "print(train_starting_velocity)\n",
    "data = get_pendulum_data(time_step, training_time, 1e-8, train_starting_position, train_starting_velocity) #switch"
   ]
  },
  {
   "cell_type": "code",
   "execution_count": 35,
   "metadata": {},
   "outputs": [
    {
     "name": "stdout",
     "output_type": "stream",
     "text": [
      "moi: 229.1479184490782\n",
      "known: 262.467468766\n",
      "(1, 1)----------------------\n",
      "[[-4.91149565e-10]]\n",
      "[[-5.89833071e-10]]\n",
      "228.14\n",
      "(1, 2)----------------------\n",
      "[[-0.0001896]]\n",
      "[[8.59454730e-11]\n",
      " [2.11834564e-04]]\n",
      "229.21\n",
      "(1, 3)----------------------\n",
      "[[-0.00028102]]\n",
      "[[3.22974980e-11]\n",
      " [3.11900034e-04]\n",
      " [3.21462513e-05]]\n",
      "219.89\n",
      "(1, 4)----------------------\n",
      "[[-0.00071437]]\n",
      "[[-4.84895483e-08]\n",
      " [ 1.04556027e-03]\n",
      " [ 2.02122641e-04]\n",
      " [ 1.87388219e-04]]\n",
      "227.58\n",
      "(1, 5)----------------------\n",
      "[[-0.00071446]]\n",
      "[[ 1.18152155e-11]\n",
      " [ 1.69673162e-03]\n",
      " [-1.08532609e-04]\n",
      " [-6.72034411e-04]\n",
      " [-9.36510500e-05]]\n",
      "216.83\n",
      "(2, 1)----------------------\n",
      "[[-9.85367331e-07]\n",
      " [ 1.14122045e-11]]\n",
      "[[0.0023649]]\n",
      "-49.79\n",
      "(2, 2)----------------------\n",
      "[[ 1.08986112e-05]\n",
      " [-2.95719005e-12]]\n",
      "[[-2.29244828e-03]\n",
      " [ 1.78611792e-05]]\n",
      "-49.79\n",
      "(2, 3)----------------------\n",
      "[[-1.02796325e-03]\n",
      " [-2.84657671e-07]]\n",
      "[[ 3.30471574e-05]\n",
      " [-5.19584376e-13]\n",
      " [ 4.20733338e-03]]\n",
      "-49.49\n",
      "(2, 4)----------------------\n",
      "[[ 1.]\n",
      " [-1.]]\n",
      "[[1.]\n",
      " [1.]\n",
      " [1.]\n",
      " [1.]]\n",
      "-34636.86\n",
      "(2, 5)----------------------\n",
      "[[-1.01842756e-03]\n",
      " [-6.99714184e-08]]\n",
      "[[ 1.34173725e-06]\n",
      " [-4.71984141e-06]\n",
      " [ 1.55274254e-03]\n",
      " [-4.17443857e-13]\n",
      " [ 2.01352645e-03]]\n",
      "-49.50\n",
      "(3, 1)----------------------\n",
      "[[-8.85628465e-08]\n",
      " [ 5.62216940e-13]\n",
      " [-8.39738796e-08]]\n",
      "[[-0.00035498]]\n",
      "227.91\n",
      "(3, 2)----------------------\n",
      "[[-8.76963258e-07]\n",
      " [ 5.65717196e-05]\n",
      " [-9.52820045e-11]]\n",
      "[[ 0.00243623]\n",
      " [-0.00010353]]\n",
      "-49.76\n",
      "(3, 3)----------------------\n",
      "[[-9.88211283e-05]\n",
      " [ 1.66923155e-02]\n",
      " [ 2.96678745e-03]]\n",
      "[[-0.00029936]\n",
      " [ 0.01218518]\n",
      " [ 0.00166944]]\n",
      "248.00\n",
      "(3, 4)----------------------\n",
      "[[-6.76592938e-05]\n",
      " [ 1.82386494e-02]\n",
      " [ 2.38573266e-03]]\n",
      "[[-0.0002399 ]\n",
      " [ 0.01452667]\n",
      " [ 0.00135906]\n",
      " [-0.0006662 ]]\n",
      "249.30\n",
      "6\r"
     ]
    }
   ],
   "source": [
    "jitter = 5e-6\n",
    "invar_density = 20\n",
    "moi = get_GPR_model(get_MOI(), mean, data, 500)\n",
    "print(\"moi: %s\"%moi.log_marginal_likelihood().numpy())\n",
    "kernel = get_pendulum_invariance(3, invar_density, jitter) #switch\n",
    "known = get_GPR_model(kernel, mean, data, 500)\n",
    "print(\"known: %s\"%known.log_marginal_likelihood().numpy())\n",
    "latex = \"\"\n",
    "try:\n",
    "    for poly_f_d in [1, 2, 3, 4, 5]:\n",
    "        for poly_g_d in [1, 2, 3, 4, 5]:\n",
    "            kernel = get_polynomial_invariance(3, invar_density, jitter, poly_f_d, poly_g_d) #switch\n",
    "            m = get_GPR_model(kernel, mean, data, 500)\n",
    "            print(\"(%s, %s)----------------------\"%(poly_f_d, poly_g_d))\n",
    "            print(kernel.f_poly.numpy())\n",
    "            print(kernel.g_poly.numpy())\n",
    "            print(format(m.log_marginal_likelihood().numpy(),\".2f\"))\n",
    "            latex+=format(m.log_marginal_likelihood().numpy(),\".2f\")\n",
    "            latex+=\"&\"\n",
    "except tf.errors.InvalidArgumentError:\n",
    "    print(\"jitter too small\")"
   ]
  },
  {
   "cell_type": "code",
   "execution_count": 8,
   "metadata": {},
   "outputs": [
    {
     "data": {
      "text/plain": [
       "'140.61&140.83&139.45&140.99&-34.20&156.16&150.16&-58.81&136.18&-34.33&149.97&-34.29&140.84&nan&-34.17&-34.12&'"
      ]
     },
     "execution_count": 8,
     "metadata": {},
     "output_type": "execute_result"
    }
   ],
   "source": [
    "latex"
   ]
  },
  {
   "cell_type": "code",
   "execution_count": 16,
   "metadata": {},
   "outputs": [
    {
     "name": "stdout",
     "output_type": "stream",
     "text": [
      "-0.21693996312783081\n",
      "0.4189533173771779\n"
     ]
    }
   ],
   "source": [
    "lml_moi = []\n",
    "lml_inv = []\n",
    "lml_inv_p = []\n",
    "eva_future_moi = []\n",
    "eva_future_inv = []\n",
    "eva_future_inv_p = []\n",
    "eva_grid_moi = []\n",
    "eva_grid_inv = []\n",
    "eva_grid_inv_p = []\n",
    "for i in range(1):\n",
    "    test_starting_position = (np.random.uniform(-max_x,max_x))\n",
    "    test_starting_velocity = (np.random.uniform(-max_x/5, max_x/5))\n",
    "\n",
    "    print(test_starting_position)\n",
    "    print(test_starting_velocity)\n",
    "\n",
    "    evaluate_moi = evaluate_model_future(moi, test_starting_position, test_starting_velocity, SHM_dynamics, testing_time, time_step)\n",
    "    lml_moi.append(moi.log_marginal_likelihood().numpy())\n",
    "    eva_future_moi.append(evaluate_moi[0])\n",
    "    eva_grid_moi.append(evaluate_model_grid(moi, (3), 40, SHM_dynamics))\n",
    "\n",
    "    evaluate_invariance = evaluate_model_future(known, test_starting_position, test_starting_velocity, SHM_dynamics, testing_time, time_step)\n",
    "    lml_inv.append(known.log_marginal_likelihood().numpy())\n",
    "    eva_future_inv.append(evaluate_invariance[0])\n",
    "    eva_grid_inv.append(evaluate_model_grid(known, (3), 40, SHM_dynamics))\n",
    "\n",
    "    evaluate_invariance_p = evaluate_model_future(m, test_starting_position, test_starting_velocity, SHM_dynamics, testing_time, time_step)\n",
    "    lml_inv_p.append(m.log_marginal_likelihood().numpy())\n",
    "    eva_future_inv_p.append(evaluate_invariance_p[0])\n",
    "    eva_grid_inv_p.append(evaluate_model_grid(m, (3), 40, SHM_dynamics))"
   ]
  },
  {
   "cell_type": "code",
   "execution_count": 12,
   "metadata": {},
   "outputs": [
    {
     "name": "stdout",
     "output_type": "stream",
     "text": [
      "Baseline RBF & 141.16 & 0.1581 & 0.8303 \\\\\n",
      "Invariance Kernel & 168.44 & 0.0052 & 0.0417 \\\\\n",
      "Parameterised Kernel & 155.91 & 0.0303 & 0.3750 \\\\\n"
     ]
    }
   ],
   "source": [
    "\n",
    "print(\"Baseline RBF & \" + format(np.mean(lml_moi),\".2f\")+\" & \"+format(np.mean(eva_future_moi),\".4f\")+\" & \"+format(np.mean(eva_grid_moi),\".4f\")+' \\\\\\\\')\n",
    "print(\"Invariance Kernel & \"+ format(np.mean(lml_inv),\".2f\")+\" & \"+format(np.mean(eva_future_inv),\".4f\")+\" & \"+format(np.mean(eva_grid_inv),\".4f\")+ ' \\\\\\\\')\n",
    "print(\"Parameterised Kernel & \"+ format(np.mean(lml_inv_p),\".2f\")+\" & \"+format(np.mean(eva_future_inv_p),\".4f\")+\" & \"+format(np.mean(eva_grid_inv_p),\".4f\")+ ' \\\\\\\\')"
   ]
  },
  {
   "cell_type": "code",
   "execution_count": 17,
   "metadata": {},
   "outputs": [
    {
     "data": {
      "image/png": "[encoded data removed]",
      "text/plain": [
       "<Figure size 432x288 with 1 Axes>"
      ]
     },
     "metadata": {
      "needs_background": "light"
     },
     "output_type": "display_data"
    }
   ],
   "source": [
    "import matplotlib.pyplot as plt\n",
    "fig, ax = plt.subplots()\n",
    "plt.plot(evaluate_moi[4][:,0],evaluate_moi[4][:,1], label=\"ground truth\", color=\"black\", linewidth=2)\n",
    "plt.plot(evaluate_moi[1][:,0],evaluate_moi[1][:,1], \"--\", label='RBF', color=\"red\")\n",
    "plt.plot(evaluate_invariance[1][:,0],evaluate_invariance[1][:,1], \"--\", label=\"known invariance\", color=\"blue\")\n",
    "plt.plot(evaluate_invariance_p[1][:,0],evaluate_invariance_p[1][:,1], \"--\", label=\"learnt invariance\", color=\"green\")\n",
    "plt.scatter(evaluate_moi[4][0,0],evaluate_moi[4][0,1],color=\"red\")\n",
    "plt.xlabel(\"q\")\n",
    "plt.ylabel(\"p\")\n",
    "plt.legend()\n",
    "plt.savefig(\"figures/parameterised_shm_predicted_trajectory.pdf\")"
   ]
  },
  {
   "cell_type": "code",
   "execution_count": 20,
   "metadata": {},
   "outputs": [
    {
     "data": {
      "text/plain": [
       "array([[-5.68691139e-09],\n",
       "       [-1.78635194e-02]])"
      ]
     },
     "execution_count": 20,
     "metadata": {},
     "output_type": "execute_result"
    }
   ],
   "source": [
    "m.kernel.f_poly.numpy()"
   ]
  },
  {
   "cell_type": "code",
   "execution_count": 28,
   "metadata": {},
   "outputs": [
    {
     "data": {
      "image/png": "[encoded data removed]",
      "text/plain": [
       "<Figure size 432x288 with 2 Axes>"
      ]
     },
     "metadata": {
      "needs_background": "light"
     },
     "output_type": "display_data"
    }
   ],
   "source": [
    "from numpy.polynomial import polynomial\n",
    "x = np.linspace(-5,5,100)\n",
    "multiplier = -m.kernel.f_poly.numpy()[1]\n",
    "f = polynomial.Polynomial(np.squeeze(kernel.f_poly.numpy()))\n",
    "g = polynomial.Polynomial(np.squeeze(kernel.g_poly.numpy()))\n",
    "\n",
    "fig, (ax1, ax2) = plt.subplots(1, 2)\n",
    "ax1.plot(x, f(x)/multiplier, \"--\", color=\"blue\", label='learnt invariance')\n",
    "ax1.plot(x, -x, label='ground truth', color=\"black\")\n",
    "ax1.set_title(\"f(p)\")\n",
    "ax1.legend()\n",
    "ax2.set_title(\"g(q)\")\n",
    "ax2.plot(x, g(x)/multiplier, \"--\", color=\"blue\",label='learnt invariance')\n",
    "ax2.plot(x, -x, color=\"black\", label='ground truth')\n",
    "ax2.legend()\n",
    "plt.savefig(\"figures/parameterised_shm_learnt_polynomial.pdf\")\n"
   ]
  }
 ],
 "metadata": {
  "kernelspec": {
   "display_name": "Python 3",
   "language": "python",
   "name": "python3"
  },
  "language_info": {
   "codemirror_mode": {
    "name": "ipython",
    "version": 3
   },
   "file_extension": ".py",
   "mimetype": "text/x-python",
   "name": "python",
   "nbconvert_exporter": "python",
   "pygments_lexer": "ipython3",
   "version": "3.8.10"
  },
  "orig_nbformat": 4
 },
 "nbformat": 4,
 "nbformat_minor": 2
}
