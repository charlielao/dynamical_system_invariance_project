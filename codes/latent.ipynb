{
 "cells": [
  {
   "cell_type": "code",
   "execution_count": 1,
   "metadata": {},
   "outputs": [],
   "source": [
    "\n",
    "import gpflow\n",
    "import numpy as np\n",
    "import tensorflow as tf\n",
    "import tensorflow_probability as tfp\n",
    "from scipy.integrate import solve_ivp, odeint\n",
    "from gpflow.utilities import print_summary, positive, to_default_float, set_trainable\n",
    "from invariance_kernels import ZeroMean, get_MOI, get_pendulum_invariance, get_SHM_invariance, get_damped_pendulum_invariance, get_damped_SHM_invariance\n",
    "from invariance_functions import degree_of_freedom, get_GPR_model, get_SHM_data, get_pendulum_data, get_damped_pendulum_data, get_damped_SHM_data, get_grid_of_points_1D, evaluate_model_future, evaluate_model_grid, SHM_dynamics, pendulum_dynamics, damped_SHM_dynamics, damped_pendulum_dynamics\n",
    "from parameterised_invariance_kernels import get_polynomial_invariance, get_damped_polynomial_invariance\n",
    "from damped_invariance_kernel import SHMEpsilonMean, PendulumEpsilonMean, PolynomialEpsilonMean\n",
    "import os\n",
    "os.environ[\"CUDA_VISIBLE_DEVICES\"] = '5'"
   ]
  },
  {
   "cell_type": "code",
   "execution_count": 2,
   "metadata": {},
   "outputs": [],
   "source": [
    "\n",
    "class SHMLatentInvariance(gpflow.kernels.Kernel):\n",
    "    def __init__(self, invariance_range, invar_density, jitter_size):\n",
    "        super().__init__(active_dims=[0, 1])\n",
    "        self.Ka = gpflow.kernels.RBF(variance=1, lengthscales=[1,1]) \n",
    "        self.Kv = gpflow.kernels.RBF(variance=1, lengthscales=[1,1]) \n",
    "        self.Kz = gpflow.kernels.RBF(variance=1, lengthscales=[1,1]) \n",
    "        self.jitter = jitter_size\n",
    "        invariance_xs = tf.linspace(-invariance_range,invariance_range,invar_density)\n",
    "        invariance_vs = tf.linspace(-invariance_range,invariance_range,invar_density)\n",
    "        invariance_xx, invariance_vv = tf.meshgrid(invariance_xs, invariance_vs)\n",
    "        self.invar_grids = tf.stack([tf.reshape(invariance_xx,[-1]), tf.reshape(invariance_vv,[-1])], axis=1)\n",
    "        self.x_g_squared = tf.tensordot(self.invar_grids[:,0,None],self.invar_grids[None,:,0],1)\n",
    "        self.x_g_dot_squared = tf.tensordot(self.invar_grids[:,1,None],self.invar_grids[None,:,1],1)\n",
    "\n",
    "    def K(self, X, X2=None):\n",
    "        if X2 is None:\n",
    "            X2 = X\n",
    "        n = X.shape[0]\n",
    "        m = X2.shape[0]\n",
    "\n",
    "        zeros_nn =tf.zeros((n,n), dtype=tf.float64)\n",
    "        zeros_nm =tf.zeros((n,m), dtype=tf.float64)\n",
    "        zeros_mm =tf.zeros((m,m), dtype=tf.float64)\n",
    "        \n",
    "        Ka_X1X1  = self.Ka(X) \n",
    "        Kv_X1X1  = self.Kv(X) \n",
    "        Kz_X1X1  = self.Kz(X) \n",
    "        K_X1X1   = tf.concat([tf.concat([Ka_X1X1,zeros_nn, zeros_nn],1),tf.concat([zeros_nn,Kv_X1X1,zeros_nn],1),tf.concat([zeros_nn,zeros_nn, Kz_X1X1],1)],0)\n",
    "\n",
    "        Ka_X1X2  = self.Ka(X, X2) \n",
    "        Kv_X1X2  = self.Kv(X, X2) \n",
    "        Kz_X1X2  = self.Kz(X, X2) \n",
    "        K_X1X2   = tf.concat([tf.concat([Ka_X1X2,zeros_nm, zeros_nm],1),tf.concat([zeros_nm, Kv_X1X2, zeros_nm],1),tf.concat([zeros_nm, zeros_nm, Kz_X1X2],1)],0)\n",
    "        \n",
    "        K_X2X1   = tf.transpose(K_X1X2)\n",
    "        \n",
    "        Ka_X2X2  = self.Ka(X2) \n",
    "        Kv_X2X2  = self.Kv(X2) \n",
    "        Kz_X2X2  = self.Kz(X2) \n",
    "        K_X2X2   = tf.concat([tf.concat([Ka_X2X2,zeros_mm, zeros_mm],1),tf.concat([zeros_mm,Kv_X2X2, zeros_mm],1),tf.concat([zeros_mm, zeros_mm, Kz_X2X2],1)],0)\n",
    "        \n",
    "        Ka_X1Xg  = self.Ka(X, self.invar_grids) \n",
    "        Kv_X1Xg  = self.Kv(X, self.invar_grids) \n",
    "        Kz_X1Xg  = self.Kz(X, self.invar_grids) \n",
    "        K_X1Xg = tf.concat([Ka_X1Xg, Kv_X1Xg, Kz_X1Xg],0)\n",
    "\n",
    "        Ka_X2Xg =  self.Ka(X2, self.invar_grids) \n",
    "        Kv_X2Xg =  self.Kv(X2, self.invar_grids)\n",
    "        Kz_X2Xg  = self.Kz(X2, self.invar_grids) \n",
    "        K_X2Xg = tf.concat([Ka_X2Xg, Kv_X2Xg, Kz_X2Xg],0)\n",
    "\n",
    "        Ka_XgXg = self.Ka(self.invar_grids) \n",
    "        Kv_XgXg = self.Kv(self.invar_grids) \n",
    "        Kz_XgXg = self.Kz(self.invar_grids) \n",
    "        \n",
    "        x_g_1 = tf.ones([n, 1], dtype=tf.float64) * self.invar_grids[:,0]\n",
    "        x_g_dot_1 = tf.ones([n, 1], dtype=tf.float64) * self.invar_grids[:,1]\n",
    "        z_g_1 = tf.ones([n, x_g_1.shape[1]], dtype=tf.float64) \n",
    "        x_g_1_stacked = tf.concat([x_g_dot_1, x_g_1, z_g_1],0)\n",
    "        \n",
    "        x_g_2 = tf.ones([m, 1], dtype=tf.float64) * self.invar_grids[:,0]\n",
    "        x_g_dot_2 = tf.ones([m, 1], dtype=tf.float64) * self.invar_grids[:,1]\n",
    "        z_g_2 = tf.ones([m, x_g_2.shape[1]], dtype=tf.float64) \n",
    "        x_g_2_stacked = tf.concat([x_g_dot_2, x_g_2, z_g_2],0)\n",
    "        \n",
    "        A = tf.concat([tf.concat([K_X1X1, K_X1X2],1),tf.concat([K_X2X1, K_X2X2],1)],0) \n",
    "        B1 = tf.multiply(K_X1Xg, x_g_1_stacked)\n",
    "        B2 = tf.multiply(K_X2Xg, x_g_2_stacked)\n",
    "        B = tf.concat([B1, B2], 0)\n",
    "        C = tf.transpose(B)\n",
    "        D = tf.multiply(self.x_g_dot_squared, Ka_XgXg) + tf.multiply(self.x_g_squared, Kv_XgXg) + Kz_XgXg \n",
    "        D += self.jitter*tf.eye(D.shape[0], dtype=tf.float64)\n",
    "        return (A-tf.tensordot(tf.tensordot(B, tf.linalg.inv(D), 1), C, 1))[:2*n, 3*n:(3*n+2*m)]\n",
    "\n",
    "    def K_diag(self, X):\n",
    "        n = X.shape[0]\n",
    "        zeros_nn =tf.zeros((n,n), dtype=tf.float64)\n",
    "        \n",
    "        Ka_X  = self.Ka(X) \n",
    "        Kv_X  = self.Kv(X) \n",
    "        Kz_X  = self.Kz(X)\n",
    "        K_X   = tf.concat([tf.concat([Ka_X,zeros_nn, zeros_nn],1),tf.concat([zeros_nn,Kv_X, zeros_nn],1),tf.concat([zeros_nn, zeros_nn, Kz_X],1)],0)\n",
    "        \n",
    "        Ka_Xg  = self.Ka(X, self.invar_grids) \n",
    "        Kv_Xg  = self.Kv(X, self.invar_grids) \n",
    "        Kz_Xg  = self.Kz(X, self.invar_grids) \n",
    "        K_Xg = tf.concat([Ka_Xg, Kv_Xg, Kz_Xg],0)\n",
    "\n",
    "        Ka_XgXg = self.Ka(self.invar_grids) \n",
    "        Kv_XgXg = self.Kv(self.invar_grids) \n",
    "        Kz_XgXg = self.Kz(self.invar_grids) \n",
    "        \n",
    "        x_g = tf.ones([n, 1], dtype=tf.float64) * self.invar_grids[:,0]\n",
    "        x_g_dot = tf.ones([n, 1], dtype=tf.float64) * self.invar_grids[:,1]\n",
    "        z_g = tf.ones([n, x_g.shape[1]],dtype=tf.float64)\n",
    "        x_g_stacked = tf.concat([x_g_dot, x_g, z_g],0)\n",
    "        \n",
    "        A = K_X\n",
    "        B = tf.multiply(K_Xg, x_g_stacked)\n",
    "        C = tf.transpose(B)\n",
    "        D = tf.multiply(self.x_g_dot_squared, Ka_XgXg) + tf.multiply(self.x_g_squared, Kv_XgXg) + Kz_XgXg\n",
    "        D += self.jitter*tf.eye(D.shape[0], dtype=tf.float64)\n",
    "        \n",
    "        return tf.linalg.tensor_diag_part((A-tf.tensordot(tf.tensordot(B, tf.linalg.inv(D),1), C, 1))[:2*n,:2*n])"
   ]
  },
  {
   "cell_type": "code",
   "execution_count": 17,
   "metadata": {},
   "outputs": [],
   "source": [
    "\n",
    "def get_latent_SHM_invariance(invar_range, invar_density, jitter_size):\n",
    "    invariance_kernel = SHMLatentInvariance(invar_range, invar_density, jitter_size)\n",
    "    invariance_kernel.Ka.variance = gpflow.Parameter(invariance_kernel.Ka.variance.numpy(), transform=tfp.bijectors.Sigmoid(to_default_float(1e-3), to_default_float(10.))) \n",
    "    invariance_kernel.Kv.variance = gpflow.Parameter(invariance_kernel.Kv.variance.numpy(), transform=tfp.bijectors.Sigmoid(to_default_float(1e-3), to_default_float(10.))) \n",
    "    invariance_kernel.Kz.variance = gpflow.Parameter(invariance_kernel.Kz.variance.numpy(), transform=tfp.bijectors.Sigmoid(to_default_float(1e-3), to_default_float(10.))) \n",
    "    invariance_kernel.Ka.lengthscales = gpflow.Parameter(invariance_kernel.Ka.lengthscales.numpy(), transform=tfp.bijectors.Sigmoid(to_default_float(1e-3), to_default_float(10.))) \n",
    "    invariance_kernel.Kv.lengthscales = gpflow.Parameter(invariance_kernel.Kv.lengthscales.numpy(), transform=tfp.bijectors.Sigmoid(to_default_float(1e-3), to_default_float(10.))) \n",
    "    invariance_kernel.Kz.lengthscales = gpflow.Parameter(invariance_kernel.Kz.lengthscales.numpy(), transform=tfp.bijectors.Sigmoid(to_default_float(1e-3), to_default_float(10.))) \n",
    "    return invariance_kernel"
   ]
  },
  {
   "cell_type": "code",
   "execution_count": 36,
   "metadata": {},
   "outputs": [
    {
     "name": "stdout",
     "output_type": "stream",
     "text": [
      "[1.20276684 1.31078    1.22441323 0.69517751 2.0960932 ]\n",
      "[ 0.07476317 -0.05513731  0.18571546 -0.11293368 -0.07262478]\n"
     ]
    }
   ],
   "source": [
    "mean = ZeroMean(2)\n",
    "time_step = 0.01\n",
    "training_time = 0.1\n",
    "testing_time = 3\n",
    "\n",
    "max_x = 3\n",
    "max_v = 0.3\n",
    "n_train = 5\n",
    "train_starting_position = np.random.uniform(-max_x, max_x, (n_train))\n",
    "train_starting_velocity = np.random.uniform(-max_v, max_v, (n_train))\n",
    "\n",
    "print(train_starting_position)\n",
    "print(train_starting_velocity)\n",
    "data = get_damped_SHM_data(0.1, time_step, training_time, 1e-8, train_starting_position, train_starting_velocity) #switch"
   ]
  },
  {
   "cell_type": "code",
   "execution_count": 37,
   "metadata": {},
   "outputs": [
    {
     "name": "stdout",
     "output_type": "stream",
     "text": [
      "moi:417.46\n",
      "known: 434.00\n"
     ]
    },
    {
     "data": {
      "text/plain": [
       "'\\nfor poly_f_d in [2]:\\n    for poly_g_d in [2]:\\n        kernel = get_damped_polynomial_invariance(3, invar_density, jitter, poly_f_d, poly_g_d) #switch\\n        m = get_GPR_model(kernel, mean, data, 3000)\\n        print(\"(%s, %s)----------------------\"%(poly_f_d-1, poly_g_d-1))\\n        np.set_printoptions(precision=4)\\n#            print(kernel.f_poly.numpy())\\n#            print(kernel.g_poly.numpy())\\n        print(format(m.log_marginal_likelihood().numpy(),\".2f\"))\\n        latex+=format(m.log_marginal_likelihood().numpy(),\".2f\")\\n        i+=1\\n        if i%9==0:\\n            latex+=\\'\\\\\\'\\n        else:\\n            latex+=\"&\"\\n'"
      ]
     },
     "execution_count": 37,
     "metadata": {},
     "output_type": "execute_result"
    }
   ],
   "source": [
    "\n",
    "moi = get_GPR_model(get_MOI(), mean, data, 500)\n",
    "print(\"moi:\"+format(moi.log_marginal_likelihood().numpy(),\".2f\"))\n",
    "jitter = 5e-5\n",
    "invar_density = 40\n",
    "latex=\"\"\n",
    "kernel = get_latent_SHM_invariance(3, invar_density, jitter) #switch\n",
    "known = get_GPR_model(kernel, mean, data, 500)\n",
    "print(\"known: \"+format(known.log_marginal_likelihood().numpy(),\".2f\"))\n",
    "i = 0\n",
    "'''\n",
    "for poly_f_d in [2]:\n",
    "    for poly_g_d in [2]:\n",
    "        kernel = get_damped_polynomial_invariance(3, invar_density, jitter, poly_f_d, poly_g_d) #switch\n",
    "        m = get_GPR_model(kernel, mean, data, 3000)\n",
    "        print(\"(%s, %s)----------------------\"%(poly_f_d-1, poly_g_d-1))\n",
    "        np.set_printoptions(precision=4)\n",
    "#            print(kernel.f_poly.numpy())\n",
    "#            print(kernel.g_poly.numpy())\n",
    "        print(format(m.log_marginal_likelihood().numpy(),\".2f\"))\n",
    "        latex+=format(m.log_marginal_likelihood().numpy(),\".2f\")\n",
    "        i+=1\n",
    "        if i%9==0:\n",
    "            latex+='\\\\'\n",
    "        else:\n",
    "            latex+=\"&\"\n",
    "'''"
   ]
  },
  {
   "cell_type": "code",
   "execution_count": 38,
   "metadata": {},
   "outputs": [
    {
     "name": "stdout",
     "output_type": "stream",
     "text": [
      "417.45815184609137\n",
      "434.00108375459\n",
      "0\n",
      "0.006754263896748494\n"
     ]
    }
   ],
   "source": [
    "\n",
    "eva_future_moi = []\n",
    "eva_future_inv = []\n",
    "eva_future_inv_p = []\n",
    "\n",
    "grids = (3, 40)\n",
    "dynamics = damped_SHM_dynamics\n",
    "\n",
    "lml_moi = moi.log_marginal_likelihood().numpy()\n",
    "lml_inv = known.log_marginal_likelihood().numpy()\n",
    "#lml_inv_p = m.log_marginal_likelihood().numpy()\n",
    "\n",
    "#grid_moi = (evaluate_model_grid(moi, grids, dynamics))\n",
    "#grid_inv = (evaluate_model_grid(known, grids, dynamics))\n",
    "#grid_inv_p = (evaluate_model_grid(m, grids, dynamics))\n",
    "print(lml_moi)\n",
    "print(lml_inv)\n",
    "#print(lml_inv_p)\n",
    "#def energy(X):\n",
    "#    return 0.5*tf.square(X[:,1])-np.cos(X[:,0])\n",
    "def energy(X):\n",
    "    return 0.5*tf.square(X[:,1])+0.5*tf.square(X[:,0])\n",
    "\n",
    "for i in range(5):\n",
    "    print(i)\n",
    "    test_starting_position = (np.random.uniform(-max_x, max_x))\n",
    "    test_starting_velocity = (np.random.uniform(-max_v, max_v))\n",
    "\n",
    "#    print(test_starting_position)\n",
    "#    print(test_starting_velocity)\n",
    "    test_starting = (test_starting_position, test_starting_velocity)\n",
    "    time_setting = (testing_time, time_step)\n",
    "\n",
    "    evaluate_moi = evaluate_model_future(moi, test_starting, dynamics,time_setting, energy)\n",
    "    eva_future_moi.append(evaluate_moi[0])\n",
    "    print(evaluate_moi[0])\n",
    "\n",
    "    evaluate_invariance =evaluate_model_future(known, test_starting, dynamics,time_setting, energy)\n",
    "    eva_future_inv.append(evaluate_invariance[0])\n",
    "\n",
    "#    evaluate_invariance_p =evaluate_model_future(m, test_starting, dynamics, time_setting, energy)#, (m.kernel.inv_f, m.kernel.inv_g), (lambda x: x, lambda x:np.sin(x)))\n",
    "#    eva_future_inv_p.append(evaluate_invariance_p[0])\n",
    "    print(evaluate_invariance[0])\n"
   ]
  },
  {
   "cell_type": "code",
   "execution_count": 33,
   "metadata": {},
   "outputs": [
    {
     "name": "stdout",
     "output_type": "stream",
     "text": [
      "MSE & 0.1493 & 0.0739 & nan \\\\\n"
     ]
    },
    {
     "name": "stderr",
     "output_type": "stream",
     "text": [
      "/usr/local/lib/python3.8/dist-packages/numpy/core/fromnumeric.py:3474: RuntimeWarning: Mean of empty slice.\n",
      "  return _methods._mean(a, axis=axis, dtype=dtype,\n",
      "/usr/local/lib/python3.8/dist-packages/numpy/core/_methods.py:189: RuntimeWarning: invalid value encountered in double_scalars\n",
      "  ret = ret.dtype.type(ret / rcount)\n"
     ]
    }
   ],
   "source": [
    "\n",
    "\n",
    "#print(\"Log Marginal Likelihood & \" + format((lml_moi),\".2f\")+\" & \"+ format((lml_inv),\".2f\") + \" & \"+ format((lml_inv_p),\".2f\") + \" & \"+' \\\\\\\\')\n",
    "print(\"MSE & \"+ format((np.mean(eva_future_moi)),\".4f\")+\" & \"+format(np.mean(eva_future_inv),\".4f\")+\" & \"+format((np.mean(eva_future_inv_p)),\".4f\")+ ' \\\\\\\\')"
   ]
  },
  {
   "cell_type": "code",
   "execution_count": 34,
   "metadata": {},
   "outputs": [
    {
     "data": {
      "text/plain": [
       "<matplotlib.legend.Legend at 0x7fc8040be7f0>"
      ]
     },
     "execution_count": 34,
     "metadata": {},
     "output_type": "execute_result"
    },
    {
     "data": {
      "image/png": "[encoded data removed]",
      "text/plain": [
       "<Figure size 432x288 with 1 Axes>"
      ]
     },
     "metadata": {
      "needs_background": "light"
     },
     "output_type": "display_data"
    }
   ],
   "source": [
    "\n",
    "import matplotlib.pyplot as plt\n",
    "fig, ax = plt.subplots()\n",
    "plt.plot(evaluate_moi[4][:,0],evaluate_moi[4][:,1], label=\"ground truth\", color=\"black\", linewidth=2)\n",
    "plt.plot(evaluate_moi[1][:,0],evaluate_moi[1][:,1], \"--\", label='RBF', color=\"red\")\n",
    "plt.plot(evaluate_invariance[1][:,0],evaluate_invariance[1][:,1], \"--\", label=\"known invariance\", color=\"blue\")\n",
    "#plt.plot(evaluate_invariance_p[1][:,0],evaluate_invariance_p[1][:,1], \"--\", label=\"learnt invariance\", color=\"green\")\n",
    "plt.scatter(evaluate_moi[4][0,0],evaluate_moi[4][0,1],color=\"red\")\n",
    "plt.xlabel(\"q\")\n",
    "plt.ylabel(\"p\")\n",
    "plt.legend()\n",
    "#plt.savefig(\"figures/shm_predicted.pdf\")"
   ]
  },
  {
   "cell_type": "code",
   "execution_count": 35,
   "metadata": {},
   "outputs": [
    {
     "data": {
      "text/plain": [
       "Text(0, 0.5, 'E')"
      ]
     },
     "execution_count": 35,
     "metadata": {},
     "output_type": "execute_result"
    },
    {
     "data": {
      "image/png": "[encoded data removed]",
      "text/plain": [
       "<Figure size 432x288 with 1 Axes>"
      ]
     },
     "metadata": {
      "needs_background": "light"
     },
     "output_type": "display_data"
    }
   ],
   "source": [
    "\n",
    "t = np.linspace(0, testing_time, int(testing_time/time_step))\n",
    "plt.plot(t, tf.squeeze(evaluate_invariance[5])+1, label=\"ground truth\", color=\"black\")\n",
    "plt.plot(t, tf.squeeze(evaluate_moi[6])+1, \"--\", label=\"RBF\", color=\"red\")\n",
    "plt.plot(t, tf.squeeze(evaluate_invariance[6])+1,\"--\" ,  label=\"known invariance\", color=\"blue\")\n",
    "#plt.plot(t, tf.squeeze(evaluate_invariance_p[6])+1, \"--\",label=\"learnt invariance\", color=\"green\")\n",
    "plt.legend()\n",
    "plt.xlabel(\"t\")\n",
    "plt.ylabel(\"E\")\n",
    "#plt.savefig(\"figures/shm_energy.pdf\")"
   ]
  }
 ],
 "metadata": {
  "kernelspec": {
   "display_name": "Python 3",
   "language": "python",
   "name": "python3"
  },
  "language_info": {
   "codemirror_mode": {
    "name": "ipython",
    "version": 3
   },
   "file_extension": ".py",
   "mimetype": "text/x-python",
   "name": "python",
   "nbconvert_exporter": "python",
   "pygments_lexer": "ipython3",
   "version": "3.8.10"
  },
  "orig_nbformat": 4
 },
 "nbformat": 4,
 "nbformat_minor": 2
}
