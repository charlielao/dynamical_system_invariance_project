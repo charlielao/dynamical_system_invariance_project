{
 "cells": [
  {
   "cell_type": "code",
   "execution_count": null,
   "metadata": {},
   "outputs": [],
   "source": [
    "'''\n",
    "This notebook compare the data efficiency of baseline RBF with known pendulum invariance model\n",
    "'''\n",
    "import gpflow\n",
    "import numpy as np\n",
    "import tensorflow as tf\n",
    "import tensorflow_probability as tfp\n",
    "from scipy.integrate import solve_ivp, odeint\n",
    "from gpflow.utilities import print_summary, positive, to_default_float, set_trainable\n",
    "from invariance_kernels import *\n",
    "from invariance_functions import *\n",
    "import os\n",
    "os.environ[\"CUDA_VISIBLE_DEVICES\"] = '1'"
   ]
  },
  {
   "cell_type": "code",
   "execution_count": null,
   "metadata": {},
   "outputs": [],
   "source": [
    "'''\n",
    "experiment setup\n",
    "'''\n",
    "time_step = 0.01\n",
    "training_time = 0.12\n",
    "testing_time = 1\n",
    "\n",
    "max_x = 150\n",
    "max_v = 30\n"
   ]
  },
  {
   "cell_type": "code",
   "execution_count": null,
   "metadata": {},
   "outputs": [],
   "source": [
    "'''\n",
    "fit the model with different number of data points and evaluate their performance\n",
    "'''\n",
    "def energy(X):\n",
    "    return 0.5*tf.square(X[:,1])-np.cos(X[:,0])\n",
    "\n",
    "mean = ZeroMean(2)\n",
    "data_eff_moi = []\n",
    "data_eff_moi_trac = []\n",
    "\n",
    "test_starting_position = np.radians(np.random.uniform(-max_x, max_x))\n",
    "test_starting_velocity = np.radians(np.random.uniform(-max_v, max_v))\n",
    "\n",
    "test_starting = (test_starting_position, test_starting_velocity)\n",
    "time_setting = (testing_time, time_step)\n",
    "\n",
    "for n_train in [1, 2, 5, 10]:\n",
    "    train_starting_position = np.random.uniform(-max_x, max_x, (n_train))\n",
    "    train_starting_velocity = np.random.uniform(-max_v, max_v, (n_train))\n",
    "\n",
    "    print(train_starting_position)\n",
    "    print(train_starting_velocity)\n",
    "    data = get_pendulum_data(time_step, training_time, 1e-8, train_starting_position, train_starting_velocity) #switch\n",
    "\n",
    "    moi, *dump = get_GPR_model(get_MOI(), mean, data, 500)\n",
    "    print(\"moi:\"+format(moi.log_marginal_likelihood().numpy(),\".2f\"))\n",
    "    jitter = 5e-4\n",
    "    invar_density = 40\n",
    "    invar_range = 3\n",
    "    dynamics = pendulum_dynamics \n",
    "\n",
    "    if n_train == 1:\n",
    "        kernel = get_invariance_kernel(PendulumInvariance, invar_range, invar_density, jitter) #switch\n",
    "        known, *dump = get_GPR_model(kernel, mean, data, 500)\n",
    "        evaluate_invariance = evaluate_model_future(known, test_starting, dynamics,time_setting, energy)\n",
    "        data_eff_inv = evaluate_invariance[0]\n",
    "\n",
    "    evaluate_moi = evaluate_model_future(moi, test_starting, dynamics,time_setting, energy)\n",
    "\n",
    "\n",
    "    data_eff_moi.append(evaluate_moi[0])\n",
    "    data_eff_moi_trac.append(evaluate_moi)\n",
    "\n",
    "    \n"
   ]
  },
  {
   "cell_type": "code",
   "execution_count": null,
   "metadata": {},
   "outputs": [],
   "source": [
    "'''\n",
    "plot the result\n",
    "'''\n",
    "import matplotlib.pyplot as plt\n",
    "fig, ax = plt.subplots()\n",
    "plt.plot(evaluate_moi[4][:,0],evaluate_moi[4][:,1], label=\"ground truth\", color=\"black\", linewidth=2)\n",
    "#plt.plot(evaluate_moi[1][:,0],evaluate_moi[1][:,1], \"--\", label='RBF', color=\"red\")\n",
    "plt.plot(data_eff_moi_trac[0][1][:,0],data_eff_moi_trac[0][1][:,1], \"--\", label='RBF 10 points')\n",
    "plt.plot(data_eff_moi_trac[1][1][:,0],data_eff_moi_trac[1][1][:,1], \"--\", label='RBF 20 points')\n",
    "plt.plot(data_eff_moi_trac[2][1][:,0],data_eff_moi_trac[2][1][:,1], \"--\", label='RBF 50 points')\n",
    "plt.plot(data_eff_moi_trac[3][1][:,0],data_eff_moi_trac[3][1][:,1], \"--\", label='RBF 100 points')\n",
    "plt.plot(evaluate_invariance[1][:,0],evaluate_invariance[1][:,1], \"--\", label=\"invariance 10 points\")\n",
    "plt.scatter(evaluate_moi[4][0,0],evaluate_moi[4][0,1],color=\"red\")\n",
    "plt.xlabel(\"q\")\n",
    "plt.ylabel(\"p\")\n",
    "plt.legend()\n",
    "plt.savefig(\"figures/data_efficiency.pdf\")"
   ]
  }
 ],
 "metadata": {
  "kernelspec": {
   "display_name": "Python 3",
   "language": "python",
   "name": "python3"
  },
  "language_info": {
   "codemirror_mode": {
    "name": "ipython",
    "version": 3
   },
   "file_extension": ".py",
   "mimetype": "text/x-python",
   "name": "python",
   "nbconvert_exporter": "python",
   "pygments_lexer": "ipython3",
   "version": "3.8.10"
  },
  "orig_nbformat": 4
 },
 "nbformat": 4,
 "nbformat_minor": 2
}
