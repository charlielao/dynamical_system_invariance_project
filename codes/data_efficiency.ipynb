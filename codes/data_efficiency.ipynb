{
 "cells": [
  {
   "cell_type": "code",
   "execution_count": 1,
   "metadata": {},
   "outputs": [],
   "source": [
    "\n",
    "import gpflow\n",
    "import numpy as np\n",
    "import tensorflow as tf\n",
    "import tensorflow_probability as tfp\n",
    "from scipy.integrate import solve_ivp, odeint\n",
    "from gpflow.utilities import print_summary, positive, to_default_float, set_trainable\n",
    "from invariance_kernels import ZeroMean, get_MOI, get_pendulum_invariance, get_SHM_invariance, get_damped_pendulum_invariance, get_damped_SHM_invariance\n",
    "from invariance_functions import degree_of_freedom, get_GPR_model, get_SHM_data, get_pendulum_data, get_damped_pendulum_data, get_damped_SHM_data, get_grid_of_points_1D, evaluate_model_future, evaluate_model_grid, SHM_dynamics, pendulum_dynamics, damped_SHM_dynamics, damped_pendulum_dynamics\n",
    "from parameterised_invariance_kernels import get_polynomial_invariance, get_damped_polynomial_invariance\n",
    "import os\n",
    "os.environ[\"CUDA_VISIBLE_DEVICES\"] = '1'"
   ]
  },
  {
   "cell_type": "code",
   "execution_count": 21,
   "metadata": {},
   "outputs": [
    {
     "name": "stdout",
     "output_type": "stream",
     "text": [
      "[51.25951225]\n",
      "[-0.21993438]\n",
      "moi:73.86\n",
      "[  78.7200347  -144.43214581]\n",
      "[-4.65717829 -5.05344534]\n",
      "moi:149.98\n",
      "[  75.97246945 -126.40311375 -141.49931166  -64.64011142   -1.84116823]\n",
      "[ 8.66742416  0.1384964  -8.42676604  8.9637803  -1.01612528]\n",
      "moi:403.56\n",
      "[  25.06983037   10.89879572 -126.49254034   58.17723428  -44.87249856\n",
      "  -61.74694445   47.27580351   64.77728757   93.98583583  -54.42035194]\n",
      "[-7.91146061 -8.76282235  8.23783915 -5.35652057  4.13828799  6.70876438\n",
      " -7.2223269   7.42286592 -4.31579312 -3.63867302]\n",
      "moi:868.03\n"
     ]
    }
   ],
   "source": [
    "\n",
    "# %%\n",
    "mean = ZeroMean(2)\n",
    "time_step = 0.01\n",
    "training_time = 0.1\n",
    "testing_time = 3\n",
    "\n",
    "max_x = 150\n",
    "max_v = 10\n",
    "data_eff_moi = []\n",
    "data_eff_moi_trac = []\n",
    "\n",
    "test_starting_position = np.radians(np.random.uniform(-max_x, max_x))\n",
    "test_starting_velocity = np.radians(np.random.uniform(-max_v, max_v))\n",
    "\n",
    "test_starting = (test_starting_position, test_starting_velocity)\n",
    "time_setting = (testing_time, time_step)\n",
    "\n",
    "for n_train in [1, 2, 5, 10]:\n",
    "    train_starting_position = np.random.uniform(-max_x, max_x, (n_train))\n",
    "    train_starting_velocity = np.random.uniform(-max_v, max_v, (n_train))\n",
    "\n",
    "    print(train_starting_position)\n",
    "    print(train_starting_velocity)\n",
    "    data = get_pendulum_data(time_step, training_time, 1e-8, train_starting_position, train_starting_velocity) #switch\n",
    "\n",
    "    moi = get_GPR_model(get_MOI(), mean, data, 500)\n",
    "    print(\"moi:\"+format(moi.log_marginal_likelihood().numpy(),\".2f\"))\n",
    "    jitter = 5e-5\n",
    "    invar_density = 40\n",
    "    dynamics = pendulum_dynamics \n",
    "    def energy(X):\n",
    "        return 0.5*tf.square(X[:,1])-np.cos(X[:,0])\n",
    "\n",
    "    if n_train == 1:\n",
    "        try:\n",
    "            kernel = get_pendulum_invariance(np.radians(150), invar_density, jitter) #switch\n",
    "            known = get_GPR_model(kernel, mean, data, 500)\n",
    "        except tf.errors.InvalidArgumentError:\n",
    "            print(\"jitter too small\")\n",
    "        evaluate_invariance =evaluate_model_future(known, test_starting, dynamics,time_setting, energy)\n",
    "        data_eff_inv = evaluate_invariance[0]\n",
    "\n",
    "    evaluate_moi = evaluate_model_future(moi, test_starting, dynamics,time_setting, energy)\n",
    "\n",
    "\n",
    "    data_eff_moi.append(evaluate_moi[0])\n",
    "    data_eff_moi_trac.append(evaluate_moi)\n",
    "\n",
    "    \n"
   ]
  },
  {
   "cell_type": "code",
   "execution_count": 3,
   "metadata": {},
   "outputs": [
    {
     "data": {
      "text/plain": [
       "0.002983801815028728"
      ]
     },
     "execution_count": 3,
     "metadata": {},
     "output_type": "execute_result"
    }
   ],
   "source": [
    "data_eff_inv"
   ]
  },
  {
   "cell_type": "code",
   "execution_count": 22,
   "metadata": {},
   "outputs": [
    {
     "data": {
      "image/png": "[encoded data removed]",
      "text/plain": [
       "<Figure size 432x288 with 1 Axes>"
      ]
     },
     "metadata": {
      "needs_background": "light"
     },
     "output_type": "display_data"
    }
   ],
   "source": [
    "\n",
    "import matplotlib.pyplot as plt\n",
    "fig, ax = plt.subplots()\n",
    "plt.plot(evaluate_moi[4][:,0],evaluate_moi[4][:,1], label=\"ground truth\", color=\"black\", linewidth=2)\n",
    "#plt.plot(evaluate_moi[1][:,0],evaluate_moi[1][:,1], \"--\", label='RBF', color=\"red\")\n",
    "plt.plot(data_eff_moi_trac[0][1][:,0],data_eff_moi_trac[0][1][:,1], \"--\", label='RBF 10 points')\n",
    "plt.plot(data_eff_moi_trac[1][1][:,0],data_eff_moi_trac[1][1][:,1], \"--\", label='RBF 20 points')\n",
    "plt.plot(data_eff_moi_trac[2][1][:,0],data_eff_moi_trac[2][1][:,1], \"--\", label='RBF 50 points')\n",
    "plt.plot(data_eff_moi_trac[3][1][:,0],data_eff_moi_trac[3][1][:,1], \"--\", label='RBF 100 points')\n",
    "plt.plot(evaluate_invariance[1][:,0],evaluate_invariance[1][:,1], \"--\", label=\"invariance 10 points\")\n",
    "plt.scatter(evaluate_moi[4][0,0],evaluate_moi[4][0,1],color=\"red\")\n",
    "plt.xlabel(\"q\")\n",
    "plt.ylabel(\"p\")\n",
    "plt.legend()\n",
    "plt.savefig(\"figures/data_efficiency.pdf\")"
   ]
  }
 ],
 "metadata": {
  "kernelspec": {
   "display_name": "Python 3",
   "language": "python",
   "name": "python3"
  },
  "language_info": {
   "codemirror_mode": {
    "name": "ipython",
    "version": 3
   },
   "file_extension": ".py",
   "mimetype": "text/x-python",
   "name": "python",
   "nbconvert_exporter": "python",
   "pygments_lexer": "ipython3",
   "version": "3.8.10"
  },
  "orig_nbformat": 4
 },
 "nbformat": 4,
 "nbformat_minor": 2
}
