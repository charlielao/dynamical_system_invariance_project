{
 "cells": [
  {
   "cell_type": "code",
   "execution_count": 2,
   "metadata": {},
   "outputs": [],
   "source": [
    "import gpflow\n",
    "import numpy as np\n",
    "import tensorflow as tf\n",
    "import tensorflow_probability as tfp\n",
    "from scipy.integrate import solve_ivp, odeint\n",
    "from gpflow.utilities import print_summary, positive, to_default_float, set_trainable\n",
    "from invariance_kernels import *\n",
    "from invariance_functions import *\n",
    "import os\n",
    "os.environ[\"CUDA_VISIBLE_DEVICES\"] = '1'"
   ]
  },
  {
   "cell_type": "code",
   "execution_count": 4,
   "metadata": {},
   "outputs": [],
   "source": [
    "\n",
    "time_step = 0.01\n",
    "training_time = 0.12\n",
    "testing_time = 1\n",
    "\n",
    "max_x = 150\n",
    "max_v = 30\n"
   ]
  },
  {
   "cell_type": "code",
   "execution_count": 21,
   "metadata": {},
   "outputs": [
    {
     "name": "stdout",
     "output_type": "stream",
     "text": [
      "[142.5730441]\n",
      "[24.46178209]\n",
      "moi:94.78\n",
      "[-42.42669866  89.87395432]\n",
      "[11.59381761 -3.33426866]\n",
      "moi:193.84\n",
      "[-63.44111836 -82.25790365 117.12919743 120.86159588 132.08113627]\n",
      "[  9.62602852 -28.5339333  -22.03836328  15.92163115   2.91686232]\n",
      "moi:520.04\n",
      "[ -41.12285966 -149.91980115  126.41125227  -10.06868715  104.27485529\n",
      "   50.63811814  118.05455641  -50.63903505  -21.18529128  -45.76589857]\n",
      "[-20.61622913  21.69980265   3.79933632 -21.5589938   29.0236635\n",
      "  18.91849867  -4.51751852 -15.95797681 -23.39229962  -9.34348434]\n",
      "moi:1091.31\n",
      "0 seconds remaining\r"
     ]
    }
   ],
   "source": [
    "\n",
    "def energy(X):\n",
    "    return 0.5*tf.square(X[:,1])-np.cos(X[:,0])\n",
    "\n",
    "mean = ZeroMean(2)\n",
    "data_eff_moi = []\n",
    "data_eff_moi_trac = []\n",
    "\n",
    "test_starting_position = np.radians(np.random.uniform(-max_x, max_x))\n",
    "test_starting_velocity = np.radians(np.random.uniform(-max_v, max_v))\n",
    "\n",
    "test_starting = (test_starting_position, test_starting_velocity)\n",
    "time_setting = (testing_time, time_step)\n",
    "\n",
    "for n_train in [1, 2, 5, 10]:\n",
    "    train_starting_position = np.random.uniform(-max_x, max_x, (n_train))\n",
    "    train_starting_velocity = np.random.uniform(-max_v, max_v, (n_train))\n",
    "\n",
    "    print(train_starting_position)\n",
    "    print(train_starting_velocity)\n",
    "    data = get_pendulum_data(time_step, training_time, 1e-8, train_starting_position, train_starting_velocity) #switch\n",
    "\n",
    "    moi, *dump = get_GPR_model(get_MOI(), mean, data, 500)\n",
    "    print(\"moi:\"+format(moi.log_marginal_likelihood().numpy(),\".2f\"))\n",
    "    jitter = 5e-4\n",
    "    invar_density = 40\n",
    "    invar_range = 3\n",
    "    dynamics = pendulum_dynamics \n",
    "\n",
    "    if n_train == 1:\n",
    "        kernel = get_invariance_kernel(PendulumInvariance, invar_range, invar_density, jitter) #switch\n",
    "        known, *dump = get_GPR_model(kernel, mean, data, 500)\n",
    "        evaluate_invariance = evaluate_model_future(known, test_starting, dynamics,time_setting, energy)\n",
    "        data_eff_inv = evaluate_invariance[0]\n",
    "\n",
    "    evaluate_moi = evaluate_model_future(moi, test_starting, dynamics,time_setting, energy)\n",
    "\n",
    "\n",
    "    data_eff_moi.append(evaluate_moi[0])\n",
    "    data_eff_moi_trac.append(evaluate_moi)\n",
    "\n",
    "    \n"
   ]
  },
  {
   "cell_type": "code",
   "execution_count": 3,
   "metadata": {},
   "outputs": [
    {
     "data": {
      "text/plain": [
       "0.002983801815028728"
      ]
     },
     "execution_count": 3,
     "metadata": {},
     "output_type": "execute_result"
    }
   ],
   "source": [
    "data_eff_inv"
   ]
  },
  {
   "cell_type": "code",
   "execution_count": 23,
   "metadata": {},
   "outputs": [
    {
     "data": {
      "image/png": "[encoded data removed]",
      "text/plain": [
       "<Figure size 432x288 with 1 Axes>"
      ]
     },
     "metadata": {
      "needs_background": "light"
     },
     "output_type": "display_data"
    }
   ],
   "source": [
    "\n",
    "import matplotlib.pyplot as plt\n",
    "fig, ax = plt.subplots()\n",
    "plt.plot(evaluate_moi[4][:,0],evaluate_moi[4][:,1], label=\"ground truth\", color=\"black\", linewidth=2)\n",
    "#plt.plot(evaluate_moi[1][:,0],evaluate_moi[1][:,1], \"--\", label='RBF', color=\"red\")\n",
    "plt.plot(data_eff_moi_trac[0][1][:,0],data_eff_moi_trac[0][1][:,1], \"--\", label='RBF 10 points')\n",
    "plt.plot(data_eff_moi_trac[1][1][:,0],data_eff_moi_trac[1][1][:,1], \"--\", label='RBF 20 points')\n",
    "plt.plot(data_eff_moi_trac[2][1][:,0],data_eff_moi_trac[2][1][:,1], \"--\", label='RBF 50 points')\n",
    "plt.plot(data_eff_moi_trac[3][1][:,0],data_eff_moi_trac[3][1][:,1], \"--\", label='RBF 100 points')\n",
    "plt.plot(evaluate_invariance[1][:,0],evaluate_invariance[1][:,1], \"--\", label=\"invariance 10 points\")\n",
    "plt.scatter(evaluate_moi[4][0,0],evaluate_moi[4][0,1],color=\"red\")\n",
    "plt.xlabel(\"q\")\n",
    "plt.ylabel(\"p\")\n",
    "plt.legend()\n",
    "plt.savefig(\"figures/data_efficiency.pdf\")"
   ]
  }
 ],
 "metadata": {
  "kernelspec": {
   "display_name": "Python 3",
   "language": "python",
   "name": "python3"
  },
  "language_info": {
   "codemirror_mode": {
    "name": "ipython",
    "version": 3
   },
   "file_extension": ".py",
   "mimetype": "text/x-python",
   "name": "python",
   "nbconvert_exporter": "python",
   "pygments_lexer": "ipython3",
   "version": "3.8.10"
  },
  "orig_nbformat": 4
 },
 "nbformat": 4,
 "nbformat_minor": 2
}
