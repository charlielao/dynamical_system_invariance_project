{
 "cells": [
  {
   "cell_type": "code",
   "execution_count": 1,
   "metadata": {},
   "outputs": [],
   "source": [
    "\n",
    "import gpflow\n",
    "import numpy as np\n",
    "import tensorflow as tf\n",
    "import tensorflow_probability as tfp\n",
    "from scipy.integrate import solve_ivp, odeint\n",
    "from gpflow.utilities import print_summary, positive, to_default_float, set_trainable\n",
    "from invariance_kernels import ZeroMean, get_MOI, get_pendulum_invariance, get_SHM_invariance, get_damped_pendulum_invariance, get_damped_SHM_invariance\n",
    "from invariance_functions import degree_of_freedom, get_GPR_model, get_SHM_data, get_pendulum_data, get_damped_pendulum_data, get_damped_SHM_data, get_grid_of_points_1D, evaluate_model_future, evaluate_model_grid, SHM_dynamics, pendulum_dynamics, damped_SHM_dynamics, damped_pendulum_dynamics\n",
    "from parameterised_invariance_kernels import get_polynomial_invariance, get_damped_polynomial_invariance\n",
    "from damped_invariance_kernel import SHMEpsilonMean, PendulumEpsilonMean, PolynomialEpsilonMean\n",
    "import os\n",
    "os.environ[\"CUDA_VISIBLE_DEVICES\"] = '2'"
   ]
  },
  {
   "cell_type": "code",
   "execution_count": 2,
   "metadata": {},
   "outputs": [],
   "source": [
    "\n",
    "class PendulumLatentInvariance(gpflow.kernels.Kernel):\n",
    "    def __init__(self, invariance_range, invar_density, jitter_size):\n",
    "        super().__init__(active_dims=[0, 1])\n",
    "        self.jitter = jitter_size\n",
    "        self.Ka = gpflow.kernels.RBF(variance=1, lengthscales=[1,1]) \n",
    "        self.Kv = gpflow.kernels.RBF(variance=1, lengthscales=[1,1]) \n",
    "        self.Kz = gpflow.kernels.RBF(variance=1, lengthscales=[1,1]) \n",
    "\n",
    "        invariance_xs = tf.linspace(-invariance_range,invariance_range,invar_density)\n",
    "        invariance_vs = tf.linspace(-invariance_range,invariance_range,invar_density)\n",
    "        invariance_xx, invariance_vv = tf.meshgrid(invariance_xs, invariance_vs)\n",
    "        self.invar_grids = tf.stack([tf.reshape(invariance_xx,[-1]), tf.reshape(invariance_vv,[-1])], axis=1)\n",
    "\n",
    "        self.x_g_squared = tf.tensordot(tf.math.sin(self.invar_grids[:,0,None]),tf.math.sin(self.invar_grids[None,:,0]),1)\n",
    "        self.x_g_dot_squared = tf.tensordot(self.invar_grids[:,1,None],self.invar_grids[None,:,1],1)\n",
    "\n",
    "    def K(self, X, X2=None):\n",
    "        if X2 is None:\n",
    "            X2 = X\n",
    "        n = X.shape[0]\n",
    "        m = X2.shape[0]\n",
    "\n",
    "        zeros_nn =tf.zeros((n,n), dtype=tf.float64)\n",
    "        zeros_nm =tf.zeros((n,m), dtype=tf.float64)\n",
    "        zeros_mm =tf.zeros((m,m), dtype=tf.float64)\n",
    "        \n",
    "        Ka_X1X1  = self.Ka(X) \n",
    "        Kv_X1X1  = self.Kv(X) \n",
    "        Kz_X1X1  = self.Kz(X) \n",
    "        K_X1X1   = tf.concat([tf.concat([Ka_X1X1,zeros_nn, zeros_nn],1),tf.concat([zeros_nn,Kv_X1X1,zeros_nn],1),tf.concat([zeros_nn,zeros_nn, Kz_X1X1],1)],0)\n",
    "\n",
    "        Ka_X1X2  = self.Ka(X, X2) \n",
    "        Kv_X1X2  = self.Kv(X, X2) \n",
    "        Kz_X1X2  = self.Kz(X, X2) \n",
    "        K_X1X2   = tf.concat([tf.concat([Ka_X1X2,zeros_nm, zeros_nm],1),tf.concat([zeros_nm, Kv_X1X2, zeros_nm],1),tf.concat([zeros_nm, zeros_nm, Kz_X1X2],1)],0)\n",
    "        \n",
    "        K_X2X1   = tf.transpose(K_X1X2)\n",
    "        \n",
    "        Ka_X2X2  = self.Ka(X2) \n",
    "        Kv_X2X2  = self.Kv(X2) \n",
    "        Kz_X2X2  = self.Kz(X2) \n",
    "        K_X2X2   = tf.concat([tf.concat([Ka_X2X2,zeros_mm, zeros_mm],1),tf.concat([zeros_mm,Kv_X2X2, zeros_mm],1),tf.concat([zeros_mm, zeros_mm, Kz_X2X2],1)],0)\n",
    "        \n",
    "        Ka_X1Xg  = self.Ka(X, self.invar_grids) \n",
    "        Kv_X1Xg  = self.Kv(X, self.invar_grids) \n",
    "        Kz_X1Xg  = self.Kz(X, self.invar_grids) \n",
    "        K_X1Xg = tf.concat([Ka_X1Xg, Kv_X1Xg, Kz_X1Xg],0)\n",
    "\n",
    "        Ka_X2Xg =  self.Ka(X2, self.invar_grids) \n",
    "        Kv_X2Xg =  self.Kv(X2, self.invar_grids)\n",
    "        Kz_X2Xg  = self.Kz(X2, self.invar_grids) \n",
    "        K_X2Xg = tf.concat([Ka_X2Xg, Kv_X2Xg, Kz_X2Xg],0)\n",
    "\n",
    "        Ka_XgXg = self.Ka(self.invar_grids) \n",
    "        Kv_XgXg = self.Kv(self.invar_grids) \n",
    "        Kz_XgXg = self.Kz(self.invar_grids) \n",
    "        \n",
    "        x_g_1 = tf.ones([n, 1], dtype=tf.float64) * tf.math.sin(self.invar_grids[:,0])\n",
    "        x_g_dot_1 = tf.ones([n, 1], dtype=tf.float64) * self.invar_grids[:,1]\n",
    "        z_g_1 = tf.ones([n, x_g_1.shape[1]], dtype=tf.float64) \n",
    "        x_g_1_stacked = tf.concat([x_g_dot_1, x_g_1, z_g_1],0)\n",
    "        \n",
    "        x_g_2 = tf.ones([m, 1], dtype=tf.float64) * tf.math.sin(self.invar_grids[:,0])\n",
    "        x_g_dot_2 = tf.ones([m, 1], dtype=tf.float64) * self.invar_grids[:,1]\n",
    "        z_g_2 = tf.ones([m, x_g_2.shape[1]], dtype=tf.float64) \n",
    "        x_g_2_stacked = tf.concat([x_g_dot_2, x_g_2, z_g_2],0)\n",
    "\n",
    "        \n",
    "        A = tf.concat([tf.concat([K_X1X1, K_X1X2],1),tf.concat([K_X2X1, K_X2X2],1)],0) \n",
    "        B1 = tf.multiply(K_X1Xg, x_g_1_stacked)\n",
    "        B2 = tf.multiply(K_X2Xg, x_g_2_stacked)\n",
    "        B = tf.concat([B1, B2], 0)\n",
    "        C = tf.transpose(B)\n",
    "        D = tf.multiply(self.x_g_dot_squared, Ka_XgXg) + tf.multiply(self.x_g_squared, Kv_XgXg) + Kz_XgXg \n",
    "        D += self.jitter*tf.eye(D.shape[0], dtype=tf.float64)\n",
    "        return (A-tf.tensordot(tf.tensordot(B, tf.linalg.inv(D), 1), C, 1))[:2*n, 3*n:(3*n+2*m)]\n",
    "\n",
    "    def K_diag(self, X):\n",
    "        n = X.shape[0]\n",
    "        zeros_nn =tf.zeros((n,n), dtype=tf.float64)\n",
    "        \n",
    "        Ka_X  = self.Ka(X) \n",
    "        Kv_X  = self.Kv(X) \n",
    "        Kz_X  = self.Kz(X)\n",
    "        K_X   = tf.concat([tf.concat([Ka_X,zeros_nn, zeros_nn],1),tf.concat([zeros_nn,Kv_X, zeros_nn],1),tf.concat([zeros_nn, zeros_nn, Kz_X],1)],0)\n",
    "        \n",
    "        Ka_Xg  = self.Ka(X, self.invar_grids) \n",
    "        Kv_Xg  = self.Kv(X, self.invar_grids) \n",
    "        Kz_Xg  = self.Kz(X, self.invar_grids) \n",
    "        K_Xg = tf.concat([Ka_Xg, Kv_Xg, Kz_Xg],0)\n",
    "\n",
    "        Ka_XgXg = self.Ka(self.invar_grids) \n",
    "        Kv_XgXg = self.Kv(self.invar_grids) \n",
    "        Kz_XgXg = self.Kz(self.invar_grids) \n",
    "        \n",
    "        x_g = tf.ones([n, 1], dtype=tf.float64) * tf.math.sin(self.invar_grids[:,0])\n",
    "        x_g_dot = tf.ones([n, 1], dtype=tf.float64) * self.invar_grids[:,1]\n",
    "        z_g = tf.ones([n, x_g.shape[1]],dtype=tf.float64)\n",
    "        x_g_stacked = tf.concat([x_g_dot, x_g, z_g],0)\n",
    "        \n",
    "        A = K_X\n",
    "        B = tf.multiply(K_Xg, x_g_stacked)\n",
    "        C = tf.transpose(B)\n",
    "        D = tf.multiply(self.x_g_dot_squared, Ka_XgXg) + tf.multiply(self.x_g_squared, Kv_XgXg) + Kz_XgXg\n",
    "        D += self.jitter*tf.eye(D.shape[0], dtype=tf.float64)\n",
    "        \n",
    "        return tf.linalg.tensor_diag_part((A-tf.tensordot(tf.tensordot(B, tf.linalg.inv(D),1), C, 1))[:2*n,:2*n])"
   ]
  },
  {
   "cell_type": "code",
   "execution_count": 3,
   "metadata": {},
   "outputs": [],
   "source": [
    "\n",
    "class PolynomialLatentInvariance(gpflow.kernels.Kernel):\n",
    "    def __init__(self, invariance_range, invar_density, jitter_size, poly_f_d, poly_g_d):\n",
    "        super().__init__(active_dims=[0,1])\n",
    "        self.poly_f_d = poly_f_d\n",
    "        self.poly_g_d = poly_g_d\n",
    "        self.prior_variance = 1#gpflow.Parameter(0.1, transform=positive())#tfp.bijectors.Sigmoid(to_default_float(1e-3), to_default_float(1.)))\n",
    "        self.f_poly = gpflow.Parameter(tf.Variable(1e-3*np.ones((self.poly_f_d,1)), dtype=tf.float64), transform =tfp.bijectors.Sigmoid(to_default_float(-1.), to_default_float(1.)), prior=tfp.distributions.Laplace(to_default_float(0),to_default_float(self.prior_variance)), name=\"f_poly\")\n",
    "        self.g_poly = gpflow.Parameter(tf.Variable(1e-3*np.ones((self.poly_g_d,1)), dtype=tf.float64), transform =tfp.bijectors.Sigmoid(to_default_float(-1.), to_default_float(1.)), prior=tfp.distributions.Laplace(to_default_float(0),to_default_float(self.prior_variance)), name=\"g_poly\")\n",
    "\n",
    "        self.jitter =jitter_size\n",
    "        self.Ka = gpflow.kernels.RBF(variance=1, lengthscales=[1,1]) \n",
    "        self.Kv = gpflow.kernels.RBF(variance=1, lengthscales=[1,1]) \n",
    "        self.Kz = gpflow.kernels.RBF(variance=1, lengthscales=[1,1]) \n",
    "        invariance_xs = tf.linspace(-invariance_range,invariance_range,invar_density)\n",
    "        invariance_vs = tf.linspace(-invariance_range,invariance_range,invar_density)\n",
    "        invariance_xx, invariance_vv = tf.meshgrid(invariance_xs, invariance_vs)\n",
    "        self.invar_grids = tf.stack([tf.reshape(invariance_xx,[-1]), tf.reshape(invariance_vv,[-1])], axis=1)\n",
    "\n",
    "    def inv_f(self, X):\n",
    "        return tf.linalg.matmul(tf.math.pow(X, list(range(self.poly_f_d))), self.f_poly)\n",
    "    def inv_g(self, X):\n",
    "        return tf.linalg.matmul(tf.math.pow(X, list(range(self.poly_g_d))), self.g_poly)\n",
    "\n",
    "    def K(self, X, X2=None):\n",
    "        if X2 is None:\n",
    "            X2 = X\n",
    "        n = X.shape[0]\n",
    "        m = X2.shape[0]\n",
    "\n",
    "        zeros_nn =tf.zeros((n,n), dtype=tf.float64)\n",
    "        zeros_nm =tf.zeros((n,m), dtype=tf.float64)\n",
    "        zeros_mm =tf.zeros((m,m), dtype=tf.float64)\n",
    "        \n",
    "        Ka_X1X1  = self.Ka(X) \n",
    "        Kv_X1X1  = self.Kv(X) \n",
    "        Kz_X1X1  = self.Kz(X) \n",
    "        K_X1X1   = tf.concat([tf.concat([Ka_X1X1,zeros_nn, zeros_nn],1),tf.concat([zeros_nn,Kv_X1X1,zeros_nn],1),tf.concat([zeros_nn,zeros_nn, Kz_X1X1],1)],0)\n",
    "\n",
    "        Ka_X1X2  = self.Ka(X, X2) \n",
    "        Kv_X1X2  = self.Kv(X, X2) \n",
    "        Kz_X1X2  = self.Kz(X, X2) \n",
    "        K_X1X2   = tf.concat([tf.concat([Ka_X1X2,zeros_nm, zeros_nm],1),tf.concat([zeros_nm, Kv_X1X2, zeros_nm],1),tf.concat([zeros_nm, zeros_nm, Kz_X1X2],1)],0)\n",
    "        \n",
    "        K_X2X1   = tf.transpose(K_X1X2)\n",
    "        \n",
    "        Ka_X2X2  = self.Ka(X2) \n",
    "        Kv_X2X2  = self.Kv(X2) \n",
    "        Kz_X2X2  = self.Kz(X2) \n",
    "        K_X2X2   = tf.concat([tf.concat([Ka_X2X2,zeros_mm, zeros_mm],1),tf.concat([zeros_mm,Kv_X2X2, zeros_mm],1),tf.concat([zeros_mm, zeros_mm, Kz_X2X2],1)],0)\n",
    "        \n",
    "        Ka_X1Xg  = self.Ka(X, self.invar_grids) \n",
    "        Kv_X1Xg  = self.Kv(X, self.invar_grids) \n",
    "        Kz_X1Xg  = self.Kz(X, self.invar_grids) \n",
    "        K_X1Xg = tf.concat([Ka_X1Xg, Kv_X1Xg, Kz_X1Xg],0)\n",
    "\n",
    "        Ka_X2Xg =  self.Ka(X2, self.invar_grids) \n",
    "        Kv_X2Xg =  self.Kv(X2, self.invar_grids)\n",
    "        Kz_X2Xg  = self.Kz(X2, self.invar_grids) \n",
    "        K_X2Xg = tf.concat([Ka_X2Xg, Kv_X2Xg, Kz_X2Xg],0)\n",
    "\n",
    "        Ka_XgXg = self.Ka(self.invar_grids) \n",
    "        Kv_XgXg = self.Kv(self.invar_grids) \n",
    "        Kz_XgXg = self.Kz(self.invar_grids) \n",
    "        \n",
    "        x_g_1 = tf.ones([n, 1], dtype=tf.float64) * tf.squeeze(self.inv_g(self.invar_grids[:,0, None]))\n",
    "        x_g_dot_1 = tf.ones([n, 1], dtype=tf.float64) * tf.squeeze(self.inv_f(self.invar_grids[:,1, None]))\n",
    "        z_g_1 = tf.ones([n, x_g_1.shape[1]], dtype=tf.float64) \n",
    "        x_g_1_stacked = tf.concat([x_g_dot_1, x_g_1, z_g_1],0)\n",
    "        \n",
    "        x_g_2 = tf.ones([m, 1], dtype=tf.float64) * tf.squeeze(self.inv_g(self.invar_grids[:,0, None]))\n",
    "        x_g_dot_2 = tf.ones([m, 1], dtype=tf.float64) * tf.squeeze(self.inv_f(self.invar_grids[:,1, None]))\n",
    "        z_g_2 = tf.ones([m, x_g_2.shape[1]], dtype=tf.float64) \n",
    "        x_g_2_stacked = tf.concat([x_g_dot_2, x_g_2, z_g_2],0)\n",
    "\n",
    "        x_g_squared = tf.tensordot(self.inv_g(self.invar_grids[:,0,None]),tf.transpose(self.inv_g(self.invar_grids[:,0, None])),1)\n",
    "        x_g_dot_squared = tf.tensordot(self.inv_f(self.invar_grids[:,1,None]),tf.transpose(self.inv_f(self.invar_grids[:,1, None])),1)\n",
    "        \n",
    "        A = tf.concat([tf.concat([K_X1X1, K_X1X2],1),tf.concat([K_X2X1, K_X2X2],1)],0) \n",
    "        B1 = tf.multiply(K_X1Xg, x_g_1_stacked)\n",
    "        B2 = tf.multiply(K_X2Xg, x_g_2_stacked)\n",
    "        B = tf.concat([B1, B2], 0)\n",
    "        C = tf.transpose(B)\n",
    "\n",
    "        D = tf.multiply(x_g_dot_squared, Ka_XgXg) + tf.multiply(x_g_squared, Kv_XgXg) + Kz_XgXg \n",
    "        D += self.jitter*tf.eye(D.shape[0], dtype=tf.float64)\n",
    "        return (A-tf.tensordot(tf.tensordot(B, tf.linalg.inv(D), 1), C, 1))[:2*n, 3*n:(3*n+2*m)]\n",
    "\n",
    "    def K_diag(self, X):\n",
    "        n = X.shape[0]\n",
    "        zeros_nn =tf.zeros((n,n), dtype=tf.float64)\n",
    "        \n",
    "        Ka_X  = self.Ka(X) \n",
    "        Kv_X  = self.Kv(X) \n",
    "        Kz_X  = self.Kz(X)\n",
    "        K_X   = tf.concat([tf.concat([Ka_X,zeros_nn, zeros_nn],1),tf.concat([zeros_nn,Kv_X, zeros_nn],1),tf.concat([zeros_nn, zeros_nn, Kz_X],1)],0)\n",
    "        \n",
    "        Ka_Xg  = self.Ka(X, self.invar_grids) \n",
    "        Kv_Xg  = self.Kv(X, self.invar_grids) \n",
    "        Kz_Xg  = self.Kz(X, self.invar_grids) \n",
    "        K_Xg = tf.concat([Ka_Xg, Kv_Xg, Kz_Xg],0)\n",
    "\n",
    "        Ka_XgXg = self.Ka(self.invar_grids) \n",
    "        Kv_XgXg = self.Kv(self.invar_grids) \n",
    "        Kz_XgXg = self.Kz(self.invar_grids) \n",
    "        \n",
    "        x_g = tf.ones([n, 1], dtype=tf.float64) * tf.squeeze(self.inv_g(self.invar_grids[:,0, None]))\n",
    "        x_g_dot = tf.ones([n, 1], dtype=tf.float64) * tf.squeeze(self.inv_f(self.invar_grids[:,1, None]))\n",
    "        z_g = tf.ones([n, x_g.shape[1]],dtype=tf.float64)\n",
    "        x_g_stacked = tf.concat([x_g_dot, x_g, z_g],0)\n",
    "        \n",
    "        x_g_squared = tf.tensordot(self.inv_g(self.invar_grids[:,0,None]),tf.transpose(self.inv_g(self.invar_grids[:,0, None])),1)\n",
    "        x_g_dot_squared = tf.tensordot(self.inv_f(self.invar_grids[:,1,None]),tf.transpose(self.inv_f(self.invar_grids[:,1, None])),1)\n",
    "        \n",
    "        A = K_X\n",
    "        B = tf.multiply(K_Xg, x_g_stacked)\n",
    "        C = tf.transpose(B)\n",
    "        D = tf.multiply(x_g_dot_squared, Ka_XgXg) + tf.multiply(x_g_squared, Kv_XgXg) + Kz_XgXg\n",
    "        D += self.jitter*tf.eye(D.shape[0], dtype=tf.float64)\n",
    "        \n",
    "        return tf.linalg.tensor_diag_part((A-tf.tensordot(tf.tensordot(B, tf.linalg.inv(D),1), C, 1))[:2*n,:2*n])"
   ]
  },
  {
   "cell_type": "code",
   "execution_count": 4,
   "metadata": {},
   "outputs": [],
   "source": [
    "\n",
    "def get_latent_polynomial_invariance(invar_range, invar_density, jitter_size, poly_f_d, poly_g_d):\n",
    "    invariance_kernel = PolynomialLatentInvariance(invar_range, invar_density, jitter_size, poly_f_d, poly_g_d)\n",
    "    invariance_kernel.Ka.variance = gpflow.Parameter(invariance_kernel.Ka.variance.numpy(), transform=tfp.bijectors.Sigmoid(to_default_float(1e-3), to_default_float(10.))) \n",
    "    invariance_kernel.Kv.variance = gpflow.Parameter(invariance_kernel.Kv.variance.numpy(), transform=tfp.bijectors.Sigmoid(to_default_float(1e-3), to_default_float(10.))) \n",
    "    invariance_kernel.Kz.variance = gpflow.Parameter(invariance_kernel.Kz.variance.numpy(), transform=tfp.bijectors.Sigmoid(to_default_float(1e-3), to_default_float(10.))) \n",
    "    invariance_kernel.Ka.lengthscales = gpflow.Parameter(invariance_kernel.Ka.lengthscales.numpy(), transform=tfp.bijectors.Sigmoid(to_default_float(1e-3), to_default_float(10.))) \n",
    "    invariance_kernel.Kv.lengthscales = gpflow.Parameter(invariance_kernel.Kv.lengthscales.numpy(), transform=tfp.bijectors.Sigmoid(to_default_float(1e-3), to_default_float(10.))) \n",
    "    invariance_kernel.Kz.lengthscales = gpflow.Parameter(invariance_kernel.Kz.lengthscales.numpy(), transform=tfp.bijectors.Sigmoid(to_default_float(1e-3), to_default_float(10.))) \n",
    "    return invariance_kernel\n",
    "\n",
    "def get_latent_pendulum_invariance(invar_range, invar_density, jitter_size):\n",
    "    invariance_kernel = PendulumLatentInvariance(invar_range, invar_density, jitter_size)\n",
    "    invariance_kernel.Ka.variance = gpflow.Parameter(invariance_kernel.Ka.variance.numpy(), transform=tfp.bijectors.Sigmoid(to_default_float(1e-3), to_default_float(10.))) \n",
    "    invariance_kernel.Kv.variance = gpflow.Parameter(invariance_kernel.Kv.variance.numpy(), transform=tfp.bijectors.Sigmoid(to_default_float(1e-3), to_default_float(10.))) \n",
    "    invariance_kernel.Kz.variance = gpflow.Parameter(invariance_kernel.Kz.variance.numpy(), transform=tfp.bijectors.Sigmoid(to_default_float(1e-3), to_default_float(10.))) \n",
    "    invariance_kernel.Ka.lengthscales = gpflow.Parameter(invariance_kernel.Ka.lengthscales.numpy(), transform=tfp.bijectors.Sigmoid(to_default_float(1e-3), to_default_float(10.))) \n",
    "    invariance_kernel.Kv.lengthscales = gpflow.Parameter(invariance_kernel.Kv.lengthscales.numpy(), transform=tfp.bijectors.Sigmoid(to_default_float(1e-3), to_default_float(10.))) \n",
    "    invariance_kernel.Kz.lengthscales = gpflow.Parameter(invariance_kernel.Kz.lengthscales.numpy(), transform=tfp.bijectors.Sigmoid(to_default_float(1e-3), to_default_float(10.))) \n",
    "    return invariance_kernel"
   ]
  },
  {
   "cell_type": "code",
   "execution_count": 5,
   "metadata": {},
   "outputs": [
    {
     "name": "stdout",
     "output_type": "stream",
     "text": [
      "[  60.08296058  -47.67018755   87.11523463 -117.33106244 -136.32449558]\n",
      "[-2.52958806 -3.91947354  1.20265406 -1.75506482  6.01341385]\n"
     ]
    }
   ],
   "source": [
    "mean = ZeroMean(2)\n",
    "time_step = 0.01\n",
    "training_time = 0.1\n",
    "testing_time = 3\n",
    "\n",
    "max_x = (150)\n",
    "max_v = (10)\n",
    "n_train = 5\n",
    "train_starting_position = np.random.uniform(-max_x, max_x, (n_train))\n",
    "train_starting_velocity = np.random.uniform(-max_v, max_v, (n_train))\n",
    "\n",
    "print(train_starting_position)\n",
    "print(train_starting_velocity)\n",
    "data = get_damped_pendulum_data(0.1, time_step, training_time, 1e-8, train_starting_position, train_starting_velocity) #switch"
   ]
  },
  {
   "cell_type": "code",
   "execution_count": 9,
   "metadata": {},
   "outputs": [
    {
     "name": "stdout",
     "output_type": "stream",
     "text": [
      "moi:402.36\n",
      "known: 430.32\n",
      "learnt: 412.47\n"
     ]
    }
   ],
   "source": [
    "\n",
    "moi = get_GPR_model(get_MOI(), mean, data, 500)\n",
    "print(\"moi:\"+format(moi.log_marginal_likelihood().numpy(),\".2f\"))\n",
    "jitter = 1e-4\n",
    "invar_density = 30\n",
    "latex=\"\"\n",
    "kernel = get_latent_pendulum_invariance(np.radians(150), invar_density, jitter) #switch\n",
    "known = get_GPR_model(kernel, mean, data, 500)\n",
    "print(\"known: \"+format(known.log_marginal_likelihood().numpy(),\".2f\"))\n",
    "i = 0\n",
    "for poly_f_d in [2]:\n",
    "    for poly_g_d in [4]:\n",
    "        kernel = get_latent_polynomial_invariance(np.radians(150), invar_density, jitter, poly_f_d, poly_g_d) #switch\n",
    "        m = get_GPR_model(kernel, mean, data, 3000)\n",
    "        print(\"learnt: \"+format(m.log_marginal_likelihood().numpy(),\".2f\"))"
   ]
  },
  {
   "cell_type": "code",
   "execution_count": 11,
   "metadata": {},
   "outputs": [
    {
     "data": {
      "image/png": "[encoded data removed]",
      "text/plain": [
       "<Figure size 432x288 with 2 Axes>"
      ]
     },
     "metadata": {
      "needs_background": "light"
     },
     "output_type": "display_data"
    }
   ],
   "source": [
    "\n",
    "import matplotlib.pyplot as plt\n",
    "from numpy.polynomial import polynomial\n",
    "x = np.linspace(-np.radians(150),np.radians(150),100)\n",
    "multiplier = -m.kernel.f_poly.numpy()[1]\n",
    "f = polynomial.Polynomial(np.squeeze(kernel.f_poly.numpy()))\n",
    "g = polynomial.Polynomial(np.squeeze(kernel.g_poly.numpy()))\n",
    "\n",
    "fig, (ax1, ax2) = plt.subplots(1, 2)\n",
    "ax1.plot(x, f(x)/multiplier, \"--\", color=\"blue\", label='learnt invariance')\n",
    "ax1.plot(x, -x, label='ground truth', color=\"black\")\n",
    "ax1.set_title(\"f(p)\")\n",
    "ax1.set_xlabel(\"p\")\n",
    "ax1.set_ylabel(\"f\")\n",
    "ax1.legend()\n",
    "ax2.set_title(\"g(q)\")\n",
    "ax2.plot(x, g(x)/multiplier, \"--\", color=\"blue\",label='learnt invariance')\n",
    "ax2.plot(x, -np.sin(x), color=\"black\", label='ground truth')\n",
    "ax2.legend()\n",
    "ax2.set_xlabel(\"q\")\n",
    "ax2.set_ylabel(\"g\")\n",
    "plt.subplots_adjust(left=0.1,\n",
    "                    bottom=0.1, \n",
    "                    right=0.9, \n",
    "                    top=0.9, \n",
    "                    wspace=0.4, \n",
    "                    hspace=0.4)\n",
    "#plt.savefig(\"figures/shm_learnt.pdf\")\n",
    "\n"
   ]
  },
  {
   "cell_type": "code",
   "execution_count": 12,
   "metadata": {},
   "outputs": [
    {
     "data": {
      "text/html": [
       "&lt;__main__.PolynomialLatentInvariance object at 0x7fa35c059040&gt;\n",
       "<table>\n",
       "<thead>\n",
       "<tr><th>name                                      </th><th>class    </th><th>transform  </th><th>prior  </th><th>trainable  </th><th>shape  </th><th>dtype  </th><th>value                      </th></tr>\n",
       "</thead>\n",
       "<tbody>\n",
       "<tr><td>PolynomialLatentInvariance.f_poly         </td><td>Parameter</td><td>Sigmoid    </td><td>Laplace</td><td>True       </td><td>(2, 1) </td><td>float64</td><td>[[0.0001628 ]\n",
       " [0.01336924]]                            </td></tr>\n",
       "<tr><td>PolynomialLatentInvariance.g_poly         </td><td>Parameter</td><td>Sigmoid    </td><td>Laplace</td><td>True       </td><td>(4, 1) </td><td>float64</td><td>[[1.75938672e-04...        </td></tr>\n",
       "<tr><td>PolynomialLatentInvariance.Ka.variance    </td><td>Parameter</td><td>Sigmoid    </td><td>       </td><td>True       </td><td>()     </td><td>float64</td><td>10.0                       </td></tr>\n",
       "<tr><td>PolynomialLatentInvariance.Ka.lengthscales</td><td>Parameter</td><td>Sigmoid    </td><td>       </td><td>True       </td><td>(2,)   </td><td>float64</td><td>[ 2.56207105 10.        ]  </td></tr>\n",
       "<tr><td>PolynomialLatentInvariance.Kv.variance    </td><td>Parameter</td><td>Sigmoid    </td><td>       </td><td>True       </td><td>()     </td><td>float64</td><td>9.190040196770955          </td></tr>\n",
       "<tr><td>PolynomialLatentInvariance.Kv.lengthscales</td><td>Parameter</td><td>Sigmoid    </td><td>       </td><td>True       </td><td>(2,)   </td><td>float64</td><td>[10.          5.16858206]  </td></tr>\n",
       "<tr><td>PolynomialLatentInvariance.Kz.variance    </td><td>Parameter</td><td>Sigmoid    </td><td>       </td><td>True       </td><td>()     </td><td>float64</td><td>0.001                      </td></tr>\n",
       "<tr><td>PolynomialLatentInvariance.Kz.lengthscales</td><td>Parameter</td><td>Sigmoid    </td><td>       </td><td>True       </td><td>(2,)   </td><td>float64</td><td>[9.990435e+00 1.000000e-03]</td></tr>\n",
       "</tbody>\n",
       "</table>"
      ],
      "text/plain": [
       "<__main__.PolynomialLatentInvariance object at 0x7fa35c059040>\n",
       "╒════════════════════════════════════════════╤═══════════╤═════════════╤═════════╤═════════════╤═════════╤═════════╤═════════════════════════════╕\n",
       "│ name                                       │ class     │ transform   │ prior   │ trainable   │ shape   │ dtype   │ value                       │\n",
       "╞════════════════════════════════════════════╪═══════════╪═════════════╪═════════╪═════════════╪═════════╪═════════╪═════════════════════════════╡\n",
       "│ PolynomialLatentInvariance.f_poly          │ Parameter │ Sigmoid     │ Laplace │ True        │ (2, 1)  │ float64 │ [[0.0001628 ]               │\n",
       "│                                            │           │             │         │             │         │         │  [0.01336924]]              │\n",
       "├────────────────────────────────────────────┼───────────┼─────────────┼─────────┼─────────────┼─────────┼─────────┼─────────────────────────────┤\n",
       "│ PolynomialLatentInvariance.g_poly          │ Parameter │ Sigmoid     │ Laplace │ True        │ (4, 1)  │ float64 │ [[1.75938672e-04...         │\n",
       "├────────────────────────────────────────────┼───────────┼─────────────┼─────────┼─────────────┼─────────┼─────────┼─────────────────────────────┤\n",
       "│ PolynomialLatentInvariance.Ka.variance     │ Parameter │ Sigmoid     │         │ True        │ ()      │ float64 │ 10.0                        │\n",
       "├────────────────────────────────────────────┼───────────┼─────────────┼─────────┼─────────────┼─────────┼─────────┼─────────────────────────────┤\n",
       "│ PolynomialLatentInvariance.Ka.lengthscales │ Parameter │ Sigmoid     │         │ True        │ (2,)    │ float64 │ [ 2.56207105 10.        ]   │\n",
       "├────────────────────────────────────────────┼───────────┼─────────────┼─────────┼─────────────┼─────────┼─────────┼─────────────────────────────┤\n",
       "│ PolynomialLatentInvariance.Kv.variance     │ Parameter │ Sigmoid     │         │ True        │ ()      │ float64 │ 9.190040196770955           │\n",
       "├────────────────────────────────────────────┼───────────┼─────────────┼─────────┼─────────────┼─────────┼─────────┼─────────────────────────────┤\n",
       "│ PolynomialLatentInvariance.Kv.lengthscales │ Parameter │ Sigmoid     │         │ True        │ (2,)    │ float64 │ [10.          5.16858206]   │\n",
       "├────────────────────────────────────────────┼───────────┼─────────────┼─────────┼─────────────┼─────────┼─────────┼─────────────────────────────┤\n",
       "│ PolynomialLatentInvariance.Kz.variance     │ Parameter │ Sigmoid     │         │ True        │ ()      │ float64 │ 0.001                       │\n",
       "├────────────────────────────────────────────┼───────────┼─────────────┼─────────┼─────────────┼─────────┼─────────┼─────────────────────────────┤\n",
       "│ PolynomialLatentInvariance.Kz.lengthscales │ Parameter │ Sigmoid     │         │ True        │ (2,)    │ float64 │ [9.990435e+00 1.000000e-03] │\n",
       "╘════════════════════════════════════════════╧═══════════╧═════════════╧═════════╧═════════════╧═════════╧═════════╧═════════════════════════════╛"
      ]
     },
     "execution_count": 12,
     "metadata": {},
     "output_type": "execute_result"
    }
   ],
   "source": [
    "m.kernel"
   ]
  },
  {
   "cell_type": "code",
   "execution_count": 13,
   "metadata": {},
   "outputs": [
    {
     "data": {
      "text/html": [
       "&lt;gpflow.models.gpr.GPR object at 0x7fa3d3b6f430&gt;\n",
       "<table>\n",
       "<thead>\n",
       "<tr><th>name                      </th><th>class    </th><th>transform       </th><th>prior  </th><th>trainable  </th><th>shape  </th><th>dtype  </th><th>value                    </th></tr>\n",
       "</thead>\n",
       "<tbody>\n",
       "<tr><td>GPR.kernel.Ka.variance    </td><td>Parameter</td><td>Sigmoid         </td><td>       </td><td>True       </td><td>()     </td><td>float64</td><td>9.999996808162264        </td></tr>\n",
       "<tr><td>GPR.kernel.Ka.lengthscales</td><td>Parameter</td><td>Sigmoid         </td><td>       </td><td>True       </td><td>(2,)   </td><td>float64</td><td>[2.12455228 3.03976511]  </td></tr>\n",
       "<tr><td>GPR.kernel.Kv.variance    </td><td>Parameter</td><td>Sigmoid         </td><td>       </td><td>True       </td><td>()     </td><td>float64</td><td>9.99998472059606         </td></tr>\n",
       "<tr><td>GPR.kernel.Kv.lengthscales</td><td>Parameter</td><td>Sigmoid         </td><td>       </td><td>True       </td><td>(2,)   </td><td>float64</td><td>[10.          4.91565665]</td></tr>\n",
       "<tr><td>GPR.kernel.Kz.variance    </td><td>Parameter</td><td>Sigmoid         </td><td>       </td><td>True       </td><td>()     </td><td>float64</td><td>0.2468372044985027       </td></tr>\n",
       "<tr><td>GPR.kernel.Kz.lengthscales</td><td>Parameter</td><td>Sigmoid         </td><td>       </td><td>True       </td><td>(2,)   </td><td>float64</td><td>[9.99999997 0.05315069]  </td></tr>\n",
       "<tr><td>GPR.likelihood.variance   </td><td>Parameter</td><td>Softplus + Shift</td><td>       </td><td>True       </td><td>()     </td><td>float64</td><td>1.0000000172253073e-06   </td></tr>\n",
       "</tbody>\n",
       "</table>"
      ],
      "text/plain": [
       "<gpflow.models.gpr.GPR object at 0x7fa3d3b6f430>\n",
       "╒════════════════════════════╤═══════════╤══════════════════╤═════════╤═════════════╤═════════╤═════════╤═══════════════════════════╕\n",
       "│ name                       │ class     │ transform        │ prior   │ trainable   │ shape   │ dtype   │ value                     │\n",
       "╞════════════════════════════╪═══════════╪══════════════════╪═════════╪═════════════╪═════════╪═════════╪═══════════════════════════╡\n",
       "│ GPR.kernel.Ka.variance     │ Parameter │ Sigmoid          │         │ True        │ ()      │ float64 │ 9.999996808162264         │\n",
       "├────────────────────────────┼───────────┼──────────────────┼─────────┼─────────────┼─────────┼─────────┼───────────────────────────┤\n",
       "│ GPR.kernel.Ka.lengthscales │ Parameter │ Sigmoid          │         │ True        │ (2,)    │ float64 │ [2.12455228 3.03976511]   │\n",
       "├────────────────────────────┼───────────┼──────────────────┼─────────┼─────────────┼─────────┼─────────┼───────────────────────────┤\n",
       "│ GPR.kernel.Kv.variance     │ Parameter │ Sigmoid          │         │ True        │ ()      │ float64 │ 9.99998472059606          │\n",
       "├────────────────────────────┼───────────┼──────────────────┼─────────┼─────────────┼─────────┼─────────┼───────────────────────────┤\n",
       "│ GPR.kernel.Kv.lengthscales │ Parameter │ Sigmoid          │         │ True        │ (2,)    │ float64 │ [10.          4.91565665] │\n",
       "├────────────────────────────┼───────────┼──────────────────┼─────────┼─────────────┼─────────┼─────────┼───────────────────────────┤\n",
       "│ GPR.kernel.Kz.variance     │ Parameter │ Sigmoid          │         │ True        │ ()      │ float64 │ 0.2468372044985027        │\n",
       "├────────────────────────────┼───────────┼──────────────────┼─────────┼─────────────┼─────────┼─────────┼───────────────────────────┤\n",
       "│ GPR.kernel.Kz.lengthscales │ Parameter │ Sigmoid          │         │ True        │ (2,)    │ float64 │ [9.99999997 0.05315069]   │\n",
       "├────────────────────────────┼───────────┼──────────────────┼─────────┼─────────────┼─────────┼─────────┼───────────────────────────┤\n",
       "│ GPR.likelihood.variance    │ Parameter │ Softplus + Shift │         │ True        │ ()      │ float64 │ 1.0000000172253073e-06    │\n",
       "╘════════════════════════════╧═══════════╧══════════════════╧═════════╧═════════════╧═════════╧═════════╧═══════════════════════════╛"
      ]
     },
     "execution_count": 13,
     "metadata": {},
     "output_type": "execute_result"
    }
   ],
   "source": [
    "known"
   ]
  },
  {
   "cell_type": "code",
   "execution_count": 15,
   "metadata": {},
   "outputs": [
    {
     "name": "stdout",
     "output_type": "stream",
     "text": [
      "402.3628403403827\n",
      "430.3205350415423\n",
      "412.4744479477166\n",
      "0\n",
      "0.010115834873698323\n",
      "0.009767138438018345\n",
      "0.00990122985475182g\n",
      "1\n",
      "0.4700610521714873g\n",
      "0.027124713580730233\n",
      "0.02215278555260694g\n",
      "2\n",
      "0.14963579003715252g\n",
      "0.03733521452397092g\n",
      "0.014555156875517682\n",
      "3\n",
      "0.4305166717638401gg\n",
      "0.037056816452091856\n",
      "0.02119181987118322g\n",
      "4\n",
      "0.3405295234409464g\n",
      "0.02434914467930442g\n",
      "0.021328721999030114\n"
     ]
    }
   ],
   "source": [
    "eva_future_moi = []\n",
    "eva_future_inv = []\n",
    "eva_future_inv_p = []\n",
    "\n",
    "dynamics = damped_pendulum_dynamics\n",
    "\n",
    "lml_moi = moi.log_marginal_likelihood().numpy()\n",
    "lml_inv = known.log_marginal_likelihood().numpy()\n",
    "lml_inv_p = m.log_marginal_likelihood().numpy()\n",
    "\n",
    "#grid_moi = (evaluate_model_grid(moi, grids, dynamics))\n",
    "#grid_inv = (evaluate_model_grid(known, grids, dynamics))\n",
    "#grid_inv_p = (evaluate_model_grid(m, grids, dynamics))\n",
    "print(lml_moi)\n",
    "print(lml_inv)\n",
    "print(lml_inv_p)\n",
    "def energy(X):\n",
    "    return 0.5*tf.square(X[:,1])-np.cos(X[:,0])\n",
    "\n",
    "for i in range(5):\n",
    "    print(i)\n",
    "    test_starting_position = np.radians(np.random.uniform(-max_x, max_x))\n",
    "    test_starting_velocity = np.radians(np.random.uniform(-max_v, max_v))\n",
    "\n",
    "#    print(test_starting_position)\n",
    "#    print(test_starting_velocity)\n",
    "    test_starting = (test_starting_position, test_starting_velocity)\n",
    "    time_setting = (testing_time, time_step)\n",
    "\n",
    "    evaluate_moi = evaluate_model_future(moi, test_starting, dynamics,time_setting, energy)\n",
    "    eva_future_moi.append(evaluate_moi[0])\n",
    "    print(evaluate_moi[0])\n",
    "\n",
    "    evaluate_invariance =evaluate_model_future(known, test_starting, dynamics,time_setting, energy)\n",
    "    eva_future_inv.append(evaluate_invariance[0])\n",
    "    print(evaluate_invariance[0])\n",
    "\n",
    "    evaluate_invariance_p =evaluate_model_future(m, test_starting, dynamics, time_setting, energy)#, (m.kernel.inv_f, m.kernel.inv_g), (lambda x: x, lambda x:np.sin(x)))\n",
    "    eva_future_inv_p.append(evaluate_invariance_p[0])\n",
    "    print(evaluate_invariance_p[0])\n"
   ]
  },
  {
   "cell_type": "code",
   "execution_count": 16,
   "metadata": {},
   "outputs": [
    {
     "name": "stdout",
     "output_type": "stream",
     "text": [
      "Log Marginal Likelihood & 402.36 & 430.32 & 412.47 \\\\\n",
      "MSE & 0.2802 & 0.0271 & 0.0178 \\\\\n"
     ]
    }
   ],
   "source": [
    "print(\"Log Marginal Likelihood & \" + format((lml_moi),\".2f\")+\" & \"+ format((lml_inv),\".2f\") + \" & \"+ format((lml_inv_p),\".2f\") +' \\\\\\\\')\n",
    "print(\"MSE & \"+ format((np.mean(eva_future_moi)),\".4f\")+\" & \"+format(np.mean(eva_future_inv),\".4f\")+\" & \"+format((np.mean(eva_future_inv_p)),\".4f\")+ ' \\\\\\\\')"
   ]
  },
  {
   "cell_type": "code",
   "execution_count": 17,
   "metadata": {},
   "outputs": [
    {
     "data": {
      "text/plain": [
       "<matplotlib.legend.Legend at 0x7fa3d3ba8280>"
      ]
     },
     "execution_count": 17,
     "metadata": {},
     "output_type": "execute_result"
    },
    {
     "data": {
      "image/png": "[encoded data removed]",
      "text/plain": [
       "<Figure size 432x288 with 1 Axes>"
      ]
     },
     "metadata": {
      "needs_background": "light"
     },
     "output_type": "display_data"
    }
   ],
   "source": [
    "\n",
    "import matplotlib.pyplot as plt\n",
    "fig, ax = plt.subplots()\n",
    "plt.plot(evaluate_moi[4][:,0],evaluate_moi[4][:,1], label=\"ground truth\", color=\"black\", linewidth=2)\n",
    "plt.plot(evaluate_moi[1][:,0],evaluate_moi[1][:,1], \"--\", label='RBF', color=\"red\")\n",
    "plt.plot(evaluate_invariance[1][:,0],evaluate_invariance[1][:,1], \"--\", label=\"known invariance\", color=\"blue\")\n",
    "plt.plot(evaluate_invariance_p[1][:,0],evaluate_invariance_p[1][:,1], \"--\", label=\"learnt invariance\", color=\"green\")\n",
    "plt.scatter(evaluate_moi[4][0,0],evaluate_moi[4][0,1],color=\"red\")\n",
    "plt.xlabel(\"q\")\n",
    "plt.ylabel(\"p\")\n",
    "plt.legend()\n",
    "#plt.savefig(\"figures/shm_predicted.pdf\")"
   ]
  },
  {
   "cell_type": "code",
   "execution_count": 18,
   "metadata": {},
   "outputs": [
    {
     "data": {
      "text/plain": [
       "Text(0, 0.5, 'E')"
      ]
     },
     "execution_count": 18,
     "metadata": {},
     "output_type": "execute_result"
    },
    {
     "data": {
      "image/png": "[encoded data removed]",
      "text/plain": [
       "<Figure size 432x288 with 1 Axes>"
      ]
     },
     "metadata": {
      "needs_background": "light"
     },
     "output_type": "display_data"
    }
   ],
   "source": [
    "\n",
    "t = np.linspace(0, testing_time, int(testing_time/time_step))\n",
    "plt.plot(t, tf.squeeze(evaluate_invariance[5])+1, label=\"ground truth\", color=\"black\")\n",
    "plt.plot(t, tf.squeeze(evaluate_moi[6])+1, \"--\", label=\"RBF\", color=\"red\")\n",
    "plt.plot(t, tf.squeeze(evaluate_invariance[6])+1,\"--\" ,  label=\"known invariance\", color=\"blue\")\n",
    "plt.plot(t, tf.squeeze(evaluate_invariance_p[6])+1, \"--\",label=\"learnt invariance\", color=\"green\")\n",
    "plt.legend()\n",
    "plt.xlabel(\"t\")\n",
    "plt.ylabel(\"E\")\n",
    "#plt.savefig(\"figures/shm_energy.pdf\")"
   ]
  },
  {
   "cell_type": "code",
   "execution_count": null,
   "metadata": {},
   "outputs": [],
   "source": []
  }
 ],
 "metadata": {
  "kernelspec": {
   "display_name": "Python 3",
   "language": "python",
   "name": "python3"
  },
  "language_info": {
   "codemirror_mode": {
    "name": "ipython",
    "version": 3
   },
   "file_extension": ".py",
   "mimetype": "text/x-python",
   "name": "python",
   "nbconvert_exporter": "python",
   "pygments_lexer": "ipython3",
   "version": "3.8.10"
  },
  "orig_nbformat": 4
 },
 "nbformat": 4,
 "nbformat_minor": 2
}
