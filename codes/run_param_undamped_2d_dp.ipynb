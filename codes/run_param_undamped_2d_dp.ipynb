{
 "cells": [
  {
   "cell_type": "code",
   "execution_count": 1,
   "metadata": {},
   "outputs": [],
   "source": [
    "import gpflow\n",
    "import numpy as np\n",
    "import tensorflow as tf\n",
    "import tensorflow_probability as tfp\n",
    "from scipy.integrate import solve_ivp, odeint\n",
    "from gpflow.utilities import print_summary, positive, to_default_float, set_trainable\n",
    "from invariance_kernels import ZeroMean , get_MOI, get_MOI_2D \n",
    "from invariance_functions import degree_of_freedom, get_GPR_model_2D, get_SHM_data_2D, get_double_pendulum_data, evaluate_model_future_2D, evaluate_model_grid_2D, SHM_dynamics1_2D, SHM_dynamics2_2D, get_GPR_model_GD_2D, double_pendulum_dynamics1, double_pendulum_dynamics2\n",
    "from local_invariance_kernels import  get_polynomial_local_invariance_2D, get_SHM_local_invariance_2D, get_double_pendulum_local_invariance\n",
    "from sklearn.preprocessing import StandardScaler, MinMaxScaler\n",
    "import joblib\n",
    "import os\n",
    "import matplotlib.pyplot as plt\n",
    "os.environ[\"CUDA_VISIBLE_DEVICES\"] = '3'"
   ]
  },
  {
   "cell_type": "code",
   "execution_count": 2,
   "metadata": {},
   "outputs": [
    {
     "name": "stdout",
     "output_type": "stream",
     "text": [
      "[-38.50557731  26.48697226  45.91064232]\n",
      "[ 22.32643635 -13.12001265  59.36865311]\n",
      "[-4.29921    -7.14110347  2.17350707]\n",
      "[ 1.52366438 -3.92936496 -3.8473099 ]\n"
     ]
    }
   ],
   "source": [
    "\n",
    "mean = ZeroMean(4) \n",
    "\n",
    "time_step = 0.01\n",
    "training_time = 0.1\n",
    "testing_time = 3\n",
    "\n",
    "max_x = 60\n",
    "max_v = 10\n",
    "n_train = 3\n",
    "train_starting_position1 = np.random.uniform(-max_x, max_x, (n_train))\n",
    "train_starting_position2 = np.random.uniform(-max_x, max_x, (n_train))\n",
    "train_starting_velocity1 = np.random.uniform(-max_v, max_v, (n_train))\n",
    "train_starting_velocity2 = np.random.uniform(-max_v, max_v, (n_train))\n",
    "\n",
    "print(train_starting_position1)\n",
    "print(train_starting_position2)\n",
    "print(train_starting_velocity1)\n",
    "print(train_starting_velocity2)\n",
    "\n",
    "data2 = get_double_pendulum_data(time_step, training_time, 1e-8, train_starting_position1, train_starting_position2, train_starting_velocity1, train_starting_velocity2) #switch\n"
   ]
  },
  {
   "cell_type": "code",
   "execution_count": 7,
   "metadata": {},
   "outputs": [],
   "source": [
    "\n",
    "scalerX = StandardScaler(with_mean=False, with_std=False).fit(data2[0])\n",
    "scalerY = StandardScaler(with_mean=False, with_std=False).fit(data2[1])\n",
    "#scalerX = MinMaxScaler((-1,1)).fit(data2[0])\n",
    "#scalerY = MinMaxScaler((-1,1)).fit(data2[1])\n",
    "X = scalerX.transform(data2[0])\n",
    "Y = scalerY.transform(data2[1])\n",
    "data = (X, Y)\n",
    "scalers = (scalerX, scalerY)\n",
    "time_setting = (testing_time, time_step)\n",
    "dynamics = (double_pendulum_dynamics1, double_pendulum_dynamics2)\n",
    "jitter = 1e-3\n",
    "\n",
    "#joblib.dump(scalerX, 'shm_2d/scalerX.gz')\n",
    "#joblib.dump(scalerY, 'shm_2d/scalerY.gz')"
   ]
  },
  {
   "cell_type": "code",
   "execution_count": 13,
   "metadata": {},
   "outputs": [
    {
     "name": "stdout",
     "output_type": "stream",
     "text": [
      "moi\n",
      "454.0988379853977\n",
      "known\n",
      "463.49316261385616\n",
      "learnt\n",
      "495.61300429432316\n"
     ]
    }
   ],
   "source": [
    "\n",
    "eva_future_moi = []\n",
    "eva_future_known = []\n",
    "eva_future_learnt = []\n",
    "\n",
    "print(\"moi\")\n",
    "moi = get_GPR_model_2D(get_MOI_2D(), mean, data, 100)\n",
    "print(moi.log_marginal_likelihood().numpy())\n",
    "try:\n",
    "    n_neighbours =  80\n",
    "    print(\"known\")\n",
    "    kernel_known = get_double_pendulum_local_invariance(0.1, 1.5, n_neighbours, jitter) #switch\n",
    "    known = get_GPR_model_2D(kernel_known, mean, data, iterations=1000)\n",
    "    print(known.log_marginal_likelihood().numpy())\n",
    "\n",
    "    polynomial_degree = 3\n",
    "    print(\"learnt\")\n",
    "#    X, Y = data\n",
    "    kernel = get_polynomial_local_invariance_2D(0.1, 1.5, n_neighbours, jitter, polynomial_degree) \n",
    "    model = get_GPR_model_2D(kernel, mean, data, iterations=10000, old_model=known)\n",
    "#    ckpt = tf.train.Checkpoint(model=model)\n",
    "#    manager = tf.train.CheckpointManager(ckpt, \"shm_2d\", max_to_keep=3)\n",
    "#    model = get_GPR_model_GD_2D(model=model, iterations=10000, lr=0.001, manager=manager)\n",
    "    print(model.log_marginal_likelihood().numpy())\n",
    "except tf.errors.InvalidArgumentError:\n",
    "    print(\"jitter too small\")"
   ]
  },
  {
   "cell_type": "code",
   "execution_count": 9,
   "metadata": {},
   "outputs": [
    {
     "name": "stdout",
     "output_type": "stream",
     "text": [
      "╒══════════════════════════════════════════════╤═══════════╤═════════════╤═════════╤═════════════╤═════════╤═════════╤══════════════════════════════════════════════════════╕\n",
      "│ name                                         │ class     │ transform   │ prior   │ trainable   │ shape   │ dtype   │ value                                                │\n",
      "╞══════════════════════════════════════════════╪═══════════╪═════════════╪═════════╪═════════════╪═════════╪═════════╪══════════════════════════════════════════════════════╡\n",
      "│ PolynomialLocalInvariance2D.Ka1.variance     │ Parameter │ Sigmoid     │         │ True        │ ()      │ float64 │ 4.999888535164292                                    │\n",
      "├──────────────────────────────────────────────┼───────────┼─────────────┼─────────┼─────────────┼─────────┼─────────┼──────────────────────────────────────────────────────┤\n",
      "│ PolynomialLocalInvariance2D.Ka1.lengthscales │ Parameter │ Sigmoid     │         │ True        │ (4,)    │ float64 │ [1.26507518, 1.744533, 4.50757167...                 │\n",
      "├──────────────────────────────────────────────┼───────────┼─────────────┼─────────┼─────────────┼─────────┼─────────┼──────────────────────────────────────────────────────┤\n",
      "│ PolynomialLocalInvariance2D.Ka2.variance     │ Parameter │ Sigmoid     │         │ True        │ ()      │ float64 │ 1.520120038475928                                    │\n",
      "├──────────────────────────────────────────────┼───────────┼─────────────┼─────────┼─────────────┼─────────┼─────────┼──────────────────────────────────────────────────────┤\n",
      "│ PolynomialLocalInvariance2D.Ka2.lengthscales │ Parameter │ Sigmoid     │         │ True        │ (4,)    │ float64 │ [0.88715979, 1.18989718, 4.99988623...               │\n",
      "├──────────────────────────────────────────────┼───────────┼─────────────┼─────────┼─────────────┼─────────┼─────────┼──────────────────────────────────────────────────────┤\n",
      "│ PolynomialLocalInvariance2D.Kv1.variance     │ Parameter │ Sigmoid     │         │ True        │ ()      │ float64 │ 2.219686311620278                                    │\n",
      "├──────────────────────────────────────────────┼───────────┼─────────────┼─────────┼─────────────┼─────────┼─────────┼──────────────────────────────────────────────────────┤\n",
      "│ PolynomialLocalInvariance2D.Kv1.lengthscales │ Parameter │ Sigmoid     │         │ True        │ (4,)    │ float64 │ [4.99997838, 4.99998721, 2.25078251...               │\n",
      "├──────────────────────────────────────────────┼───────────┼─────────────┼─────────┼─────────────┼─────────┼─────────┼──────────────────────────────────────────────────────┤\n",
      "│ PolynomialLocalInvariance2D.Kv2.variance     │ Parameter │ Sigmoid     │         │ True        │ ()      │ float64 │ 1.485897846689734                                    │\n",
      "├──────────────────────────────────────────────┼───────────┼─────────────┼─────────┼─────────────┼─────────┼─────────┼──────────────────────────────────────────────────────┤\n",
      "│ PolynomialLocalInvariance2D.Kv2.lengthscales │ Parameter │ Sigmoid     │         │ True        │ (4,)    │ float64 │ [4.99996456, 4.98999943, 4.9922351...                │\n",
      "├──────────────────────────────────────────────┼───────────┼─────────────┼─────────┼─────────────┼─────────┼─────────┼──────────────────────────────────────────────────────┤\n",
      "│ PolynomialLocalInvariance2D.poly             │ Parameter │ Sigmoid     │         │ True        │ (4, 35) │ float64 │ [[8.90314238e-03, 8.44427738e-02, -9.45179892e-02... │\n",
      "╘══════════════════════════════════════════════╧═══════════╧═════════════╧═════════╧═════════════╧═════════╧═════════╧══════════════════════════════════════════════════════╛\n"
     ]
    }
   ],
   "source": [
    "print_summary(kernel)"
   ]
  },
  {
   "cell_type": "code",
   "execution_count": null,
   "metadata": {},
   "outputs": [],
   "source": [
    "ckpt.restore(manager.latest_check)"
   ]
  },
  {
   "cell_type": "code",
   "execution_count": 6,
   "metadata": {},
   "outputs": [
    {
     "data": {
      "text/plain": [
       "<Parameter: name=sigmoid, dtype=float64, shape=[4, 35], fn=\"sigmoid\", numpy=\n",
       "array([[-1.13204342e-01, -7.20906742e-01, -1.27665039e-01,\n",
       "         2.87768900e+00, -4.65827733e-02,  1.69343010e+00,\n",
       "        -3.04747888e-01, -1.07677205e+00, -1.62275732e+00,\n",
       "        -1.11378669e+00,  8.23255539e-01, -3.82899897e-01,\n",
       "         8.33590227e-02, -1.10966391e+00,  8.55284841e-01,\n",
       "         1.82033932e+00, -7.22331624e-01,  1.97539591e+00,\n",
       "        -9.19257838e-01, -8.55245687e-01,  3.71525809e-01,\n",
       "         8.88552812e-01,  8.11580334e-01,  7.30724117e-01,\n",
       "         8.04439524e-01,  1.16674229e+00,  1.81688754e+00,\n",
       "        -3.65721055e-02,  3.88235801e-01, -9.20631012e-01,\n",
       "         1.23497225e+00,  9.16889705e-01, -2.03160286e+00,\n",
       "         1.80194418e+00, -2.82039581e-01],\n",
       "       [-3.45534971e-02, -3.45436803e-01, -9.23394007e-02,\n",
       "         1.30748201e+00,  1.87125881e+00,  2.02336169e+00,\n",
       "         6.04272860e-01, -1.78994986e+00,  5.70863847e-01,\n",
       "        -4.31163991e-01, -1.73724108e-01, -2.12225632e-03,\n",
       "         3.82742427e-01, -1.26608751e+00, -4.13123614e-02,\n",
       "         1.03108623e+00, -3.45494287e-01,  7.43485127e-01,\n",
       "         2.57280453e+00, -1.10142940e+00, -3.47363535e-01,\n",
       "         1.58923725e+00, -5.91284359e-02, -5.74771208e-01,\n",
       "        -7.20947227e-01,  4.31769675e-01,  2.36323554e-01,\n",
       "         1.26326584e+00,  7.89933353e-02, -1.79914484e+00,\n",
       "         1.14340505e+00,  1.07577636e+00,  1.82424519e-02,\n",
       "         9.12153435e-01, -1.39798342e+00],\n",
       "       [-1.62197993e-01,  2.65041805e+00, -9.60704682e-02,\n",
       "         1.80913537e-01,  1.07358210e+00, -1.34890025e-01,\n",
       "        -4.53275246e-01, -4.71799134e-01, -1.61031190e-01,\n",
       "        -5.96288285e-01,  7.05573550e-01, -1.26075101e+00,\n",
       "         6.10086591e-01, -6.29730025e-01, -1.03884202e+00,\n",
       "         7.37347963e-01,  2.21317600e-01,  2.95129210e-01,\n",
       "         1.55205608e-01,  2.25459935e-01, -3.62436869e-02,\n",
       "        -7.40326487e-01,  1.35834413e+00, -1.02879278e+00,\n",
       "         1.53361090e+00, -1.56335651e-01, -4.84180797e-01,\n",
       "        -1.22949333e-01,  8.88916823e-01,  1.16975855e+00,\n",
       "        -1.42374842e+00, -1.45035385e-01,  1.64496075e+00,\n",
       "        -1.32838231e-01, -7.07604664e-01],\n",
       "       [ 4.49153554e-01, -1.40933993e+00,  2.88749566e+00,\n",
       "        -6.89988259e-01,  1.81729585e-02,  1.06840244e+00,\n",
       "         1.43545785e+00, -4.62758439e-02,  1.90794825e-01,\n",
       "        -5.74530191e-01,  8.51791133e-01,  1.03546548e-01,\n",
       "         1.91425797e-01, -3.03341742e-01, -1.14041472e-01,\n",
       "         2.23534023e+00, -5.37141518e-01, -4.79166072e-01,\n",
       "         5.32956214e-01,  1.65510744e-01,  1.87663712e-01,\n",
       "        -5.49799347e-01, -6.19154432e-01,  7.59237995e-01,\n",
       "        -9.41972412e-01,  8.93872033e-01, -7.35566494e-01,\n",
       "         1.09444228e+00,  1.43678119e-02,  1.06549137e+00,\n",
       "         1.01162408e+00, -9.79677036e-01,  5.21169383e-01,\n",
       "        -1.44131740e+00,  3.59683920e-01]])>"
      ]
     },
     "execution_count": 6,
     "metadata": {},
     "output_type": "execute_result"
    }
   ],
   "source": [
    "kernel.poly"
   ]
  },
  {
   "cell_type": "code",
   "execution_count": 14,
   "metadata": {},
   "outputs": [
    {
     "name": "stdout",
     "output_type": "stream",
     "text": [
      "0\n",
      "(0.2176371316680551, -0.9697344905045876, 0.1466496909744079, 0.12138056434877603)\n",
      "0.15450087819942152\n"
     ]
    },
    {
     "data": {
      "image/png": "[encoded data removed]",
      "text/plain": [
       "<Figure size 432x288 with 1 Axes>"
      ]
     },
     "metadata": {
      "needs_background": "light"
     },
     "output_type": "display_data"
    }
   ],
   "source": [
    "\n",
    "def energy(X):\n",
    "    return -2*np.cos(X[:,0])-np.cos(X[:,1])+0.5*tf.square(X[:,2])+0.5*(tf.square(X[:,2])+tf.square(X[:,3])+2*X[:,2]*X[:,3]*np.cos(X[:,0]-X[:,1]))\n",
    "for i in range(1):\n",
    "    print(i)\n",
    "    test_starting_position1 = np.radians(np.random.uniform(-max_x, max_x))\n",
    "    test_starting_position2 = np.radians(np.random.uniform(-max_x, max_x))\n",
    "    test_starting_velocity1 = np.radians(np.random.uniform(-max_x/5, max_x/5))\n",
    "    test_starting_velocity2 = np.radians(np.random.uniform(-max_x/5, max_x/5))\n",
    "    test_starting = (test_starting_position1, test_starting_position2, test_starting_velocity1, test_starting_velocity2)\n",
    "    print(test_starting)\n",
    "    evaluate_moi = evaluate_model_future_2D(moi, test_starting, dynamics, time_setting, scalers, energy)\n",
    "    eva_future_moi.append(evaluate_moi[0])\n",
    "    evaluate_known = evaluate_model_future_2D(known, test_starting, dynamics, time_setting, scalers, energy)\n",
    "    eva_future_known.append(evaluate_known[0])\n",
    "    evaluate_learnt = evaluate_model_future_2D(model, test_starting, dynamics, time_setting, scalers, energy)\n",
    "    eva_future_learnt.append(evaluate_learnt[0])\n",
    "    print(evaluate_known[0])\n",
    "    plt.plot(evaluate_learnt[5], label=\"true\")\n",
    "    plt.plot(evaluate_moi[6], label=\"RBF\")\n",
    "    plt.plot(evaluate_known[6], label=\"known\")\n",
    "    plt.plot(evaluate_learnt[6], label=\"learnt\")\n",
    "    plt.legend()"
   ]
  },
  {
   "cell_type": "code",
   "execution_count": 15,
   "metadata": {},
   "outputs": [
    {
     "data": {
      "image/png": "[encoded data removed]",
      "text/plain": [
       "<Figure size 432x288 with 4 Axes>"
      ]
     },
     "metadata": {
      "needs_background": "light"
     },
     "output_type": "display_data"
    }
   ],
   "source": [
    "\n",
    "import matplotlib.pyplot as plt\n",
    "t = np.linspace(0, testing_time, int(testing_time/time_step))\n",
    "fig, axs = plt.subplots(2,2)\n",
    "axs[0][0].plot(t,evaluate_moi[1][:,0], \"--\", label=\"RBF\", color=\"red\")\n",
    "axs[0][0].plot(t,evaluate_known[1][:,0], \"--\", label=\"known\", color=\"blue\")\n",
    "axs[0][0].plot(t,evaluate_learnt[1][:,0], \"--\", label=\"learnt\", color=\"green\")\n",
    "axs[0][0].plot(t,evaluate_known[4][:,0],label=\"ground truth\", color=\"black\")\n",
    "axs[0][0].set_title(\"q_1\")\n",
    "#axs[0][0].legend()\n",
    "\n",
    "axs[0][1].plot(t,evaluate_moi[1][:,1], \"--\", label=\"RBF\", color=\"red\")\n",
    "axs[0][1].plot(t,evaluate_known[1][:,1], \"--\", label=\"known\", color=\"blue\")\n",
    "axs[0][1].plot(t,evaluate_learnt[1][:,1], \"--\", label=\"learnt\", color=\"green\")\n",
    "axs[0][1].plot(t,evaluate_known[4][:,1],label=\"ground truth\", color=\"black\")\n",
    "axs[0][1].set_title(\"q_2\")\n",
    "#axs[0][1].legend()\n",
    "\n",
    "axs[1][0].plot(t,evaluate_moi[1][:,2], \"--\", label=\"RBF\", color=\"red\")\n",
    "axs[1][0].plot(t,evaluate_known[1][:,2], \"--\", label=\"known\", color=\"blue\")\n",
    "axs[1][0].plot(t,evaluate_learnt[1][:,2], \"--\", label=\"learnt\", color=\"green\")\n",
    "axs[1][0].plot(t,evaluate_known[4][:,2],label=\"ground truth\", color=\"black\")\n",
    "axs[1][0].set_title(\"p_1\")\n",
    "#axs[1][0].legend()\n",
    "\n",
    "axs[1][1].plot(t,evaluate_moi[1][:,3], \"--\", label=\"RBF\", color=\"red\")\n",
    "axs[1][1].plot(t,evaluate_known[1][:,3], \"--\", label=\"known\", color=\"blue\")\n",
    "axs[1][1].plot(t,evaluate_learnt[1][:,3], \"--\", label=\"learnt\", color=\"green\")\n",
    "axs[1][1].plot(t,evaluate_known[4][:,3],label=\"ground truth\", color=\"black\")\n",
    "axs[1][1].set_title(\"p_2\")\n",
    "#axs[1][1].legend()\n",
    "\n",
    "plt.subplots_adjust(left=0.2,\n",
    "                    bottom=0.2, \n",
    "                    right=0.9, \n",
    "                    top=0.9, \n",
    "                    wspace=0.4, \n",
    "                    hspace=0.4)\n",
    "fig.tight_layout()\n"
   ]
  },
  {
   "cell_type": "code",
   "execution_count": 17,
   "metadata": {},
   "outputs": [
    {
     "data": {
      "text/plain": [
       "0.4735951169274517"
      ]
     },
     "execution_count": 17,
     "metadata": {},
     "output_type": "execute_result"
    }
   ],
   "source": [
    "evaluate_moi[0]"
   ]
  }
 ],
 "metadata": {
  "kernelspec": {
   "display_name": "Python 3",
   "language": "python",
   "name": "python3"
  },
  "language_info": {
   "codemirror_mode": {
    "name": "ipython",
    "version": 3
   },
   "file_extension": ".py",
   "mimetype": "text/x-python",
   "name": "python",
   "nbconvert_exporter": "python",
   "pygments_lexer": "ipython3",
   "version": "3.8.10"
  },
  "orig_nbformat": 4
 },
 "nbformat": 4,
 "nbformat_minor": 2
}
