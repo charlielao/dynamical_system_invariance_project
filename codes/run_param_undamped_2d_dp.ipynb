{
 "cells": [
  {
   "cell_type": "code",
   "execution_count": 1,
   "metadata": {},
   "outputs": [],
   "source": [
    "import gpflow\n",
    "import numpy as np\n",
    "import tensorflow as tf\n",
    "import tensorflow_probability as tfp\n",
    "from scipy.integrate import solve_ivp, odeint\n",
    "from gpflow.utilities import print_summary, positive, to_default_float, set_trainable\n",
    "from invariance_kernels import *\n",
    "from invariance_functions import *\n",
    "from invariance_kernels_2d import *\n",
    "from sklearn.preprocessing import StandardScaler, MinMaxScaler\n",
    "import joblib\n",
    "import os\n",
    "import matplotlib.pyplot as plt\n",
    "os.environ[\"CUDA_VISIBLE_DEVICES\"] = '1'"
   ]
  },
  {
   "cell_type": "code",
   "execution_count": 2,
   "metadata": {},
   "outputs": [
    {
     "name": "stdout",
     "output_type": "stream",
     "text": [
      "[  6.5173148  -55.91507829  57.9372309   48.40198743 -46.08412969]\n",
      "[ -6.6459755  -14.24441602  57.21187739  11.49518814  25.96169504]\n",
      "[ 2.46367364  7.24190188 -2.39073576 -4.94125064 -0.27507024]\n",
      "[ 9.66357864  4.48530939  3.38532653  5.18522774 -6.70796586]\n"
     ]
    }
   ],
   "source": [
    "\n",
    "mean = ZeroMean(4) \n",
    "\n",
    "time_step = 0.01\n",
    "training_time = 0.1\n",
    "testing_time = 1\n",
    "\n",
    "max_x = 60\n",
    "max_v = 10 \n",
    "n_train = 5\n",
    "train_starting_position1 = np.random.uniform(-max_x, max_x, (n_train))\n",
    "train_starting_position2 = np.random.uniform(-max_x, max_x, (n_train))\n",
    "train_starting_velocity1 = np.random.uniform(-max_v, max_v, (n_train))\n",
    "train_starting_velocity2 = np.random.uniform(-max_v, max_v, (n_train))\n",
    "\n",
    "print(train_starting_position1)\n",
    "print(train_starting_position2)\n",
    "print(train_starting_velocity1)\n",
    "print(train_starting_velocity2)\n",
    "train_starting_position1 = [-35.04274277,-6.76724423,17.54967141,38.53874525, -46.41330999]\n",
    "train_starting_position2 = [-38.8942861,-42.51860058,15.68678933, -21.96409073, 2.66426347]\n",
    "train_starting_velocity1 = [-4.48414056, -6.84033471, -3.711912,5.25853915,3.07583679]\n",
    "train_starting_velocity2 = [-6.65967739,0.06762814,0.39224133,8.5177379, 6.983022]\n",
    "\n",
    "data2 = get_double_pendulum_data(time_step, training_time, 1e-8, train_starting_position1, train_starting_position2, train_starting_velocity1, train_starting_velocity2) #switch\n"
   ]
  },
  {
   "cell_type": "code",
   "execution_count": 3,
   "metadata": {},
   "outputs": [],
   "source": [
    "\n",
    "scalerX = StandardScaler(with_mean=False, with_std=False).fit(data2[0])\n",
    "scalerY = StandardScaler(with_mean=False, with_std=False).fit(data2[1])\n",
    "#scalerX = StandardScaler().fit(data2[0])\n",
    "#scalerY = StandardScaler().fit(data2[1])\n",
    "#scalerX = MinMaxScaler((-1,1)).fit(data2[0])\n",
    "#scalerY = MinMaxScaler((-1,1)).fit(data2[1])\n",
    "X = scalerX.transform(data2[0])\n",
    "Y = scalerY.transform(data2[1])\n",
    "data = (X, Y)\n",
    "scalers = (scalerX, scalerY)\n",
    "time_setting = (testing_time, time_step)\n",
    "dynamics = (double_pendulum_dynamics1, double_pendulum_dynamics2)\n",
    "jitter = 5e-4\n",
    "\n",
    "#joblib.dump(scalerX, 'shm_2d/scalerX.gz')\n",
    "#joblib.dump(scalerY, 'shm_2d/scalerY.gz')"
   ]
  },
  {
   "cell_type": "code",
   "execution_count": 4,
   "metadata": {},
   "outputs": [
    {
     "name": "stdout",
     "output_type": "stream",
     "text": [
      "moi\n",
      "783.4573752236912\n",
      "known\n",
      "838.9387369888914\n",
      "learnt\n",
      "876.3626939785536\n"
     ]
    }
   ],
   "source": [
    "\n",
    "print(\"moi\")\n",
    "moi = get_GPR_model_2D(get_MOI_2D(), mean, data, 100)\n",
    "print(moi.log_marginal_likelihood().numpy())\n",
    "#try:\n",
    "n_neighbours =  40\n",
    "print(\"known\")\n",
    "kernel_known = get_invariance_kernel_2D(DoublePendulumLocalInvariance, 1.5, 6, 0, 0.5, n_neighbours, jitter) #switch\n",
    "known = get_GPR_model_2D(kernel_known, mean, data, iterations=1000)\n",
    "print(known.log_marginal_likelihood().numpy())\n",
    "\n",
    "polynomial_degree = 3\n",
    "print(\"learnt\")\n",
    "\n",
    "kernel = get_paramertised_invariance_kernel_2D(PolynomialLocalInvariance2D, 1.5, 6, 0, 0.5, n_neighbours, jitter, polynomial_degree) \n",
    "model = get_GPR_model_2D(kernel, mean, data, iterations=10000, old_model=known)\n",
    "print(model.log_marginal_likelihood().numpy())"
   ]
  },
  {
   "cell_type": "code",
   "execution_count": 5,
   "metadata": {},
   "outputs": [
    {
     "data": {
      "text/html": [
       "&lt;invariance_kernels_2d.PolynomialLocalInvariance2D object at 0x7f642c076f40&gt;\n",
       "<table>\n",
       "<thead>\n",
       "<tr><th>name                                        </th><th>class    </th><th>transform  </th><th>prior  </th><th>trainable  </th><th>shape  </th><th>dtype  </th><th>value                                               </th></tr>\n",
       "</thead>\n",
       "<tbody>\n",
       "<tr><td>PolynomialLocalInvariance2D.Ka1.variance    </td><td>Parameter</td><td>Sigmoid    </td><td>       </td><td>True       </td><td>()     </td><td>float64</td><td>9.991342316156405                                   </td></tr>\n",
       "<tr><td>PolynomialLocalInvariance2D.Ka1.lengthscales</td><td>Parameter</td><td>Sigmoid    </td><td>       </td><td>True       </td><td>(4,)   </td><td>float64</td><td>[0.88076517, 1.02074884, 4.92927703...              </td></tr>\n",
       "<tr><td>PolynomialLocalInvariance2D.Ka2.variance    </td><td>Parameter</td><td>Sigmoid    </td><td>       </td><td>True       </td><td>()     </td><td>float64</td><td>2.0777783962161998                                  </td></tr>\n",
       "<tr><td>PolynomialLocalInvariance2D.Ka2.lengthscales</td><td>Parameter</td><td>Sigmoid    </td><td>       </td><td>True       </td><td>(4,)   </td><td>float64</td><td>[0.6936253, 0.82091391, 9.99950208...               </td></tr>\n",
       "<tr><td>PolynomialLocalInvariance2D.Kv1.variance    </td><td>Parameter</td><td>Sigmoid    </td><td>       </td><td>True       </td><td>()     </td><td>float64</td><td>4.111937604889345                                   </td></tr>\n",
       "<tr><td>PolynomialLocalInvariance2D.Kv1.lengthscales</td><td>Parameter</td><td>Sigmoid    </td><td>       </td><td>True       </td><td>(4,)   </td><td>float64</td><td>[9.99943586, 9.99856444, 3.0918014...               </td></tr>\n",
       "<tr><td>PolynomialLocalInvariance2D.Kv2.variance    </td><td>Parameter</td><td>Sigmoid    </td><td>       </td><td>True       </td><td>()     </td><td>float64</td><td>0.8427525136213432                                  </td></tr>\n",
       "<tr><td>PolynomialLocalInvariance2D.Kv2.lengthscales</td><td>Parameter</td><td>Sigmoid    </td><td>       </td><td>True       </td><td>(4,)   </td><td>float64</td><td>[9.99993638, 9.93406754, 9.99540312...              </td></tr>\n",
       "<tr><td>PolynomialLocalInvariance2D.poly            </td><td>Parameter</td><td>Sigmoid    </td><td>       </td><td>True       </td><td>(4, 35)</td><td>float64</td><td>[[2.16212953e-04, -1.12526783e-03, 9.24264507e-04...</td></tr>\n",
       "</tbody>\n",
       "</table>"
      ],
      "text/plain": [
       "<invariance_kernels_2d.PolynomialLocalInvariance2D object at 0x7f642c076f40>\n",
       "╒══════════════════════════════════════════════╤═══════════╤═════════════╤═════════╤═════════════╤═════════╤═════════╤══════════════════════════════════════════════════════╕\n",
       "│ name                                         │ class     │ transform   │ prior   │ trainable   │ shape   │ dtype   │ value                                                │\n",
       "╞══════════════════════════════════════════════╪═══════════╪═════════════╪═════════╪═════════════╪═════════╪═════════╪══════════════════════════════════════════════════════╡\n",
       "│ PolynomialLocalInvariance2D.Ka1.variance     │ Parameter │ Sigmoid     │         │ True        │ ()      │ float64 │ 9.991342316156405                                    │\n",
       "├──────────────────────────────────────────────┼───────────┼─────────────┼─────────┼─────────────┼─────────┼─────────┼──────────────────────────────────────────────────────┤\n",
       "│ PolynomialLocalInvariance2D.Ka1.lengthscales │ Parameter │ Sigmoid     │         │ True        │ (4,)    │ float64 │ [0.88076517, 1.02074884, 4.92927703...               │\n",
       "├──────────────────────────────────────────────┼───────────┼─────────────┼─────────┼─────────────┼─────────┼─────────┼──────────────────────────────────────────────────────┤\n",
       "│ PolynomialLocalInvariance2D.Ka2.variance     │ Parameter │ Sigmoid     │         │ True        │ ()      │ float64 │ 2.0777783962161998                                   │\n",
       "├──────────────────────────────────────────────┼───────────┼─────────────┼─────────┼─────────────┼─────────┼─────────┼──────────────────────────────────────────────────────┤\n",
       "│ PolynomialLocalInvariance2D.Ka2.lengthscales │ Parameter │ Sigmoid     │         │ True        │ (4,)    │ float64 │ [0.6936253, 0.82091391, 9.99950208...                │\n",
       "├──────────────────────────────────────────────┼───────────┼─────────────┼─────────┼─────────────┼─────────┼─────────┼──────────────────────────────────────────────────────┤\n",
       "│ PolynomialLocalInvariance2D.Kv1.variance     │ Parameter │ Sigmoid     │         │ True        │ ()      │ float64 │ 4.111937604889345                                    │\n",
       "├──────────────────────────────────────────────┼───────────┼─────────────┼─────────┼─────────────┼─────────┼─────────┼──────────────────────────────────────────────────────┤\n",
       "│ PolynomialLocalInvariance2D.Kv1.lengthscales │ Parameter │ Sigmoid     │         │ True        │ (4,)    │ float64 │ [9.99943586, 9.99856444, 3.0918014...                │\n",
       "├──────────────────────────────────────────────┼───────────┼─────────────┼─────────┼─────────────┼─────────┼─────────┼──────────────────────────────────────────────────────┤\n",
       "│ PolynomialLocalInvariance2D.Kv2.variance     │ Parameter │ Sigmoid     │         │ True        │ ()      │ float64 │ 0.8427525136213432                                   │\n",
       "├──────────────────────────────────────────────┼───────────┼─────────────┼─────────┼─────────────┼─────────┼─────────┼──────────────────────────────────────────────────────┤\n",
       "│ PolynomialLocalInvariance2D.Kv2.lengthscales │ Parameter │ Sigmoid     │         │ True        │ (4,)    │ float64 │ [9.99993638, 9.93406754, 9.99540312...               │\n",
       "├──────────────────────────────────────────────┼───────────┼─────────────┼─────────┼─────────────┼─────────┼─────────┼──────────────────────────────────────────────────────┤\n",
       "│ PolynomialLocalInvariance2D.poly             │ Parameter │ Sigmoid     │         │ True        │ (4, 35) │ float64 │ [[2.16212953e-04, -1.12526783e-03, 9.24264507e-04... │\n",
       "╘══════════════════════════════════════════════╧═══════════╧═════════════╧═════════╧═════════════╧═════════╧═════════╧══════════════════════════════════════════════════════╛"
      ]
     },
     "execution_count": 5,
     "metadata": {},
     "output_type": "execute_result"
    }
   ],
   "source": [
    "kernel"
   ]
  },
  {
   "cell_type": "code",
   "execution_count": null,
   "metadata": {},
   "outputs": [],
   "source": []
  },
  {
   "cell_type": "code",
   "execution_count": 6,
   "metadata": {},
   "outputs": [
    {
     "name": "stdout",
     "output_type": "stream",
     "text": [
      "0\n",
      "0.0003776555038211877\n",
      "0.00028266430418810647\n",
      "0.0002337593787974372\n",
      "1\n",
      "0.0005990634909797909\n",
      "9.571803140664095e-05\n",
      "0.000575211346349324g\n",
      "2\n",
      "0.026462879654194506\n",
      "0.00024933631078301647\n",
      "0.008558858013696331g\n",
      "3\n",
      "0.00024843356865190627\n",
      "0.00043425736734251487\n",
      "0.0012046290039129219\n",
      "4\n",
      "0.00588503012708581\n",
      "0.0010145064479808947\n",
      "0.0017381614929464562\n",
      "5\n",
      "0.00047780973839024824\n",
      "0.0005780597427964971\n",
      "0.0013947206467950887\n",
      "6\n",
      "0.0029272877019851356\n",
      "0.0013113560841330485\n",
      "0.0017844231330848795\n",
      "7\n",
      "0.0005204990602718137\n",
      "8.810386006600453e-05\n",
      "0.00011721238044844077\n",
      "8\n",
      "0.00033817927230117437\n",
      "9.829274773814164e-05\n",
      "0.0008896484478519485\n",
      "9\n",
      "0.0017556816926531749\n",
      "0.00029218905472065356\n",
      "0.001255985816838474g\n"
     ]
    }
   ],
   "source": [
    "eva_future_moi = []\n",
    "eva_future_known = []\n",
    "eva_future_learnt = []\n",
    "\n",
    "def energy(X):\n",
    "    return -2*np.cos(X[:,0])-np.cos(X[:,1])+0.5*tf.square(X[:,2])+0.5*(tf.square(X[:,2])+tf.square(X[:,3])+2*X[:,2]*X[:,3]*np.cos(X[:,0]-X[:,1]))\n",
    "lml_moi = moi.log_marginal_likelihood().numpy()\n",
    "lml_inv = known.log_marginal_likelihood().numpy()\n",
    "lml_inv_p = model.log_marginal_likelihood().numpy()\n",
    "for i in range(10):\n",
    "    print(i)\n",
    "    test_starting_position1 = np.radians(np.random.uniform(-max_x, max_x))\n",
    "    test_starting_position2 = np.radians(np.random.uniform(-max_x, max_x))\n",
    "    test_starting_velocity1 = np.radians(np.random.uniform(-max_v, max_v))\n",
    "    test_starting_velocity2 = np.radians(np.random.uniform(-max_v, max_v))\n",
    "    test_starting = (test_starting_position1, test_starting_position2, test_starting_velocity1, test_starting_velocity2)\n",
    "#    print(test_starting)\n",
    "    evaluate_moi = evaluate_model_future_2D(moi, test_starting, dynamics, time_setting, scalers, energy)\n",
    "    eva_future_moi.append(evaluate_moi[0])\n",
    "    print(evaluate_moi[0])\n",
    "    evaluate_known = evaluate_model_future_2D(known, test_starting, dynamics, time_setting, scalers, energy)\n",
    "    eva_future_known.append(evaluate_known[0])\n",
    "    print(evaluate_known[0])\n",
    "    evaluate_learnt = evaluate_model_future_2D(model, test_starting, dynamics, time_setting, scalers, energy)\n",
    "    eva_future_learnt.append(evaluate_learnt[0])\n",
    "    print(evaluate_learnt[0])"
   ]
  },
  {
   "cell_type": "code",
   "execution_count": 7,
   "metadata": {},
   "outputs": [
    {
     "name": "stdout",
     "output_type": "stream",
     "text": [
      "Log Marginal Likelihood & 783.46 & 838.41 & 869.09 &  \\\\\n",
      "MSE & 0.0040 & 0.0004 & 0.0018 \\\\\n"
     ]
    }
   ],
   "source": [
    "\n",
    "print(\"Log Marginal Likelihood & \" + format((lml_moi),\".2f\")+\" & \"+ format((lml_inv),\".2f\") + \" & \"+ format((lml_inv_p),\".2f\") + \" & \"+' \\\\\\\\')\n",
    "print(\"MSE & \"+ format((np.mean(eva_future_moi)),\".4f\")+\" & \"+format(np.mean(eva_future_known),\".4f\")+\" & \"+format((np.mean(eva_future_learnt)),\".4f\")+ ' \\\\\\\\')"
   ]
  },
  {
   "cell_type": "code",
   "execution_count": 15,
   "metadata": {},
   "outputs": [
    {
     "data": {
      "image/png": "[encoded data removed]",
      "text/plain": [
       "<Figure size 432x288 with 4 Axes>"
      ]
     },
     "metadata": {
      "needs_background": "light"
     },
     "output_type": "display_data"
    }
   ],
   "source": [
    "import matplotlib.pyplot as plt\n",
    "t = np.linspace(0, testing_time, int(testing_time/time_step))\n",
    "fig, axs = plt.subplots(2,2)\n",
    "axs[0][0].plot(t,evaluate_known[4][:,0],label=\"truth\", color=\"black\")\n",
    "axs[0][0].plot(t,evaluate_moi[1][:,0], \"--\", label=\"RBF\", color=\"red\")\n",
    "axs[0][0].plot(t,evaluate_known[1][:,0], \"--\", label=\"known\", color=\"blue\")\n",
    "axs[0][0].plot(t,evaluate_learnt[1][:,0], \"--\", label=\"learnt\", color=\"green\")\n",
    "axs[0][0].set_title(\"q_1\")\n",
    "axs[0][0].set_xlabel(\"t\")\n",
    "axs[0][0].legend()\n",
    "\n",
    "axs[0][1].plot(t,evaluate_known[4][:,1],label=\"truth\", color=\"black\")\n",
    "axs[0][1].plot(t,evaluate_moi[1][:,1], \"--\", label=\"RBF\", color=\"red\")\n",
    "axs[0][1].plot(t,evaluate_known[1][:,1], \"--\", label=\"known\", color=\"blue\")\n",
    "axs[0][1].plot(t,evaluate_learnt[1][:,1], \"--\", label=\"learnt\", color=\"green\")\n",
    "axs[0][1].set_title(\"q_2\")\n",
    "axs[0][1].set_xlabel(\"t\")\n",
    "axs[0][1].legend()\n",
    "\n",
    "axs[1][0].plot(t,evaluate_known[4][:,2],label=\"truth\", color=\"black\")\n",
    "axs[1][0].plot(t,evaluate_moi[1][:,2], \"--\", label=\"RBF\", color=\"red\")\n",
    "axs[1][0].plot(t,evaluate_known[1][:,2], \"--\", label=\"known\", color=\"blue\")\n",
    "axs[1][0].plot(t,evaluate_learnt[1][:,2], \"--\", label=\"learnt\", color=\"green\")\n",
    "axs[1][0].set_title(\"p_1\")\n",
    "axs[1][0].set_xlabel(\"t\")\n",
    "axs[1][0].legend()\n",
    "\n",
    "axs[1][1].plot(t,evaluate_known[4][:,3],label=\"truth\", color=\"black\")\n",
    "axs[1][1].plot(t,evaluate_moi[1][:,3], \"--\", label=\"RBF\", color=\"red\")\n",
    "axs[1][1].plot(t,evaluate_known[1][:,3], \"--\", label=\"known\", color=\"blue\")\n",
    "axs[1][1].plot(t,evaluate_learnt[1][:,3], \"--\", label=\"learnt\", color=\"green\")\n",
    "axs[1][1].set_title(\"p_2\")\n",
    "axs[1][1].set_xlabel(\"t\")\n",
    "axs[1][1].legend()\n",
    "\n",
    "plt.subplots_adjust(left=0.2,\n",
    "                    bottom=0.2, \n",
    "                    right=0.9, \n",
    "                    top=0.9, \n",
    "                    wspace=0.4, \n",
    "                    hspace=0.4)\n",
    "fig.tight_layout()\n",
    "#plt.savefig(\"figures/double_pendulum_predicted.pdf\")\n"
   ]
  },
  {
   "cell_type": "code",
   "execution_count": 16,
   "metadata": {},
   "outputs": [
    {
     "data": {
      "text/plain": [
       "Text(0, 0.5, 'E')"
      ]
     },
     "execution_count": 16,
     "metadata": {},
     "output_type": "execute_result"
    },
    {
     "data": {
      "image/png": "[encoded data removed]",
      "text/plain": [
       "<Figure size 432x288 with 1 Axes>"
      ]
     },
     "metadata": {
      "needs_background": "light"
     },
     "output_type": "display_data"
    }
   ],
   "source": [
    "fig, ax = plt.subplots()\n",
    "plt.plot(t, evaluate_learnt[5], \"--\",label=\"true\", color=\"black\")\n",
    "plt.plot(t, evaluate_moi[6], \"--\",label=\"RBF\", color=\"red\")\n",
    "plt.plot(t, evaluate_known[6], \"--\",label=\"known\", color=\"blue\")\n",
    "plt.plot(t, evaluate_learnt[6], \"--\",label=\"learnt\", color=\"green\")\n",
    "plt.legend()\n",
    "plt.xlabel(\"t\")\n",
    "plt.ylabel(\"E\")\n",
    "#plt.savefig(\"figures/double_pendulum_energy.pdf\")"
   ]
  },
  {
   "cell_type": "code",
   "execution_count": 5,
   "metadata": {},
   "outputs": [
    {
     "name": "stdout",
     "output_type": "stream",
     "text": [
      "133.6712112824049\n",
      "learnt\n",
      "0.030338295737560597\n",
      "0.004262948879235944g\n",
      "0.07551137610548159gg\n",
      "0.015920458615895017g\n",
      "0\n",
      "-2198.731683330114\n",
      "0.12078323340968312gg\n",
      "1\n",
      "-3337.3039744144794\n",
      "0.08673062280617364gg\n",
      "2\n",
      "-3341.270012920601\n",
      "0.10236651327297608gg\n",
      "(0.8872270547024759, 0.30525731347080093)\n",
      "SpearmanrResult(correlation=0.5, pvalue=0.6666666666666667)\n",
      "3\n",
      "-3990.040335187271\n",
      "0.1158085083435664ggg\n",
      "(0.30032474694798306, 0.6996752530520169)\n",
      "SpearmanrResult(correlation=0.19999999999999998, pvalue=0.8)\n",
      "4\n",
      "-3516.4033292599233\n",
      "0.1478468191695942ggg\n",
      "(0.005216360707379009, 0.9933583533883533)\n",
      "SpearmanrResult(correlation=-0.19999999999999998, pvalue=0.747060078104662)\n",
      "5\n",
      "-4491.4817492115435\n",
      "0.05811688327343944gg\n",
      "(0.4857826330988292, 0.32864470100179927)\n",
      "SpearmanrResult(correlation=0.3142857142857143, pvalue=0.5440932944606414)\n",
      "6\n",
      "-5412.409500400653\n",
      "0.0745063080928944ggg\n",
      "(0.5867340436301561, 0.16612239378605528)\n",
      "SpearmanrResult(correlation=0.5357142857142858, pvalue=0.21521745567801273)\n",
      "7\n",
      "-5670.919603761752\n",
      "0.18344488207940846gg\n",
      "(-0.0906813997333435, 0.8309021806741067)\n",
      "SpearmanrResult(correlation=0.023809523809523815, pvalue=0.9553740118158807)\n",
      "8\n",
      "-4147.406853568158\n",
      "0.060821718392085576g\n",
      "(-0.06384077287769468, 0.870385551852316)\n",
      "SpearmanrResult(correlation=0.15, pvalue=0.7000942309691419)\n",
      "9\n",
      "-3066.8837198470237\n",
      "0.1482290329835341ggg\n",
      "(0.033488026999012585, 0.9268270374130596)\n",
      "SpearmanrResult(correlation=0.24848484848484845, pvalue=0.48877630451924314)\n",
      "10\n",
      "-3358.3669185966696\n",
      "0.033050020539430326g\n",
      "(-0.055173024385369036, 0.8720007963072103)\n",
      "SpearmanrResult(correlation=0.16363636363636366, pvalue=0.6306852146425357)\n",
      "11\n",
      "-8147.151672536736\n",
      "0.10966009862247166gg\n",
      "(-0.06946392263585234, 0.830148671607963)\n",
      "SpearmanrResult(correlation=0.1258741258741259, pvalue=0.6966831093957659)\n",
      "12\n",
      "-2695.292078144847\n",
      "0.046339962947584565g\n",
      "(-0.1586766571142464, 0.6046184913888605)\n",
      "SpearmanrResult(correlation=-0.04395604395604395, pvalue=0.8866190227890784)\n",
      "13\n",
      "-3922.5945447125355\n",
      "0.05010587840333281gg\n",
      "(-0.1611660119444917, 0.5820276609018924)\n",
      "SpearmanrResult(correlation=-0.054945054945054944, pvalue=0.8520077036323677)\n",
      "14\n",
      "-2362.9504899025333\n",
      "0.07872243506506017gg\n",
      "(-0.18275451997396297, 0.5144487832460457)\n",
      "SpearmanrResult(correlation=-0.039285714285714285, pvalue=0.8894459296739485)\n",
      "15\n",
      "-6132.250272080345\n",
      "0.11447992847146665gg\n",
      "(-0.21129406397023998, 0.43213197493391564)\n",
      "SpearmanrResult(correlation=-0.07941176470588236, pvalue=0.770025319039825)\n",
      "16\n",
      "-2131.5886132727965\n",
      "0.07518875799088445gg\n",
      "(-0.2364789585475795, 0.36081312658784775)\n",
      "SpearmanrResult(correlation=-0.09803921568627452, pvalue=0.708151309718605)\n",
      "17\n",
      "-7003.786519972657\n",
      "0.24099200342552826gg\n",
      "(-0.43610401927104997, 0.07041604505557258)\n",
      "SpearmanrResult(correlation=-0.2260061919504644, pvalue=0.36717772555501726)\n",
      "18\n",
      "-6420.966496558173\n",
      "0.20718089895482442gg\n",
      "(-0.5039296424323243, 0.027814087308661462)\n",
      "SpearmanrResult(correlation=-0.32807017543859646, pvalue=0.17029675998814747)\n",
      "19\n",
      "-4446.59403196803\n",
      "0.24288496332325424gg\n",
      "(-0.45258795769276716, 0.04509895971191714)\n",
      "SpearmanrResult(correlation=-0.3443609022556391, pvalue=0.13707258150434384)\n",
      "20\n",
      "-3434.2979032265334\n",
      "0.19750839807322676gg\n",
      "(-0.39937604704437546, 0.07287780956109388)\n",
      "SpearmanrResult(correlation=-0.32597402597402597, pvalue=0.14928317187962065)\n",
      "21\n",
      "-2759.107061268648\n",
      "0.02048005210180555gg\n",
      "(-0.43310585125439954, 0.04406608014211496)\n",
      "SpearmanrResult(correlation=-0.3788819875776398, pvalue=0.08205437428657275)\n",
      "22\n",
      "-10709.057434033468\n",
      "0.07545288469684829gg\n",
      "(-0.24646673906230576, 0.2569227127002545)\n",
      "SpearmanrResult(correlation=-0.3112648221343874, pvalue=0.14825337031304386)\n",
      "23\n",
      "-4248.198946274141\n",
      "0.028474706681046232g\n",
      "(-0.2434427838359053, 0.2516694145226379)\n",
      "SpearmanrResult(correlation=-0.2782608695652174, pvalue=0.18797139452214312)\n",
      "24\n",
      "-5444.169520566229\n",
      "0.16726038310416727gg\n",
      "(-0.2558034813482291, 0.2171293093328174)\n",
      "SpearmanrResult(correlation=-0.3230769230769231, pvalue=0.11519500605167757)\n",
      "25\n",
      "-3060.899063061261\n",
      "0.08516609266014769gg\n",
      "(-0.26374159437557243, 0.19295817342303448)\n",
      "SpearmanrResult(correlation=-0.3258119658119658, pvalue=0.10431396878069848)\n",
      "26\n",
      "-5035.496199439602\n",
      "0.1287071325391485ggg\n",
      "(-0.26613255155120924, 0.17966836891163135)\n",
      "SpearmanrResult(correlation=-0.34432234432234426, pvalue=0.0786245736891945)\n",
      "27\n",
      "-2613.1410693167422\n",
      "0.30514750990090317gg\n",
      "(-0.1343315462789634, 0.4955506985804454)\n",
      "SpearmanrResult(correlation=-0.23043240284619596, pvalue=0.2381195170344785)\n",
      "28\n",
      "-3253.0456651082627\n",
      "0.11114149599971364gg\n",
      "(-0.13549259470744013, 0.4834298727725694)\n",
      "SpearmanrResult(correlation=-0.22216748768472902, pvalue=0.24672979200054873)\n",
      "29\n",
      "-4200.465805152065\n",
      "0.0446190803986627ggg\n",
      "(-0.13586910721509834, 0.4740565613133046)\n",
      "SpearmanrResult(correlation=-0.20311457174638486, pvalue=0.2817022290742303)\n",
      "30\n",
      "-4845.133417285059\n",
      "0.2351218969971292ggg\n",
      "(-0.1436278899971608, 0.44080574394716754)\n",
      "SpearmanrResult(correlation=-0.23225806451612907, pvalue=0.2086468649506737)\n",
      "31\n",
      "-6806.195546118226\n",
      "0.3318855601344367ggg\n",
      "(-0.22970707668353096, 0.20597402051780137)\n",
      "SpearmanrResult(correlation=-0.28739002932551316, pvalue=0.11073534808447384)\n",
      "32\n",
      "-3319.475587079155\n",
      "0.1468834014126741ggg\n",
      "(-0.22341378943085544, 0.21137342636447934)\n",
      "SpearmanrResult(correlation=-0.26838235294117646, pvalue=0.13100430661877852)\n",
      "33\n",
      "-4932.546120909754\n",
      "0.15842684653468514gg\n",
      "(-0.22598772813107035, 0.198744687587491)\n",
      "SpearmanrResult(correlation=-0.2916730328495034, pvalue=0.09418299590689297)\n",
      "34\n",
      "-4757.0092585289985\n",
      "0.0929137668430401ggg\n",
      "(-0.2229245736161732, 0.1980202100753459)\n",
      "SpearmanrResult(correlation=-0.2949579831932773, pvalue=0.08540957275727412)\n",
      "35\n",
      "-3206.0811569643547\n",
      "0.07729814741740426gg\n",
      "(-0.23229797839938765, 0.17277750148129037)\n",
      "SpearmanrResult(correlation=-0.29755469755469754, pvalue=0.07798692628258283)\n",
      "36\n",
      "-4194.6528071884895\n",
      "0.08100762663709564gg\n",
      "(-0.23300991054682454, 0.16517147428176499)\n",
      "SpearmanrResult(correlation=-0.29302987197724034, pvalue=0.07838735413974394)\n",
      "37\n",
      "-4280.517854771378\n",
      "0.12191271635698843gg\n",
      "(-0.2330403099832488, 0.15911891788977686)\n",
      "SpearmanrResult(correlation=-0.3045190939927782, pvalue=0.06304168088875334)\n",
      "38\n",
      "-2365.30026380891\n",
      "0.07616725537869344gg\n",
      "(-0.2466928737734571, 0.1300306808974884)\n",
      "SpearmanrResult(correlation=-0.31417004048582997, pvalue=0.05143984438608183)\n",
      "39\n",
      "-4485.526092425268\n",
      "0.2940089527749246ggg\n",
      "(-0.23605536145558934, 0.14253431240809875)\n",
      "SpearmanrResult(correlation=-0.3230769230769231, pvalue=0.0420104353715221)\n",
      "40\n",
      "-2524.3359262292133\n",
      "0.3487656480244815ggg\n",
      "(-0.14605849963128176, 0.36218566578398864)\n",
      "SpearmanrResult(correlation=-0.24668989547038328, pvalue=0.11997535441842272)\n",
      "41\n",
      "-3599.1064175117144\n",
      "0.22951458087554533gg\n",
      "(-0.13246529327714512, 0.4030086539670568)\n",
      "SpearmanrResult(correlation=-0.23215298598168704, pvalue=0.13902918401810843)\n",
      "42\n",
      "-4402.1758011564325\n",
      "0.17519331705967872gg\n",
      "(-0.13288569918260928, 0.3956092096069119)\n",
      "SpearmanrResult(correlation=-0.24509211718514043, pvalue=0.11317424056481272)\n",
      "43\n",
      "-1772.3053038503076\n",
      "24 seconds remainingg\r"
     ]
    },
    {
     "name": "stderr",
     "output_type": "stream",
     "text": [
      "/data/cl2217/dynamical_system_invariance_project/codes/invariance_functions.py:273: RuntimeWarning: invalid value encountered in sqrt\n",
      "  var = scalerY.inverse_transform(pred + 1.96*np.sqrt(var+likelihood*np.ones(var.shape)))\n"
     ]
    },
    {
     "name": "stdout",
     "output_type": "stream",
     "text": [
      "21 seconds remaining\r"
     ]
    },
    {
     "name": "stderr",
     "output_type": "stream",
     "text": [
      "/data/cl2217/dynamical_system_invariance_project/codes/invariance_functions.py:273: RuntimeWarning: invalid value encountered in sqrt\n",
      "  var = scalerY.inverse_transform(pred + 1.96*np.sqrt(var+likelihood*np.ones(var.shape)))\n"
     ]
    },
    {
     "name": "stdout",
     "output_type": "stream",
     "text": [
      "19 seconds remaining\r"
     ]
    },
    {
     "name": "stderr",
     "output_type": "stream",
     "text": [
      "/data/cl2217/dynamical_system_invariance_project/codes/invariance_functions.py:273: RuntimeWarning: invalid value encountered in sqrt\n",
      "  var = scalerY.inverse_transform(pred + 1.96*np.sqrt(var+likelihood*np.ones(var.shape)))\n"
     ]
    },
    {
     "name": "stdout",
     "output_type": "stream",
     "text": [
      "17 seconds remaining\r"
     ]
    },
    {
     "name": "stderr",
     "output_type": "stream",
     "text": [
      "/data/cl2217/dynamical_system_invariance_project/codes/invariance_functions.py:273: RuntimeWarning: invalid value encountered in sqrt\n",
      "  var = scalerY.inverse_transform(pred + 1.96*np.sqrt(var+likelihood*np.ones(var.shape)))\n"
     ]
    },
    {
     "name": "stdout",
     "output_type": "stream",
     "text": [
      "15 seconds remaining\r"
     ]
    },
    {
     "name": "stderr",
     "output_type": "stream",
     "text": [
      "/data/cl2217/dynamical_system_invariance_project/codes/invariance_functions.py:273: RuntimeWarning: invalid value encountered in sqrt\n",
      "  var = scalerY.inverse_transform(pred + 1.96*np.sqrt(var+likelihood*np.ones(var.shape)))\n"
     ]
    },
    {
     "name": "stdout",
     "output_type": "stream",
     "text": [
      "13 seconds remaining\r"
     ]
    },
    {
     "name": "stderr",
     "output_type": "stream",
     "text": [
      "/data/cl2217/dynamical_system_invariance_project/codes/invariance_functions.py:273: RuntimeWarning: invalid value encountered in sqrt\n",
      "  var = scalerY.inverse_transform(pred + 1.96*np.sqrt(var+likelihood*np.ones(var.shape)))\n"
     ]
    },
    {
     "name": "stdout",
     "output_type": "stream",
     "text": [
      "11 seconds remaining\r"
     ]
    },
    {
     "name": "stderr",
     "output_type": "stream",
     "text": [
      "/data/cl2217/dynamical_system_invariance_project/codes/invariance_functions.py:273: RuntimeWarning: invalid value encountered in sqrt\n",
      "  var = scalerY.inverse_transform(pred + 1.96*np.sqrt(var+likelihood*np.ones(var.shape)))\n"
     ]
    },
    {
     "name": "stdout",
     "output_type": "stream",
     "text": [
      "9 seconds remaining\r"
     ]
    },
    {
     "name": "stderr",
     "output_type": "stream",
     "text": [
      "/data/cl2217/dynamical_system_invariance_project/codes/invariance_functions.py:273: RuntimeWarning: invalid value encountered in sqrt\n",
      "  var = scalerY.inverse_transform(pred + 1.96*np.sqrt(var+likelihood*np.ones(var.shape)))\n"
     ]
    },
    {
     "name": "stdout",
     "output_type": "stream",
     "text": [
      "6 seconds remaining\r"
     ]
    },
    {
     "name": "stderr",
     "output_type": "stream",
     "text": [
      "/data/cl2217/dynamical_system_invariance_project/codes/invariance_functions.py:273: RuntimeWarning: invalid value encountered in sqrt\n",
      "  var = scalerY.inverse_transform(pred + 1.96*np.sqrt(var+likelihood*np.ones(var.shape)))\n"
     ]
    },
    {
     "name": "stdout",
     "output_type": "stream",
     "text": [
      "4 seconds remaining\r"
     ]
    },
    {
     "name": "stderr",
     "output_type": "stream",
     "text": [
      "/data/cl2217/dynamical_system_invariance_project/codes/invariance_functions.py:273: RuntimeWarning: invalid value encountered in sqrt\n",
      "  var = scalerY.inverse_transform(pred + 1.96*np.sqrt(var+likelihood*np.ones(var.shape)))\n"
     ]
    },
    {
     "name": "stdout",
     "output_type": "stream",
     "text": [
      "2 seconds remaining\r"
     ]
    },
    {
     "name": "stderr",
     "output_type": "stream",
     "text": [
      "/data/cl2217/dynamical_system_invariance_project/codes/invariance_functions.py:273: RuntimeWarning: invalid value encountered in sqrt\n",
      "  var = scalerY.inverse_transform(pred + 1.96*np.sqrt(var+likelihood*np.ones(var.shape)))\n"
     ]
    },
    {
     "name": "stdout",
     "output_type": "stream",
     "text": [
      "0.08390917504339307\n",
      "(-0.14949986942550414, 0.3327552369737812)\n",
      "SpearmanrResult(correlation=-0.25708245243128963, pvalue=0.09205682566978823)\n",
      "44\n",
      "-5385.776432367643\n",
      "177 seconds remaining\r"
     ]
    },
    {
     "name": "stderr",
     "output_type": "stream",
     "text": [
      "/data/cl2217/dynamical_system_invariance_project/codes/invariance_functions.py:273: RuntimeWarning: invalid value encountered in sqrt\n",
      "  var = scalerY.inverse_transform(pred + 1.96*np.sqrt(var+likelihood*np.ones(var.shape)))\n"
     ]
    },
    {
     "name": "stdout",
     "output_type": "stream",
     "text": [
      "175 seconds remaining\r"
     ]
    },
    {
     "name": "stderr",
     "output_type": "stream",
     "text": [
      "/data/cl2217/dynamical_system_invariance_project/codes/invariance_functions.py:273: RuntimeWarning: invalid value encountered in sqrt\n",
      "  var = scalerY.inverse_transform(pred + 1.96*np.sqrt(var+likelihood*np.ones(var.shape)))\n"
     ]
    },
    {
     "name": "stdout",
     "output_type": "stream",
     "text": [
      "173 seconds remaining\r"
     ]
    },
    {
     "name": "stderr",
     "output_type": "stream",
     "text": [
      "/data/cl2217/dynamical_system_invariance_project/codes/invariance_functions.py:273: RuntimeWarning: invalid value encountered in sqrt\n",
      "  var = scalerY.inverse_transform(pred + 1.96*np.sqrt(var+likelihood*np.ones(var.shape)))\n"
     ]
    },
    {
     "name": "stdout",
     "output_type": "stream",
     "text": [
      "170 seconds remaining\r"
     ]
    },
    {
     "name": "stderr",
     "output_type": "stream",
     "text": [
      "/data/cl2217/dynamical_system_invariance_project/codes/invariance_functions.py:273: RuntimeWarning: invalid value encountered in sqrt\n",
      "  var = scalerY.inverse_transform(pred + 1.96*np.sqrt(var+likelihood*np.ones(var.shape)))\n"
     ]
    },
    {
     "name": "stdout",
     "output_type": "stream",
     "text": [
      "168 seconds remaining\r"
     ]
    },
    {
     "name": "stderr",
     "output_type": "stream",
     "text": [
      "/data/cl2217/dynamical_system_invariance_project/codes/invariance_functions.py:273: RuntimeWarning: invalid value encountered in sqrt\n",
      "  var = scalerY.inverse_transform(pred + 1.96*np.sqrt(var+likelihood*np.ones(var.shape)))\n"
     ]
    },
    {
     "name": "stdout",
     "output_type": "stream",
     "text": [
      "166 seconds remaining\r"
     ]
    },
    {
     "name": "stderr",
     "output_type": "stream",
     "text": [
      "/data/cl2217/dynamical_system_invariance_project/codes/invariance_functions.py:273: RuntimeWarning: invalid value encountered in sqrt\n",
      "  var = scalerY.inverse_transform(pred + 1.96*np.sqrt(var+likelihood*np.ones(var.shape)))\n"
     ]
    },
    {
     "name": "stdout",
     "output_type": "stream",
     "text": [
      "164 seconds remaining\r"
     ]
    },
    {
     "name": "stderr",
     "output_type": "stream",
     "text": [
      "/data/cl2217/dynamical_system_invariance_project/codes/invariance_functions.py:273: RuntimeWarning: invalid value encountered in sqrt\n",
      "  var = scalerY.inverse_transform(pred + 1.96*np.sqrt(var+likelihood*np.ones(var.shape)))\n"
     ]
    },
    {
     "name": "stdout",
     "output_type": "stream",
     "text": [
      "162 seconds remaining\r"
     ]
    },
    {
     "name": "stderr",
     "output_type": "stream",
     "text": [
      "/data/cl2217/dynamical_system_invariance_project/codes/invariance_functions.py:273: RuntimeWarning: invalid value encountered in sqrt\n",
      "  var = scalerY.inverse_transform(pred + 1.96*np.sqrt(var+likelihood*np.ones(var.shape)))\n"
     ]
    },
    {
     "name": "stdout",
     "output_type": "stream",
     "text": [
      "160 seconds remaining\r"
     ]
    },
    {
     "name": "stderr",
     "output_type": "stream",
     "text": [
      "/data/cl2217/dynamical_system_invariance_project/codes/invariance_functions.py:273: RuntimeWarning: invalid value encountered in sqrt\n",
      "  var = scalerY.inverse_transform(pred + 1.96*np.sqrt(var+likelihood*np.ones(var.shape)))\n"
     ]
    },
    {
     "name": "stdout",
     "output_type": "stream",
     "text": [
      "157 seconds remaining\r"
     ]
    },
    {
     "name": "stderr",
     "output_type": "stream",
     "text": [
      "/data/cl2217/dynamical_system_invariance_project/codes/invariance_functions.py:273: RuntimeWarning: invalid value encountered in sqrt\n",
      "  var = scalerY.inverse_transform(pred + 1.96*np.sqrt(var+likelihood*np.ones(var.shape)))\n"
     ]
    },
    {
     "name": "stdout",
     "output_type": "stream",
     "text": [
      "155 seconds remaining\r"
     ]
    },
    {
     "name": "stderr",
     "output_type": "stream",
     "text": [
      "/data/cl2217/dynamical_system_invariance_project/codes/invariance_functions.py:273: RuntimeWarning: invalid value encountered in sqrt\n",
      "  var = scalerY.inverse_transform(pred + 1.96*np.sqrt(var+likelihood*np.ones(var.shape)))\n"
     ]
    },
    {
     "name": "stdout",
     "output_type": "stream",
     "text": [
      "153 seconds remaining\r"
     ]
    },
    {
     "name": "stderr",
     "output_type": "stream",
     "text": [
      "/data/cl2217/dynamical_system_invariance_project/codes/invariance_functions.py:273: RuntimeWarning: invalid value encountered in sqrt\n",
      "  var = scalerY.inverse_transform(pred + 1.96*np.sqrt(var+likelihood*np.ones(var.shape)))\n"
     ]
    },
    {
     "name": "stdout",
     "output_type": "stream",
     "text": [
      "151 seconds remaining\r"
     ]
    },
    {
     "name": "stderr",
     "output_type": "stream",
     "text": [
      "/data/cl2217/dynamical_system_invariance_project/codes/invariance_functions.py:273: RuntimeWarning: invalid value encountered in sqrt\n",
      "  var = scalerY.inverse_transform(pred + 1.96*np.sqrt(var+likelihood*np.ones(var.shape)))\n"
     ]
    },
    {
     "name": "stdout",
     "output_type": "stream",
     "text": [
      "149 seconds remaining\r"
     ]
    },
    {
     "name": "stderr",
     "output_type": "stream",
     "text": [
      "/data/cl2217/dynamical_system_invariance_project/codes/invariance_functions.py:273: RuntimeWarning: invalid value encountered in sqrt\n",
      "  var = scalerY.inverse_transform(pred + 1.96*np.sqrt(var+likelihood*np.ones(var.shape)))\n"
     ]
    },
    {
     "name": "stdout",
     "output_type": "stream",
     "text": [
      "147 seconds remaining\r"
     ]
    },
    {
     "name": "stderr",
     "output_type": "stream",
     "text": [
      "/data/cl2217/dynamical_system_invariance_project/codes/invariance_functions.py:273: RuntimeWarning: invalid value encountered in sqrt\n",
      "  var = scalerY.inverse_transform(pred + 1.96*np.sqrt(var+likelihood*np.ones(var.shape)))\n"
     ]
    },
    {
     "name": "stdout",
     "output_type": "stream",
     "text": [
      "144 seconds remaining\r"
     ]
    },
    {
     "name": "stderr",
     "output_type": "stream",
     "text": [
      "/data/cl2217/dynamical_system_invariance_project/codes/invariance_functions.py:273: RuntimeWarning: invalid value encountered in sqrt\n",
      "  var = scalerY.inverse_transform(pred + 1.96*np.sqrt(var+likelihood*np.ones(var.shape)))\n"
     ]
    },
    {
     "name": "stdout",
     "output_type": "stream",
     "text": [
      "142 seconds remaining\r"
     ]
    },
    {
     "name": "stderr",
     "output_type": "stream",
     "text": [
      "/data/cl2217/dynamical_system_invariance_project/codes/invariance_functions.py:273: RuntimeWarning: invalid value encountered in sqrt\n",
      "  var = scalerY.inverse_transform(pred + 1.96*np.sqrt(var+likelihood*np.ones(var.shape)))\n"
     ]
    },
    {
     "name": "stdout",
     "output_type": "stream",
     "text": [
      "140 seconds remaining\r"
     ]
    },
    {
     "name": "stderr",
     "output_type": "stream",
     "text": [
      "/data/cl2217/dynamical_system_invariance_project/codes/invariance_functions.py:273: RuntimeWarning: invalid value encountered in sqrt\n",
      "  var = scalerY.inverse_transform(pred + 1.96*np.sqrt(var+likelihood*np.ones(var.shape)))\n"
     ]
    },
    {
     "name": "stdout",
     "output_type": "stream",
     "text": [
      "138 seconds remaining\r"
     ]
    },
    {
     "name": "stderr",
     "output_type": "stream",
     "text": [
      "/data/cl2217/dynamical_system_invariance_project/codes/invariance_functions.py:273: RuntimeWarning: invalid value encountered in sqrt\n",
      "  var = scalerY.inverse_transform(pred + 1.96*np.sqrt(var+likelihood*np.ones(var.shape)))\n"
     ]
    },
    {
     "name": "stdout",
     "output_type": "stream",
     "text": [
      "136 seconds remaining\r"
     ]
    },
    {
     "name": "stderr",
     "output_type": "stream",
     "text": [
      "/data/cl2217/dynamical_system_invariance_project/codes/invariance_functions.py:273: RuntimeWarning: invalid value encountered in sqrt\n",
      "  var = scalerY.inverse_transform(pred + 1.96*np.sqrt(var+likelihood*np.ones(var.shape)))\n"
     ]
    },
    {
     "name": "stdout",
     "output_type": "stream",
     "text": [
      "134 seconds remaining\r"
     ]
    },
    {
     "name": "stderr",
     "output_type": "stream",
     "text": [
      "/data/cl2217/dynamical_system_invariance_project/codes/invariance_functions.py:273: RuntimeWarning: invalid value encountered in sqrt\n",
      "  var = scalerY.inverse_transform(pred + 1.96*np.sqrt(var+likelihood*np.ones(var.shape)))\n"
     ]
    },
    {
     "name": "stdout",
     "output_type": "stream",
     "text": [
      "132 seconds remaining\r"
     ]
    },
    {
     "name": "stderr",
     "output_type": "stream",
     "text": [
      "/data/cl2217/dynamical_system_invariance_project/codes/invariance_functions.py:273: RuntimeWarning: invalid value encountered in sqrt\n",
      "  var = scalerY.inverse_transform(pred + 1.96*np.sqrt(var+likelihood*np.ones(var.shape)))\n"
     ]
    },
    {
     "name": "stdout",
     "output_type": "stream",
     "text": [
      "129 seconds remaining\r"
     ]
    },
    {
     "name": "stderr",
     "output_type": "stream",
     "text": [
      "/data/cl2217/dynamical_system_invariance_project/codes/invariance_functions.py:273: RuntimeWarning: invalid value encountered in sqrt\n",
      "  var = scalerY.inverse_transform(pred + 1.96*np.sqrt(var+likelihood*np.ones(var.shape)))\n"
     ]
    },
    {
     "name": "stdout",
     "output_type": "stream",
     "text": [
      "127 seconds remaining\r"
     ]
    },
    {
     "name": "stderr",
     "output_type": "stream",
     "text": [
      "/data/cl2217/dynamical_system_invariance_project/codes/invariance_functions.py:273: RuntimeWarning: invalid value encountered in sqrt\n",
      "  var = scalerY.inverse_transform(pred + 1.96*np.sqrt(var+likelihood*np.ones(var.shape)))\n"
     ]
    },
    {
     "name": "stdout",
     "output_type": "stream",
     "text": [
      "125 seconds remaining\r"
     ]
    },
    {
     "name": "stderr",
     "output_type": "stream",
     "text": [
      "/data/cl2217/dynamical_system_invariance_project/codes/invariance_functions.py:273: RuntimeWarning: invalid value encountered in sqrt\n",
      "  var = scalerY.inverse_transform(pred + 1.96*np.sqrt(var+likelihood*np.ones(var.shape)))\n"
     ]
    },
    {
     "name": "stdout",
     "output_type": "stream",
     "text": [
      "123 seconds remaining\r"
     ]
    },
    {
     "name": "stderr",
     "output_type": "stream",
     "text": [
      "/data/cl2217/dynamical_system_invariance_project/codes/invariance_functions.py:273: RuntimeWarning: invalid value encountered in sqrt\n",
      "  var = scalerY.inverse_transform(pred + 1.96*np.sqrt(var+likelihood*np.ones(var.shape)))\n"
     ]
    },
    {
     "name": "stdout",
     "output_type": "stream",
     "text": [
      "121 seconds remaining\r"
     ]
    },
    {
     "name": "stderr",
     "output_type": "stream",
     "text": [
      "/data/cl2217/dynamical_system_invariance_project/codes/invariance_functions.py:273: RuntimeWarning: invalid value encountered in sqrt\n",
      "  var = scalerY.inverse_transform(pred + 1.96*np.sqrt(var+likelihood*np.ones(var.shape)))\n"
     ]
    },
    {
     "name": "stdout",
     "output_type": "stream",
     "text": [
      "119 seconds remaining\r"
     ]
    },
    {
     "name": "stderr",
     "output_type": "stream",
     "text": [
      "/data/cl2217/dynamical_system_invariance_project/codes/invariance_functions.py:273: RuntimeWarning: invalid value encountered in sqrt\n",
      "  var = scalerY.inverse_transform(pred + 1.96*np.sqrt(var+likelihood*np.ones(var.shape)))\n"
     ]
    },
    {
     "name": "stdout",
     "output_type": "stream",
     "text": [
      "116 seconds remaining\r"
     ]
    },
    {
     "name": "stderr",
     "output_type": "stream",
     "text": [
      "/data/cl2217/dynamical_system_invariance_project/codes/invariance_functions.py:273: RuntimeWarning: invalid value encountered in sqrt\n",
      "  var = scalerY.inverse_transform(pred + 1.96*np.sqrt(var+likelihood*np.ones(var.shape)))\n"
     ]
    },
    {
     "name": "stdout",
     "output_type": "stream",
     "text": [
      "114 seconds remaining\r"
     ]
    },
    {
     "name": "stderr",
     "output_type": "stream",
     "text": [
      "/data/cl2217/dynamical_system_invariance_project/codes/invariance_functions.py:273: RuntimeWarning: invalid value encountered in sqrt\n",
      "  var = scalerY.inverse_transform(pred + 1.96*np.sqrt(var+likelihood*np.ones(var.shape)))\n"
     ]
    },
    {
     "name": "stdout",
     "output_type": "stream",
     "text": [
      "112 seconds remaining\r"
     ]
    },
    {
     "name": "stderr",
     "output_type": "stream",
     "text": [
      "/data/cl2217/dynamical_system_invariance_project/codes/invariance_functions.py:273: RuntimeWarning: invalid value encountered in sqrt\n",
      "  var = scalerY.inverse_transform(pred + 1.96*np.sqrt(var+likelihood*np.ones(var.shape)))\n"
     ]
    },
    {
     "name": "stdout",
     "output_type": "stream",
     "text": [
      "110 seconds remaining\r"
     ]
    },
    {
     "name": "stderr",
     "output_type": "stream",
     "text": [
      "/data/cl2217/dynamical_system_invariance_project/codes/invariance_functions.py:273: RuntimeWarning: invalid value encountered in sqrt\n",
      "  var = scalerY.inverse_transform(pred + 1.96*np.sqrt(var+likelihood*np.ones(var.shape)))\n"
     ]
    },
    {
     "name": "stdout",
     "output_type": "stream",
     "text": [
      "108 seconds remaining\r"
     ]
    },
    {
     "name": "stderr",
     "output_type": "stream",
     "text": [
      "/data/cl2217/dynamical_system_invariance_project/codes/invariance_functions.py:273: RuntimeWarning: invalid value encountered in sqrt\n",
      "  var = scalerY.inverse_transform(pred + 1.96*np.sqrt(var+likelihood*np.ones(var.shape)))\n"
     ]
    },
    {
     "name": "stdout",
     "output_type": "stream",
     "text": [
      "106 seconds remaining\r"
     ]
    },
    {
     "name": "stderr",
     "output_type": "stream",
     "text": [
      "/data/cl2217/dynamical_system_invariance_project/codes/invariance_functions.py:273: RuntimeWarning: invalid value encountered in sqrt\n",
      "  var = scalerY.inverse_transform(pred + 1.96*np.sqrt(var+likelihood*np.ones(var.shape)))\n"
     ]
    },
    {
     "name": "stdout",
     "output_type": "stream",
     "text": [
      "104 seconds remaining\r"
     ]
    },
    {
     "name": "stderr",
     "output_type": "stream",
     "text": [
      "/data/cl2217/dynamical_system_invariance_project/codes/invariance_functions.py:273: RuntimeWarning: invalid value encountered in sqrt\n",
      "  var = scalerY.inverse_transform(pred + 1.96*np.sqrt(var+likelihood*np.ones(var.shape)))\n"
     ]
    },
    {
     "name": "stdout",
     "output_type": "stream",
     "text": [
      "101 seconds remaining\r"
     ]
    },
    {
     "name": "stderr",
     "output_type": "stream",
     "text": [
      "/data/cl2217/dynamical_system_invariance_project/codes/invariance_functions.py:273: RuntimeWarning: invalid value encountered in sqrt\n",
      "  var = scalerY.inverse_transform(pred + 1.96*np.sqrt(var+likelihood*np.ones(var.shape)))\n"
     ]
    },
    {
     "name": "stdout",
     "output_type": "stream",
     "text": [
      "99 seconds remaining\r"
     ]
    },
    {
     "name": "stderr",
     "output_type": "stream",
     "text": [
      "/data/cl2217/dynamical_system_invariance_project/codes/invariance_functions.py:273: RuntimeWarning: invalid value encountered in sqrt\n",
      "  var = scalerY.inverse_transform(pred + 1.96*np.sqrt(var+likelihood*np.ones(var.shape)))\n"
     ]
    },
    {
     "name": "stdout",
     "output_type": "stream",
     "text": [
      "97 seconds remaining\r"
     ]
    },
    {
     "name": "stderr",
     "output_type": "stream",
     "text": [
      "/data/cl2217/dynamical_system_invariance_project/codes/invariance_functions.py:273: RuntimeWarning: invalid value encountered in sqrt\n",
      "  var = scalerY.inverse_transform(pred + 1.96*np.sqrt(var+likelihood*np.ones(var.shape)))\n"
     ]
    },
    {
     "name": "stdout",
     "output_type": "stream",
     "text": [
      "95 seconds remaining\r"
     ]
    },
    {
     "name": "stderr",
     "output_type": "stream",
     "text": [
      "/data/cl2217/dynamical_system_invariance_project/codes/invariance_functions.py:273: RuntimeWarning: invalid value encountered in sqrt\n",
      "  var = scalerY.inverse_transform(pred + 1.96*np.sqrt(var+likelihood*np.ones(var.shape)))\n"
     ]
    },
    {
     "name": "stdout",
     "output_type": "stream",
     "text": [
      "93 seconds remaining\r"
     ]
    },
    {
     "name": "stderr",
     "output_type": "stream",
     "text": [
      "/data/cl2217/dynamical_system_invariance_project/codes/invariance_functions.py:273: RuntimeWarning: invalid value encountered in sqrt\n",
      "  var = scalerY.inverse_transform(pred + 1.96*np.sqrt(var+likelihood*np.ones(var.shape)))\n"
     ]
    },
    {
     "name": "stdout",
     "output_type": "stream",
     "text": [
      "91 seconds remaining\r"
     ]
    },
    {
     "name": "stderr",
     "output_type": "stream",
     "text": [
      "/data/cl2217/dynamical_system_invariance_project/codes/invariance_functions.py:273: RuntimeWarning: invalid value encountered in sqrt\n",
      "  var = scalerY.inverse_transform(pred + 1.96*np.sqrt(var+likelihood*np.ones(var.shape)))\n"
     ]
    },
    {
     "name": "stdout",
     "output_type": "stream",
     "text": [
      "88 seconds remaining\r"
     ]
    },
    {
     "name": "stderr",
     "output_type": "stream",
     "text": [
      "/data/cl2217/dynamical_system_invariance_project/codes/invariance_functions.py:273: RuntimeWarning: invalid value encountered in sqrt\n",
      "  var = scalerY.inverse_transform(pred + 1.96*np.sqrt(var+likelihood*np.ones(var.shape)))\n"
     ]
    },
    {
     "name": "stdout",
     "output_type": "stream",
     "text": [
      "86 seconds remaining\r"
     ]
    },
    {
     "name": "stderr",
     "output_type": "stream",
     "text": [
      "/data/cl2217/dynamical_system_invariance_project/codes/invariance_functions.py:273: RuntimeWarning: invalid value encountered in sqrt\n",
      "  var = scalerY.inverse_transform(pred + 1.96*np.sqrt(var+likelihood*np.ones(var.shape)))\n"
     ]
    },
    {
     "name": "stdout",
     "output_type": "stream",
     "text": [
      "84 seconds remaining\r"
     ]
    },
    {
     "name": "stderr",
     "output_type": "stream",
     "text": [
      "/data/cl2217/dynamical_system_invariance_project/codes/invariance_functions.py:273: RuntimeWarning: invalid value encountered in sqrt\n",
      "  var = scalerY.inverse_transform(pred + 1.96*np.sqrt(var+likelihood*np.ones(var.shape)))\n"
     ]
    },
    {
     "name": "stdout",
     "output_type": "stream",
     "text": [
      "82 seconds remaining\r"
     ]
    },
    {
     "name": "stderr",
     "output_type": "stream",
     "text": [
      "/data/cl2217/dynamical_system_invariance_project/codes/invariance_functions.py:273: RuntimeWarning: invalid value encountered in sqrt\n",
      "  var = scalerY.inverse_transform(pred + 1.96*np.sqrt(var+likelihood*np.ones(var.shape)))\n"
     ]
    },
    {
     "name": "stdout",
     "output_type": "stream",
     "text": [
      "80 seconds remaining\r"
     ]
    },
    {
     "name": "stderr",
     "output_type": "stream",
     "text": [
      "/data/cl2217/dynamical_system_invariance_project/codes/invariance_functions.py:273: RuntimeWarning: invalid value encountered in sqrt\n",
      "  var = scalerY.inverse_transform(pred + 1.96*np.sqrt(var+likelihood*np.ones(var.shape)))\n"
     ]
    },
    {
     "name": "stdout",
     "output_type": "stream",
     "text": [
      "78 seconds remaining\r"
     ]
    },
    {
     "name": "stderr",
     "output_type": "stream",
     "text": [
      "/data/cl2217/dynamical_system_invariance_project/codes/invariance_functions.py:273: RuntimeWarning: invalid value encountered in sqrt\n",
      "  var = scalerY.inverse_transform(pred + 1.96*np.sqrt(var+likelihood*np.ones(var.shape)))\n"
     ]
    },
    {
     "name": "stdout",
     "output_type": "stream",
     "text": [
      "75 seconds remaining\r"
     ]
    },
    {
     "name": "stderr",
     "output_type": "stream",
     "text": [
      "/data/cl2217/dynamical_system_invariance_project/codes/invariance_functions.py:273: RuntimeWarning: invalid value encountered in sqrt\n",
      "  var = scalerY.inverse_transform(pred + 1.96*np.sqrt(var+likelihood*np.ones(var.shape)))\n"
     ]
    },
    {
     "name": "stdout",
     "output_type": "stream",
     "text": [
      "73 seconds remaining\r"
     ]
    },
    {
     "name": "stderr",
     "output_type": "stream",
     "text": [
      "/data/cl2217/dynamical_system_invariance_project/codes/invariance_functions.py:273: RuntimeWarning: invalid value encountered in sqrt\n",
      "  var = scalerY.inverse_transform(pred + 1.96*np.sqrt(var+likelihood*np.ones(var.shape)))\n"
     ]
    },
    {
     "name": "stdout",
     "output_type": "stream",
     "text": [
      "71 seconds remaining\r"
     ]
    },
    {
     "name": "stderr",
     "output_type": "stream",
     "text": [
      "/data/cl2217/dynamical_system_invariance_project/codes/invariance_functions.py:273: RuntimeWarning: invalid value encountered in sqrt\n",
      "  var = scalerY.inverse_transform(pred + 1.96*np.sqrt(var+likelihood*np.ones(var.shape)))\n"
     ]
    },
    {
     "name": "stdout",
     "output_type": "stream",
     "text": [
      "69 seconds remaining\r"
     ]
    },
    {
     "name": "stderr",
     "output_type": "stream",
     "text": [
      "/data/cl2217/dynamical_system_invariance_project/codes/invariance_functions.py:273: RuntimeWarning: invalid value encountered in sqrt\n",
      "  var = scalerY.inverse_transform(pred + 1.96*np.sqrt(var+likelihood*np.ones(var.shape)))\n"
     ]
    },
    {
     "name": "stdout",
     "output_type": "stream",
     "text": [
      "67 seconds remaining\r"
     ]
    },
    {
     "name": "stderr",
     "output_type": "stream",
     "text": [
      "/data/cl2217/dynamical_system_invariance_project/codes/invariance_functions.py:273: RuntimeWarning: invalid value encountered in sqrt\n",
      "  var = scalerY.inverse_transform(pred + 1.96*np.sqrt(var+likelihood*np.ones(var.shape)))\n"
     ]
    },
    {
     "name": "stdout",
     "output_type": "stream",
     "text": [
      "65 seconds remaining\r"
     ]
    },
    {
     "name": "stderr",
     "output_type": "stream",
     "text": [
      "/data/cl2217/dynamical_system_invariance_project/codes/invariance_functions.py:273: RuntimeWarning: invalid value encountered in sqrt\n",
      "  var = scalerY.inverse_transform(pred + 1.96*np.sqrt(var+likelihood*np.ones(var.shape)))\n"
     ]
    },
    {
     "name": "stdout",
     "output_type": "stream",
     "text": [
      "63 seconds remaining\r"
     ]
    },
    {
     "name": "stderr",
     "output_type": "stream",
     "text": [
      "/data/cl2217/dynamical_system_invariance_project/codes/invariance_functions.py:273: RuntimeWarning: invalid value encountered in sqrt\n",
      "  var = scalerY.inverse_transform(pred + 1.96*np.sqrt(var+likelihood*np.ones(var.shape)))\n"
     ]
    },
    {
     "name": "stdout",
     "output_type": "stream",
     "text": [
      "60 seconds remaining\r"
     ]
    },
    {
     "name": "stderr",
     "output_type": "stream",
     "text": [
      "/data/cl2217/dynamical_system_invariance_project/codes/invariance_functions.py:273: RuntimeWarning: invalid value encountered in sqrt\n",
      "  var = scalerY.inverse_transform(pred + 1.96*np.sqrt(var+likelihood*np.ones(var.shape)))\n"
     ]
    },
    {
     "name": "stdout",
     "output_type": "stream",
     "text": [
      "58 seconds remaining\r"
     ]
    },
    {
     "name": "stderr",
     "output_type": "stream",
     "text": [
      "/data/cl2217/dynamical_system_invariance_project/codes/invariance_functions.py:273: RuntimeWarning: invalid value encountered in sqrt\n",
      "  var = scalerY.inverse_transform(pred + 1.96*np.sqrt(var+likelihood*np.ones(var.shape)))\n"
     ]
    },
    {
     "name": "stdout",
     "output_type": "stream",
     "text": [
      "56 seconds remaining\r"
     ]
    },
    {
     "name": "stderr",
     "output_type": "stream",
     "text": [
      "/data/cl2217/dynamical_system_invariance_project/codes/invariance_functions.py:273: RuntimeWarning: invalid value encountered in sqrt\n",
      "  var = scalerY.inverse_transform(pred + 1.96*np.sqrt(var+likelihood*np.ones(var.shape)))\n"
     ]
    },
    {
     "name": "stdout",
     "output_type": "stream",
     "text": [
      "54 seconds remaining\r"
     ]
    },
    {
     "name": "stderr",
     "output_type": "stream",
     "text": [
      "/data/cl2217/dynamical_system_invariance_project/codes/invariance_functions.py:273: RuntimeWarning: invalid value encountered in sqrt\n",
      "  var = scalerY.inverse_transform(pred + 1.96*np.sqrt(var+likelihood*np.ones(var.shape)))\n"
     ]
    },
    {
     "name": "stdout",
     "output_type": "stream",
     "text": [
      "52 seconds remaining\r"
     ]
    },
    {
     "name": "stderr",
     "output_type": "stream",
     "text": [
      "/data/cl2217/dynamical_system_invariance_project/codes/invariance_functions.py:273: RuntimeWarning: invalid value encountered in sqrt\n",
      "  var = scalerY.inverse_transform(pred + 1.96*np.sqrt(var+likelihood*np.ones(var.shape)))\n"
     ]
    },
    {
     "name": "stdout",
     "output_type": "stream",
     "text": [
      "50 seconds remaining\r"
     ]
    },
    {
     "name": "stderr",
     "output_type": "stream",
     "text": [
      "/data/cl2217/dynamical_system_invariance_project/codes/invariance_functions.py:273: RuntimeWarning: invalid value encountered in sqrt\n",
      "  var = scalerY.inverse_transform(pred + 1.96*np.sqrt(var+likelihood*np.ones(var.shape)))\n"
     ]
    },
    {
     "name": "stdout",
     "output_type": "stream",
     "text": [
      "47 seconds remaining\r"
     ]
    },
    {
     "name": "stderr",
     "output_type": "stream",
     "text": [
      "/data/cl2217/dynamical_system_invariance_project/codes/invariance_functions.py:273: RuntimeWarning: invalid value encountered in sqrt\n",
      "  var = scalerY.inverse_transform(pred + 1.96*np.sqrt(var+likelihood*np.ones(var.shape)))\n"
     ]
    },
    {
     "name": "stdout",
     "output_type": "stream",
     "text": [
      "45 seconds remaining\r"
     ]
    },
    {
     "name": "stderr",
     "output_type": "stream",
     "text": [
      "/data/cl2217/dynamical_system_invariance_project/codes/invariance_functions.py:273: RuntimeWarning: invalid value encountered in sqrt\n",
      "  var = scalerY.inverse_transform(pred + 1.96*np.sqrt(var+likelihood*np.ones(var.shape)))\n"
     ]
    },
    {
     "name": "stdout",
     "output_type": "stream",
     "text": [
      "43 seconds remaining\r"
     ]
    },
    {
     "name": "stderr",
     "output_type": "stream",
     "text": [
      "/data/cl2217/dynamical_system_invariance_project/codes/invariance_functions.py:273: RuntimeWarning: invalid value encountered in sqrt\n",
      "  var = scalerY.inverse_transform(pred + 1.96*np.sqrt(var+likelihood*np.ones(var.shape)))\n"
     ]
    },
    {
     "name": "stdout",
     "output_type": "stream",
     "text": [
      "41 seconds remaining\r"
     ]
    },
    {
     "name": "stderr",
     "output_type": "stream",
     "text": [
      "/data/cl2217/dynamical_system_invariance_project/codes/invariance_functions.py:273: RuntimeWarning: invalid value encountered in sqrt\n",
      "  var = scalerY.inverse_transform(pred + 1.96*np.sqrt(var+likelihood*np.ones(var.shape)))\n"
     ]
    },
    {
     "name": "stdout",
     "output_type": "stream",
     "text": [
      "39 seconds remaining\r"
     ]
    },
    {
     "name": "stderr",
     "output_type": "stream",
     "text": [
      "/data/cl2217/dynamical_system_invariance_project/codes/invariance_functions.py:273: RuntimeWarning: invalid value encountered in sqrt\n",
      "  var = scalerY.inverse_transform(pred + 1.96*np.sqrt(var+likelihood*np.ones(var.shape)))\n"
     ]
    },
    {
     "name": "stdout",
     "output_type": "stream",
     "text": [
      "37 seconds remaining\r"
     ]
    },
    {
     "name": "stderr",
     "output_type": "stream",
     "text": [
      "/data/cl2217/dynamical_system_invariance_project/codes/invariance_functions.py:273: RuntimeWarning: invalid value encountered in sqrt\n",
      "  var = scalerY.inverse_transform(pred + 1.96*np.sqrt(var+likelihood*np.ones(var.shape)))\n"
     ]
    },
    {
     "name": "stdout",
     "output_type": "stream",
     "text": [
      "35 seconds remaining\r"
     ]
    },
    {
     "name": "stderr",
     "output_type": "stream",
     "text": [
      "/data/cl2217/dynamical_system_invariance_project/codes/invariance_functions.py:273: RuntimeWarning: invalid value encountered in sqrt\n",
      "  var = scalerY.inverse_transform(pred + 1.96*np.sqrt(var+likelihood*np.ones(var.shape)))\n"
     ]
    },
    {
     "name": "stdout",
     "output_type": "stream",
     "text": [
      "32 seconds remaining\r"
     ]
    },
    {
     "name": "stderr",
     "output_type": "stream",
     "text": [
      "/data/cl2217/dynamical_system_invariance_project/codes/invariance_functions.py:273: RuntimeWarning: invalid value encountered in sqrt\n",
      "  var = scalerY.inverse_transform(pred + 1.96*np.sqrt(var+likelihood*np.ones(var.shape)))\n"
     ]
    },
    {
     "name": "stdout",
     "output_type": "stream",
     "text": [
      "30 seconds remaining\r"
     ]
    },
    {
     "name": "stderr",
     "output_type": "stream",
     "text": [
      "/data/cl2217/dynamical_system_invariance_project/codes/invariance_functions.py:273: RuntimeWarning: invalid value encountered in sqrt\n",
      "  var = scalerY.inverse_transform(pred + 1.96*np.sqrt(var+likelihood*np.ones(var.shape)))\n"
     ]
    },
    {
     "name": "stdout",
     "output_type": "stream",
     "text": [
      "0.3091407092365894gg\n",
      "(-0.1720713128805025, 0.2583654972483841)\n",
      "SpearmanrResult(correlation=-0.28168642951251643, pvalue=0.06084861079298298)\n",
      "45\n",
      "-3318.8323732479694\n",
      "0.09628361811119496gg\n",
      "(-0.1768931851699522, 0.23958199651966516)\n",
      "SpearmanrResult(correlation=-0.28510638297872337, pvalue=0.054789712792988415)\n",
      "46\n",
      "-2871.598375378976\n",
      "0.3109910872567159ggg\n",
      "(-0.13494711365836928, 0.3657912162515957)\n",
      "SpearmanrResult(correlation=-0.23716466234967626, pvalue=0.10846491991697929)\n",
      "47\n",
      "-5298.285592138709\n",
      "0.20601879289433533gg\n",
      "(-0.14353910431626044, 0.3304010028054397)\n",
      "SpearmanrResult(correlation=-0.2534737299174989, pvalue=0.08215074087780629)\n",
      "48\n",
      "-5636.406790600791\n",
      "0.08255983520615047gg\n",
      "(-0.13015082544317302, 0.37274883387251995)\n",
      "SpearmanrResult(correlation=-0.23306122448979588, pvalue=0.10705054595688764)\n",
      "49\n",
      "-3044.4093186019654\n",
      "0.06287136762216491gg\n",
      "(-0.1413953690447183, 0.32735259267645905)\n",
      "SpearmanrResult(correlation=-0.24773109243697478, pvalue=0.08281716793829029)\n"
     ]
    }
   ],
   "source": [
    "\n",
    "from scipy.stats import spearmanr, pearsonr\n",
    "def energy(X):\n",
    "    return -2*np.cos(X[:,0])-np.cos(X[:,1])+0.5*tf.square(X[:,2])+0.5*(tf.square(X[:,2])+tf.square(X[:,3])+2*X[:,2]*X[:,3]*np.cos(X[:,0]-X[:,1]))\n",
    "\n",
    "n_neighbours = 40\n",
    "\n",
    "\n",
    "kernel = get_paramertised_invariance_kernel_2D(PolynomialLocalInvariance2D, 1.5, 6, 0, 0.5, n_neighbours, jitter, polynomial_degree) \n",
    "model_fixed = get_GPR_model_2D(kernel, mean, data, iterations=1000, old_model=known, fixed=True)\n",
    "\n",
    "print(model_fixed.log_marginal_likelihood().numpy())\n",
    "\n",
    "\n",
    "polynomial_degree = 3\n",
    "print(\"learnt\")\n",
    "test_starting_position1 = np.radians(np.random.uniform(-max_x, max_x))\n",
    "test_starting_position2 = np.radians(np.random.uniform(-max_x, max_x))\n",
    "test_starting_velocity1 = np.radians(np.random.uniform(-max_v, max_v))\n",
    "test_starting_velocity2 = np.radians(np.random.uniform(-max_v, max_v))\n",
    "test_starting = (test_starting_position1, test_starting_position2, test_starting_velocity1, test_starting_velocity2)\n",
    "\n",
    "evaluate_moi = evaluate_model_future_2D(moi, test_starting, dynamics, time_setting, scalers, energy)\n",
    "print(evaluate_moi[0])\n",
    "evaluate_known = evaluate_model_future_2D(known, test_starting, dynamics, time_setting, scalers, energy)\n",
    "print(evaluate_known[0])\n",
    "\n",
    "evaluate_learnt_fixed = evaluate_model_future_2D(model_fixed, test_starting, dynamics, time_setting, scalers, energy)\n",
    "print(evaluate_learnt_fixed[0])\n",
    "\n",
    "evaluate_learnt_free = evaluate_model_future_2D(model, test_starting, dynamics, time_setting, scalers, energy)\n",
    "print(evaluate_learnt_free[0])\n",
    "\n",
    "\n",
    "grids_lml = []\n",
    "grids_eva = []\n",
    "for i in range(50):\n",
    "    print(i)\n",
    "    kernel_grid = get_paramertised_invariance_kernel_2D(PolynomialLocalInvariance2D, 1.5, 6, 0, 0.5, n_neighbours, jitter, polynomial_degree) \n",
    "    kernel_grid.poly = gpflow.Parameter(0.1*np.random.normal(size=kernel_grid.poly.shape), transform =tfp.bijectors.Sigmoid(to_default_float(-1.), to_default_float(1.)), trainable=False, prior=tfp.distributions.Laplace(to_default_float(0),(0.1)), name=\"poly\")\n",
    "    model_grid = get_GPR_model_2D(kernel_grid, mean, data, iterations=1000, old_model=known, fixed=True)\n",
    "    print(model_grid.log_marginal_likelihood().numpy())\n",
    "\n",
    "    evaluate_learnt_grid = evaluate_model_future_2D(model_grid, test_starting, dynamics, time_setting, scalers, energy)\n",
    "    print(evaluate_learnt_grid[0])\n",
    "    grids_eva.append(evaluate_learnt_grid[0])\n",
    "    grids_lml.append(model_grid.log_marginal_likelihood().numpy())\n",
    "    if i>=2:\n",
    "        print(pearsonr(grids_lml, grids_eva))\n",
    "        print(spearmanr(grids_lml, grids_eva))\n"
   ]
  },
  {
   "cell_type": "code",
   "execution_count": 6,
   "metadata": {},
   "outputs": [
    {
     "data": {
      "image/png": "[encoded data removed]",
      "text/plain": [
       "<Figure size 432x288 with 1 Axes>"
      ]
     },
     "metadata": {
      "needs_background": "light"
     },
     "output_type": "display_data"
    }
   ],
   "source": [
    "\n",
    "plt.scatter(grids_lml, grids_eva, s=10, label=\"randomly initialised polynomial\")\n",
    "plt.scatter(model_fixed.log_marginal_likelihood().numpy(), evaluate_learnt_fixed[0],marker=\"X\",s=10, color=\"red\", label=\"theoretically initialised polynomial\", alpha=0.5)\n",
    "plt.scatter(model.log_marginal_likelihood().numpy(), evaluate_learnt_free[0], s=10, color=\"green\", label=\"optimised\", alpha=0.5)\n",
    "plt.yscale(\"log\")\n",
    "plt.xlabel(\"log marginal likelihood\")\n",
    "plt.ylabel(\"MSE\")\n",
    "plt.legend()\n",
    "plt.savefig(\"figures/double_pendulum_polynomial.pdf\")"
   ]
  },
  {
   "cell_type": "code",
   "execution_count": 7,
   "metadata": {},
   "outputs": [
    {
     "name": "stdout",
     "output_type": "stream",
     "text": [
      "SpearmanrResult(correlation=-0.24773109243697478, pvalue=0.08281716793829029)\n",
      "(-0.1413953690447183, 0.32735259267645905)\n"
     ]
    }
   ],
   "source": [
    "\n",
    "from scipy.stats import spearmanr, pearsonr\n",
    "print(spearmanr(grids_lml, (grids_eva)))\n",
    "print(pearsonr(grids_lml, (grids_eva)))"
   ]
  },
  {
   "cell_type": "code",
   "execution_count": 26,
   "metadata": {},
   "outputs": [
    {
     "data": {
      "text/plain": [
       "0.0006001384695890139"
      ]
     },
     "execution_count": 26,
     "metadata": {},
     "output_type": "execute_result"
    }
   ],
   "source": [
    "min(grids_eva)"
   ]
  }
 ],
 "metadata": {
  "kernelspec": {
   "display_name": "Python 3",
   "language": "python",
   "name": "python3"
  },
  "orig_nbformat": 4
 },
 "nbformat": 4,
 "nbformat_minor": 2
}
