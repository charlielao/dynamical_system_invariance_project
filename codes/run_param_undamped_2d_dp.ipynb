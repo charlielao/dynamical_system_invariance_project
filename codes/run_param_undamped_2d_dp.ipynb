{
 "cells": [
  {
   "cell_type": "code",
   "execution_count": 1,
   "metadata": {},
   "outputs": [],
   "source": [
    "import gpflow\n",
    "import numpy as np\n",
    "import tensorflow as tf\n",
    "import tensorflow_probability as tfp\n",
    "from scipy.integrate import solve_ivp, odeint\n",
    "from gpflow.utilities import print_summary, positive, to_default_float, set_trainable\n",
    "from invariance_kernels import ZeroMean , get_MOI, get_MOI_2D \n",
    "from invariance_functions import degree_of_freedom, get_GPR_model_2D, get_SHM_data_2D, get_double_pendulum_data, evaluate_model_future_2D, evaluate_model_grid_2D, SHM_dynamics1_2D, SHM_dynamics2_2D, get_GPR_model_GD_2D, double_pendulum_dynamics1, double_pendulum_dynamics2\n",
    "from local_invariance_kernels import  get_polynomial_local_invariance_2D, get_SHM_local_invariance_2D, get_double_pendulum_local_invariance\n",
    "from sklearn.preprocessing import StandardScaler, MinMaxScaler\n",
    "import joblib\n",
    "import os\n",
    "import matplotlib.pyplot as plt\n",
    "os.environ[\"CUDA_VISIBLE_DEVICES\"] = '3'"
   ]
  },
  {
   "cell_type": "code",
   "execution_count": 2,
   "metadata": {},
   "outputs": [
    {
     "name": "stdout",
     "output_type": "stream",
     "text": [
      "[-35.04274277  -6.76724423  17.54967141  38.53874525 -46.41330999]\n",
      "[-38.8942861  -42.51860058  15.68678933 -21.96409073   2.66426347]\n",
      "[-4.48414056 -6.84033471 -3.711912    5.25853915  3.07583679]\n",
      "[-6.65967739  0.06762814  0.39224133  8.5177379   6.983022  ]\n"
     ]
    }
   ],
   "source": [
    "\n",
    "mean = ZeroMean(4) \n",
    "\n",
    "time_step = 0.01\n",
    "training_time = 0.1\n",
    "testing_time = 1\n",
    "\n",
    "max_x = 60\n",
    "max_v = 10 \n",
    "n_train = 5\n",
    "train_starting_position1 = np.random.uniform(-max_x, max_x, (n_train))\n",
    "train_starting_position2 = np.random.uniform(-max_x, max_x, (n_train))\n",
    "train_starting_velocity1 = np.random.uniform(-max_v, max_v, (n_train))\n",
    "train_starting_velocity2 = np.random.uniform(-max_v, max_v, (n_train))\n",
    "\n",
    "print(train_starting_position1)\n",
    "print(train_starting_position2)\n",
    "print(train_starting_velocity1)\n",
    "print(train_starting_velocity2)\n",
    "\n",
    "data2 = get_double_pendulum_data(time_step, training_time, 1e-8, train_starting_position1, train_starting_position2, train_starting_velocity1, train_starting_velocity2) #switch\n"
   ]
  },
  {
   "cell_type": "code",
   "execution_count": 3,
   "metadata": {},
   "outputs": [],
   "source": [
    "\n",
    "scalerX = StandardScaler(with_mean=False, with_std=False).fit(data2[0])\n",
    "scalerY = StandardScaler(with_mean=False, with_std=False).fit(data2[1])\n",
    "#scalerX = StandardScaler().fit(data2[0])\n",
    "#scalerY = StandardScaler().fit(data2[1])\n",
    "#scalerX = MinMaxScaler((-1,1)).fit(data2[0])\n",
    "#scalerY = MinMaxScaler((-1,1)).fit(data2[1])\n",
    "X = scalerX.transform(data2[0])\n",
    "Y = scalerY.transform(data2[1])\n",
    "data = (X, Y)\n",
    "scalers = (scalerX, scalerY)\n",
    "time_setting = (testing_time, time_step)\n",
    "dynamics = (double_pendulum_dynamics1, double_pendulum_dynamics2)\n",
    "jitter = 5e-4\n",
    "\n",
    "#joblib.dump(scalerX, 'shm_2d/scalerX.gz')\n",
    "#joblib.dump(scalerY, 'shm_2d/scalerY.gz')"
   ]
  },
  {
   "cell_type": "code",
   "execution_count": 4,
   "metadata": {},
   "outputs": [
    {
     "name": "stdout",
     "output_type": "stream",
     "text": [
      "moi\n",
      "783.4563784322434\n",
      "known\n",
      "836.4043179131611\n",
      "learnt\n",
      "869.9158370846553\n"
     ]
    }
   ],
   "source": [
    "\n",
    "print(\"moi\")\n",
    "moi = get_GPR_model_2D(get_MOI_2D(), mean, data, 100)\n",
    "print(moi.log_marginal_likelihood().numpy())\n",
    "#try:\n",
    "n_neighbours =  40\n",
    "print(\"known\")\n",
    "kernel_known = get_double_pendulum_local_invariance(1.5, 6, 0, 0.5, n_neighbours, jitter) #switch\n",
    "known = get_GPR_model_2D(kernel_known, mean, data, iterations=1000)\n",
    "print(known.log_marginal_likelihood().numpy())\n",
    "\n",
    "polynomial_degree = 3\n",
    "print(\"learnt\")\n",
    "\n",
    "kernel = get_polynomial_local_invariance_2D(1.5, 6, 0, 0.5, n_neighbours, jitter, polynomial_degree) \n",
    "model = get_GPR_model_2D(kernel, mean, data, iterations=10000, old_model=known)\n",
    "print(model.log_marginal_likelihood().numpy())"
   ]
  },
  {
   "cell_type": "code",
   "execution_count": 12,
   "metadata": {},
   "outputs": [
    {
     "data": {
      "text/html": [
       "&lt;local_invariance_kernels.PolynomialLocalInvariance2D object at 0x7f67007f6ca0&gt;\n",
       "<table>\n",
       "<thead>\n",
       "<tr><th>name                                        </th><th>class    </th><th>transform  </th><th>prior  </th><th>trainable  </th><th>shape  </th><th>dtype  </th><th>value                                                </th></tr>\n",
       "</thead>\n",
       "<tbody>\n",
       "<tr><td>PolynomialLocalInvariance2D.Ka1.variance    </td><td>Parameter</td><td>Sigmoid    </td><td>       </td><td>True       </td><td>()     </td><td>float64</td><td>9.995325681358743                                    </td></tr>\n",
       "<tr><td>PolynomialLocalInvariance2D.Ka1.lengthscales</td><td>Parameter</td><td>Sigmoid    </td><td>       </td><td>True       </td><td>(4,)   </td><td>float64</td><td>[0.9261613, 0.96886933, 3.72867725...                </td></tr>\n",
       "<tr><td>PolynomialLocalInvariance2D.Ka2.variance    </td><td>Parameter</td><td>Sigmoid    </td><td>       </td><td>True       </td><td>()     </td><td>float64</td><td>9.91931582664112                                     </td></tr>\n",
       "<tr><td>PolynomialLocalInvariance2D.Ka2.lengthscales</td><td>Parameter</td><td>Sigmoid    </td><td>       </td><td>True       </td><td>(4,)   </td><td>float64</td><td>[0.65099277, 0.91211915, 9.99227015...               </td></tr>\n",
       "<tr><td>PolynomialLocalInvariance2D.Kv1.variance    </td><td>Parameter</td><td>Sigmoid    </td><td>       </td><td>True       </td><td>()     </td><td>float64</td><td>9.194711333017764                                    </td></tr>\n",
       "<tr><td>PolynomialLocalInvariance2D.Kv1.lengthscales</td><td>Parameter</td><td>Sigmoid    </td><td>       </td><td>True       </td><td>(4,)   </td><td>float64</td><td>[9.94768927, 9.99038591, 3.57827934...               </td></tr>\n",
       "<tr><td>PolynomialLocalInvariance2D.Kv2.variance    </td><td>Parameter</td><td>Sigmoid    </td><td>       </td><td>True       </td><td>()     </td><td>float64</td><td>0.40531484518602834                                  </td></tr>\n",
       "<tr><td>PolynomialLocalInvariance2D.Kv2.lengthscales</td><td>Parameter</td><td>Sigmoid    </td><td>       </td><td>True       </td><td>(4,)   </td><td>float64</td><td>[9.99998435, 9.75144683, 9.99789451...               </td></tr>\n",
       "<tr><td>PolynomialLocalInvariance2D.poly            </td><td>Parameter</td><td>Sigmoid    </td><td>       </td><td>True       </td><td>(4, 35)</td><td>float64</td><td>[[-1.49148056e-03, 9.33966704e-03, -7.90171121e-03...</td></tr>\n",
       "</tbody>\n",
       "</table>"
      ],
      "text/plain": [
       "<local_invariance_kernels.PolynomialLocalInvariance2D object at 0x7f67007f6ca0>\n",
       "╒══════════════════════════════════════════════╤═══════════╤═════════════╤═════════╤═════════════╤═════════╤═════════╤═══════════════════════════════════════════════════════╕\n",
       "│ name                                         │ class     │ transform   │ prior   │ trainable   │ shape   │ dtype   │ value                                                 │\n",
       "╞══════════════════════════════════════════════╪═══════════╪═════════════╪═════════╪═════════════╪═════════╪═════════╪═══════════════════════════════════════════════════════╡\n",
       "│ PolynomialLocalInvariance2D.Ka1.variance     │ Parameter │ Sigmoid     │         │ True        │ ()      │ float64 │ 9.995325681358743                                     │\n",
       "├──────────────────────────────────────────────┼───────────┼─────────────┼─────────┼─────────────┼─────────┼─────────┼───────────────────────────────────────────────────────┤\n",
       "│ PolynomialLocalInvariance2D.Ka1.lengthscales │ Parameter │ Sigmoid     │         │ True        │ (4,)    │ float64 │ [0.9261613, 0.96886933, 3.72867725...                 │\n",
       "├──────────────────────────────────────────────┼───────────┼─────────────┼─────────┼─────────────┼─────────┼─────────┼───────────────────────────────────────────────────────┤\n",
       "│ PolynomialLocalInvariance2D.Ka2.variance     │ Parameter │ Sigmoid     │         │ True        │ ()      │ float64 │ 9.91931582664112                                      │\n",
       "├──────────────────────────────────────────────┼───────────┼─────────────┼─────────┼─────────────┼─────────┼─────────┼───────────────────────────────────────────────────────┤\n",
       "│ PolynomialLocalInvariance2D.Ka2.lengthscales │ Parameter │ Sigmoid     │         │ True        │ (4,)    │ float64 │ [0.65099277, 0.91211915, 9.99227015...                │\n",
       "├──────────────────────────────────────────────┼───────────┼─────────────┼─────────┼─────────────┼─────────┼─────────┼───────────────────────────────────────────────────────┤\n",
       "│ PolynomialLocalInvariance2D.Kv1.variance     │ Parameter │ Sigmoid     │         │ True        │ ()      │ float64 │ 9.194711333017764                                     │\n",
       "├──────────────────────────────────────────────┼───────────┼─────────────┼─────────┼─────────────┼─────────┼─────────┼───────────────────────────────────────────────────────┤\n",
       "│ PolynomialLocalInvariance2D.Kv1.lengthscales │ Parameter │ Sigmoid     │         │ True        │ (4,)    │ float64 │ [9.94768927, 9.99038591, 3.57827934...                │\n",
       "├──────────────────────────────────────────────┼───────────┼─────────────┼─────────┼─────────────┼─────────┼─────────┼───────────────────────────────────────────────────────┤\n",
       "│ PolynomialLocalInvariance2D.Kv2.variance     │ Parameter │ Sigmoid     │         │ True        │ ()      │ float64 │ 0.40531484518602834                                   │\n",
       "├──────────────────────────────────────────────┼───────────┼─────────────┼─────────┼─────────────┼─────────┼─────────┼───────────────────────────────────────────────────────┤\n",
       "│ PolynomialLocalInvariance2D.Kv2.lengthscales │ Parameter │ Sigmoid     │         │ True        │ (4,)    │ float64 │ [9.99998435, 9.75144683, 9.99789451...                │\n",
       "├──────────────────────────────────────────────┼───────────┼─────────────┼─────────┼─────────────┼─────────┼─────────┼───────────────────────────────────────────────────────┤\n",
       "│ PolynomialLocalInvariance2D.poly             │ Parameter │ Sigmoid     │         │ True        │ (4, 35) │ float64 │ [[-1.49148056e-03, 9.33966704e-03, -7.90171121e-03... │\n",
       "╘══════════════════════════════════════════════╧═══════════╧═════════════╧═════════╧═════════════╧═════════╧═════════╧═══════════════════════════════════════════════════════╛"
      ]
     },
     "execution_count": 12,
     "metadata": {},
     "output_type": "execute_result"
    }
   ],
   "source": [
    "kernel"
   ]
  },
  {
   "cell_type": "code",
   "execution_count": 6,
   "metadata": {},
   "outputs": [
    {
     "name": "stdout",
     "output_type": "stream",
     "text": [
      "0\n",
      "4 seconds remaining\r"
     ]
    },
    {
     "ename": "KeyboardInterrupt",
     "evalue": "",
     "output_type": "error",
     "traceback": [
      "\u001b[0;31m---------------------------------------------------------------------------\u001b[0m",
      "\u001b[0;31mKeyboardInterrupt\u001b[0m                         Traceback (most recent call last)",
      "\u001b[0;32m<ipython-input-6-38f0440cfeab>\u001b[0m in \u001b[0;36m<module>\u001b[0;34m\u001b[0m\n\u001b[1;32m     16\u001b[0m     \u001b[0mtest_starting\u001b[0m \u001b[0;34m=\u001b[0m \u001b[0;34m(\u001b[0m\u001b[0mtest_starting_position1\u001b[0m\u001b[0;34m,\u001b[0m \u001b[0mtest_starting_position2\u001b[0m\u001b[0;34m,\u001b[0m \u001b[0mtest_starting_velocity1\u001b[0m\u001b[0;34m,\u001b[0m \u001b[0mtest_starting_velocity2\u001b[0m\u001b[0;34m)\u001b[0m\u001b[0;34m\u001b[0m\u001b[0;34m\u001b[0m\u001b[0m\n\u001b[1;32m     17\u001b[0m \u001b[0;31m#    print(test_starting)\u001b[0m\u001b[0;34m\u001b[0m\u001b[0;34m\u001b[0m\u001b[0;34m\u001b[0m\u001b[0m\n\u001b[0;32m---> 18\u001b[0;31m     \u001b[0mevaluate_moi\u001b[0m \u001b[0;34m=\u001b[0m \u001b[0mevaluate_model_future_2D\u001b[0m\u001b[0;34m(\u001b[0m\u001b[0mmoi\u001b[0m\u001b[0;34m,\u001b[0m \u001b[0mtest_starting\u001b[0m\u001b[0;34m,\u001b[0m \u001b[0mdynamics\u001b[0m\u001b[0;34m,\u001b[0m \u001b[0mtime_setting\u001b[0m\u001b[0;34m,\u001b[0m \u001b[0mscalers\u001b[0m\u001b[0;34m,\u001b[0m \u001b[0menergy\u001b[0m\u001b[0;34m)\u001b[0m\u001b[0;34m\u001b[0m\u001b[0;34m\u001b[0m\u001b[0m\n\u001b[0m\u001b[1;32m     19\u001b[0m     \u001b[0meva_future_moi\u001b[0m\u001b[0;34m.\u001b[0m\u001b[0mappend\u001b[0m\u001b[0;34m(\u001b[0m\u001b[0mevaluate_moi\u001b[0m\u001b[0;34m[\u001b[0m\u001b[0;36m0\u001b[0m\u001b[0;34m]\u001b[0m\u001b[0;34m)\u001b[0m\u001b[0;34m\u001b[0m\u001b[0;34m\u001b[0m\u001b[0m\n\u001b[1;32m     20\u001b[0m     \u001b[0mprint\u001b[0m\u001b[0;34m(\u001b[0m\u001b[0mevaluate_moi\u001b[0m\u001b[0;34m[\u001b[0m\u001b[0;36m0\u001b[0m\u001b[0;34m]\u001b[0m\u001b[0;34m)\u001b[0m\u001b[0;34m\u001b[0m\u001b[0;34m\u001b[0m\u001b[0m\n",
      "\u001b[0;32m/data/cl2217/dynamical_system_invariance_project/codes/invariance_functions.py\u001b[0m in \u001b[0;36mevaluate_model_future_2D\u001b[0;34m(m, test_starting, dynamics, time_setting, scalers, energy)\u001b[0m\n\u001b[1;32m    301\u001b[0m         \u001b[0;32mif\u001b[0m \u001b[0mi\u001b[0m\u001b[0;34m>\u001b[0m\u001b[0;36m8\u001b[0m\u001b[0;34m:\u001b[0m\u001b[0;34m\u001b[0m\u001b[0;34m\u001b[0m\u001b[0m\n\u001b[1;32m    302\u001b[0m             \u001b[0mprint\u001b[0m\u001b[0;34m(\u001b[0m\u001b[0;34m\"%s seconds remaining\"\u001b[0m\u001b[0;34m%\u001b[0m\u001b[0mround\u001b[0m\u001b[0;34m(\u001b[0m\u001b[0maverage_time_per_step\u001b[0m\u001b[0;34m*\u001b[0m\u001b[0;34m(\u001b[0m\u001b[0mX\u001b[0m\u001b[0;34m.\u001b[0m\u001b[0mshape\u001b[0m\u001b[0;34m[\u001b[0m\u001b[0;36m0\u001b[0m\u001b[0;34m]\u001b[0m\u001b[0;34m-\u001b[0m\u001b[0mi\u001b[0m\u001b[0;34m)\u001b[0m\u001b[0;34m)\u001b[0m\u001b[0;34m,\u001b[0m \u001b[0mend\u001b[0m\u001b[0;34m=\u001b[0m\u001b[0;34m\"\\r\"\u001b[0m\u001b[0;34m)\u001b[0m\u001b[0;34m\u001b[0m\u001b[0;34m\u001b[0m\u001b[0m\n\u001b[0;32m--> 303\u001b[0;31m         \u001b[0mpred\u001b[0m\u001b[0;34m,\u001b[0m \u001b[0mvar\u001b[0m \u001b[0;34m=\u001b[0m \u001b[0mm\u001b[0m\u001b[0;34m.\u001b[0m\u001b[0mpredict_f\u001b[0m\u001b[0;34m(\u001b[0m\u001b[0mscalerX\u001b[0m\u001b[0;34m.\u001b[0m\u001b[0mtransform\u001b[0m\u001b[0;34m(\u001b[0m\u001b[0mto_default_float\u001b[0m\u001b[0;34m(\u001b[0m\u001b[0mpredicted_future\u001b[0m\u001b[0;34m[\u001b[0m\u001b[0mi\u001b[0m\u001b[0;34m-\u001b[0m\u001b[0;36m1\u001b[0m\u001b[0;34m,\u001b[0m\u001b[0;34m:\u001b[0m\u001b[0;34m]\u001b[0m\u001b[0;34m.\u001b[0m\u001b[0mreshape\u001b[0m\u001b[0;34m(\u001b[0m\u001b[0;36m1\u001b[0m\u001b[0;34m,\u001b[0m\u001b[0;36m4\u001b[0m\u001b[0;34m)\u001b[0m\u001b[0;34m)\u001b[0m\u001b[0;34m)\u001b[0m\u001b[0;34m)\u001b[0m\u001b[0;34m\u001b[0m\u001b[0;34m\u001b[0m\u001b[0m\n\u001b[0m\u001b[1;32m    304\u001b[0m         \u001b[0mpred\u001b[0m \u001b[0;34m=\u001b[0m \u001b[0mtf\u001b[0m\u001b[0;34m.\u001b[0m\u001b[0mroll\u001b[0m\u001b[0;34m(\u001b[0m\u001b[0mtf\u001b[0m\u001b[0;34m.\u001b[0m\u001b[0mtranspose\u001b[0m\u001b[0;34m(\u001b[0m\u001b[0mpred\u001b[0m\u001b[0;34m)\u001b[0m\u001b[0;34m,\u001b[0m \u001b[0mshift\u001b[0m\u001b[0;34m=\u001b[0m\u001b[0;34m-\u001b[0m\u001b[0;36m2\u001b[0m\u001b[0;34m,\u001b[0m \u001b[0maxis\u001b[0m\u001b[0;34m=\u001b[0m\u001b[0;36m1\u001b[0m\u001b[0;34m)\u001b[0m\u001b[0;34m\u001b[0m\u001b[0;34m\u001b[0m\u001b[0m\n\u001b[1;32m    305\u001b[0m         \u001b[0mvar\u001b[0m \u001b[0;34m=\u001b[0m  \u001b[0mtf\u001b[0m\u001b[0;34m.\u001b[0m\u001b[0mroll\u001b[0m\u001b[0;34m(\u001b[0m\u001b[0mtf\u001b[0m\u001b[0;34m.\u001b[0m\u001b[0mtranspose\u001b[0m\u001b[0;34m(\u001b[0m\u001b[0mvar\u001b[0m\u001b[0;34m)\u001b[0m\u001b[0;34m,\u001b[0m \u001b[0mshift\u001b[0m\u001b[0;34m=\u001b[0m\u001b[0;34m-\u001b[0m\u001b[0;36m2\u001b[0m\u001b[0;34m,\u001b[0m \u001b[0maxis\u001b[0m\u001b[0;34m=\u001b[0m\u001b[0;36m1\u001b[0m\u001b[0;34m)\u001b[0m\u001b[0;34m\u001b[0m\u001b[0;34m\u001b[0m\u001b[0m\n",
      "\u001b[0;32m/usr/local/lib/python3.8/dist-packages/gpflow/models/gpr.py\u001b[0m in \u001b[0;36mpredict_f\u001b[0;34m(self, Xnew, full_cov, full_output_cov)\u001b[0m\n\u001b[1;32m    169\u001b[0m             \u001b[0mmodel\u001b[0m\u001b[0;34m.\u001b[0m\u001b[0mposterior\u001b[0m\u001b[0;34m(\u001b[0m\u001b[0;34m)\u001b[0m\u001b[0;34m.\u001b[0m\u001b[0mpredict_f\u001b[0m\u001b[0;34m(\u001b[0m\u001b[0mXnew\u001b[0m\u001b[0;34m,\u001b[0m \u001b[0;34m...\u001b[0m\u001b[0;34m)\u001b[0m\u001b[0;34m\u001b[0m\u001b[0;34m\u001b[0m\u001b[0m\n\u001b[1;32m    170\u001b[0m         \"\"\"\n\u001b[0;32m--> 171\u001b[0;31m         return self.posterior(posteriors.PrecomputeCacheType.NOCACHE).fused_predict_f(\n\u001b[0m\u001b[1;32m    172\u001b[0m             \u001b[0mXnew\u001b[0m\u001b[0;34m,\u001b[0m \u001b[0mfull_cov\u001b[0m\u001b[0;34m=\u001b[0m\u001b[0mfull_cov\u001b[0m\u001b[0;34m,\u001b[0m \u001b[0mfull_output_cov\u001b[0m\u001b[0;34m=\u001b[0m\u001b[0mfull_output_cov\u001b[0m\u001b[0;34m\u001b[0m\u001b[0;34m\u001b[0m\u001b[0m\n\u001b[1;32m    173\u001b[0m         )\n",
      "\u001b[0;32m/usr/local/lib/python3.8/dist-packages/gpflow/posteriors.py\u001b[0m in \u001b[0;36mfused_predict_f\u001b[0;34m(self, Xnew, full_cov, full_output_cov)\u001b[0m\n\u001b[1;32m    208\u001b[0m         \u001b[0mDoes\u001b[0m \u001b[0;32mnot\u001b[0m \u001b[0mmake\u001b[0m \u001b[0muse\u001b[0m \u001b[0mof\u001b[0m \u001b[0mcaching\u001b[0m\u001b[0;34m\u001b[0m\u001b[0;34m\u001b[0m\u001b[0m\n\u001b[1;32m    209\u001b[0m         \"\"\"\n\u001b[0;32m--> 210\u001b[0;31m         mean, cov = self._conditional_fused(\n\u001b[0m\u001b[1;32m    211\u001b[0m             \u001b[0mXnew\u001b[0m\u001b[0;34m,\u001b[0m \u001b[0mfull_cov\u001b[0m\u001b[0;34m=\u001b[0m\u001b[0mfull_cov\u001b[0m\u001b[0;34m,\u001b[0m \u001b[0mfull_output_cov\u001b[0m\u001b[0;34m=\u001b[0m\u001b[0mfull_output_cov\u001b[0m\u001b[0;34m\u001b[0m\u001b[0;34m\u001b[0m\u001b[0m\n\u001b[1;32m    212\u001b[0m         )\n",
      "\u001b[0;32m/usr/local/lib/python3.8/dist-packages/gpflow/posteriors.py\u001b[0m in \u001b[0;36m_conditional_fused\u001b[0;34m(self, Xnew, full_cov, full_output_cov)\u001b[0m\n\u001b[1;32m    397\u001b[0m         \u001b[0mKmm\u001b[0m \u001b[0;34m=\u001b[0m \u001b[0mself\u001b[0m\u001b[0;34m.\u001b[0m\u001b[0mkernel\u001b[0m\u001b[0;34m(\u001b[0m\u001b[0mself\u001b[0m\u001b[0;34m.\u001b[0m\u001b[0mX_data\u001b[0m\u001b[0;34m)\u001b[0m\u001b[0;34m\u001b[0m\u001b[0;34m\u001b[0m\u001b[0m\n\u001b[1;32m    398\u001b[0m         \u001b[0mKnn\u001b[0m \u001b[0;34m=\u001b[0m \u001b[0mself\u001b[0m\u001b[0;34m.\u001b[0m\u001b[0mkernel\u001b[0m\u001b[0;34m(\u001b[0m\u001b[0mXnew\u001b[0m\u001b[0;34m,\u001b[0m \u001b[0mfull_cov\u001b[0m\u001b[0;34m=\u001b[0m\u001b[0mfull_cov\u001b[0m\u001b[0;34m)\u001b[0m\u001b[0;34m\u001b[0m\u001b[0;34m\u001b[0m\u001b[0m\n\u001b[0;32m--> 399\u001b[0;31m         \u001b[0mKmn\u001b[0m \u001b[0;34m=\u001b[0m \u001b[0mself\u001b[0m\u001b[0;34m.\u001b[0m\u001b[0mkernel\u001b[0m\u001b[0;34m(\u001b[0m\u001b[0mself\u001b[0m\u001b[0;34m.\u001b[0m\u001b[0mX_data\u001b[0m\u001b[0;34m,\u001b[0m \u001b[0mXnew\u001b[0m\u001b[0;34m)\u001b[0m\u001b[0;34m\u001b[0m\u001b[0;34m\u001b[0m\u001b[0m\n\u001b[0m\u001b[1;32m    400\u001b[0m         \u001b[0mKmm_plus_s\u001b[0m \u001b[0;34m=\u001b[0m \u001b[0madd_noise_cov\u001b[0m\u001b[0;34m(\u001b[0m\u001b[0mKmm\u001b[0m\u001b[0;34m,\u001b[0m \u001b[0mself\u001b[0m\u001b[0;34m.\u001b[0m\u001b[0mlikelihood_variance\u001b[0m\u001b[0;34m)\u001b[0m\u001b[0;34m\u001b[0m\u001b[0;34m\u001b[0m\u001b[0m\n\u001b[1;32m    401\u001b[0m \u001b[0;34m\u001b[0m\u001b[0m\n",
      "\u001b[0;32m/usr/local/lib/python3.8/dist-packages/gpflow/kernels/base.py\u001b[0m in \u001b[0;36m__call__\u001b[0;34m(self, X, X2, full_cov, presliced)\u001b[0m\n\u001b[1;32m    187\u001b[0m \u001b[0;34m\u001b[0m\u001b[0m\n\u001b[1;32m    188\u001b[0m         \u001b[0;32melse\u001b[0m\u001b[0;34m:\u001b[0m\u001b[0;34m\u001b[0m\u001b[0;34m\u001b[0m\u001b[0m\n\u001b[0;32m--> 189\u001b[0;31m             \u001b[0;32mreturn\u001b[0m \u001b[0mself\u001b[0m\u001b[0;34m.\u001b[0m\u001b[0mK\u001b[0m\u001b[0;34m(\u001b[0m\u001b[0mX\u001b[0m\u001b[0;34m,\u001b[0m \u001b[0mX2\u001b[0m\u001b[0;34m)\u001b[0m\u001b[0;34m\u001b[0m\u001b[0;34m\u001b[0m\u001b[0m\n\u001b[0m\u001b[1;32m    190\u001b[0m \u001b[0;34m\u001b[0m\u001b[0m\n\u001b[1;32m    191\u001b[0m     \u001b[0;32mdef\u001b[0m \u001b[0m__add__\u001b[0m\u001b[0;34m(\u001b[0m\u001b[0mself\u001b[0m\u001b[0;34m,\u001b[0m \u001b[0mother\u001b[0m\u001b[0;34m:\u001b[0m \u001b[0;34m\"Kernel\"\u001b[0m\u001b[0;34m)\u001b[0m \u001b[0;34m->\u001b[0m \u001b[0;34m\"Kernel\"\u001b[0m\u001b[0;34m:\u001b[0m\u001b[0;34m\u001b[0m\u001b[0;34m\u001b[0m\u001b[0m\n",
      "\u001b[0;32m/data/cl2217/dynamical_system_invariance_project/codes/invariance_kernels.py\u001b[0m in \u001b[0;36mK\u001b[0;34m(self, X, X2)\u001b[0m\n\u001b[1;32m     59\u001b[0m \u001b[0;34m\u001b[0m\u001b[0m\n\u001b[1;32m     60\u001b[0m         \u001b[0mKa1_X1X2\u001b[0m  \u001b[0;34m=\u001b[0m \u001b[0mself\u001b[0m\u001b[0;34m.\u001b[0m\u001b[0mKa1\u001b[0m\u001b[0;34m(\u001b[0m\u001b[0mX\u001b[0m\u001b[0;34m,\u001b[0m \u001b[0mX2\u001b[0m\u001b[0;34m)\u001b[0m\u001b[0;34m\u001b[0m\u001b[0;34m\u001b[0m\u001b[0m\n\u001b[0;32m---> 61\u001b[0;31m         \u001b[0mKa2_X1X2\u001b[0m  \u001b[0;34m=\u001b[0m \u001b[0mself\u001b[0m\u001b[0;34m.\u001b[0m\u001b[0mKa2\u001b[0m\u001b[0;34m(\u001b[0m\u001b[0mX\u001b[0m\u001b[0;34m,\u001b[0m \u001b[0mX2\u001b[0m\u001b[0;34m)\u001b[0m\u001b[0;34m\u001b[0m\u001b[0;34m\u001b[0m\u001b[0m\n\u001b[0m\u001b[1;32m     62\u001b[0m         \u001b[0mKv1_X1X2\u001b[0m  \u001b[0;34m=\u001b[0m \u001b[0mself\u001b[0m\u001b[0;34m.\u001b[0m\u001b[0mKv1\u001b[0m\u001b[0;34m(\u001b[0m\u001b[0mX\u001b[0m\u001b[0;34m,\u001b[0m \u001b[0mX2\u001b[0m\u001b[0;34m)\u001b[0m\u001b[0;34m\u001b[0m\u001b[0;34m\u001b[0m\u001b[0m\n\u001b[1;32m     63\u001b[0m         \u001b[0mKv2_X1X2\u001b[0m  \u001b[0;34m=\u001b[0m \u001b[0mself\u001b[0m\u001b[0;34m.\u001b[0m\u001b[0mKv2\u001b[0m\u001b[0;34m(\u001b[0m\u001b[0mX\u001b[0m\u001b[0;34m,\u001b[0m \u001b[0mX2\u001b[0m\u001b[0;34m)\u001b[0m\u001b[0;34m\u001b[0m\u001b[0;34m\u001b[0m\u001b[0m\n",
      "\u001b[0;32m/usr/local/lib/python3.8/dist-packages/gpflow/kernels/base.py\u001b[0m in \u001b[0;36m__call__\u001b[0;34m(self, X, X2, full_cov, presliced)\u001b[0m\n\u001b[1;32m    187\u001b[0m \u001b[0;34m\u001b[0m\u001b[0m\n\u001b[1;32m    188\u001b[0m         \u001b[0;32melse\u001b[0m\u001b[0;34m:\u001b[0m\u001b[0;34m\u001b[0m\u001b[0;34m\u001b[0m\u001b[0m\n\u001b[0;32m--> 189\u001b[0;31m             \u001b[0;32mreturn\u001b[0m \u001b[0mself\u001b[0m\u001b[0;34m.\u001b[0m\u001b[0mK\u001b[0m\u001b[0;34m(\u001b[0m\u001b[0mX\u001b[0m\u001b[0;34m,\u001b[0m \u001b[0mX2\u001b[0m\u001b[0;34m)\u001b[0m\u001b[0;34m\u001b[0m\u001b[0;34m\u001b[0m\u001b[0m\n\u001b[0m\u001b[1;32m    190\u001b[0m \u001b[0;34m\u001b[0m\u001b[0m\n\u001b[1;32m    191\u001b[0m     \u001b[0;32mdef\u001b[0m \u001b[0m__add__\u001b[0m\u001b[0;34m(\u001b[0m\u001b[0mself\u001b[0m\u001b[0;34m,\u001b[0m \u001b[0mother\u001b[0m\u001b[0;34m:\u001b[0m \u001b[0;34m\"Kernel\"\u001b[0m\u001b[0;34m)\u001b[0m \u001b[0;34m->\u001b[0m \u001b[0;34m\"Kernel\"\u001b[0m\u001b[0;34m:\u001b[0m\u001b[0;34m\u001b[0m\u001b[0;34m\u001b[0m\u001b[0m\n",
      "\u001b[0;32m/usr/local/lib/python3.8/dist-packages/gpflow/kernels/stationaries.py\u001b[0m in \u001b[0;36mK\u001b[0;34m(self, X, X2)\u001b[0m\n\u001b[1;32m     91\u001b[0m \u001b[0;34m\u001b[0m\u001b[0m\n\u001b[1;32m     92\u001b[0m     \u001b[0;32mdef\u001b[0m \u001b[0mK\u001b[0m\u001b[0;34m(\u001b[0m\u001b[0mself\u001b[0m\u001b[0;34m,\u001b[0m \u001b[0mX\u001b[0m\u001b[0;34m:\u001b[0m \u001b[0mTensorType\u001b[0m\u001b[0;34m,\u001b[0m \u001b[0mX2\u001b[0m\u001b[0;34m:\u001b[0m \u001b[0mOptional\u001b[0m\u001b[0;34m[\u001b[0m\u001b[0mTensorType\u001b[0m\u001b[0;34m]\u001b[0m \u001b[0;34m=\u001b[0m \u001b[0;32mNone\u001b[0m\u001b[0;34m)\u001b[0m \u001b[0;34m->\u001b[0m \u001b[0mtf\u001b[0m\u001b[0;34m.\u001b[0m\u001b[0mTensor\u001b[0m\u001b[0;34m:\u001b[0m\u001b[0;34m\u001b[0m\u001b[0;34m\u001b[0m\u001b[0m\n\u001b[0;32m---> 93\u001b[0;31m         \u001b[0mr2\u001b[0m \u001b[0;34m=\u001b[0m \u001b[0mself\u001b[0m\u001b[0;34m.\u001b[0m\u001b[0mscaled_squared_euclid_dist\u001b[0m\u001b[0;34m(\u001b[0m\u001b[0mX\u001b[0m\u001b[0;34m,\u001b[0m \u001b[0mX2\u001b[0m\u001b[0;34m)\u001b[0m\u001b[0;34m\u001b[0m\u001b[0;34m\u001b[0m\u001b[0m\n\u001b[0m\u001b[1;32m     94\u001b[0m         \u001b[0;32mreturn\u001b[0m \u001b[0mself\u001b[0m\u001b[0;34m.\u001b[0m\u001b[0mK_r2\u001b[0m\u001b[0;34m(\u001b[0m\u001b[0mr2\u001b[0m\u001b[0;34m)\u001b[0m\u001b[0;34m\u001b[0m\u001b[0;34m\u001b[0m\u001b[0m\n\u001b[1;32m     95\u001b[0m \u001b[0;34m\u001b[0m\u001b[0m\n",
      "\u001b[0;32m/usr/local/lib/python3.8/dist-packages/gpflow/kernels/stationaries.py\u001b[0m in \u001b[0;36mscaled_squared_euclid_dist\u001b[0;34m(self, X, X2)\u001b[0m\n\u001b[1;32m    107\u001b[0m         \u001b[0mReturns\u001b[0m\u001b[0;31m \u001b[0m\u001b[0;31m‖\u001b[0m\u001b[0;34m(\u001b[0m\u001b[0mX\u001b[0m \u001b[0;34m-\u001b[0m \u001b[0mX2ᵀ\u001b[0m\u001b[0;34m)\u001b[0m \u001b[0;34m/\u001b[0m \u001b[0mℓ\u001b[0m\u001b[0;31m‖\u001b[0m\u001b[0;34m²\u001b[0m\u001b[0;34m,\u001b[0m \u001b[0mi\u001b[0m\u001b[0;34m.\u001b[0m\u001b[0me\u001b[0m\u001b[0;34m.\u001b[0m \u001b[0mthe\u001b[0m \u001b[0msquared\u001b[0m \u001b[0mL₂\u001b[0m\u001b[0;34m-\u001b[0m\u001b[0mnorm\u001b[0m\u001b[0;34m.\u001b[0m\u001b[0;34m\u001b[0m\u001b[0;34m\u001b[0m\u001b[0m\n\u001b[1;32m    108\u001b[0m         \"\"\"\n\u001b[0;32m--> 109\u001b[0;31m         \u001b[0;32mreturn\u001b[0m \u001b[0msquare_distance\u001b[0m\u001b[0;34m(\u001b[0m\u001b[0mself\u001b[0m\u001b[0;34m.\u001b[0m\u001b[0mscale\u001b[0m\u001b[0;34m(\u001b[0m\u001b[0mX\u001b[0m\u001b[0;34m)\u001b[0m\u001b[0;34m,\u001b[0m \u001b[0mself\u001b[0m\u001b[0;34m.\u001b[0m\u001b[0mscale\u001b[0m\u001b[0;34m(\u001b[0m\u001b[0mX2\u001b[0m\u001b[0;34m)\u001b[0m\u001b[0;34m)\u001b[0m\u001b[0;34m\u001b[0m\u001b[0;34m\u001b[0m\u001b[0m\n\u001b[0m\u001b[1;32m    110\u001b[0m \u001b[0;34m\u001b[0m\u001b[0m\n\u001b[1;32m    111\u001b[0m \u001b[0;34m\u001b[0m\u001b[0m\n",
      "\u001b[0;32m/usr/local/lib/python3.8/dist-packages/gpflow/utilities/ops.py\u001b[0m in \u001b[0;36msquare_distance\u001b[0;34m(X, X2)\u001b[0m\n\u001b[1;32m    116\u001b[0m         \u001b[0mdist\u001b[0m \u001b[0;34m+=\u001b[0m \u001b[0mXs\u001b[0m \u001b[0;34m+\u001b[0m \u001b[0mtf\u001b[0m\u001b[0;34m.\u001b[0m\u001b[0mlinalg\u001b[0m\u001b[0;34m.\u001b[0m\u001b[0madjoint\u001b[0m\u001b[0;34m(\u001b[0m\u001b[0mXs\u001b[0m\u001b[0;34m)\u001b[0m\u001b[0;34m\u001b[0m\u001b[0;34m\u001b[0m\u001b[0m\n\u001b[1;32m    117\u001b[0m         \u001b[0;32mreturn\u001b[0m \u001b[0mdist\u001b[0m\u001b[0;34m\u001b[0m\u001b[0;34m\u001b[0m\u001b[0m\n\u001b[0;32m--> 118\u001b[0;31m     \u001b[0mXs\u001b[0m \u001b[0;34m=\u001b[0m \u001b[0mtf\u001b[0m\u001b[0;34m.\u001b[0m\u001b[0mreduce_sum\u001b[0m\u001b[0;34m(\u001b[0m\u001b[0mtf\u001b[0m\u001b[0;34m.\u001b[0m\u001b[0msquare\u001b[0m\u001b[0;34m(\u001b[0m\u001b[0mX\u001b[0m\u001b[0;34m)\u001b[0m\u001b[0;34m,\u001b[0m \u001b[0maxis\u001b[0m\u001b[0;34m=\u001b[0m\u001b[0;34m-\u001b[0m\u001b[0;36m1\u001b[0m\u001b[0;34m)\u001b[0m\u001b[0;34m\u001b[0m\u001b[0;34m\u001b[0m\u001b[0m\n\u001b[0m\u001b[1;32m    119\u001b[0m     \u001b[0mX2s\u001b[0m \u001b[0;34m=\u001b[0m \u001b[0mtf\u001b[0m\u001b[0;34m.\u001b[0m\u001b[0mreduce_sum\u001b[0m\u001b[0;34m(\u001b[0m\u001b[0mtf\u001b[0m\u001b[0;34m.\u001b[0m\u001b[0msquare\u001b[0m\u001b[0;34m(\u001b[0m\u001b[0mX2\u001b[0m\u001b[0;34m)\u001b[0m\u001b[0;34m,\u001b[0m \u001b[0maxis\u001b[0m\u001b[0;34m=\u001b[0m\u001b[0;34m-\u001b[0m\u001b[0;36m1\u001b[0m\u001b[0;34m)\u001b[0m\u001b[0;34m\u001b[0m\u001b[0;34m\u001b[0m\u001b[0m\n\u001b[1;32m    120\u001b[0m     \u001b[0mdist\u001b[0m \u001b[0;34m=\u001b[0m \u001b[0;34m-\u001b[0m\u001b[0;36m2\u001b[0m \u001b[0;34m*\u001b[0m \u001b[0mtf\u001b[0m\u001b[0;34m.\u001b[0m\u001b[0mtensordot\u001b[0m\u001b[0;34m(\u001b[0m\u001b[0mX\u001b[0m\u001b[0;34m,\u001b[0m \u001b[0mX2\u001b[0m\u001b[0;34m,\u001b[0m \u001b[0;34m[\u001b[0m\u001b[0;34m[\u001b[0m\u001b[0;34m-\u001b[0m\u001b[0;36m1\u001b[0m\u001b[0;34m]\u001b[0m\u001b[0;34m,\u001b[0m \u001b[0;34m[\u001b[0m\u001b[0;34m-\u001b[0m\u001b[0;36m1\u001b[0m\u001b[0;34m]\u001b[0m\u001b[0;34m]\u001b[0m\u001b[0;34m)\u001b[0m\u001b[0;34m\u001b[0m\u001b[0;34m\u001b[0m\u001b[0m\n",
      "\u001b[0;32m/usr/local/lib/python3.8/dist-packages/tensorflow/python/ops/gen_math_ops.py\u001b[0m in \u001b[0;36msquare\u001b[0;34m(x, name)\u001b[0m\n\u001b[1;32m  10916\u001b[0m   \u001b[0;32mif\u001b[0m \u001b[0mtld\u001b[0m\u001b[0;34m.\u001b[0m\u001b[0mis_eager\u001b[0m\u001b[0;34m:\u001b[0m\u001b[0;34m\u001b[0m\u001b[0;34m\u001b[0m\u001b[0m\n\u001b[1;32m  10917\u001b[0m     \u001b[0;32mtry\u001b[0m\u001b[0;34m:\u001b[0m\u001b[0;34m\u001b[0m\u001b[0;34m\u001b[0m\u001b[0m\n\u001b[0;32m> 10918\u001b[0;31m       _result = pywrap_tfe.TFE_Py_FastPathExecute(\n\u001b[0m\u001b[1;32m  10919\u001b[0m         _ctx, \"Square\", name, x)\n\u001b[1;32m  10920\u001b[0m       \u001b[0;32mreturn\u001b[0m \u001b[0m_result\u001b[0m\u001b[0;34m\u001b[0m\u001b[0;34m\u001b[0m\u001b[0m\n",
      "\u001b[0;31mKeyboardInterrupt\u001b[0m: "
     ]
    }
   ],
   "source": [
    "eva_future_moi = []\n",
    "eva_future_known = []\n",
    "eva_future_learnt = []\n",
    "\n",
    "def energy(X):\n",
    "    return -2*np.cos(X[:,0])-np.cos(X[:,1])+0.5*tf.square(X[:,2])+0.5*(tf.square(X[:,2])+tf.square(X[:,3])+2*X[:,2]*X[:,3]*np.cos(X[:,0]-X[:,1]))\n",
    "lml_moi = moi.log_marginal_likelihood().numpy()\n",
    "lml_inv = known.log_marginal_likelihood().numpy()\n",
    "lml_inv_p = model.log_marginal_likelihood().numpy()\n",
    "for i in range(5):\n",
    "    print(i)\n",
    "    test_starting_position1 = np.radians(np.random.uniform(-max_x, max_x))\n",
    "    test_starting_position2 = np.radians(np.random.uniform(-max_x, max_x))\n",
    "    test_starting_velocity1 = np.radians(np.random.uniform(-max_v, max_v))\n",
    "    test_starting_velocity2 = np.radians(np.random.uniform(-max_v, max_v))\n",
    "    test_starting = (test_starting_position1, test_starting_position2, test_starting_velocity1, test_starting_velocity2)\n",
    "#    print(test_starting)\n",
    "    evaluate_moi = evaluate_model_future_2D(moi, test_starting, dynamics, time_setting, scalers, energy)\n",
    "    eva_future_moi.append(evaluate_moi[0])\n",
    "    print(evaluate_moi[0])\n",
    "    evaluate_known = evaluate_model_future_2D(known, test_starting, dynamics, time_setting, scalers, energy)\n",
    "    eva_future_known.append(evaluate_known[0])\n",
    "    print(evaluate_known[0])\n",
    "    evaluate_learnt = evaluate_model_future_2D(model, test_starting, dynamics, time_setting, scalers, energy)\n",
    "    eva_future_learnt.append(evaluate_learnt[0])\n",
    "    print(evaluate_learnt[0])"
   ]
  },
  {
   "cell_type": "code",
   "execution_count": 14,
   "metadata": {},
   "outputs": [
    {
     "name": "stdout",
     "output_type": "stream",
     "text": [
      "Log Marginal Likelihood & 794.62 & 843.67 & 859.66 &  \\\\\n",
      "MSE & 0.0351 & 0.0005 & 0.0027 \\\\\n"
     ]
    }
   ],
   "source": [
    "\n",
    "print(\"Log Marginal Likelihood & \" + format((lml_moi),\".2f\")+\" & \"+ format((lml_inv),\".2f\") + \" & \"+ format((lml_inv_p),\".2f\") + \" & \"+' \\\\\\\\')\n",
    "print(\"MSE & \"+ format((np.mean(eva_future_moi)),\".4f\")+\" & \"+format(np.mean(eva_future_known),\".4f\")+\" & \"+format((np.mean(eva_future_learnt)),\".4f\")+ ' \\\\\\\\')"
   ]
  },
  {
   "cell_type": "code",
   "execution_count": 15,
   "metadata": {},
   "outputs": [
    {
     "data": {
      "image/png": "[encoded data removed]",
      "text/plain": [
       "<Figure size 432x288 with 4 Axes>"
      ]
     },
     "metadata": {
      "needs_background": "light"
     },
     "output_type": "display_data"
    }
   ],
   "source": [
    "import matplotlib.pyplot as plt\n",
    "t = np.linspace(0, testing_time, int(testing_time/time_step))\n",
    "fig, axs = plt.subplots(2,2)\n",
    "axs[0][0].plot(t,evaluate_known[4][:,0],label=\"truth\", color=\"black\")\n",
    "axs[0][0].plot(t,evaluate_moi[1][:,0], \"--\", label=\"RBF\", color=\"red\")\n",
    "axs[0][0].plot(t,evaluate_known[1][:,0], \"--\", label=\"known\", color=\"blue\")\n",
    "axs[0][0].plot(t,evaluate_learnt[1][:,0], \"--\", label=\"learnt\", color=\"green\")\n",
    "axs[0][0].set_title(\"q_1\")\n",
    "axs[0][0].set_xlabel(\"t\")\n",
    "axs[0][0].legend()\n",
    "\n",
    "axs[0][1].plot(t,evaluate_known[4][:,1],label=\"truth\", color=\"black\")\n",
    "axs[0][1].plot(t,evaluate_moi[1][:,1], \"--\", label=\"RBF\", color=\"red\")\n",
    "axs[0][1].plot(t,evaluate_known[1][:,1], \"--\", label=\"known\", color=\"blue\")\n",
    "axs[0][1].plot(t,evaluate_learnt[1][:,1], \"--\", label=\"learnt\", color=\"green\")\n",
    "axs[0][1].set_title(\"q_2\")\n",
    "axs[0][1].set_xlabel(\"t\")\n",
    "axs[0][1].legend()\n",
    "\n",
    "axs[1][0].plot(t,evaluate_known[4][:,2],label=\"truth\", color=\"black\")\n",
    "axs[1][0].plot(t,evaluate_moi[1][:,2], \"--\", label=\"RBF\", color=\"red\")\n",
    "axs[1][0].plot(t,evaluate_known[1][:,2], \"--\", label=\"known\", color=\"blue\")\n",
    "axs[1][0].plot(t,evaluate_learnt[1][:,2], \"--\", label=\"learnt\", color=\"green\")\n",
    "axs[1][0].set_title(\"p_1\")\n",
    "axs[1][0].set_xlabel(\"t\")\n",
    "axs[1][0].legend()\n",
    "\n",
    "axs[1][1].plot(t,evaluate_known[4][:,3],label=\"truth\", color=\"black\")\n",
    "axs[1][1].plot(t,evaluate_moi[1][:,3], \"--\", label=\"RBF\", color=\"red\")\n",
    "axs[1][1].plot(t,evaluate_known[1][:,3], \"--\", label=\"known\", color=\"blue\")\n",
    "axs[1][1].plot(t,evaluate_learnt[1][:,3], \"--\", label=\"learnt\", color=\"green\")\n",
    "axs[1][1].set_title(\"p_2\")\n",
    "axs[1][1].set_xlabel(\"t\")\n",
    "axs[1][1].legend()\n",
    "\n",
    "plt.subplots_adjust(left=0.2,\n",
    "                    bottom=0.2, \n",
    "                    right=0.9, \n",
    "                    top=0.9, \n",
    "                    wspace=0.4, \n",
    "                    hspace=0.4)\n",
    "fig.tight_layout()\n",
    "#plt.savefig(\"figures/double_pendulum_predicted.pdf\")\n"
   ]
  },
  {
   "cell_type": "code",
   "execution_count": 16,
   "metadata": {},
   "outputs": [
    {
     "data": {
      "text/plain": [
       "Text(0, 0.5, 'E')"
      ]
     },
     "execution_count": 16,
     "metadata": {},
     "output_type": "execute_result"
    },
    {
     "data": {
      "image/png": "[encoded data removed]",
      "text/plain": [
       "<Figure size 432x288 with 1 Axes>"
      ]
     },
     "metadata": {
      "needs_background": "light"
     },
     "output_type": "display_data"
    }
   ],
   "source": [
    "fig, ax = plt.subplots()\n",
    "plt.plot(t, evaluate_learnt[5], \"--\",label=\"true\", color=\"black\")\n",
    "plt.plot(t, evaluate_moi[6], \"--\",label=\"RBF\", color=\"red\")\n",
    "plt.plot(t, evaluate_known[6], \"--\",label=\"known\", color=\"blue\")\n",
    "plt.plot(t, evaluate_learnt[6], \"--\",label=\"learnt\", color=\"green\")\n",
    "plt.legend()\n",
    "plt.xlabel(\"t\")\n",
    "plt.ylabel(\"E\")\n",
    "#plt.savefig(\"figures/double_pendulum_energy.pdf\")"
   ]
  },
  {
   "cell_type": "code",
   "execution_count": 8,
   "metadata": {},
   "outputs": [
    {
     "name": "stdout",
     "output_type": "stream",
     "text": [
      "-16.78186258151095\n",
      "learnt\n",
      "0.0011640368704867374\n",
      "0.0005810714931040975\n",
      "0.00309784379532495gg\n",
      "0.000762590473722929g\n",
      "0\n",
      "-4185.491104358065\n",
      "0.07381579079008614gg\n",
      "1\n",
      "-3867.9653463032273\n",
      "0.023054056177040483g\n",
      "2\n",
      "-2801.660847905091\n",
      "0.007504906597800014g\n",
      "3\n",
      "-3809.0199743964786\n",
      "0.058604749592682165g\n",
      "4\n",
      "-4300.526606896817\n",
      "0.09398460721418392gg\n",
      "5\n",
      "-4516.177197314766\n",
      "0.06543371646277608gg\n",
      "6\n",
      "-6186.7052007261045\n",
      "0.21357041222725573gg\n",
      "7\n",
      "-2586.773069325202\n",
      "0.03612305971769554gg\n",
      "8\n",
      "-3081.421092506469\n",
      "0.07613609790612327gg\n",
      "9\n",
      "-4637.377901552775\n",
      "0.02853612010527638gg\n",
      "10\n",
      "-2754.8211310535376\n",
      "0.08306147438236769gg\n",
      "11\n",
      "-5406.6777972767495\n",
      "0.024077116863515387g\n",
      "12\n",
      "-5343.9655912325825\n",
      "0.07148093600163664gg\n",
      "13\n",
      "-2673.8763391921325\n",
      "0.03504968952433876gg\n",
      "14\n",
      "-3319.895477792687\n",
      "0.07709582471281268gg\n",
      "15\n",
      "-3748.1332311729047\n",
      "0.010124487022646695g\n",
      "16\n",
      "-2601.6688816285105\n",
      "0.009659711779641294g\n",
      "17\n",
      "-6256.183849877297\n",
      "0.10884940352272292gg\n",
      "18\n",
      "-5364.140445291176\n",
      "0.08501775014252415gg\n",
      "19\n",
      "-4280.928168859529\n",
      "0.07155402343552021gg\n",
      "20\n",
      "-3573.9566092848063\n",
      "0.016300795507720803g\n",
      "21\n",
      "-2275.1331594961516\n",
      "0.06784571801797883gg\n",
      "22\n",
      "-4414.111372343339\n",
      "0.28503439956958554gg\n",
      "23\n",
      "-4242.439215646485\n",
      "0.046732477797723264g\n",
      "24\n",
      "-4229.780793795791\n",
      "0.030183200413497827g\n",
      "25\n",
      "-3129.233715520348\n",
      "0.09745809860626149gg\n",
      "26\n",
      "-4752.023632703103\n",
      "0.03821617691025856gg\n",
      "27\n",
      "-3307.160607384427\n",
      "0.0988448106199476ggg\n",
      "28\n",
      "-5262.523289300532\n",
      "0.06362885764560292gg\n",
      "29\n",
      "-2934.9504741994874\n",
      "0.073244390858683nggg\n",
      "30\n",
      "-5906.797727588794\n",
      "0.049476151561687144g\n",
      "31\n",
      "-2012.3216221821472\n",
      "0.041403252079997864g\n",
      "32\n",
      "-3220.5902686272934\n",
      "0.026512858391693067g\n",
      "33\n",
      "-4750.391047898696\n",
      "0.05717598744198012gg\n",
      "34\n",
      "-2277.181860162585\n",
      "0.07569600605203994gg\n",
      "35\n",
      "-3701.5521028478834\n",
      "0.01875847032256263gg\n",
      "36\n",
      "-3362.9559835584637\n",
      "0.0392032996617182ggg\n",
      "37\n",
      "-2505.130094279719\n",
      "0.04990001776284366gg\n",
      "38\n",
      "-2459.616580117092\n",
      "0.009252598457006071g\n",
      "39\n",
      "-4695.129668330681\n",
      "0.10882631329022903gg\n",
      "40\n",
      "-3666.8876080254704\n",
      "0.09721569451799493gg\n",
      "41\n",
      "-2671.955725319662\n",
      "0.07566653342083678gg\n",
      "42\n",
      "-4053.241254816632\n",
      "0.18444489956025373gg\n",
      "43\n",
      "-3726.1691447411604\n",
      "0.02901113812882846gg\n",
      "44\n",
      "-3785.087436362371\n",
      "0.09111863314211803gg\n",
      "45\n",
      "-1691.459672449905\n",
      "0.0016420104120351698\n",
      "46\n",
      "-5439.8823863125435\n",
      "0.07775616380335285gg\n",
      "47\n",
      "-3100.646113027769\n",
      "0.05969319177970658gg\n",
      "48\n",
      "-4805.999017168366\n",
      "0.09833165793934338gg\n",
      "49\n",
      "-2308.692719191363\n",
      "0.02821566061897025gg\n"
     ]
    }
   ],
   "source": [
    "\n",
    "n_neighbours = 40\n",
    "\n",
    "\n",
    "kernel = get_polynomial_local_invariance_2D(1.5, 6, 0, 0.5, n_neighbours, jitter, polynomial_degree) \n",
    "model_fixed = get_GPR_model_2D(kernel, mean, data, iterations=1000, old_model=known, fixed=True)\n",
    "\n",
    "print(model_fixed.log_marginal_likelihood().numpy())\n",
    "\n",
    "\n",
    "polynomial_degree = 3\n",
    "print(\"learnt\")\n",
    "test_starting_position1 = np.radians(np.random.uniform(-max_x, max_x))\n",
    "test_starting_position2 = np.radians(np.random.uniform(-max_x, max_x))\n",
    "test_starting_velocity1 = np.radians(np.random.uniform(-max_v, max_v))\n",
    "test_starting_velocity2 = np.radians(np.random.uniform(-max_v, max_v))\n",
    "test_starting = (test_starting_position1, test_starting_position2, test_starting_velocity1, test_starting_velocity2)\n",
    "\n",
    "evaluate_moi = evaluate_model_future_2D(moi, test_starting, dynamics, time_setting, scalers, energy)\n",
    "print(evaluate_moi[0])\n",
    "evaluate_known = evaluate_model_future_2D(known, test_starting, dynamics, time_setting, scalers, energy)\n",
    "print(evaluate_known[0])\n",
    "\n",
    "evaluate_learnt_fixed = evaluate_model_future_2D(model_fixed, test_starting, dynamics, time_setting, scalers, energy)\n",
    "print(evaluate_learnt_fixed[0])\n",
    "\n",
    "evaluate_learnt_free = evaluate_model_future_2D(model, test_starting, dynamics, time_setting, scalers, energy)\n",
    "print(evaluate_learnt_free[0])\n",
    "\n",
    "\n",
    "grids_lml = []\n",
    "grids_eva = []\n",
    "for i in range(50):\n",
    "    print(i)\n",
    "    kernel_grid = get_polynomial_local_invariance_2D(1.5, 6, 0, 0.5, n_neighbours, jitter, polynomial_degree) \n",
    "    kernel_grid.poly = gpflow.Parameter(0.1*np.random.normal(size=kernel_grid.poly.shape), transform =tfp.bijectors.Sigmoid(to_default_float(-1.), to_default_float(1.)), trainable=False, prior=tfp.distributions.Laplace(to_default_float(0),(0.1)), name=\"poly\")\n",
    "    model_grid = get_GPR_model_2D(kernel_grid, mean, data, iterations=1000, old_model=known, fixed=True)\n",
    "    print(model_grid.log_marginal_likelihood().numpy())\n",
    "\n",
    "    evaluate_learnt_grid = evaluate_model_future_2D(model_grid, test_starting, dynamics, time_setting, scalers, energy)\n",
    "    print(evaluate_learnt_grid[0])\n",
    "    grids_eva.append(evaluate_learnt_grid[0])\n",
    "    grids_lml.append(model_grid.log_marginal_likelihood().numpy())\n"
   ]
  },
  {
   "cell_type": "code",
   "execution_count": 12,
   "metadata": {},
   "outputs": [
    {
     "data": {
      "image/png": "[encoded data removed]",
      "text/plain": [
       "<Figure size 432x288 with 1 Axes>"
      ]
     },
     "metadata": {
      "needs_background": "light"
     },
     "output_type": "display_data"
    }
   ],
   "source": [
    "\n",
    "plt.scatter(grids_lml, grids_eva, s=10, label=\"randomly initialised polynomial\")\n",
    "plt.scatter(model_fixed.log_marginal_likelihood().numpy(), evaluate_learnt_fixed[0],marker=\"X\",s=10, color=\"red\", label=\"theoretically initialised polynomial\", alpha=0.5)\n",
    "plt.scatter(model.log_marginal_likelihood().numpy(), evaluate_learnt_free[0], s=10, color=\"green\", label=\"optimised\", alpha=0.5)\n",
    "plt.xlabel(\"marginal likelihood\")\n",
    "plt.ylabel(\"MSE\")\n",
    "plt.legend()\n",
    "plt.savefig(\"figures/double_pendulum_polynomial.pdf\")"
   ]
  },
  {
   "cell_type": "code",
   "execution_count": 10,
   "metadata": {},
   "outputs": [
    {
     "name": "stdout",
     "output_type": "stream",
     "text": [
      "SpearmanrResult(correlation=-0.3469387755102041, pvalue=0.013572651321718521)\n",
      "(-0.3644110138434284, 0.009275292805792522)\n"
     ]
    }
   ],
   "source": [
    "\n",
    "from scipy.stats import spearmanr, pearsonr\n",
    "print(spearmanr(grids_lml, grids_eva))\n",
    "print(pearsonr(grids_lml, grids_eva))"
   ]
  },
  {
   "cell_type": "code",
   "execution_count": 26,
   "metadata": {},
   "outputs": [
    {
     "data": {
      "text/plain": [
       "0.0006001384695890139"
      ]
     },
     "execution_count": 26,
     "metadata": {},
     "output_type": "execute_result"
    }
   ],
   "source": [
    "min(grids_eva)"
   ]
  }
 ],
 "metadata": {
  "kernelspec": {
   "display_name": "Python 3",
   "language": "python",
   "name": "python3"
  },
  "language_info": {
   "codemirror_mode": {
    "name": "ipython",
    "version": 3
   },
   "file_extension": ".py",
   "mimetype": "text/x-python",
   "name": "python",
   "nbconvert_exporter": "python",
   "pygments_lexer": "ipython3",
   "version": "3.8.10"
  },
  "orig_nbformat": 4
 },
 "nbformat": 4,
 "nbformat_minor": 2
}
