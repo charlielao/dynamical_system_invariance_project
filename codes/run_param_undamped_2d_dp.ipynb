{
 "cells": [
  {
   "cell_type": "code",
   "execution_count": 1,
   "metadata": {},
   "outputs": [],
   "source": [
    "import gpflow\n",
    "import numpy as np\n",
    "import tensorflow as tf\n",
    "import tensorflow_probability as tfp\n",
    "from scipy.integrate import solve_ivp, odeint\n",
    "from gpflow.utilities import print_summary, positive, to_default_float, set_trainable\n",
    "from invariance_kernels import ZeroMean , get_MOI, get_MOI_2D \n",
    "from invariance_functions import degree_of_freedom, get_GPR_model_2D, get_SHM_data_2D, get_double_pendulum_data, evaluate_model_future_2D, evaluate_model_grid_2D, SHM_dynamics1_2D, SHM_dynamics2_2D, get_GPR_model_GD_2D, double_pendulum_dynamics1, double_pendulum_dynamics2\n",
    "from local_invariance_kernels import  get_polynomial_local_invariance_2D, get_SHM_local_invariance_2D, get_double_pendulum_local_invariance\n",
    "from sklearn.preprocessing import StandardScaler, MinMaxScaler\n",
    "import joblib\n",
    "import os\n",
    "import matplotlib.pyplot as plt\n",
    "os.environ[\"CUDA_VISIBLE_DEVICES\"] = '1'"
   ]
  },
  {
   "cell_type": "code",
   "execution_count": 2,
   "metadata": {},
   "outputs": [
    {
     "name": "stdout",
     "output_type": "stream",
     "text": [
      "[ 50.530618   -11.2461243  -18.51877297  23.07000298   3.2194093 ]\n",
      "[  8.44751231 -38.41401951 -18.03879389 -45.38550187 -47.87861131]\n",
      "[-6.30358478 -2.16746173 -3.06334551 -3.9933133   8.42776991]\n",
      "[ 3.05886759 -4.33819958  5.01041562  2.4251784  -3.67199285]\n"
     ]
    }
   ],
   "source": [
    "\n",
    "mean = ZeroMean(4) \n",
    "\n",
    "time_step = 0.01\n",
    "training_time = 0.1\n",
    "testing_time = 1\n",
    "\n",
    "max_x = 60\n",
    "max_v = 10 \n",
    "n_train = 5\n",
    "train_starting_position1 = np.random.uniform(-max_x, max_x, (n_train))\n",
    "train_starting_position2 = np.random.uniform(-max_x, max_x, (n_train))\n",
    "train_starting_velocity1 = np.random.uniform(-max_v, max_v, (n_train))\n",
    "train_starting_velocity2 = np.random.uniform(-max_v, max_v, (n_train))\n",
    "\n",
    "print(train_starting_position1)\n",
    "print(train_starting_position2)\n",
    "print(train_starting_velocity1)\n",
    "print(train_starting_velocity2)\n",
    "\n",
    "data2 = get_double_pendulum_data(time_step, training_time, 1e-8, train_starting_position1, train_starting_position2, train_starting_velocity1, train_starting_velocity2) #switch\n"
   ]
  },
  {
   "cell_type": "code",
   "execution_count": 10,
   "metadata": {},
   "outputs": [],
   "source": [
    "\n",
    "scalerX = StandardScaler(with_mean=False, with_std=False).fit(data2[0])\n",
    "scalerY = StandardScaler(with_mean=False, with_std=False).fit(data2[1])\n",
    "#scalerX = StandardScaler().fit(data2[0])\n",
    "#scalerY = StandardScaler().fit(data2[1])\n",
    "#scalerX = MinMaxScaler((-1,1)).fit(data2[0])\n",
    "#scalerY = MinMaxScaler((-1,1)).fit(data2[1])\n",
    "X = scalerX.transform(data2[0])\n",
    "Y = scalerY.transform(data2[1])\n",
    "data = (X, Y)\n",
    "scalers = (scalerX, scalerY)\n",
    "time_setting = (testing_time, time_step)\n",
    "dynamics = (double_pendulum_dynamics1, double_pendulum_dynamics2)\n",
    "jitter = 5e-4\n",
    "\n",
    "#joblib.dump(scalerX, 'shm_2d/scalerX.gz')\n",
    "#joblib.dump(scalerY, 'shm_2d/scalerY.gz')"
   ]
  },
  {
   "cell_type": "code",
   "execution_count": 11,
   "metadata": {},
   "outputs": [
    {
     "name": "stdout",
     "output_type": "stream",
     "text": [
      "moi\n",
      "794.6193519951106\n",
      "known\n",
      "843.665436201907\n",
      "learnt\n",
      "859.6554783368424\n"
     ]
    }
   ],
   "source": [
    "\n",
    "print(\"moi\")\n",
    "moi = get_GPR_model_2D(get_MOI_2D(), mean, data, 100)\n",
    "print(moi.log_marginal_likelihood().numpy())\n",
    "#try:\n",
    "n_neighbours =  40\n",
    "print(\"known\")\n",
    "kernel_known = get_double_pendulum_local_invariance(1.5, 6, 0, 0.5, n_neighbours, jitter) #switch\n",
    "known = get_GPR_model_2D(kernel_known, mean, data, iterations=1000)\n",
    "print(known.log_marginal_likelihood().numpy())\n",
    "\n",
    "polynomial_degree = 3\n",
    "print(\"learnt\")\n",
    "\n",
    "kernel = get_polynomial_local_invariance_2D(1.5, 6, 0, 0.5, n_neighbours, jitter, polynomial_degree) \n",
    "model = get_GPR_model_2D(kernel, mean, data, iterations=10000, old_model=known)\n",
    "print(model.log_marginal_likelihood().numpy())"
   ]
  },
  {
   "cell_type": "code",
   "execution_count": 12,
   "metadata": {},
   "outputs": [
    {
     "data": {
      "text/html": [
       "&lt;local_invariance_kernels.PolynomialLocalInvariance2D object at 0x7f67007f6ca0&gt;\n",
       "<table>\n",
       "<thead>\n",
       "<tr><th>name                                        </th><th>class    </th><th>transform  </th><th>prior  </th><th>trainable  </th><th>shape  </th><th>dtype  </th><th>value                                                </th></tr>\n",
       "</thead>\n",
       "<tbody>\n",
       "<tr><td>PolynomialLocalInvariance2D.Ka1.variance    </td><td>Parameter</td><td>Sigmoid    </td><td>       </td><td>True       </td><td>()     </td><td>float64</td><td>9.995325681358743                                    </td></tr>\n",
       "<tr><td>PolynomialLocalInvariance2D.Ka1.lengthscales</td><td>Parameter</td><td>Sigmoid    </td><td>       </td><td>True       </td><td>(4,)   </td><td>float64</td><td>[0.9261613, 0.96886933, 3.72867725...                </td></tr>\n",
       "<tr><td>PolynomialLocalInvariance2D.Ka2.variance    </td><td>Parameter</td><td>Sigmoid    </td><td>       </td><td>True       </td><td>()     </td><td>float64</td><td>9.91931582664112                                     </td></tr>\n",
       "<tr><td>PolynomialLocalInvariance2D.Ka2.lengthscales</td><td>Parameter</td><td>Sigmoid    </td><td>       </td><td>True       </td><td>(4,)   </td><td>float64</td><td>[0.65099277, 0.91211915, 9.99227015...               </td></tr>\n",
       "<tr><td>PolynomialLocalInvariance2D.Kv1.variance    </td><td>Parameter</td><td>Sigmoid    </td><td>       </td><td>True       </td><td>()     </td><td>float64</td><td>9.194711333017764                                    </td></tr>\n",
       "<tr><td>PolynomialLocalInvariance2D.Kv1.lengthscales</td><td>Parameter</td><td>Sigmoid    </td><td>       </td><td>True       </td><td>(4,)   </td><td>float64</td><td>[9.94768927, 9.99038591, 3.57827934...               </td></tr>\n",
       "<tr><td>PolynomialLocalInvariance2D.Kv2.variance    </td><td>Parameter</td><td>Sigmoid    </td><td>       </td><td>True       </td><td>()     </td><td>float64</td><td>0.40531484518602834                                  </td></tr>\n",
       "<tr><td>PolynomialLocalInvariance2D.Kv2.lengthscales</td><td>Parameter</td><td>Sigmoid    </td><td>       </td><td>True       </td><td>(4,)   </td><td>float64</td><td>[9.99998435, 9.75144683, 9.99789451...               </td></tr>\n",
       "<tr><td>PolynomialLocalInvariance2D.poly            </td><td>Parameter</td><td>Sigmoid    </td><td>       </td><td>True       </td><td>(4, 35)</td><td>float64</td><td>[[-1.49148056e-03, 9.33966704e-03, -7.90171121e-03...</td></tr>\n",
       "</tbody>\n",
       "</table>"
      ],
      "text/plain": [
       "<local_invariance_kernels.PolynomialLocalInvariance2D object at 0x7f67007f6ca0>\n",
       "╒══════════════════════════════════════════════╤═══════════╤═════════════╤═════════╤═════════════╤═════════╤═════════╤═══════════════════════════════════════════════════════╕\n",
       "│ name                                         │ class     │ transform   │ prior   │ trainable   │ shape   │ dtype   │ value                                                 │\n",
       "╞══════════════════════════════════════════════╪═══════════╪═════════════╪═════════╪═════════════╪═════════╪═════════╪═══════════════════════════════════════════════════════╡\n",
       "│ PolynomialLocalInvariance2D.Ka1.variance     │ Parameter │ Sigmoid     │         │ True        │ ()      │ float64 │ 9.995325681358743                                     │\n",
       "├──────────────────────────────────────────────┼───────────┼─────────────┼─────────┼─────────────┼─────────┼─────────┼───────────────────────────────────────────────────────┤\n",
       "│ PolynomialLocalInvariance2D.Ka1.lengthscales │ Parameter │ Sigmoid     │         │ True        │ (4,)    │ float64 │ [0.9261613, 0.96886933, 3.72867725...                 │\n",
       "├──────────────────────────────────────────────┼───────────┼─────────────┼─────────┼─────────────┼─────────┼─────────┼───────────────────────────────────────────────────────┤\n",
       "│ PolynomialLocalInvariance2D.Ka2.variance     │ Parameter │ Sigmoid     │         │ True        │ ()      │ float64 │ 9.91931582664112                                      │\n",
       "├──────────────────────────────────────────────┼───────────┼─────────────┼─────────┼─────────────┼─────────┼─────────┼───────────────────────────────────────────────────────┤\n",
       "│ PolynomialLocalInvariance2D.Ka2.lengthscales │ Parameter │ Sigmoid     │         │ True        │ (4,)    │ float64 │ [0.65099277, 0.91211915, 9.99227015...                │\n",
       "├──────────────────────────────────────────────┼───────────┼─────────────┼─────────┼─────────────┼─────────┼─────────┼───────────────────────────────────────────────────────┤\n",
       "│ PolynomialLocalInvariance2D.Kv1.variance     │ Parameter │ Sigmoid     │         │ True        │ ()      │ float64 │ 9.194711333017764                                     │\n",
       "├──────────────────────────────────────────────┼───────────┼─────────────┼─────────┼─────────────┼─────────┼─────────┼───────────────────────────────────────────────────────┤\n",
       "│ PolynomialLocalInvariance2D.Kv1.lengthscales │ Parameter │ Sigmoid     │         │ True        │ (4,)    │ float64 │ [9.94768927, 9.99038591, 3.57827934...                │\n",
       "├──────────────────────────────────────────────┼───────────┼─────────────┼─────────┼─────────────┼─────────┼─────────┼───────────────────────────────────────────────────────┤\n",
       "│ PolynomialLocalInvariance2D.Kv2.variance     │ Parameter │ Sigmoid     │         │ True        │ ()      │ float64 │ 0.40531484518602834                                   │\n",
       "├──────────────────────────────────────────────┼───────────┼─────────────┼─────────┼─────────────┼─────────┼─────────┼───────────────────────────────────────────────────────┤\n",
       "│ PolynomialLocalInvariance2D.Kv2.lengthscales │ Parameter │ Sigmoid     │         │ True        │ (4,)    │ float64 │ [9.99998435, 9.75144683, 9.99789451...                │\n",
       "├──────────────────────────────────────────────┼───────────┼─────────────┼─────────┼─────────────┼─────────┼─────────┼───────────────────────────────────────────────────────┤\n",
       "│ PolynomialLocalInvariance2D.poly             │ Parameter │ Sigmoid     │         │ True        │ (4, 35) │ float64 │ [[-1.49148056e-03, 9.33966704e-03, -7.90171121e-03... │\n",
       "╘══════════════════════════════════════════════╧═══════════╧═════════════╧═════════╧═════════════╧═════════╧═════════╧═══════════════════════════════════════════════════════╛"
      ]
     },
     "execution_count": 12,
     "metadata": {},
     "output_type": "execute_result"
    }
   ],
   "source": [
    "kernel"
   ]
  },
  {
   "cell_type": "code",
   "execution_count": 13,
   "metadata": {},
   "outputs": [
    {
     "name": "stdout",
     "output_type": "stream",
     "text": [
      "0\n",
      "0.05386229457336225\n",
      "0.0006709837378383773\n",
      "0.004711067362804804g\n",
      "1\n",
      "0.07457302234607788\n",
      "0.0003556695458249662\n",
      "0.007160976657856637g\n",
      "2\n",
      "0.030113897955684404\n",
      "0.000874644820627514g\n",
      "0.001100175936392703g\n",
      "3\n",
      "0.01689936005559026\n",
      "0.00040364328342389706\n",
      "0.0003821675295346879\n",
      "4\n",
      "0.00024225440341781965\n",
      "0.00019884578524449796\n",
      "0.0002485830737864639\n"
     ]
    }
   ],
   "source": [
    "eva_future_moi = []\n",
    "eva_future_known = []\n",
    "eva_future_learnt = []\n",
    "\n",
    "def energy(X):\n",
    "    return -2*np.cos(X[:,0])-np.cos(X[:,1])+0.5*tf.square(X[:,2])+0.5*(tf.square(X[:,2])+tf.square(X[:,3])+2*X[:,2]*X[:,3]*np.cos(X[:,0]-X[:,1]))\n",
    "lml_moi = moi.log_marginal_likelihood().numpy()\n",
    "lml_inv = known.log_marginal_likelihood().numpy()\n",
    "lml_inv_p = model.log_marginal_likelihood().numpy()\n",
    "for i in range(5):\n",
    "    print(i)\n",
    "    test_starting_position1 = np.radians(np.random.uniform(-max_x, max_x))\n",
    "    test_starting_position2 = np.radians(np.random.uniform(-max_x, max_x))\n",
    "    test_starting_velocity1 = np.radians(np.random.uniform(-max_v, max_v))\n",
    "    test_starting_velocity2 = np.radians(np.random.uniform(-max_v, max_v))\n",
    "    test_starting = (test_starting_position1, test_starting_position2, test_starting_velocity1, test_starting_velocity2)\n",
    "#    print(test_starting)\n",
    "    evaluate_moi = evaluate_model_future_2D(moi, test_starting, dynamics, time_setting, scalers, energy)\n",
    "    eva_future_moi.append(evaluate_moi[0])\n",
    "    print(evaluate_moi[0])\n",
    "    evaluate_known = evaluate_model_future_2D(known, test_starting, dynamics, time_setting, scalers, energy)\n",
    "    eva_future_known.append(evaluate_known[0])\n",
    "    print(evaluate_known[0])\n",
    "    evaluate_learnt = evaluate_model_future_2D(model, test_starting, dynamics, time_setting, scalers, energy)\n",
    "    eva_future_learnt.append(evaluate_learnt[0])\n",
    "    print(evaluate_learnt[0])"
   ]
  },
  {
   "cell_type": "code",
   "execution_count": 14,
   "metadata": {},
   "outputs": [
    {
     "name": "stdout",
     "output_type": "stream",
     "text": [
      "Log Marginal Likelihood & 794.62 & 843.67 & 859.66 &  \\\\\n",
      "MSE & 0.0351 & 0.0005 & 0.0027 \\\\\n"
     ]
    }
   ],
   "source": [
    "\n",
    "print(\"Log Marginal Likelihood & \" + format((lml_moi),\".2f\")+\" & \"+ format((lml_inv),\".2f\") + \" & \"+ format((lml_inv_p),\".2f\") + \" & \"+' \\\\\\\\')\n",
    "print(\"MSE & \"+ format((np.mean(eva_future_moi)),\".4f\")+\" & \"+format(np.mean(eva_future_known),\".4f\")+\" & \"+format((np.mean(eva_future_learnt)),\".4f\")+ ' \\\\\\\\')"
   ]
  },
  {
   "cell_type": "code",
   "execution_count": 15,
   "metadata": {},
   "outputs": [
    {
     "data": {
      "image/png": "[encoded data removed]",
      "text/plain": [
       "<Figure size 432x288 with 4 Axes>"
      ]
     },
     "metadata": {
      "needs_background": "light"
     },
     "output_type": "display_data"
    }
   ],
   "source": [
    "import matplotlib.pyplot as plt\n",
    "t = np.linspace(0, testing_time, int(testing_time/time_step))\n",
    "fig, axs = plt.subplots(2,2)\n",
    "axs[0][0].plot(t,evaluate_known[4][:,0],label=\"truth\", color=\"black\")\n",
    "axs[0][0].plot(t,evaluate_moi[1][:,0], \"--\", label=\"RBF\", color=\"red\")\n",
    "axs[0][0].plot(t,evaluate_known[1][:,0], \"--\", label=\"known\", color=\"blue\")\n",
    "axs[0][0].plot(t,evaluate_learnt[1][:,0], \"--\", label=\"learnt\", color=\"green\")\n",
    "axs[0][0].set_title(\"q_1\")\n",
    "axs[0][0].set_xlabel(\"t\")\n",
    "axs[0][0].legend()\n",
    "\n",
    "axs[0][1].plot(t,evaluate_known[4][:,1],label=\"truth\", color=\"black\")\n",
    "axs[0][1].plot(t,evaluate_moi[1][:,1], \"--\", label=\"RBF\", color=\"red\")\n",
    "axs[0][1].plot(t,evaluate_known[1][:,1], \"--\", label=\"known\", color=\"blue\")\n",
    "axs[0][1].plot(t,evaluate_learnt[1][:,1], \"--\", label=\"learnt\", color=\"green\")\n",
    "axs[0][1].set_title(\"q_2\")\n",
    "axs[0][1].set_xlabel(\"t\")\n",
    "axs[0][1].legend()\n",
    "\n",
    "axs[1][0].plot(t,evaluate_known[4][:,2],label=\"truth\", color=\"black\")\n",
    "axs[1][0].plot(t,evaluate_moi[1][:,2], \"--\", label=\"RBF\", color=\"red\")\n",
    "axs[1][0].plot(t,evaluate_known[1][:,2], \"--\", label=\"known\", color=\"blue\")\n",
    "axs[1][0].plot(t,evaluate_learnt[1][:,2], \"--\", label=\"learnt\", color=\"green\")\n",
    "axs[1][0].set_title(\"p_1\")\n",
    "axs[1][0].set_xlabel(\"t\")\n",
    "axs[1][0].legend()\n",
    "\n",
    "axs[1][1].plot(t,evaluate_known[4][:,3],label=\"truth\", color=\"black\")\n",
    "axs[1][1].plot(t,evaluate_moi[1][:,3], \"--\", label=\"RBF\", color=\"red\")\n",
    "axs[1][1].plot(t,evaluate_known[1][:,3], \"--\", label=\"known\", color=\"blue\")\n",
    "axs[1][1].plot(t,evaluate_learnt[1][:,3], \"--\", label=\"learnt\", color=\"green\")\n",
    "axs[1][1].set_title(\"p_2\")\n",
    "axs[1][1].set_xlabel(\"t\")\n",
    "axs[1][1].legend()\n",
    "\n",
    "plt.subplots_adjust(left=0.2,\n",
    "                    bottom=0.2, \n",
    "                    right=0.9, \n",
    "                    top=0.9, \n",
    "                    wspace=0.4, \n",
    "                    hspace=0.4)\n",
    "fig.tight_layout()\n",
    "#plt.savefig(\"figures/double_pendulum_predicted.pdf\")\n"
   ]
  },
  {
   "cell_type": "code",
   "execution_count": 16,
   "metadata": {},
   "outputs": [
    {
     "data": {
      "text/plain": [
       "Text(0, 0.5, 'E')"
      ]
     },
     "execution_count": 16,
     "metadata": {},
     "output_type": "execute_result"
    },
    {
     "data": {
      "image/png": "[encoded data removed]",
      "text/plain": [
       "<Figure size 432x288 with 1 Axes>"
      ]
     },
     "metadata": {
      "needs_background": "light"
     },
     "output_type": "display_data"
    }
   ],
   "source": [
    "fig, ax = plt.subplots()\n",
    "plt.plot(t, evaluate_learnt[5], \"--\",label=\"true\", color=\"black\")\n",
    "plt.plot(t, evaluate_moi[6], \"--\",label=\"RBF\", color=\"red\")\n",
    "plt.plot(t, evaluate_known[6], \"--\",label=\"known\", color=\"blue\")\n",
    "plt.plot(t, evaluate_learnt[6], \"--\",label=\"learnt\", color=\"green\")\n",
    "plt.legend()\n",
    "plt.xlabel(\"t\")\n",
    "plt.ylabel(\"E\")\n",
    "#plt.savefig(\"figures/double_pendulum_energy.pdf\")"
   ]
  },
  {
   "cell_type": "code",
   "execution_count": null,
   "metadata": {},
   "outputs": [],
   "source": [
    "\n",
    "n_neighbours = 40\n",
    "\n",
    "\n",
    "kernel = get_polynomial_local_invariance_2D(1.5, 6, 0, 0.5, n_neighbours, jitter, polynomial_degree) \n",
    "model_fixed = get_GPR_model_2D(kernel, mean, data, iterations=1000, old_model=known, fixed=True)\n",
    "\n",
    "print(model_fixed.log_marginal_likelihood().numpy())\n",
    "\n",
    "\n",
    "polynomial_degree = 3\n",
    "print(\"learnt\")\n",
    "test_starting_position1 = np.radians(np.random.uniform(-max_x, max_x))\n",
    "test_starting_position2 = np.radians(np.random.uniform(-max_x, max_x))\n",
    "test_starting_velocity1 = np.radians(np.random.uniform(-max_v, max_v))\n",
    "test_starting_velocity2 = np.radians(np.random.uniform(-max_v, max_v))\n",
    "test_starting = (test_starting_position1, test_starting_position2, test_starting_velocity1, test_starting_velocity2)\n",
    "\n",
    "evaluate_moi = evaluate_model_future_2D(moi, test_starting, dynamics, time_setting, scalers, energy)\n",
    "print(evaluate_moi[0])\n",
    "evaluate_known = evaluate_model_future_2D(known, test_starting, dynamics, time_setting, scalers, energy)\n",
    "print(evaluate_known[0])\n",
    "\n",
    "evaluate_learnt_fixed = evaluate_model_future_2D(model_fixed, test_starting, dynamics, time_setting, scalers, energy)\n",
    "print(evaluate_learnt_fixed[0])\n",
    "\n",
    "evaluate_learnt_free = evaluate_model_future_2D(model, test_starting, dynamics, time_setting, scalers, energy)\n",
    "print(evaluate_learnt_free[0])\n",
    "\n",
    "\n",
    "grids_lml = []\n",
    "grids_eva = []\n",
    "for i in range(50):\n",
    "    print(i)\n",
    "    kernel_grid = get_polynomial_local_invariance_2D(1.5, 6, 0, 0.5, n_neighbours, jitter, polynomial_degree) \n",
    "    kernel_grid.poly = gpflow.Parameter(0.1*np.random.normal(size=kernel_grid.poly.shape), transform =tfp.bijectors.Sigmoid(to_default_float(-1.), to_default_float(1.)), trainable=False, prior=tfp.distributions.Laplace(to_default_float(0),(0.1)), name=\"poly\")\n",
    "    model_grid = get_GPR_model_2D(kernel_grid, mean, data, iterations=1000, old_model=known, fixed=True)\n",
    "    print(model_grid.log_marginal_likelihood().numpy())\n",
    "\n",
    "    evaluate_learnt_grid = evaluate_model_future_2D(model_grid, test_starting, dynamics, time_setting, scalers, energy)\n",
    "    print(evaluate_learnt_grid[0])\n",
    "    grids_eva.append(evaluate_learnt_grid[0])\n",
    "    grids_lml.append(model_grid.log_marginal_likelihood().numpy())\n"
   ]
  },
  {
   "cell_type": "code",
   "execution_count": 19,
   "metadata": {},
   "outputs": [
    {
     "data": {
      "image/png": "[encoded data removed]",
      "text/plain": [
       "<Figure size 432x288 with 1 Axes>"
      ]
     },
     "metadata": {
      "needs_background": "light"
     },
     "output_type": "display_data"
    }
   ],
   "source": [
    "\n",
    "plt.scatter(grids_lml, grids_eva, s=10, label=\"randomly initialised polynomial\")\n",
    "plt.scatter(model_fixed.log_marginal_likelihood().numpy(), evaluate_learnt_fixed[0],marker=\"X\",s=10, color=\"red\", label=\"theoretically initialised polynomial\", alpha=0.5)\n",
    "plt.scatter(model.log_marginal_likelihood().numpy(), evaluate_learnt_free[0], s=10, color=\"green\", label=\"optimised\", alpha=0.5)\n",
    "plt.xlabel(\"marginal likelihood\")\n",
    "plt.ylabel(\"MSE\")\n",
    "plt.legend()\n",
    "plt.savefig(\"figures/double_pendulum_polynomial.pdf\")"
   ]
  },
  {
   "cell_type": "code",
   "execution_count": 23,
   "metadata": {},
   "outputs": [
    {
     "name": "stdout",
     "output_type": "stream",
     "text": [
      "SpearmanrResult(correlation=-0.09493397358943578, pvalue=0.511959606175683)\n",
      "(-0.02936637887763188, 0.8395703075825376)\n"
     ]
    }
   ],
   "source": [
    "\n",
    "from scipy.stats import spearmanr, pearsonr\n",
    "print(spearmanr(grids_lml, grids_eva))\n",
    "print(pearsonr(grids_lml, grids_eva))"
   ]
  },
  {
   "cell_type": "code",
   "execution_count": 26,
   "metadata": {},
   "outputs": [
    {
     "data": {
      "text/plain": [
       "0.0006001384695890139"
      ]
     },
     "execution_count": 26,
     "metadata": {},
     "output_type": "execute_result"
    }
   ],
   "source": [
    "min(grids_eva)"
   ]
  }
 ],
 "metadata": {
  "kernelspec": {
   "display_name": "Python 3",
   "language": "python",
   "name": "python3"
  },
  "language_info": {
   "codemirror_mode": {
    "name": "ipython",
    "version": 3
   },
   "file_extension": ".py",
   "mimetype": "text/x-python",
   "name": "python",
   "nbconvert_exporter": "python",
   "pygments_lexer": "ipython3",
   "version": "3.8.10"
  },
  "orig_nbformat": 4
 },
 "nbformat": 4,
 "nbformat_minor": 2
}
